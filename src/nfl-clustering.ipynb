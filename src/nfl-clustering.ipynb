{
 "cells": [
  {
   "cell_type": "markdown",
   "metadata": {},
   "source": [
    "## NFL Points vs Yards per Game clustering\n",
    "\n",
    "This is a sandbox notebook to test out some sci-kit learn clustering algorithms on NFL scoring data. We want to see if we can separate teams into \"tiers\" based on plots of their defensive and ofensive points-per-game (PPG) and yards-per-game (YPG). We collected the data by scraping [Pro-Football Reference](https://www.pro-football-reference.com) with our [scraper](https://github.com/andrewbowen19/football-stats-analysis/blob/main/src/scraper.py) script contained in this repo.\n",
    "\n",
    "#### Some algorithms to try out:\n",
    "- [K-means](https://scikit-learn.org/stable/modules/generated/sklearn.cluster.KMeans.html#sklearn.cluster.KMeans)\n",
    "- Affinity Propagation\n",
    "- DBSCAN"
   ]
  },
  {
   "cell_type": "code",
   "execution_count": 127,
   "metadata": {},
   "outputs": [],
   "source": [
    "import os\n",
    "import pandas as pd\n",
    "import matplotlib.pyplot as plt\n",
    "import numpy as np\n",
    "\n",
    "import plotly.express as px\n",
    "from sklearn.cluster import KMeans\n"
   ]
  },
  {
   "cell_type": "code",
   "execution_count": 128,
   "metadata": {},
   "outputs": [
    {
     "data": {
      "text/html": [
       "<div>\n",
       "<style scoped>\n",
       "    .dataframe tbody tr th:only-of-type {\n",
       "        vertical-align: middle;\n",
       "    }\n",
       "\n",
       "    .dataframe tbody tr th {\n",
       "        vertical-align: top;\n",
       "    }\n",
       "\n",
       "    .dataframe thead th {\n",
       "        text-align: right;\n",
       "    }\n",
       "</style>\n",
       "<table border=\"1\" class=\"dataframe\">\n",
       "  <thead>\n",
       "    <tr style=\"text-align: right;\">\n",
       "      <th></th>\n",
       "      <th>Tm</th>\n",
       "      <th>W</th>\n",
       "      <th>L</th>\n",
       "      <th>W-L%</th>\n",
       "      <th>PF</th>\n",
       "      <th>PA</th>\n",
       "      <th>PD</th>\n",
       "      <th>MoV</th>\n",
       "      <th>SoS</th>\n",
       "      <th>SRS</th>\n",
       "      <th>...</th>\n",
       "      <th>Yds</th>\n",
       "      <th>Ply</th>\n",
       "      <th>Y/P</th>\n",
       "      <th>TO</th>\n",
       "      <th>FL</th>\n",
       "      <th>1stD</th>\n",
       "      <th>Cmp</th>\n",
       "      <th>Att</th>\n",
       "      <th>Yds_opp</th>\n",
       "      <th>Season</th>\n",
       "    </tr>\n",
       "  </thead>\n",
       "  <tbody>\n",
       "    <tr>\n",
       "      <th>0</th>\n",
       "      <td>Buffalo Bills</td>\n",
       "      <td>11</td>\n",
       "      <td>6</td>\n",
       "      <td>0.647</td>\n",
       "      <td>483</td>\n",
       "      <td>289</td>\n",
       "      <td>194</td>\n",
       "      <td>11.4</td>\n",
       "      <td>-1.6</td>\n",
       "      <td>9.8</td>\n",
       "      <td>...</td>\n",
       "      <td>6493.0</td>\n",
       "      <td>1143.0</td>\n",
       "      <td>5.7</td>\n",
       "      <td>22.0</td>\n",
       "      <td>6.0</td>\n",
       "      <td>398.0</td>\n",
       "      <td>415.0</td>\n",
       "      <td>655.0</td>\n",
       "      <td>4637.0</td>\n",
       "      <td>2021</td>\n",
       "    </tr>\n",
       "    <tr>\n",
       "      <th>1</th>\n",
       "      <td>New England Patriots</td>\n",
       "      <td>10</td>\n",
       "      <td>7</td>\n",
       "      <td>0.588</td>\n",
       "      <td>462</td>\n",
       "      <td>303</td>\n",
       "      <td>159</td>\n",
       "      <td>9.4</td>\n",
       "      <td>-0.9</td>\n",
       "      <td>8.5</td>\n",
       "      <td>...</td>\n",
       "      <td>6008.0</td>\n",
       "      <td>1052.0</td>\n",
       "      <td>5.7</td>\n",
       "      <td>23.0</td>\n",
       "      <td>10.0</td>\n",
       "      <td>362.0</td>\n",
       "      <td>364.0</td>\n",
       "      <td>535.0</td>\n",
       "      <td>5284.0</td>\n",
       "      <td>2021</td>\n",
       "    </tr>\n",
       "    <tr>\n",
       "      <th>2</th>\n",
       "      <td>Miami Dolphins</td>\n",
       "      <td>9</td>\n",
       "      <td>8</td>\n",
       "      <td>0.529</td>\n",
       "      <td>341</td>\n",
       "      <td>373</td>\n",
       "      <td>-32</td>\n",
       "      <td>-1.9</td>\n",
       "      <td>-0.8</td>\n",
       "      <td>-2.7</td>\n",
       "      <td>...</td>\n",
       "      <td>5219.0</td>\n",
       "      <td>1097.0</td>\n",
       "      <td>4.8</td>\n",
       "      <td>26.0</td>\n",
       "      <td>12.0</td>\n",
       "      <td>325.0</td>\n",
       "      <td>404.0</td>\n",
       "      <td>615.0</td>\n",
       "      <td>5738.0</td>\n",
       "      <td>2021</td>\n",
       "    </tr>\n",
       "    <tr>\n",
       "      <th>3</th>\n",
       "      <td>New York Jets</td>\n",
       "      <td>4</td>\n",
       "      <td>13</td>\n",
       "      <td>0.235</td>\n",
       "      <td>310</td>\n",
       "      <td>504</td>\n",
       "      <td>-194</td>\n",
       "      <td>-11.4</td>\n",
       "      <td>1.0</td>\n",
       "      <td>-10.4</td>\n",
       "      <td>...</td>\n",
       "      <td>5208.0</td>\n",
       "      <td>1036.0</td>\n",
       "      <td>5.0</td>\n",
       "      <td>27.0</td>\n",
       "      <td>7.0</td>\n",
       "      <td>310.0</td>\n",
       "      <td>357.0</td>\n",
       "      <td>603.0</td>\n",
       "      <td>6760.0</td>\n",
       "      <td>2021</td>\n",
       "    </tr>\n",
       "    <tr>\n",
       "      <th>4</th>\n",
       "      <td>Cincinnati Bengals</td>\n",
       "      <td>10</td>\n",
       "      <td>7</td>\n",
       "      <td>0.588</td>\n",
       "      <td>460</td>\n",
       "      <td>376</td>\n",
       "      <td>84</td>\n",
       "      <td>4.9</td>\n",
       "      <td>-1.9</td>\n",
       "      <td>3.1</td>\n",
       "      <td>...</td>\n",
       "      <td>6145.0</td>\n",
       "      <td>1046.0</td>\n",
       "      <td>5.9</td>\n",
       "      <td>21.0</td>\n",
       "      <td>7.0</td>\n",
       "      <td>337.0</td>\n",
       "      <td>384.0</td>\n",
       "      <td>555.0</td>\n",
       "      <td>5964.0</td>\n",
       "      <td>2021</td>\n",
       "    </tr>\n",
       "    <tr>\n",
       "      <th>...</th>\n",
       "      <td>...</td>\n",
       "      <td>...</td>\n",
       "      <td>...</td>\n",
       "      <td>...</td>\n",
       "      <td>...</td>\n",
       "      <td>...</td>\n",
       "      <td>...</td>\n",
       "      <td>...</td>\n",
       "      <td>...</td>\n",
       "      <td>...</td>\n",
       "      <td>...</td>\n",
       "      <td>...</td>\n",
       "      <td>...</td>\n",
       "      <td>...</td>\n",
       "      <td>...</td>\n",
       "      <td>...</td>\n",
       "      <td>...</td>\n",
       "      <td>...</td>\n",
       "      <td>...</td>\n",
       "      <td>...</td>\n",
       "      <td>...</td>\n",
       "    </tr>\n",
       "    <tr>\n",
       "      <th>603</th>\n",
       "      <td>Atlanta Falcons</td>\n",
       "      <td>5</td>\n",
       "      <td>11</td>\n",
       "      <td>0.313</td>\n",
       "      <td>299</td>\n",
       "      <td>422</td>\n",
       "      <td>-123</td>\n",
       "      <td>-7.7</td>\n",
       "      <td>0.3</td>\n",
       "      <td>-7.4</td>\n",
       "      <td>...</td>\n",
       "      <td>5164.0</td>\n",
       "      <td>1006.0</td>\n",
       "      <td>5.1</td>\n",
       "      <td>26.0</td>\n",
       "      <td>11.0</td>\n",
       "      <td>306.0</td>\n",
       "      <td>377.0</td>\n",
       "      <td>573.0</td>\n",
       "      <td>6194.0</td>\n",
       "      <td>2003</td>\n",
       "    </tr>\n",
       "    <tr>\n",
       "      <th>604</th>\n",
       "      <td>Los Angeles Rams</td>\n",
       "      <td>12</td>\n",
       "      <td>4</td>\n",
       "      <td>0.750</td>\n",
       "      <td>447</td>\n",
       "      <td>328</td>\n",
       "      <td>119</td>\n",
       "      <td>7.4</td>\n",
       "      <td>-1.6</td>\n",
       "      <td>5.9</td>\n",
       "      <td>...</td>\n",
       "      <td>6325.0</td>\n",
       "      <td>1058.0</td>\n",
       "      <td>6.0</td>\n",
       "      <td>23.0</td>\n",
       "      <td>5.0</td>\n",
       "      <td>355.0</td>\n",
       "      <td>406.0</td>\n",
       "      <td>607.0</td>\n",
       "      <td>5863.0</td>\n",
       "      <td>2003</td>\n",
       "    </tr>\n",
       "    <tr>\n",
       "      <th>605</th>\n",
       "      <td>Seattle Seahawks</td>\n",
       "      <td>10</td>\n",
       "      <td>6</td>\n",
       "      <td>0.625</td>\n",
       "      <td>404</td>\n",
       "      <td>327</td>\n",
       "      <td>77</td>\n",
       "      <td>4.8</td>\n",
       "      <td>-0.7</td>\n",
       "      <td>4.1</td>\n",
       "      <td>...</td>\n",
       "      <td>5506.0</td>\n",
       "      <td>954.0</td>\n",
       "      <td>5.8</td>\n",
       "      <td>13.0</td>\n",
       "      <td>6.0</td>\n",
       "      <td>302.0</td>\n",
       "      <td>324.0</td>\n",
       "      <td>495.0</td>\n",
       "      <td>6445.0</td>\n",
       "      <td>2003</td>\n",
       "    </tr>\n",
       "    <tr>\n",
       "      <th>606</th>\n",
       "      <td>San Francisco 49ers</td>\n",
       "      <td>7</td>\n",
       "      <td>9</td>\n",
       "      <td>0.438</td>\n",
       "      <td>384</td>\n",
       "      <td>337</td>\n",
       "      <td>47</td>\n",
       "      <td>2.9</td>\n",
       "      <td>0.1</td>\n",
       "      <td>3.1</td>\n",
       "      <td>...</td>\n",
       "      <td>6387.0</td>\n",
       "      <td>1046.0</td>\n",
       "      <td>6.1</td>\n",
       "      <td>24.0</td>\n",
       "      <td>10.0</td>\n",
       "      <td>361.0</td>\n",
       "      <td>343.0</td>\n",
       "      <td>514.0</td>\n",
       "      <td>5270.0</td>\n",
       "      <td>2003</td>\n",
       "    </tr>\n",
       "    <tr>\n",
       "      <th>607</th>\n",
       "      <td>Arizona Cardinals</td>\n",
       "      <td>4</td>\n",
       "      <td>12</td>\n",
       "      <td>0.250</td>\n",
       "      <td>225</td>\n",
       "      <td>452</td>\n",
       "      <td>-227</td>\n",
       "      <td>-14.2</td>\n",
       "      <td>1.6</td>\n",
       "      <td>-12.6</td>\n",
       "      <td>...</td>\n",
       "      <td>6352.0</td>\n",
       "      <td>1126.0</td>\n",
       "      <td>5.6</td>\n",
       "      <td>15.0</td>\n",
       "      <td>4.0</td>\n",
       "      <td>367.0</td>\n",
       "      <td>415.0</td>\n",
       "      <td>591.0</td>\n",
       "      <td>5597.0</td>\n",
       "      <td>2003</td>\n",
       "    </tr>\n",
       "  </tbody>\n",
       "</table>\n",
       "<p>608 rows × 24 columns</p>\n",
       "</div>"
      ],
      "text/plain": [
       "                       Tm   W   L   W-L%   PF   PA   PD   MoV  SoS   SRS  ...  \\\n",
       "0           Buffalo Bills  11   6  0.647  483  289  194  11.4 -1.6   9.8  ...   \n",
       "1    New England Patriots  10   7  0.588  462  303  159   9.4 -0.9   8.5  ...   \n",
       "2          Miami Dolphins   9   8  0.529  341  373  -32  -1.9 -0.8  -2.7  ...   \n",
       "3           New York Jets   4  13  0.235  310  504 -194 -11.4  1.0 -10.4  ...   \n",
       "4      Cincinnati Bengals  10   7  0.588  460  376   84   4.9 -1.9   3.1  ...   \n",
       "..                    ...  ..  ..    ...  ...  ...  ...   ...  ...   ...  ...   \n",
       "603       Atlanta Falcons   5  11  0.313  299  422 -123  -7.7  0.3  -7.4  ...   \n",
       "604      Los Angeles Rams  12   4  0.750  447  328  119   7.4 -1.6   5.9  ...   \n",
       "605      Seattle Seahawks  10   6  0.625  404  327   77   4.8 -0.7   4.1  ...   \n",
       "606   San Francisco 49ers   7   9  0.438  384  337   47   2.9  0.1   3.1  ...   \n",
       "607     Arizona Cardinals   4  12  0.250  225  452 -227 -14.2  1.6 -12.6  ...   \n",
       "\n",
       "        Yds     Ply  Y/P    TO    FL   1stD    Cmp    Att  Yds_opp  Season  \n",
       "0    6493.0  1143.0  5.7  22.0   6.0  398.0  415.0  655.0   4637.0    2021  \n",
       "1    6008.0  1052.0  5.7  23.0  10.0  362.0  364.0  535.0   5284.0    2021  \n",
       "2    5219.0  1097.0  4.8  26.0  12.0  325.0  404.0  615.0   5738.0    2021  \n",
       "3    5208.0  1036.0  5.0  27.0   7.0  310.0  357.0  603.0   6760.0    2021  \n",
       "4    6145.0  1046.0  5.9  21.0   7.0  337.0  384.0  555.0   5964.0    2021  \n",
       "..      ...     ...  ...   ...   ...    ...    ...    ...      ...     ...  \n",
       "603  5164.0  1006.0  5.1  26.0  11.0  306.0  377.0  573.0   6194.0    2003  \n",
       "604  6325.0  1058.0  6.0  23.0   5.0  355.0  406.0  607.0   5863.0    2003  \n",
       "605  5506.0   954.0  5.8  13.0   6.0  302.0  324.0  495.0   6445.0    2003  \n",
       "606  6387.0  1046.0  6.1  24.0  10.0  361.0  343.0  514.0   5270.0    2003  \n",
       "607  6352.0  1126.0  5.6  15.0   4.0  367.0  415.0  591.0   5597.0    2003  \n",
       "\n",
       "[608 rows x 24 columns]"
      ]
     },
     "execution_count": 128,
     "metadata": {},
     "output_type": "execute_result"
    }
   ],
   "source": [
    "# Would like to run a k-means clustering on PPG-YPG\n",
    "csv_path = os.path.join(\"..\", \"data\", \"nfl-stats-by-season.csv\")\n",
    "df = pd.read_csv(csv_path)\n",
    "\n",
    "df.columns = ['Tm', 'W', 'L', 'W-L%', 'PF', 'PA', 'PD', 'MoV', 'SoS', 'SRS',\n",
    "              'OSRS', 'DSRS', 'Rk', 'G', 'Yds', 'Ply', 'Y/P', 'TO', 'FL', '1stD',\n",
    "              'Cmp', 'Att', 'Yds_opp', 'Season']\n",
    "\n",
    "# df.dropna(axis=0, how='a', inplace=True)\n",
    "df"
   ]
  },
  {
   "cell_type": "code",
   "execution_count": 129,
   "metadata": {},
   "outputs": [
    {
     "data": {
      "text/html": [
       "<div>\n",
       "<style scoped>\n",
       "    .dataframe tbody tr th:only-of-type {\n",
       "        vertical-align: middle;\n",
       "    }\n",
       "\n",
       "    .dataframe tbody tr th {\n",
       "        vertical-align: top;\n",
       "    }\n",
       "\n",
       "    .dataframe thead th {\n",
       "        text-align: right;\n",
       "    }\n",
       "</style>\n",
       "<table border=\"1\" class=\"dataframe\">\n",
       "  <thead>\n",
       "    <tr style=\"text-align: right;\">\n",
       "      <th></th>\n",
       "      <th>Tm</th>\n",
       "      <th>W</th>\n",
       "      <th>L</th>\n",
       "      <th>W-L%</th>\n",
       "      <th>PF</th>\n",
       "      <th>PA</th>\n",
       "      <th>PD</th>\n",
       "      <th>MoV</th>\n",
       "      <th>SoS</th>\n",
       "      <th>SRS</th>\n",
       "      <th>...</th>\n",
       "      <th>FL</th>\n",
       "      <th>1stD</th>\n",
       "      <th>Cmp</th>\n",
       "      <th>Att</th>\n",
       "      <th>Yds_opp</th>\n",
       "      <th>Season</th>\n",
       "      <th>PPG</th>\n",
       "      <th>YPG</th>\n",
       "      <th>PPG_opp</th>\n",
       "      <th>YPG_opp</th>\n",
       "    </tr>\n",
       "  </thead>\n",
       "  <tbody>\n",
       "    <tr>\n",
       "      <th>0</th>\n",
       "      <td>Buffalo Bills</td>\n",
       "      <td>11</td>\n",
       "      <td>6</td>\n",
       "      <td>0.647</td>\n",
       "      <td>483</td>\n",
       "      <td>289</td>\n",
       "      <td>194</td>\n",
       "      <td>11.4</td>\n",
       "      <td>-1.6</td>\n",
       "      <td>9.8</td>\n",
       "      <td>...</td>\n",
       "      <td>6.0</td>\n",
       "      <td>398.0</td>\n",
       "      <td>415.0</td>\n",
       "      <td>655.0</td>\n",
       "      <td>4637.0</td>\n",
       "      <td>2021</td>\n",
       "      <td>28.411765</td>\n",
       "      <td>381.941176</td>\n",
       "      <td>17.000000</td>\n",
       "      <td>272.764706</td>\n",
       "    </tr>\n",
       "    <tr>\n",
       "      <th>1</th>\n",
       "      <td>New England Patriots</td>\n",
       "      <td>10</td>\n",
       "      <td>7</td>\n",
       "      <td>0.588</td>\n",
       "      <td>462</td>\n",
       "      <td>303</td>\n",
       "      <td>159</td>\n",
       "      <td>9.4</td>\n",
       "      <td>-0.9</td>\n",
       "      <td>8.5</td>\n",
       "      <td>...</td>\n",
       "      <td>10.0</td>\n",
       "      <td>362.0</td>\n",
       "      <td>364.0</td>\n",
       "      <td>535.0</td>\n",
       "      <td>5284.0</td>\n",
       "      <td>2021</td>\n",
       "      <td>27.176471</td>\n",
       "      <td>353.411765</td>\n",
       "      <td>17.823529</td>\n",
       "      <td>310.823529</td>\n",
       "    </tr>\n",
       "    <tr>\n",
       "      <th>2</th>\n",
       "      <td>Miami Dolphins</td>\n",
       "      <td>9</td>\n",
       "      <td>8</td>\n",
       "      <td>0.529</td>\n",
       "      <td>341</td>\n",
       "      <td>373</td>\n",
       "      <td>-32</td>\n",
       "      <td>-1.9</td>\n",
       "      <td>-0.8</td>\n",
       "      <td>-2.7</td>\n",
       "      <td>...</td>\n",
       "      <td>12.0</td>\n",
       "      <td>325.0</td>\n",
       "      <td>404.0</td>\n",
       "      <td>615.0</td>\n",
       "      <td>5738.0</td>\n",
       "      <td>2021</td>\n",
       "      <td>20.058824</td>\n",
       "      <td>307.000000</td>\n",
       "      <td>21.941176</td>\n",
       "      <td>337.529412</td>\n",
       "    </tr>\n",
       "    <tr>\n",
       "      <th>3</th>\n",
       "      <td>New York Jets</td>\n",
       "      <td>4</td>\n",
       "      <td>13</td>\n",
       "      <td>0.235</td>\n",
       "      <td>310</td>\n",
       "      <td>504</td>\n",
       "      <td>-194</td>\n",
       "      <td>-11.4</td>\n",
       "      <td>1.0</td>\n",
       "      <td>-10.4</td>\n",
       "      <td>...</td>\n",
       "      <td>7.0</td>\n",
       "      <td>310.0</td>\n",
       "      <td>357.0</td>\n",
       "      <td>603.0</td>\n",
       "      <td>6760.0</td>\n",
       "      <td>2021</td>\n",
       "      <td>18.235294</td>\n",
       "      <td>306.352941</td>\n",
       "      <td>29.647059</td>\n",
       "      <td>397.647059</td>\n",
       "    </tr>\n",
       "    <tr>\n",
       "      <th>4</th>\n",
       "      <td>Cincinnati Bengals</td>\n",
       "      <td>10</td>\n",
       "      <td>7</td>\n",
       "      <td>0.588</td>\n",
       "      <td>460</td>\n",
       "      <td>376</td>\n",
       "      <td>84</td>\n",
       "      <td>4.9</td>\n",
       "      <td>-1.9</td>\n",
       "      <td>3.1</td>\n",
       "      <td>...</td>\n",
       "      <td>7.0</td>\n",
       "      <td>337.0</td>\n",
       "      <td>384.0</td>\n",
       "      <td>555.0</td>\n",
       "      <td>5964.0</td>\n",
       "      <td>2021</td>\n",
       "      <td>27.058824</td>\n",
       "      <td>361.470588</td>\n",
       "      <td>22.117647</td>\n",
       "      <td>350.823529</td>\n",
       "    </tr>\n",
       "  </tbody>\n",
       "</table>\n",
       "<p>5 rows × 28 columns</p>\n",
       "</div>"
      ],
      "text/plain": [
       "                     Tm   W   L   W-L%   PF   PA   PD   MoV  SoS   SRS  ...  \\\n",
       "0         Buffalo Bills  11   6  0.647  483  289  194  11.4 -1.6   9.8  ...   \n",
       "1  New England Patriots  10   7  0.588  462  303  159   9.4 -0.9   8.5  ...   \n",
       "2        Miami Dolphins   9   8  0.529  341  373  -32  -1.9 -0.8  -2.7  ...   \n",
       "3         New York Jets   4  13  0.235  310  504 -194 -11.4  1.0 -10.4  ...   \n",
       "4    Cincinnati Bengals  10   7  0.588  460  376   84   4.9 -1.9   3.1  ...   \n",
       "\n",
       "     FL   1stD    Cmp    Att  Yds_opp  Season        PPG         YPG  \\\n",
       "0   6.0  398.0  415.0  655.0   4637.0    2021  28.411765  381.941176   \n",
       "1  10.0  362.0  364.0  535.0   5284.0    2021  27.176471  353.411765   \n",
       "2  12.0  325.0  404.0  615.0   5738.0    2021  20.058824  307.000000   \n",
       "3   7.0  310.0  357.0  603.0   6760.0    2021  18.235294  306.352941   \n",
       "4   7.0  337.0  384.0  555.0   5964.0    2021  27.058824  361.470588   \n",
       "\n",
       "     PPG_opp     YPG_opp  \n",
       "0  17.000000  272.764706  \n",
       "1  17.823529  310.823529  \n",
       "2  21.941176  337.529412  \n",
       "3  29.647059  397.647059  \n",
       "4  22.117647  350.823529  \n",
       "\n",
       "[5 rows x 28 columns]"
      ]
     },
     "execution_count": 129,
     "metadata": {},
     "output_type": "execute_result"
    }
   ],
   "source": [
    "# Calculating YPG and PPG from season totals\n",
    "df['PPG'] = df['PF'] / df['G']\n",
    "df['YPG'] = df['Yds'] / df['G']\n",
    "\n",
    "df['PPG_opp'] = df['PA'] / df['G']\n",
    "df['YPG_opp'] = df['Yds_opp'] / df['G'] \n",
    "\n",
    "df.head()\n"
   ]
  },
  {
   "cell_type": "code",
   "execution_count": 130,
   "metadata": {},
   "outputs": [],
   "source": [
    "hover_data = ['Tm', 'Season']"
   ]
  },
  {
   "cell_type": "code",
   "execution_count": 131,
   "metadata": {
    "scrolled": true
   },
   "outputs": [
    {
     "data": {
      "application/vnd.plotly.v1+json": {
       "config": {
        "plotlyServerURL": "https://plot.ly"
       },
       "data": [
        {
         "customdata": [
          [
           "Buffalo Bills",
           2021
          ],
          [
           "New England Patriots",
           2021
          ],
          [
           "Miami Dolphins",
           2021
          ],
          [
           "New York Jets",
           2021
          ],
          [
           "Cincinnati Bengals",
           2021
          ],
          [
           "Pittsburgh Steelers",
           2021
          ],
          [
           "Cleveland Browns",
           2021
          ],
          [
           "Baltimore Ravens",
           2021
          ],
          [
           "Tennessee Titans",
           2021
          ],
          [
           "Indianapolis Colts",
           2021
          ],
          [
           "Houston Texans",
           2021
          ],
          [
           "Jacksonville Jaguars",
           2021
          ],
          [
           "Kansas City Chiefs",
           2021
          ],
          [
           "Las Vegas Raiders",
           2021
          ],
          [
           "Los Angeles Chargers",
           2021
          ],
          [
           "Denver Broncos",
           2021
          ],
          [
           "Dallas Cowboys",
           2021
          ],
          [
           "Philadelphia Eagles",
           2021
          ],
          [
           "Washignton Commanders",
           2021
          ],
          [
           "New York Giants",
           2021
          ],
          [
           "Green Bay Packers",
           2021
          ],
          [
           "Minnesota Vikings",
           2021
          ],
          [
           "Chicago Bears",
           2021
          ],
          [
           "Detroit Lions",
           2021
          ],
          [
           "Tampa Bay Buccaneers",
           2021
          ],
          [
           "New Orleans Saints",
           2021
          ],
          [
           "Atlanta Falcons",
           2021
          ],
          [
           "Carolina Panthers",
           2021
          ],
          [
           "Los Angeles Rams",
           2021
          ],
          [
           "Arizona Cardinals",
           2021
          ],
          [
           "San Francisco 49ers",
           2021
          ],
          [
           "Seattle Seahawks",
           2021
          ],
          [
           "Buffalo Bills",
           2020
          ],
          [
           "Miami Dolphins",
           2020
          ],
          [
           "New England Patriots",
           2020
          ],
          [
           "New York Jets",
           2020
          ],
          [
           "Pittsburgh Steelers",
           2020
          ],
          [
           "Baltimore Ravens",
           2020
          ],
          [
           "Cleveland Browns",
           2020
          ],
          [
           "Cincinnati Bengals",
           2020
          ],
          [
           "Tennessee Titans",
           2020
          ],
          [
           "Indianapolis Colts",
           2020
          ],
          [
           "Houston Texans",
           2020
          ],
          [
           "Jacksonville Jaguars",
           2020
          ],
          [
           "Kansas City Chiefs",
           2020
          ],
          [
           "Las Vegas Raiders",
           2020
          ],
          [
           "Los Angeles Chargers",
           2020
          ],
          [
           "Denver Broncos",
           2020
          ],
          [
           "Washignton Commanders",
           2020
          ],
          [
           "New York Giants",
           2020
          ],
          [
           "Dallas Cowboys",
           2020
          ],
          [
           "Philadelphia Eagles",
           2020
          ],
          [
           "Green Bay Packers",
           2020
          ],
          [
           "Chicago Bears",
           2020
          ],
          [
           "Minnesota Vikings",
           2020
          ],
          [
           "Detroit Lions",
           2020
          ],
          [
           "New Orleans Saints",
           2020
          ],
          [
           "Tampa Bay Buccaneers",
           2020
          ],
          [
           "Carolina Panthers",
           2020
          ],
          [
           "Atlanta Falcons",
           2020
          ],
          [
           "Seattle Seahawks",
           2020
          ],
          [
           "Los Angeles Rams",
           2020
          ],
          [
           "Arizona Cardinals",
           2020
          ],
          [
           "San Francisco 49ers",
           2020
          ],
          [
           "New England Patriots",
           2019
          ],
          [
           "Buffalo Bills",
           2019
          ],
          [
           "New York Jets",
           2019
          ],
          [
           "Miami Dolphins",
           2019
          ],
          [
           "Baltimore Ravens",
           2019
          ],
          [
           "Pittsburgh Steelers",
           2019
          ],
          [
           "Cleveland Browns",
           2019
          ],
          [
           "Cincinnati Bengals",
           2019
          ],
          [
           "Houston Texans",
           2019
          ],
          [
           "Tennessee Titans",
           2019
          ],
          [
           "Indianapolis Colts",
           2019
          ],
          [
           "Jacksonville Jaguars",
           2019
          ],
          [
           "Kansas City Chiefs",
           2019
          ],
          [
           "Denver Broncos",
           2019
          ],
          [
           "Las Vegas Raiders",
           2019
          ],
          [
           "Los Angeles Chargers",
           2019
          ],
          [
           "Philadelphia Eagles",
           2019
          ],
          [
           "Dallas Cowboys",
           2019
          ],
          [
           "New York Giants",
           2019
          ],
          [
           "Washington Commanders",
           2019
          ],
          [
           "Green Bay Packers",
           2019
          ],
          [
           "Minnesota Vikings",
           2019
          ],
          [
           "Chicago Bears",
           2019
          ],
          [
           "Detroit Lions",
           2019
          ],
          [
           "New Orleans Saints",
           2019
          ],
          [
           "Atlanta Falcons",
           2019
          ],
          [
           "Tampa Bay Buccaneers",
           2019
          ],
          [
           "Carolina Panthers",
           2019
          ],
          [
           "San Francisco 49ers",
           2019
          ],
          [
           "Seattle Seahawks",
           2019
          ],
          [
           "Los Angeles Rams",
           2019
          ],
          [
           "Arizona Cardinals",
           2019
          ],
          [
           "New England Patriots",
           2018
          ],
          [
           "Miami Dolphins",
           2018
          ],
          [
           "Buffalo Bills",
           2018
          ],
          [
           "New York Jets",
           2018
          ],
          [
           "Baltimore Ravens",
           2018
          ],
          [
           "Pittsburgh Steelers",
           2018
          ],
          [
           "Cleveland Browns",
           2018
          ],
          [
           "Cincinnati Bengals",
           2018
          ],
          [
           "Houston Texans",
           2018
          ],
          [
           "Indianapolis Colts",
           2018
          ],
          [
           "Tennessee Titans",
           2018
          ],
          [
           "Jacksonville Jaguars",
           2018
          ],
          [
           "Kansas City Chiefs",
           2018
          ],
          [
           "Los Angeles Chargers",
           2018
          ],
          [
           "Denver Broncos",
           2018
          ],
          [
           "Las Vegas Raiders",
           2018
          ],
          [
           "Dallas Cowboys",
           2018
          ],
          [
           "Philadelphia Eagles",
           2018
          ],
          [
           "Washington Commanders",
           2018
          ],
          [
           "New York Giants",
           2018
          ],
          [
           "Chicago Bears",
           2018
          ],
          [
           "Minnesota Vikings",
           2018
          ],
          [
           "Green Bay Packers",
           2018
          ],
          [
           "Detroit Lions",
           2018
          ],
          [
           "New Orleans Saints",
           2018
          ],
          [
           "Atlanta Falcons",
           2018
          ],
          [
           "Carolina Panthers",
           2018
          ],
          [
           "Tampa Bay Buccaneers",
           2018
          ],
          [
           "Los Angeles Rams",
           2018
          ],
          [
           "Seattle Seahawks",
           2018
          ],
          [
           "San Francisco 49ers",
           2018
          ],
          [
           "Arizona Cardinals",
           2018
          ],
          [
           "New England Patriots",
           2017
          ],
          [
           "Buffalo Bills",
           2017
          ],
          [
           "Miami Dolphins",
           2017
          ],
          [
           "New York Jets",
           2017
          ],
          [
           "Pittsburgh Steelers",
           2017
          ],
          [
           "Baltimore Ravens",
           2017
          ],
          [
           "Cincinnati Bengals",
           2017
          ],
          [
           "Cleveland Browns",
           2017
          ],
          [
           "Jacksonville Jaguars",
           2017
          ],
          [
           "Tennessee Titans",
           2017
          ],
          [
           "Indianapolis Colts",
           2017
          ],
          [
           "Houston Texans",
           2017
          ],
          [
           "Kansas City Chiefs",
           2017
          ],
          [
           "Los Angeles Chargers",
           2017
          ],
          [
           "Las Vegas Raiders",
           2017
          ],
          [
           "Denver Broncos",
           2017
          ],
          [
           "Philadelphia Eagles",
           2017
          ],
          [
           "Dallas Cowboys",
           2017
          ],
          [
           "Washington Commanders",
           2017
          ],
          [
           "New York Giants",
           2017
          ],
          [
           "Minnesota Vikings",
           2017
          ],
          [
           "Detroit Lions",
           2017
          ],
          [
           "Green Bay Packers",
           2017
          ],
          [
           "Chicago Bears",
           2017
          ],
          [
           "New Orleans Saints",
           2017
          ],
          [
           "Carolina Panthers",
           2017
          ],
          [
           "Atlanta Falcons",
           2017
          ],
          [
           "Tampa Bay Buccaneers",
           2017
          ],
          [
           "Los Angeles Rams",
           2017
          ],
          [
           "Seattle Seahawks",
           2017
          ],
          [
           "Arizona Cardinals",
           2017
          ],
          [
           "San Francisco 49ers",
           2017
          ],
          [
           "New England Patriots",
           2016
          ],
          [
           "Miami Dolphins",
           2016
          ],
          [
           "Buffalo Bills",
           2016
          ],
          [
           "New York Jets",
           2016
          ],
          [
           "Pittsburgh Steelers",
           2016
          ],
          [
           "Baltimore Ravens",
           2016
          ],
          [
           "Cincinnati Bengals",
           2016
          ],
          [
           "Cleveland Browns",
           2016
          ],
          [
           "Houston Texans",
           2016
          ],
          [
           "Tennessee Titans",
           2016
          ],
          [
           "Indianapolis Colts",
           2016
          ],
          [
           "Jacksonville Jaguars",
           2016
          ],
          [
           "Kansas City Chiefs",
           2016
          ],
          [
           "Las Vegas Raiders",
           2016
          ],
          [
           "Denver Broncos",
           2016
          ],
          [
           "Los Angeles Chargers",
           2016
          ],
          [
           "Dallas Cowboys",
           2016
          ],
          [
           "New York Giants",
           2016
          ],
          [
           "Washington Commanders",
           2016
          ],
          [
           "Philadelphia Eagles",
           2016
          ],
          [
           "Green Bay Packers",
           2016
          ],
          [
           "Detroit Lions",
           2016
          ],
          [
           "Minnesota Vikings",
           2016
          ],
          [
           "Chicago Bears",
           2016
          ],
          [
           "Atlanta Falcons",
           2016
          ],
          [
           "Tampa Bay Buccaneers",
           2016
          ],
          [
           "New Orleans Saints",
           2016
          ],
          [
           "Carolina Panthers",
           2016
          ],
          [
           "Seattle Seahawks",
           2016
          ],
          [
           "Arizona Cardinals",
           2016
          ],
          [
           "Los Angeles Rams",
           2016
          ],
          [
           "San Francisco 49ers",
           2016
          ],
          [
           "New England Patriots",
           2015
          ],
          [
           "New York Jets",
           2015
          ],
          [
           "Buffalo Bills",
           2015
          ],
          [
           "Miami Dolphins",
           2015
          ],
          [
           "Cincinnati Bengals",
           2015
          ],
          [
           "Pittsburgh Steelers",
           2015
          ],
          [
           "Baltimore Ravens",
           2015
          ],
          [
           "Cleveland Browns",
           2015
          ],
          [
           "Houston Texans",
           2015
          ],
          [
           "Indianapolis Colts",
           2015
          ],
          [
           "Jacksonville Jaguars",
           2015
          ],
          [
           "Tennessee Titans",
           2015
          ],
          [
           "Denver Broncos",
           2015
          ],
          [
           "Kansas City Chiefs",
           2015
          ],
          [
           "Las Vegas Raiders",
           2015
          ],
          [
           "Los Angeles Chargers",
           2015
          ],
          [
           "Washington Commanders",
           2015
          ],
          [
           "Philadelphia Eagles",
           2015
          ],
          [
           "New York Giants",
           2015
          ],
          [
           "Dallas Cowboys",
           2015
          ],
          [
           "Minnesota Vikings",
           2015
          ],
          [
           "Green Bay Packers",
           2015
          ],
          [
           "Detroit Lions",
           2015
          ],
          [
           "Chicago Bears",
           2015
          ],
          [
           "Carolina Panthers",
           2015
          ],
          [
           "Atlanta Falcons",
           2015
          ],
          [
           "New Orleans Saints",
           2015
          ],
          [
           "Tampa Bay Buccaneers",
           2015
          ],
          [
           "Arizona Cardinals",
           2015
          ],
          [
           "Seattle Seahawks",
           2015
          ],
          [
           "Los Angeles Rams",
           2015
          ],
          [
           "San Francisco 49ers",
           2015
          ],
          [
           "New England Patriots",
           2014
          ],
          [
           "Buffalo Bills",
           2014
          ],
          [
           "Miami Dolphins",
           2014
          ],
          [
           "New York Jets",
           2014
          ],
          [
           "Pittsburgh Steelers",
           2014
          ],
          [
           "Cincinnati Bengals",
           2014
          ],
          [
           "Baltimore Ravens",
           2014
          ],
          [
           "Cleveland Browns",
           2014
          ],
          [
           "Indianapolis Colts",
           2014
          ],
          [
           "Houston Texans",
           2014
          ],
          [
           "Jacksonville Jaguars",
           2014
          ],
          [
           "Tennessee Titans",
           2014
          ],
          [
           "Denver Broncos",
           2014
          ],
          [
           "Kansas City Chiefs",
           2014
          ],
          [
           "Los Angeles Chargers",
           2014
          ],
          [
           "Las Vegas Raiders",
           2014
          ],
          [
           "Dallas Cowboys",
           2014
          ],
          [
           "Philadelphia Eagles",
           2014
          ],
          [
           "New York Giants",
           2014
          ],
          [
           "Washington Commanders",
           2014
          ],
          [
           "Green Bay Packers",
           2014
          ],
          [
           "Detroit Lions",
           2014
          ],
          [
           "Minnesota Vikings",
           2014
          ],
          [
           "Chicago Bears",
           2014
          ],
          [
           "Carolina Panthers",
           2014
          ],
          [
           "New Orleans Saints",
           2014
          ],
          [
           "Atlanta Falcons",
           2014
          ],
          [
           "Tampa Bay Buccaneers",
           2014
          ],
          [
           "Seattle Seahawks",
           2014
          ],
          [
           "Arizona Cardinals",
           2014
          ],
          [
           "San Francisco 49ers",
           2014
          ],
          [
           "Los Angeles Rams",
           2014
          ],
          [
           "New England Patriots",
           2013
          ],
          [
           "New York Jets",
           2013
          ],
          [
           "Miami Dolphins",
           2013
          ],
          [
           "Buffalo Bills",
           2013
          ],
          [
           "Cincinnati Bengals",
           2013
          ],
          [
           "Pittsburgh Steelers",
           2013
          ],
          [
           "Baltimore Ravens",
           2013
          ],
          [
           "Cleveland Browns",
           2013
          ],
          [
           "Indianapolis Colts",
           2013
          ],
          [
           "Tennessee Titans",
           2013
          ],
          [
           "Jacksonville Jaguars",
           2013
          ],
          [
           "Houston Texans",
           2013
          ],
          [
           "Denver Broncos",
           2013
          ],
          [
           "Kansas City Chiefs",
           2013
          ],
          [
           "Los Angeles Chargers",
           2013
          ],
          [
           "Las Vegas Raiders",
           2013
          ],
          [
           "Philadelphia Eagles",
           2013
          ],
          [
           "Dallas Cowboys",
           2013
          ],
          [
           "New York Giants",
           2013
          ],
          [
           "Washington Commanders",
           2013
          ],
          [
           "Green Bay Packers",
           2013
          ],
          [
           "Chicago Bears",
           2013
          ],
          [
           "Detroit Lions",
           2013
          ],
          [
           "Minnesota Vikings",
           2013
          ],
          [
           "Carolina Panthers",
           2013
          ],
          [
           "New Orleans Saints",
           2013
          ],
          [
           "Atlanta Falcons",
           2013
          ],
          [
           "Tampa Bay Buccaneers",
           2013
          ],
          [
           "Seattle Seahawks",
           2013
          ],
          [
           "San Francisco 49ers",
           2013
          ],
          [
           "Arizona Cardinals",
           2013
          ],
          [
           "Los Angeles Rams",
           2013
          ],
          [
           "New England Patriots",
           2012
          ],
          [
           "Miami Dolphins",
           2012
          ],
          [
           "New York Jets",
           2012
          ],
          [
           "Buffalo Bills",
           2012
          ],
          [
           "Baltimore Ravens",
           2012
          ],
          [
           "Cincinnati Bengals",
           2012
          ],
          [
           "Pittsburgh Steelers",
           2012
          ],
          [
           "Cleveland Browns",
           2012
          ],
          [
           "Houston Texans",
           2012
          ],
          [
           "Indianapolis Colts",
           2012
          ],
          [
           "Tennessee Titans",
           2012
          ],
          [
           "Jacksonville Jaguars",
           2012
          ],
          [
           "Denver Broncos",
           2012
          ],
          [
           "Los Angeles Chargers",
           2012
          ],
          [
           "Las Vegas Raiders",
           2012
          ],
          [
           "Kansas City Chiefs",
           2012
          ],
          [
           "Washington Commanders",
           2012
          ],
          [
           "New York Giants",
           2012
          ],
          [
           "Dallas Cowboys",
           2012
          ],
          [
           "Philadelphia Eagles",
           2012
          ],
          [
           "Green Bay Packers",
           2012
          ],
          [
           "Minnesota Vikings",
           2012
          ],
          [
           "Chicago Bears",
           2012
          ],
          [
           "Detroit Lions",
           2012
          ],
          [
           "Atlanta Falcons",
           2012
          ],
          [
           "Carolina Panthers",
           2012
          ],
          [
           "New Orleans Saints",
           2012
          ],
          [
           "Tampa Bay Buccaneers",
           2012
          ],
          [
           "San Francisco 49ers",
           2012
          ],
          [
           "Seattle Seahawks",
           2012
          ],
          [
           "Los Angeles Rams",
           2012
          ],
          [
           "Arizona Cardinals",
           2012
          ],
          [
           "New England Patriots",
           2011
          ],
          [
           "New York Jets",
           2011
          ],
          [
           "Miami Dolphins",
           2011
          ],
          [
           "Buffalo Bills",
           2011
          ],
          [
           "Baltimore Ravens",
           2011
          ],
          [
           "Pittsburgh Steelers",
           2011
          ],
          [
           "Cincinnati Bengals",
           2011
          ],
          [
           "Cleveland Browns",
           2011
          ],
          [
           "Houston Texans",
           2011
          ],
          [
           "Tennessee Titans",
           2011
          ],
          [
           "Jacksonville Jaguars",
           2011
          ],
          [
           "Indianapolis Colts",
           2011
          ],
          [
           "Denver Broncos",
           2011
          ],
          [
           "Los Angeles Chargers",
           2011
          ],
          [
           "Las Vegas Raiders",
           2011
          ],
          [
           "Kansas City Chiefs",
           2011
          ],
          [
           "New York Giants",
           2011
          ],
          [
           "Philadelphia Eagles",
           2011
          ],
          [
           "Dallas Cowboys",
           2011
          ],
          [
           "Washington Commanders",
           2011
          ],
          [
           "Green Bay Packers",
           2011
          ],
          [
           "Detroit Lions",
           2011
          ],
          [
           "Chicago Bears",
           2011
          ],
          [
           "Minnesota Vikings",
           2011
          ],
          [
           "New Orleans Saints",
           2011
          ],
          [
           "Atlanta Falcons",
           2011
          ],
          [
           "Carolina Panthers",
           2011
          ],
          [
           "Tampa Bay Buccaneers",
           2011
          ],
          [
           "San Francisco 49ers",
           2011
          ],
          [
           "Arizona Cardinals",
           2011
          ],
          [
           "Seattle Seahawks",
           2011
          ],
          [
           "Los Angeles Rams",
           2011
          ],
          [
           "New England Patriots",
           2010
          ],
          [
           "New York Jets",
           2010
          ],
          [
           "Miami Dolphins",
           2010
          ],
          [
           "Buffalo Bills",
           2010
          ],
          [
           "Pittsburgh Steelers",
           2010
          ],
          [
           "Baltimore Ravens",
           2010
          ],
          [
           "Cleveland Browns",
           2010
          ],
          [
           "Cincinnati Bengals",
           2010
          ],
          [
           "Indianapolis Colts",
           2010
          ],
          [
           "Jacksonville Jaguars",
           2010
          ],
          [
           "Houston Texans",
           2010
          ],
          [
           "Tennessee Titans",
           2010
          ],
          [
           "Kansas City Chiefs",
           2010
          ],
          [
           "Los Angeles Chargers",
           2010
          ],
          [
           "Las Vegas Raiders",
           2010
          ],
          [
           "Denver Broncos",
           2010
          ],
          [
           "Philadelphia Eagles",
           2010
          ],
          [
           "New York Giants",
           2010
          ],
          [
           "Dallas Cowboys",
           2010
          ],
          [
           "Washington Commanders",
           2010
          ],
          [
           "Chicago Bears",
           2010
          ],
          [
           "Green Bay Packers",
           2010
          ],
          [
           "Detroit Lions",
           2010
          ],
          [
           "Minnesota Vikings",
           2010
          ],
          [
           "Atlanta Falcons",
           2010
          ],
          [
           "New Orleans Saints",
           2010
          ],
          [
           "Tampa Bay Buccaneers",
           2010
          ],
          [
           "Carolina Panthers",
           2010
          ],
          [
           "Seattle Seahawks",
           2010
          ],
          [
           "Los Angeles Rams",
           2010
          ],
          [
           "San Francisco 49ers",
           2010
          ],
          [
           "Arizona Cardinals",
           2010
          ],
          [
           "New England Patriots",
           2009
          ],
          [
           "New York Jets",
           2009
          ],
          [
           "Miami Dolphins",
           2009
          ],
          [
           "Buffalo Bills",
           2009
          ],
          [
           "Cincinnati Bengals",
           2009
          ],
          [
           "Baltimore Ravens",
           2009
          ],
          [
           "Pittsburgh Steelers",
           2009
          ],
          [
           "Cleveland Browns",
           2009
          ],
          [
           "Indianapolis Colts",
           2009
          ],
          [
           "Houston Texans",
           2009
          ],
          [
           "Tennessee Titans",
           2009
          ],
          [
           "Jacksonville Jaguars",
           2009
          ],
          [
           "Los Angeles Chargers",
           2009
          ],
          [
           "Denver Broncos",
           2009
          ],
          [
           "Las Vegas Raiders",
           2009
          ],
          [
           "Kansas City Chiefs",
           2009
          ],
          [
           "Dallas Cowboys",
           2009
          ],
          [
           "Philadelphia Eagles",
           2009
          ],
          [
           "New York Giants",
           2009
          ],
          [
           "Washington Commanders",
           2009
          ],
          [
           "Minnesota Vikings",
           2009
          ],
          [
           "Green Bay Packers",
           2009
          ],
          [
           "Chicago Bears",
           2009
          ],
          [
           "Detroit Lions",
           2009
          ],
          [
           "New Orleans Saints",
           2009
          ],
          [
           "Atlanta Falcons",
           2009
          ],
          [
           "Carolina Panthers",
           2009
          ],
          [
           "Tampa Bay Buccaneers",
           2009
          ],
          [
           "Arizona Cardinals",
           2009
          ],
          [
           "San Francisco 49ers",
           2009
          ],
          [
           "Seattle Seahawks",
           2009
          ],
          [
           "Los Angeles Rams",
           2009
          ],
          [
           "Miami Dolphins",
           2008
          ],
          [
           "New England Patriots",
           2008
          ],
          [
           "New York Jets",
           2008
          ],
          [
           "Buffalo Bills",
           2008
          ],
          [
           "Pittsburgh Steelers",
           2008
          ],
          [
           "Baltimore Ravens",
           2008
          ],
          [
           "Cincinnati Bengals",
           2008
          ],
          [
           "Cleveland Browns",
           2008
          ],
          [
           "Tennessee Titans",
           2008
          ],
          [
           "Indianapolis Colts",
           2008
          ],
          [
           "Houston Texans",
           2008
          ],
          [
           "Jacksonville Jaguars",
           2008
          ],
          [
           "Los Angeles Chargers",
           2008
          ],
          [
           "Denver Broncos",
           2008
          ],
          [
           "Las Vegas Raiders",
           2008
          ],
          [
           "Kansas City Chiefs",
           2008
          ],
          [
           "New York Giants",
           2008
          ],
          [
           "Philadelphia Eagles",
           2008
          ],
          [
           "Dallas Cowboys",
           2008
          ],
          [
           "Washington Commanders",
           2008
          ],
          [
           "Minnesota Vikings",
           2008
          ],
          [
           "Chicago Bears",
           2008
          ],
          [
           "Green Bay Packers",
           2008
          ],
          [
           "Detroit Lions",
           2008
          ],
          [
           "Carolina Panthers",
           2008
          ],
          [
           "Atlanta Falcons",
           2008
          ],
          [
           "Tampa Bay Buccaneers",
           2008
          ],
          [
           "New Orleans Saints",
           2008
          ],
          [
           "Arizona Cardinals",
           2008
          ],
          [
           "San Francisco 49ers",
           2008
          ],
          [
           "Seattle Seahawks",
           2008
          ],
          [
           "Los Angeles Rams",
           2008
          ],
          [
           "New England Patriots",
           2007
          ],
          [
           "Buffalo Bills",
           2007
          ],
          [
           "New York Jets",
           2007
          ],
          [
           "Miami Dolphins",
           2007
          ],
          [
           "Pittsburgh Steelers",
           2007
          ],
          [
           "Cleveland Browns",
           2007
          ],
          [
           "Cincinnati Bengals",
           2007
          ],
          [
           "Baltimore Ravens",
           2007
          ],
          [
           "Indianapolis Colts",
           2007
          ],
          [
           "Jacksonville Jaguars",
           2007
          ],
          [
           "Tennessee Titans",
           2007
          ],
          [
           "Houston Texans",
           2007
          ],
          [
           "Los Angeles Chargers",
           2007
          ],
          [
           "Denver Broncos",
           2007
          ],
          [
           "Kansas City Chiefs",
           2007
          ],
          [
           "Las Vegas Raiders",
           2007
          ],
          [
           "Dallas Cowboys",
           2007
          ],
          [
           "New York Giants",
           2007
          ],
          [
           "Washington Commanders",
           2007
          ],
          [
           "Philadelphia Eagles",
           2007
          ],
          [
           "Green Bay Packers",
           2007
          ],
          [
           "Minnesota Vikings",
           2007
          ],
          [
           "Detroit Lions",
           2007
          ],
          [
           "Chicago Bears",
           2007
          ],
          [
           "Tampa Bay Buccaneers",
           2007
          ],
          [
           "Carolina Panthers",
           2007
          ],
          [
           "New Orleans Saints",
           2007
          ],
          [
           "Atlanta Falcons",
           2007
          ],
          [
           "Seattle Seahawks",
           2007
          ],
          [
           "Arizona Cardinals",
           2007
          ],
          [
           "San Francisco 49ers",
           2007
          ],
          [
           "Los Angeles Rams",
           2007
          ],
          [
           "New England Patriots",
           2006
          ],
          [
           "New York Jets",
           2006
          ],
          [
           "Buffalo Bills",
           2006
          ],
          [
           "Miami Dolphins",
           2006
          ],
          [
           "Baltimore Ravens",
           2006
          ],
          [
           "Cincinnati Bengals",
           2006
          ],
          [
           "Pittsburgh Steelers",
           2006
          ],
          [
           "Cleveland Browns",
           2006
          ],
          [
           "Indianapolis Colts",
           2006
          ],
          [
           "Tennessee Titans",
           2006
          ],
          [
           "Jacksonville Jaguars",
           2006
          ],
          [
           "Houston Texans",
           2006
          ],
          [
           "Los Angeles Chargers",
           2006
          ],
          [
           "Kansas City Chiefs",
           2006
          ],
          [
           "Denver Broncos",
           2006
          ],
          [
           "Las Vegas Raiders",
           2006
          ],
          [
           "Philadelphia Eagles",
           2006
          ],
          [
           "Dallas Cowboys",
           2006
          ],
          [
           "New York Giants",
           2006
          ],
          [
           "Washington Commanders",
           2006
          ],
          [
           "Chicago Bears",
           2006
          ],
          [
           "Green Bay Packers",
           2006
          ],
          [
           "Minnesota Vikings",
           2006
          ],
          [
           "Detroit Lions",
           2006
          ],
          [
           "New Orleans Saints",
           2006
          ],
          [
           "Carolina Panthers",
           2006
          ],
          [
           "Atlanta Falcons",
           2006
          ],
          [
           "Tampa Bay Buccaneers",
           2006
          ],
          [
           "Seattle Seahawks",
           2006
          ],
          [
           "Los Angeles Rams",
           2006
          ],
          [
           "San Francisco 49ers",
           2006
          ],
          [
           "Arizona Cardinals",
           2006
          ],
          [
           "New England Patriots",
           2005
          ],
          [
           "Miami Dolphins",
           2005
          ],
          [
           "Buffalo Bills",
           2005
          ],
          [
           "New York Jets",
           2005
          ],
          [
           "Cincinnati Bengals",
           2005
          ],
          [
           "Pittsburgh Steelers",
           2005
          ],
          [
           "Baltimore Ravens",
           2005
          ],
          [
           "Cleveland Browns",
           2005
          ],
          [
           "Indianapolis Colts",
           2005
          ],
          [
           "Jacksonville Jaguars",
           2005
          ],
          [
           "Tennessee Titans",
           2005
          ],
          [
           "Houston Texans",
           2005
          ],
          [
           "Denver Broncos",
           2005
          ],
          [
           "Kansas City Chiefs",
           2005
          ],
          [
           "Los Angeles Chargers",
           2005
          ],
          [
           "Las Vegas Raiders",
           2005
          ],
          [
           "New York Giants",
           2005
          ],
          [
           "Washington Commanders",
           2005
          ],
          [
           "Dallas Cowboys",
           2005
          ],
          [
           "Philadelphia Eagles",
           2005
          ],
          [
           "Chicago Bears",
           2005
          ],
          [
           "Minnesota Vikings",
           2005
          ],
          [
           "Detroit Lions",
           2005
          ],
          [
           "Green Bay Packers",
           2005
          ],
          [
           "Tampa Bay Buccaneers",
           2005
          ],
          [
           "Carolina Panthers",
           2005
          ],
          [
           "Atlanta Falcons",
           2005
          ],
          [
           "New Orleans Saints",
           2005
          ],
          [
           "Seattle Seahawks",
           2005
          ],
          [
           "Los Angeles Rams",
           2005
          ],
          [
           "Arizona Cardinals",
           2005
          ],
          [
           "San Francisco 49ers",
           2005
          ],
          [
           "New England Patriots",
           2004
          ],
          [
           "New York Jets",
           2004
          ],
          [
           "Buffalo Bills",
           2004
          ],
          [
           "Miami Dolphins",
           2004
          ],
          [
           "Pittsburgh Steelers",
           2004
          ],
          [
           "Baltimore Ravens",
           2004
          ],
          [
           "Cincinnati Bengals",
           2004
          ],
          [
           "Cleveland Browns",
           2004
          ],
          [
           "Indianapolis Colts",
           2004
          ],
          [
           "Jacksonville Jaguars",
           2004
          ],
          [
           "Houston Texans",
           2004
          ],
          [
           "Tennessee Titans",
           2004
          ],
          [
           "Los Angeles Chargers",
           2004
          ],
          [
           "Denver Broncos",
           2004
          ],
          [
           "Kansas City Chiefs",
           2004
          ],
          [
           "Las Vegas Raiders",
           2004
          ],
          [
           "Philadelphia Eagles",
           2004
          ],
          [
           "New York Giants",
           2004
          ],
          [
           "Dallas Cowboys",
           2004
          ],
          [
           "Washington Commanders",
           2004
          ],
          [
           "Green Bay Packers",
           2004
          ],
          [
           "Minnesota Vikings",
           2004
          ],
          [
           "Detroit Lions",
           2004
          ],
          [
           "Chicago Bears",
           2004
          ],
          [
           "Atlanta Falcons",
           2004
          ],
          [
           "New Orleans Saints",
           2004
          ],
          [
           "Carolina Panthers",
           2004
          ],
          [
           "Tampa Bay Buccaneers",
           2004
          ],
          [
           "Seattle Seahawks",
           2004
          ],
          [
           "Los Angeles Rams",
           2004
          ],
          [
           "Arizona Cardinals",
           2004
          ],
          [
           "San Francisco 49ers",
           2004
          ],
          [
           "New England Patriots",
           2003
          ],
          [
           "Miami Dolphins",
           2003
          ],
          [
           "Buffalo Bills",
           2003
          ],
          [
           "New York Jets",
           2003
          ],
          [
           "Baltimore Ravens",
           2003
          ],
          [
           "Cincinnati Bengals",
           2003
          ],
          [
           "Pittsburgh Steelers",
           2003
          ],
          [
           "Cleveland Browns",
           2003
          ],
          [
           "Indianapolis Colts",
           2003
          ],
          [
           "Tennessee Titans",
           2003
          ],
          [
           "Jacksonville Jaguars",
           2003
          ],
          [
           "Houston Texans",
           2003
          ],
          [
           "Kansas City Chiefs",
           2003
          ],
          [
           "Denver Broncos",
           2003
          ],
          [
           "Las Vegas Raiders",
           2003
          ],
          [
           "Los Angeles Chargers",
           2003
          ],
          [
           "Philadelphia Eagles",
           2003
          ],
          [
           "Dallas Cowboys",
           2003
          ],
          [
           "Washington Commanders",
           2003
          ],
          [
           "New York Giants",
           2003
          ],
          [
           "Green Bay Packers",
           2003
          ],
          [
           "Minnesota Vikings",
           2003
          ],
          [
           "Chicago Bears",
           2003
          ],
          [
           "Detroit Lions",
           2003
          ],
          [
           "Carolina Panthers",
           2003
          ],
          [
           "New Orleans Saints",
           2003
          ],
          [
           "Tampa Bay Buccaneers",
           2003
          ],
          [
           "Atlanta Falcons",
           2003
          ],
          [
           "Los Angeles Rams",
           2003
          ],
          [
           "Seattle Seahawks",
           2003
          ],
          [
           "San Francisco 49ers",
           2003
          ],
          [
           "Arizona Cardinals",
           2003
          ]
         ],
         "hovertemplate": "YPG=%{x}<br>PPG=%{y}<br>Tm=%{customdata[0]}<br>Season=%{marker.color}<extra></extra>",
         "legendgroup": "",
         "marker": {
          "color": [
           2021,
           2021,
           2021,
           2021,
           2021,
           2021,
           2021,
           2021,
           2021,
           2021,
           2021,
           2021,
           2021,
           2021,
           2021,
           2021,
           2021,
           2021,
           2021,
           2021,
           2021,
           2021,
           2021,
           2021,
           2021,
           2021,
           2021,
           2021,
           2021,
           2021,
           2021,
           2021,
           2020,
           2020,
           2020,
           2020,
           2020,
           2020,
           2020,
           2020,
           2020,
           2020,
           2020,
           2020,
           2020,
           2020,
           2020,
           2020,
           2020,
           2020,
           2020,
           2020,
           2020,
           2020,
           2020,
           2020,
           2020,
           2020,
           2020,
           2020,
           2020,
           2020,
           2020,
           2020,
           2019,
           2019,
           2019,
           2019,
           2019,
           2019,
           2019,
           2019,
           2019,
           2019,
           2019,
           2019,
           2019,
           2019,
           2019,
           2019,
           2019,
           2019,
           2019,
           2019,
           2019,
           2019,
           2019,
           2019,
           2019,
           2019,
           2019,
           2019,
           2019,
           2019,
           2019,
           2019,
           2018,
           2018,
           2018,
           2018,
           2018,
           2018,
           2018,
           2018,
           2018,
           2018,
           2018,
           2018,
           2018,
           2018,
           2018,
           2018,
           2018,
           2018,
           2018,
           2018,
           2018,
           2018,
           2018,
           2018,
           2018,
           2018,
           2018,
           2018,
           2018,
           2018,
           2018,
           2018,
           2017,
           2017,
           2017,
           2017,
           2017,
           2017,
           2017,
           2017,
           2017,
           2017,
           2017,
           2017,
           2017,
           2017,
           2017,
           2017,
           2017,
           2017,
           2017,
           2017,
           2017,
           2017,
           2017,
           2017,
           2017,
           2017,
           2017,
           2017,
           2017,
           2017,
           2017,
           2017,
           2016,
           2016,
           2016,
           2016,
           2016,
           2016,
           2016,
           2016,
           2016,
           2016,
           2016,
           2016,
           2016,
           2016,
           2016,
           2016,
           2016,
           2016,
           2016,
           2016,
           2016,
           2016,
           2016,
           2016,
           2016,
           2016,
           2016,
           2016,
           2016,
           2016,
           2016,
           2016,
           2015,
           2015,
           2015,
           2015,
           2015,
           2015,
           2015,
           2015,
           2015,
           2015,
           2015,
           2015,
           2015,
           2015,
           2015,
           2015,
           2015,
           2015,
           2015,
           2015,
           2015,
           2015,
           2015,
           2015,
           2015,
           2015,
           2015,
           2015,
           2015,
           2015,
           2015,
           2015,
           2014,
           2014,
           2014,
           2014,
           2014,
           2014,
           2014,
           2014,
           2014,
           2014,
           2014,
           2014,
           2014,
           2014,
           2014,
           2014,
           2014,
           2014,
           2014,
           2014,
           2014,
           2014,
           2014,
           2014,
           2014,
           2014,
           2014,
           2014,
           2014,
           2014,
           2014,
           2014,
           2013,
           2013,
           2013,
           2013,
           2013,
           2013,
           2013,
           2013,
           2013,
           2013,
           2013,
           2013,
           2013,
           2013,
           2013,
           2013,
           2013,
           2013,
           2013,
           2013,
           2013,
           2013,
           2013,
           2013,
           2013,
           2013,
           2013,
           2013,
           2013,
           2013,
           2013,
           2013,
           2012,
           2012,
           2012,
           2012,
           2012,
           2012,
           2012,
           2012,
           2012,
           2012,
           2012,
           2012,
           2012,
           2012,
           2012,
           2012,
           2012,
           2012,
           2012,
           2012,
           2012,
           2012,
           2012,
           2012,
           2012,
           2012,
           2012,
           2012,
           2012,
           2012,
           2012,
           2012,
           2011,
           2011,
           2011,
           2011,
           2011,
           2011,
           2011,
           2011,
           2011,
           2011,
           2011,
           2011,
           2011,
           2011,
           2011,
           2011,
           2011,
           2011,
           2011,
           2011,
           2011,
           2011,
           2011,
           2011,
           2011,
           2011,
           2011,
           2011,
           2011,
           2011,
           2011,
           2011,
           2010,
           2010,
           2010,
           2010,
           2010,
           2010,
           2010,
           2010,
           2010,
           2010,
           2010,
           2010,
           2010,
           2010,
           2010,
           2010,
           2010,
           2010,
           2010,
           2010,
           2010,
           2010,
           2010,
           2010,
           2010,
           2010,
           2010,
           2010,
           2010,
           2010,
           2010,
           2010,
           2009,
           2009,
           2009,
           2009,
           2009,
           2009,
           2009,
           2009,
           2009,
           2009,
           2009,
           2009,
           2009,
           2009,
           2009,
           2009,
           2009,
           2009,
           2009,
           2009,
           2009,
           2009,
           2009,
           2009,
           2009,
           2009,
           2009,
           2009,
           2009,
           2009,
           2009,
           2009,
           2008,
           2008,
           2008,
           2008,
           2008,
           2008,
           2008,
           2008,
           2008,
           2008,
           2008,
           2008,
           2008,
           2008,
           2008,
           2008,
           2008,
           2008,
           2008,
           2008,
           2008,
           2008,
           2008,
           2008,
           2008,
           2008,
           2008,
           2008,
           2008,
           2008,
           2008,
           2008,
           2007,
           2007,
           2007,
           2007,
           2007,
           2007,
           2007,
           2007,
           2007,
           2007,
           2007,
           2007,
           2007,
           2007,
           2007,
           2007,
           2007,
           2007,
           2007,
           2007,
           2007,
           2007,
           2007,
           2007,
           2007,
           2007,
           2007,
           2007,
           2007,
           2007,
           2007,
           2007,
           2006,
           2006,
           2006,
           2006,
           2006,
           2006,
           2006,
           2006,
           2006,
           2006,
           2006,
           2006,
           2006,
           2006,
           2006,
           2006,
           2006,
           2006,
           2006,
           2006,
           2006,
           2006,
           2006,
           2006,
           2006,
           2006,
           2006,
           2006,
           2006,
           2006,
           2006,
           2006,
           2005,
           2005,
           2005,
           2005,
           2005,
           2005,
           2005,
           2005,
           2005,
           2005,
           2005,
           2005,
           2005,
           2005,
           2005,
           2005,
           2005,
           2005,
           2005,
           2005,
           2005,
           2005,
           2005,
           2005,
           2005,
           2005,
           2005,
           2005,
           2005,
           2005,
           2005,
           2005,
           2004,
           2004,
           2004,
           2004,
           2004,
           2004,
           2004,
           2004,
           2004,
           2004,
           2004,
           2004,
           2004,
           2004,
           2004,
           2004,
           2004,
           2004,
           2004,
           2004,
           2004,
           2004,
           2004,
           2004,
           2004,
           2004,
           2004,
           2004,
           2004,
           2004,
           2004,
           2004,
           2003,
           2003,
           2003,
           2003,
           2003,
           2003,
           2003,
           2003,
           2003,
           2003,
           2003,
           2003,
           2003,
           2003,
           2003,
           2003,
           2003,
           2003,
           2003,
           2003,
           2003,
           2003,
           2003,
           2003,
           2003,
           2003,
           2003,
           2003,
           2003,
           2003,
           2003,
           2003
          ],
          "coloraxis": "coloraxis",
          "symbol": "circle"
         },
         "mode": "markers",
         "name": "",
         "orientation": "v",
         "showlegend": false,
         "type": "scatter",
         "x": [
          381.94117647058823,
          353.4117647058824,
          307,
          306.3529411764706,
          361.47058823529414,
          315.3529411764706,
          340.6470588235294,
          378.8235294117647,
          342.47058823529414,
          347.11764705882354,
          278.05882352941177,
          305.3529411764706,
          396.8235294117647,
          363.7647058823529,
          390.2352941176471,
          330.47058823529414,
          407,
          359.94117647058823,
          323.6470588235294,
          287.29411764705884,
          365.5882352941176,
          362.8235294117647,
          307.3529411764706,
          322.5882352941176,
          405.94117647058823,
          304.52941176470586,
          303.7647058823529,
          298.88235294117646,
          372.05882352941177,
          373.6470588235294,
          375.70588235294116,
          323.88235294117646,
          381.94117647058823,
          307,
          353.4117647058824,
          306.3529411764706,
          315.3529411764706,
          378.8235294117647,
          340.6470588235294,
          361.47058823529414,
          342.47058823529414,
          347.11764705882354,
          278.05882352941177,
          305.3529411764706,
          396.8235294117647,
          363.7647058823529,
          390.2352941176471,
          330.47058823529414,
          323.6470588235294,
          287.29411764705884,
          407,
          359.94117647058823,
          365.5882352941176,
          307.3529411764706,
          362.8235294117647,
          322.5882352941176,
          304.52941176470586,
          405.94117647058823,
          298.88235294117646,
          303.7647058823529,
          323.88235294117646,
          372.05882352941177,
          373.6470588235294,
          375.70588235294116,
          353.4117647058824,
          381.94117647058823,
          306.3529411764706,
          307,
          378.8235294117647,
          315.3529411764706,
          340.6470588235294,
          361.47058823529414,
          278.05882352941177,
          342.47058823529414,
          347.11764705882354,
          305.3529411764706,
          396.8235294117647,
          330.47058823529414,
          363.7647058823529,
          390.2352941176471,
          359.94117647058823,
          407,
          287.29411764705884,
          null,
          365.5882352941176,
          362.8235294117647,
          307.3529411764706,
          322.5882352941176,
          304.52941176470586,
          303.7647058823529,
          405.94117647058823,
          298.88235294117646,
          375.70588235294116,
          323.88235294117646,
          372.05882352941177,
          373.6470588235294,
          353.4117647058824,
          307,
          381.94117647058823,
          306.3529411764706,
          378.8235294117647,
          315.3529411764706,
          340.6470588235294,
          361.47058823529414,
          278.05882352941177,
          347.11764705882354,
          342.47058823529414,
          305.3529411764706,
          396.8235294117647,
          390.2352941176471,
          330.47058823529414,
          363.7647058823529,
          407,
          359.94117647058823,
          null,
          287.29411764705884,
          307.3529411764706,
          362.8235294117647,
          365.5882352941176,
          322.5882352941176,
          304.52941176470586,
          303.7647058823529,
          298.88235294117646,
          405.94117647058823,
          372.05882352941177,
          323.88235294117646,
          375.70588235294116,
          373.6470588235294,
          353.4117647058824,
          381.94117647058823,
          307,
          306.3529411764706,
          315.3529411764706,
          378.8235294117647,
          361.47058823529414,
          340.6470588235294,
          305.3529411764706,
          342.47058823529414,
          347.11764705882354,
          278.05882352941177,
          396.8235294117647,
          390.2352941176471,
          363.7647058823529,
          330.47058823529414,
          359.94117647058823,
          407,
          null,
          287.29411764705884,
          362.8235294117647,
          322.5882352941176,
          365.5882352941176,
          307.3529411764706,
          304.52941176470586,
          298.88235294117646,
          303.7647058823529,
          405.94117647058823,
          372.05882352941177,
          323.88235294117646,
          373.6470588235294,
          375.70588235294116,
          353.4117647058824,
          307,
          381.94117647058823,
          306.3529411764706,
          315.3529411764706,
          378.8235294117647,
          361.47058823529414,
          340.6470588235294,
          278.05882352941177,
          342.47058823529414,
          347.11764705882354,
          305.3529411764706,
          396.8235294117647,
          363.7647058823529,
          330.47058823529414,
          390.2352941176471,
          407,
          287.29411764705884,
          null,
          359.94117647058823,
          365.5882352941176,
          322.5882352941176,
          362.8235294117647,
          307.3529411764706,
          303.7647058823529,
          405.94117647058823,
          304.52941176470586,
          298.88235294117646,
          323.88235294117646,
          373.6470588235294,
          372.05882352941177,
          375.70588235294116,
          353.4117647058824,
          306.3529411764706,
          381.94117647058823,
          307,
          361.47058823529414,
          315.3529411764706,
          378.8235294117647,
          340.6470588235294,
          278.05882352941177,
          347.11764705882354,
          305.3529411764706,
          342.47058823529414,
          330.47058823529414,
          396.8235294117647,
          363.7647058823529,
          390.2352941176471,
          null,
          359.94117647058823,
          287.29411764705884,
          407,
          362.8235294117647,
          365.5882352941176,
          322.5882352941176,
          307.3529411764706,
          298.88235294117646,
          303.7647058823529,
          304.52941176470586,
          405.94117647058823,
          373.6470588235294,
          323.88235294117646,
          372.05882352941177,
          375.70588235294116,
          353.4117647058824,
          381.94117647058823,
          307,
          306.3529411764706,
          315.3529411764706,
          361.47058823529414,
          378.8235294117647,
          340.6470588235294,
          347.11764705882354,
          278.05882352941177,
          305.3529411764706,
          342.47058823529414,
          330.47058823529414,
          396.8235294117647,
          390.2352941176471,
          363.7647058823529,
          407,
          359.94117647058823,
          287.29411764705884,
          null,
          365.5882352941176,
          322.5882352941176,
          362.8235294117647,
          307.3529411764706,
          298.88235294117646,
          304.52941176470586,
          303.7647058823529,
          405.94117647058823,
          323.88235294117646,
          373.6470588235294,
          375.70588235294116,
          372.05882352941177,
          353.4117647058824,
          306.3529411764706,
          307,
          381.94117647058823,
          361.47058823529414,
          315.3529411764706,
          378.8235294117647,
          340.6470588235294,
          347.11764705882354,
          342.47058823529414,
          305.3529411764706,
          278.05882352941177,
          330.47058823529414,
          396.8235294117647,
          390.2352941176471,
          363.7647058823529,
          359.94117647058823,
          407,
          287.29411764705884,
          null,
          365.5882352941176,
          307.3529411764706,
          322.5882352941176,
          362.8235294117647,
          298.88235294117646,
          304.52941176470586,
          303.7647058823529,
          405.94117647058823,
          323.88235294117646,
          375.70588235294116,
          373.6470588235294,
          372.05882352941177,
          353.4117647058824,
          307,
          306.3529411764706,
          381.94117647058823,
          378.8235294117647,
          361.47058823529414,
          315.3529411764706,
          340.6470588235294,
          278.05882352941177,
          347.11764705882354,
          342.47058823529414,
          305.3529411764706,
          330.47058823529414,
          390.2352941176471,
          363.7647058823529,
          396.8235294117647,
          null,
          287.29411764705884,
          407,
          359.94117647058823,
          365.5882352941176,
          362.8235294117647,
          307.3529411764706,
          322.5882352941176,
          303.7647058823529,
          298.88235294117646,
          304.52941176470586,
          405.94117647058823,
          375.70588235294116,
          323.88235294117646,
          372.05882352941177,
          373.6470588235294,
          353.4117647058824,
          306.3529411764706,
          307,
          381.94117647058823,
          378.8235294117647,
          315.3529411764706,
          361.47058823529414,
          340.6470588235294,
          278.05882352941177,
          342.47058823529414,
          305.3529411764706,
          347.11764705882354,
          330.47058823529414,
          390.2352941176471,
          363.7647058823529,
          396.8235294117647,
          287.29411764705884,
          359.94117647058823,
          407,
          null,
          365.5882352941176,
          322.5882352941176,
          307.3529411764706,
          362.8235294117647,
          304.52941176470586,
          303.7647058823529,
          298.88235294117646,
          405.94117647058823,
          375.70588235294116,
          373.6470588235294,
          323.88235294117646,
          372.05882352941177,
          353.4117647058824,
          306.3529411764706,
          307,
          381.94117647058823,
          315.3529411764706,
          378.8235294117647,
          340.6470588235294,
          361.47058823529414,
          347.11764705882354,
          305.3529411764706,
          278.05882352941177,
          342.47058823529414,
          396.8235294117647,
          390.2352941176471,
          363.7647058823529,
          330.47058823529414,
          359.94117647058823,
          287.29411764705884,
          407,
          null,
          307.3529411764706,
          365.5882352941176,
          322.5882352941176,
          362.8235294117647,
          303.7647058823529,
          304.52941176470586,
          405.94117647058823,
          298.88235294117646,
          323.88235294117646,
          372.05882352941177,
          375.70588235294116,
          373.6470588235294,
          353.4117647058824,
          306.3529411764706,
          307,
          381.94117647058823,
          361.47058823529414,
          378.8235294117647,
          315.3529411764706,
          340.6470588235294,
          347.11764705882354,
          278.05882352941177,
          342.47058823529414,
          305.3529411764706,
          390.2352941176471,
          330.47058823529414,
          363.7647058823529,
          396.8235294117647,
          407,
          359.94117647058823,
          287.29411764705884,
          null,
          362.8235294117647,
          365.5882352941176,
          307.3529411764706,
          322.5882352941176,
          304.52941176470586,
          303.7647058823529,
          298.88235294117646,
          405.94117647058823,
          373.6470588235294,
          375.70588235294116,
          323.88235294117646,
          372.05882352941177,
          307,
          353.4117647058824,
          306.3529411764706,
          381.94117647058823,
          315.3529411764706,
          378.8235294117647,
          361.47058823529414,
          340.6470588235294,
          342.47058823529414,
          347.11764705882354,
          278.05882352941177,
          305.3529411764706,
          390.2352941176471,
          330.47058823529414,
          363.7647058823529,
          396.8235294117647,
          287.29411764705884,
          359.94117647058823,
          407,
          null,
          362.8235294117647,
          307.3529411764706,
          365.5882352941176,
          322.5882352941176,
          298.88235294117646,
          303.7647058823529,
          405.94117647058823,
          304.52941176470586,
          373.6470588235294,
          375.70588235294116,
          323.88235294117646,
          372.05882352941177,
          353.4117647058824,
          381.94117647058823,
          306.3529411764706,
          307,
          315.3529411764706,
          340.6470588235294,
          361.47058823529414,
          378.8235294117647,
          347.11764705882354,
          305.3529411764706,
          342.47058823529414,
          278.05882352941177,
          390.2352941176471,
          330.47058823529414,
          396.8235294117647,
          363.7647058823529,
          407,
          287.29411764705884,
          null,
          359.94117647058823,
          365.5882352941176,
          362.8235294117647,
          322.5882352941176,
          307.3529411764706,
          405.94117647058823,
          298.88235294117646,
          304.52941176470586,
          303.7647058823529,
          323.88235294117646,
          373.6470588235294,
          375.70588235294116,
          372.05882352941177,
          353.4117647058824,
          306.3529411764706,
          381.94117647058823,
          307,
          378.8235294117647,
          361.47058823529414,
          315.3529411764706,
          340.6470588235294,
          347.11764705882354,
          342.47058823529414,
          305.3529411764706,
          278.05882352941177,
          390.2352941176471,
          396.8235294117647,
          330.47058823529414,
          363.7647058823529,
          359.94117647058823,
          407,
          287.29411764705884,
          null,
          307.3529411764706,
          365.5882352941176,
          362.8235294117647,
          322.5882352941176,
          304.52941176470586,
          298.88235294117646,
          303.7647058823529,
          405.94117647058823,
          323.88235294117646,
          372.05882352941177,
          375.70588235294116,
          373.6470588235294,
          353.4117647058824,
          307,
          381.94117647058823,
          306.3529411764706,
          361.47058823529414,
          315.3529411764706,
          378.8235294117647,
          340.6470588235294,
          347.11764705882354,
          305.3529411764706,
          342.47058823529414,
          278.05882352941177,
          330.47058823529414,
          396.8235294117647,
          390.2352941176471,
          363.7647058823529,
          287.29411764705884,
          null,
          407,
          359.94117647058823,
          307.3529411764706,
          362.8235294117647,
          322.5882352941176,
          365.5882352941176,
          405.94117647058823,
          298.88235294117646,
          303.7647058823529,
          304.52941176470586,
          323.88235294117646,
          372.05882352941177,
          373.6470588235294,
          375.70588235294116,
          353.4117647058824,
          306.3529411764706,
          381.94117647058823,
          307,
          315.3529411764706,
          378.8235294117647,
          361.47058823529414,
          340.6470588235294,
          347.11764705882354,
          305.3529411764706,
          278.05882352941177,
          342.47058823529414,
          390.2352941176471,
          330.47058823529414,
          396.8235294117647,
          363.7647058823529,
          359.94117647058823,
          287.29411764705884,
          407,
          null,
          365.5882352941176,
          362.8235294117647,
          322.5882352941176,
          307.3529411764706,
          303.7647058823529,
          304.52941176470586,
          298.88235294117646,
          405.94117647058823,
          323.88235294117646,
          372.05882352941177,
          373.6470588235294,
          375.70588235294116,
          353.4117647058824,
          307,
          381.94117647058823,
          306.3529411764706,
          378.8235294117647,
          361.47058823529414,
          315.3529411764706,
          340.6470588235294,
          347.11764705882354,
          342.47058823529414,
          305.3529411764706,
          278.05882352941177,
          396.8235294117647,
          330.47058823529414,
          363.7647058823529,
          390.2352941176471,
          359.94117647058823,
          407,
          null,
          287.29411764705884,
          365.5882352941176,
          362.8235294117647,
          307.3529411764706,
          322.5882352941176,
          298.88235294117646,
          304.52941176470586,
          405.94117647058823,
          303.7647058823529,
          372.05882352941177,
          323.88235294117646,
          375.70588235294116,
          373.6470588235294
         ],
         "xaxis": "x",
         "y": [
          28.41176470588235,
          27.176470588235293,
          20.058823529411764,
          18.235294117647058,
          27.058823529411764,
          20.176470588235293,
          20.529411764705884,
          22.764705882352942,
          24.647058823529413,
          26.529411764705884,
          16.470588235294116,
          14.882352941176471,
          28.235294117647058,
          22,
          27.88235294117647,
          19.705882352941178,
          31.176470588235293,
          26.11764705882353,
          19.705882352941178,
          15.176470588235293,
          26.470588235294116,
          25,
          18.294117647058822,
          19.11764705882353,
          30.058823529411764,
          21.41176470588235,
          18.41176470588235,
          17.88235294117647,
          27.058823529411764,
          26.41176470588235,
          25.11764705882353,
          23.235294117647058,
          29.470588235294116,
          23.764705882352942,
          19.176470588235293,
          14.294117647058824,
          24.470588235294116,
          27.529411764705884,
          24,
          18.294117647058822,
          28.88235294117647,
          26.529411764705884,
          22.58823529411765,
          18,
          27.823529411764707,
          25.529411764705884,
          22.58823529411765,
          19,
          19.705882352941178,
          16.470588235294116,
          23.235294117647058,
          19.647058823529413,
          29.941176470588236,
          21.88235294117647,
          25.294117647058822,
          22.176470588235293,
          28.352941176470587,
          28.941176470588236,
          20.58823529411765,
          23.294117647058822,
          27,
          21.88235294117647,
          24.11764705882353,
          22.11764705882353,
          24.705882352941178,
          18.470588235294116,
          16.235294117647058,
          18,
          31.235294117647058,
          17,
          19.705882352941178,
          16.41176470588235,
          22.235294117647058,
          23.647058823529413,
          21.235294117647058,
          17.647058823529413,
          26.529411764705884,
          16.58823529411765,
          18.41176470588235,
          19.823529411764707,
          22.647058823529413,
          25.529411764705884,
          20.058823529411764,
          null,
          22.11764705882353,
          23.941176470588236,
          16.470588235294116,
          20.058823529411764,
          26.941176470588236,
          22.41176470588235,
          26.941176470588236,
          20,
          28.176470588235293,
          23.823529411764707,
          23.176470588235293,
          21.235294117647058,
          25.647058823529413,
          18.764705882352942,
          15.823529411764707,
          19.58823529411765,
          22.88235294117647,
          25.176470588235293,
          21.11764705882353,
          21.647058823529413,
          23.647058823529413,
          25.470588235294116,
          18.235294117647058,
          14.411764705882353,
          33.23529411764706,
          25.176470588235293,
          19.352941176470587,
          17.058823529411764,
          19.941176470588236,
          21.58823529411765,
          null,
          21.705882352941178,
          24.764705882352942,
          21.176470588235293,
          22.11764705882353,
          19.058823529411764,
          29.647058823529413,
          24.352941176470587,
          22.11764705882353,
          23.294117647058822,
          31,
          25.176470588235293,
          20.11764705882353,
          13.235294117647058,
          26.941176470588236,
          17.764705882352942,
          16.529411764705884,
          17.529411764705884,
          23.88235294117647,
          23.235294117647058,
          17.058823529411764,
          13.764705882352942,
          24.529411764705884,
          19.647058823529413,
          15.470588235294118,
          19.88235294117647,
          24.41176470588235,
          20.88235294117647,
          17.705882352941178,
          17,
          26.88235294117647,
          20.823529411764707,
          null,
          14.470588235294118,
          22.470588235294116,
          24.11764705882353,
          18.823529411764707,
          15.529411764705882,
          26.352941176470587,
          21.352941176470587,
          20.764705882352942,
          19.705882352941178,
          28.11764705882353,
          21.529411764705884,
          17.352941176470587,
          19.470588235294116,
          25.941176470588236,
          21.352941176470587,
          23.470588235294116,
          16.176470588235293,
          23.470588235294116,
          20.176470588235293,
          19.11764705882353,
          15.529411764705882,
          16.41176470588235,
          22.41176470588235,
          24.176470588235293,
          18.705882352941178,
          22.88235294117647,
          24.470588235294116,
          19.58823529411765,
          24.11764705882353,
          24.764705882352942,
          18.235294117647058,
          null,
          21.58823529411765,
          25.41176470588235,
          20.352941176470587,
          19.235294117647058,
          16.41176470588235,
          31.764705882352942,
          20.823529411764707,
          27.58823529411765,
          21.705882352941178,
          20.823529411764707,
          24.58823529411765,
          13.176470588235293,
          18.176470588235293,
          27.352941176470587,
          22.764705882352942,
          22.294117647058822,
          18.235294117647058,
          24.647058823529413,
          24.88235294117647,
          19.294117647058822,
          16.352941176470587,
          19.941176470588236,
          19.58823529411765,
          22.11764705882353,
          17.58823529411765,
          20.88235294117647,
          23.823529411764707,
          21.11764705882353,
          18.823529411764707,
          null,
          22.176470588235293,
          24.705882352941178,
          16.176470588235293,
          21.470588235294116,
          21.647058823529413,
          21.058823529411764,
          19.705882352941178,
          29.41176470588235,
          19.941176470588236,
          24,
          20.11764705882353,
          28.764705882352942,
          24.88235294117647,
          16.470588235294116,
          14,
          27.529411764705884,
          20.176470588235293,
          22.823529411764707,
          16.647058823529413,
          25.647058823529413,
          21.470588235294116,
          24.058823529411764,
          17.58823529411765,
          26.941176470588236,
          21.88235294117647,
          14.647058823529411,
          14.941176470588236,
          28.352941176470587,
          20.764705882352942,
          20.470588235294116,
          14.882352941176471,
          27.470588235294116,
          27.88235294117647,
          22.352941176470587,
          null,
          28.58823529411765,
          18.88235294117647,
          19.11764705882353,
          18.764705882352942,
          19.941176470588236,
          23.58823529411765,
          22.41176470588235,
          16.294117647058822,
          23.176470588235293,
          18.235294117647058,
          18,
          19.058823529411764,
          26.11764705882353,
          17.058823529411764,
          18.647058823529413,
          19.941176470588236,
          25.294117647058822,
          22.294117647058822,
          18.823529411764707,
          18.11764705882353,
          23,
          21.294117647058822,
          14.529411764705882,
          16.235294117647058,
          35.64705882352941,
          25.294117647058822,
          23.294117647058822,
          18.941176470588236,
          26,
          25.823529411764707,
          17.294117647058822,
          null,
          24.529411764705884,
          26.176470588235293,
          23.235294117647058,
          23,
          21.529411764705884,
          24.352941176470587,
          20.764705882352942,
          16.941176470588236,
          24.529411764705884,
          23.88235294117647,
          22.294117647058822,
          20.470588235294116,
          32.76470588235294,
          16.941176470588236,
          16.529411764705884,
          20.235294117647058,
          23.41176470588235,
          23,
          19.764705882352942,
          17.764705882352942,
          24.470588235294116,
          21,
          19.41176470588235,
          15,
          28.294117647058822,
          20.58823529411765,
          17.058823529411764,
          12.411764705882353,
          null,
          25.235294117647058,
          22.11764705882353,
          16.470588235294116,
          25.470588235294116,
          22.294117647058822,
          22.058823529411764,
          21.88235294117647,
          24.647058823529413,
          21,
          27.11764705882353,
          22.88235294117647,
          23.352941176470587,
          24.235294117647058,
          17.58823529411765,
          14.705882352941176,
          30.176470588235293,
          22.176470588235293,
          19.352941176470587,
          21.88235294117647,
          22.235294117647058,
          19.11764705882353,
          20.235294117647058,
          12.823529411764707,
          22.41176470588235,
          19.11764705882353,
          14.294117647058824,
          14.294117647058824,
          18.176470588235293,
          23.88235294117647,
          21.11764705882353,
          12.470588235294118,
          23.176470588235293,
          23.294117647058822,
          21.705882352941178,
          null,
          32.94117647058823,
          27.88235294117647,
          20.764705882352942,
          20,
          32.1764705882353,
          23.647058823529413,
          23.88235294117647,
          16.88235294117647,
          22.352941176470587,
          18.352941176470587,
          18.88235294117647,
          11.352941176470589,
          30.470588235294116,
          21.58823529411765,
          16.058823529411764,
          16.647058823529413,
          22.058823529411764,
          21,
          15.941176470588236,
          18.941176470588236,
          25.58823529411765,
          20.764705882352942,
          22.941176470588236,
          20.941176470588236,
          21.529411764705884,
          25.941176470588236,
          24.11764705882353,
          20.235294117647058,
          25.823529411764707,
          23.176470588235293,
          23.176470588235293,
          null,
          19.647058823529413,
          22.823529411764707,
          21.294117647058822,
          16.529411764705884,
          24.352941176470587,
          22.58823529411765,
          20.058823529411764,
          11.529411764705882,
          18.235294117647058,
          17,
          17.941176470588236,
          17,
          25.11764705882353,
          20.470588235294116,
          21.176470588235293,
          15.176470588235293,
          17.941176470588236,
          23,
          21.647058823529413,
          14.411764705882353,
          24.470588235294116,
          22.823529411764707,
          20.823529411764707,
          17.058823529411764,
          26.705882352941178,
          19.176470588235293,
          11.588235294117647,
          17.294117647058822,
          21.235294117647058,
          25.235294117647058,
          23.647058823529413,
          null,
          27.647058823529413,
          27.11764705882353,
          19.235294117647058,
          15.411764705882353,
          30,
          21.352941176470587,
          18.529411764705884,
          14.352941176470589,
          22.058823529411764,
          19.41176470588235,
          16.470588235294116,
          10.294117647058824,
          20.294117647058822,
          24.11764705882353,
          23.823529411764707,
          19.764705882352942,
          20.41176470588235,
          22.647058823529413,
          12,
          13.647058823529411,
          22.058823529411764,
          22.176470588235293,
          21.529411764705884,
          17.764705882352942,
          25.823529411764707,
          21.764705882352942,
          15.470588235294118,
          17.11764705882353,
          25.11764705882353,
          24.470588235294116,
          21.294117647058822,
          null,
          22.294117647058822,
          22.058823529411764,
          24.647058823529413,
          15.764705882352942,
          24.352941176470587,
          23,
          21.235294117647058,
          27.235294117647058,
          25.11764705882353,
          19.941176470588236,
          17.294117647058822,
          13.647058823529411,
          34.64705882352941,
          14.823529411764707,
          15.764705882352942,
          15.705882352941176,
          23.11764705882353,
          23.647058823529413,
          22.352941176470587,
          16.176470588235293,
          26.470588235294116,
          24.176470588235293,
          17.705882352941178,
          22.294117647058822,
          24.235294117647058,
          18.823529411764707,
          13.294117647058824,
          16.647058823529413,
          26.764705882352942,
          21.941176470588236,
          null,
          19.764705882352942,
          25.58823529411765,
          21.470588235294116,
          20.352941176470587,
          19.647058823529413,
          19.647058823529413,
          15.705882352941176,
          22.294117647058822,
          15.235294117647058,
          23.11764705882353,
          23.764705882352942,
          12.882352941176471,
          15.470588235294118,
          22.647058823529413,
          18.58823529411765,
          17.647058823529413,
          15.294117647058824,
          20.764705882352942,
          21.941176470588236,
          20.764705882352942,
          14,
          25.11764705882353,
          19.058823529411764,
          21.823529411764707,
          15.705882352941176,
          28.941176470588236,
          19.470588235294116,
          18.764705882352942,
          9.882352941176471,
          23.41176470588235,
          25,
          20.88235294117647,
          null,
          25.11764705882353,
          17.705882352941178,
          16.58823529411765,
          17.941176470588236,
          24.294117647058822,
          15.882352941176471,
          17.176470588235293,
          12.411764705882353,
          19.705882352941178,
          21.58823529411765,
          17.529411764705884,
          18.470588235294116,
          22.294117647058822,
          18.705882352941178,
          15.941176470588236,
          14.117647058823529,
          24.764705882352942,
          22.88235294117647,
          15.588235294117647,
          13.647058823529411,
          25.823529411764707,
          21.235294117647058,
          17.58823529411765,
          15.294117647058824,
          23.235294117647058,
          23.705882352941178,
          24.58823529411765,
          17.058823529411764,
          24.823529411764707,
          null,
          19.11764705882353,
          18.235294117647058,
          15.294117647058824,
          18,
          14.941176470588236,
          17.529411764705884,
          17.647058823529413,
          23,
          20.647058823529413,
          13.823529411764707,
          26.58823529411765,
          21.352941176470587,
          18.294117647058822,
          14.058823529411764,
          25.705882352941178,
          19.58823529411765,
          23.235294117647058,
          16.176470588235293,
          21.88235294117647,
          18.647058823529413,
          22,
          16.235294117647058,
          30.705882352941178,
          15.352941176470589,
          18.176470588235293,
          20.235294117647058,
          26.235294117647058,
          22.41176470588235,
          28.41176470588235,
          18.823529411764707,
          22.705882352941178,
          17.823529411764707,
          17.235294117647058,
          null,
          24.941176470588236,
          23.823529411764707,
          17.41176470588235,
          13.588235294117647,
          20,
          20.470588235294116,
          20.88235294117647,
          17.705882352941178,
          21.823529411764707,
          18.764705882352942,
          16.705882352941178,
          15.235294117647058,
          20.470588235294116,
          18.294117647058822,
          14.294117647058824,
          16.647058823529413,
          23,
          20.352941176470587,
          17.647058823529413,
          14.941176470588236,
          26.294117647058822,
          25.58823529411765,
          16.235294117647058,
          15,
          28.470588235294116,
          22.41176470588235,
          15.882352941176471,
          18.41176470588235,
          22,
          17,
          null,
          14.294117647058824,
          26,
          24.470588235294116,
          16.647058823529413,
          15.882352941176471,
          19.11764705882353,
          20,
          17.705882352941178,
          17.58823529411765,
          26.294117647058822,
          23.764705882352942,
          22.58823529411765,
          13.235294117647058
         ],
         "yaxis": "y"
        }
       ],
       "layout": {
        "coloraxis": {
         "colorbar": {
          "title": {
           "text": "Season"
          }
         },
         "colorscale": [
          [
           0,
           "#0d0887"
          ],
          [
           0.1111111111111111,
           "#46039f"
          ],
          [
           0.2222222222222222,
           "#7201a8"
          ],
          [
           0.3333333333333333,
           "#9c179e"
          ],
          [
           0.4444444444444444,
           "#bd3786"
          ],
          [
           0.5555555555555556,
           "#d8576b"
          ],
          [
           0.6666666666666666,
           "#ed7953"
          ],
          [
           0.7777777777777778,
           "#fb9f3a"
          ],
          [
           0.8888888888888888,
           "#fdca26"
          ],
          [
           1,
           "#f0f921"
          ]
         ]
        },
        "legend": {
         "tracegroupgap": 0
        },
        "margin": {
         "t": 60
        },
        "template": {
         "data": {
          "bar": [
           {
            "error_x": {
             "color": "#2a3f5f"
            },
            "error_y": {
             "color": "#2a3f5f"
            },
            "marker": {
             "line": {
              "color": "#E5ECF6",
              "width": 0.5
             }
            },
            "type": "bar"
           }
          ],
          "barpolar": [
           {
            "marker": {
             "line": {
              "color": "#E5ECF6",
              "width": 0.5
             }
            },
            "type": "barpolar"
           }
          ],
          "carpet": [
           {
            "aaxis": {
             "endlinecolor": "#2a3f5f",
             "gridcolor": "white",
             "linecolor": "white",
             "minorgridcolor": "white",
             "startlinecolor": "#2a3f5f"
            },
            "baxis": {
             "endlinecolor": "#2a3f5f",
             "gridcolor": "white",
             "linecolor": "white",
             "minorgridcolor": "white",
             "startlinecolor": "#2a3f5f"
            },
            "type": "carpet"
           }
          ],
          "choropleth": [
           {
            "colorbar": {
             "outlinewidth": 0,
             "ticks": ""
            },
            "type": "choropleth"
           }
          ],
          "contour": [
           {
            "colorbar": {
             "outlinewidth": 0,
             "ticks": ""
            },
            "colorscale": [
             [
              0,
              "#0d0887"
             ],
             [
              0.1111111111111111,
              "#46039f"
             ],
             [
              0.2222222222222222,
              "#7201a8"
             ],
             [
              0.3333333333333333,
              "#9c179e"
             ],
             [
              0.4444444444444444,
              "#bd3786"
             ],
             [
              0.5555555555555556,
              "#d8576b"
             ],
             [
              0.6666666666666666,
              "#ed7953"
             ],
             [
              0.7777777777777778,
              "#fb9f3a"
             ],
             [
              0.8888888888888888,
              "#fdca26"
             ],
             [
              1,
              "#f0f921"
             ]
            ],
            "type": "contour"
           }
          ],
          "contourcarpet": [
           {
            "colorbar": {
             "outlinewidth": 0,
             "ticks": ""
            },
            "type": "contourcarpet"
           }
          ],
          "heatmap": [
           {
            "colorbar": {
             "outlinewidth": 0,
             "ticks": ""
            },
            "colorscale": [
             [
              0,
              "#0d0887"
             ],
             [
              0.1111111111111111,
              "#46039f"
             ],
             [
              0.2222222222222222,
              "#7201a8"
             ],
             [
              0.3333333333333333,
              "#9c179e"
             ],
             [
              0.4444444444444444,
              "#bd3786"
             ],
             [
              0.5555555555555556,
              "#d8576b"
             ],
             [
              0.6666666666666666,
              "#ed7953"
             ],
             [
              0.7777777777777778,
              "#fb9f3a"
             ],
             [
              0.8888888888888888,
              "#fdca26"
             ],
             [
              1,
              "#f0f921"
             ]
            ],
            "type": "heatmap"
           }
          ],
          "heatmapgl": [
           {
            "colorbar": {
             "outlinewidth": 0,
             "ticks": ""
            },
            "colorscale": [
             [
              0,
              "#0d0887"
             ],
             [
              0.1111111111111111,
              "#46039f"
             ],
             [
              0.2222222222222222,
              "#7201a8"
             ],
             [
              0.3333333333333333,
              "#9c179e"
             ],
             [
              0.4444444444444444,
              "#bd3786"
             ],
             [
              0.5555555555555556,
              "#d8576b"
             ],
             [
              0.6666666666666666,
              "#ed7953"
             ],
             [
              0.7777777777777778,
              "#fb9f3a"
             ],
             [
              0.8888888888888888,
              "#fdca26"
             ],
             [
              1,
              "#f0f921"
             ]
            ],
            "type": "heatmapgl"
           }
          ],
          "histogram": [
           {
            "marker": {
             "colorbar": {
              "outlinewidth": 0,
              "ticks": ""
             }
            },
            "type": "histogram"
           }
          ],
          "histogram2d": [
           {
            "colorbar": {
             "outlinewidth": 0,
             "ticks": ""
            },
            "colorscale": [
             [
              0,
              "#0d0887"
             ],
             [
              0.1111111111111111,
              "#46039f"
             ],
             [
              0.2222222222222222,
              "#7201a8"
             ],
             [
              0.3333333333333333,
              "#9c179e"
             ],
             [
              0.4444444444444444,
              "#bd3786"
             ],
             [
              0.5555555555555556,
              "#d8576b"
             ],
             [
              0.6666666666666666,
              "#ed7953"
             ],
             [
              0.7777777777777778,
              "#fb9f3a"
             ],
             [
              0.8888888888888888,
              "#fdca26"
             ],
             [
              1,
              "#f0f921"
             ]
            ],
            "type": "histogram2d"
           }
          ],
          "histogram2dcontour": [
           {
            "colorbar": {
             "outlinewidth": 0,
             "ticks": ""
            },
            "colorscale": [
             [
              0,
              "#0d0887"
             ],
             [
              0.1111111111111111,
              "#46039f"
             ],
             [
              0.2222222222222222,
              "#7201a8"
             ],
             [
              0.3333333333333333,
              "#9c179e"
             ],
             [
              0.4444444444444444,
              "#bd3786"
             ],
             [
              0.5555555555555556,
              "#d8576b"
             ],
             [
              0.6666666666666666,
              "#ed7953"
             ],
             [
              0.7777777777777778,
              "#fb9f3a"
             ],
             [
              0.8888888888888888,
              "#fdca26"
             ],
             [
              1,
              "#f0f921"
             ]
            ],
            "type": "histogram2dcontour"
           }
          ],
          "mesh3d": [
           {
            "colorbar": {
             "outlinewidth": 0,
             "ticks": ""
            },
            "type": "mesh3d"
           }
          ],
          "parcoords": [
           {
            "line": {
             "colorbar": {
              "outlinewidth": 0,
              "ticks": ""
             }
            },
            "type": "parcoords"
           }
          ],
          "pie": [
           {
            "automargin": true,
            "type": "pie"
           }
          ],
          "scatter": [
           {
            "marker": {
             "colorbar": {
              "outlinewidth": 0,
              "ticks": ""
             }
            },
            "type": "scatter"
           }
          ],
          "scatter3d": [
           {
            "line": {
             "colorbar": {
              "outlinewidth": 0,
              "ticks": ""
             }
            },
            "marker": {
             "colorbar": {
              "outlinewidth": 0,
              "ticks": ""
             }
            },
            "type": "scatter3d"
           }
          ],
          "scattercarpet": [
           {
            "marker": {
             "colorbar": {
              "outlinewidth": 0,
              "ticks": ""
             }
            },
            "type": "scattercarpet"
           }
          ],
          "scattergeo": [
           {
            "marker": {
             "colorbar": {
              "outlinewidth": 0,
              "ticks": ""
             }
            },
            "type": "scattergeo"
           }
          ],
          "scattergl": [
           {
            "marker": {
             "colorbar": {
              "outlinewidth": 0,
              "ticks": ""
             }
            },
            "type": "scattergl"
           }
          ],
          "scattermapbox": [
           {
            "marker": {
             "colorbar": {
              "outlinewidth": 0,
              "ticks": ""
             }
            },
            "type": "scattermapbox"
           }
          ],
          "scatterpolar": [
           {
            "marker": {
             "colorbar": {
              "outlinewidth": 0,
              "ticks": ""
             }
            },
            "type": "scatterpolar"
           }
          ],
          "scatterpolargl": [
           {
            "marker": {
             "colorbar": {
              "outlinewidth": 0,
              "ticks": ""
             }
            },
            "type": "scatterpolargl"
           }
          ],
          "scatterternary": [
           {
            "marker": {
             "colorbar": {
              "outlinewidth": 0,
              "ticks": ""
             }
            },
            "type": "scatterternary"
           }
          ],
          "surface": [
           {
            "colorbar": {
             "outlinewidth": 0,
             "ticks": ""
            },
            "colorscale": [
             [
              0,
              "#0d0887"
             ],
             [
              0.1111111111111111,
              "#46039f"
             ],
             [
              0.2222222222222222,
              "#7201a8"
             ],
             [
              0.3333333333333333,
              "#9c179e"
             ],
             [
              0.4444444444444444,
              "#bd3786"
             ],
             [
              0.5555555555555556,
              "#d8576b"
             ],
             [
              0.6666666666666666,
              "#ed7953"
             ],
             [
              0.7777777777777778,
              "#fb9f3a"
             ],
             [
              0.8888888888888888,
              "#fdca26"
             ],
             [
              1,
              "#f0f921"
             ]
            ],
            "type": "surface"
           }
          ],
          "table": [
           {
            "cells": {
             "fill": {
              "color": "#EBF0F8"
             },
             "line": {
              "color": "white"
             }
            },
            "header": {
             "fill": {
              "color": "#C8D4E3"
             },
             "line": {
              "color": "white"
             }
            },
            "type": "table"
           }
          ]
         },
         "layout": {
          "annotationdefaults": {
           "arrowcolor": "#2a3f5f",
           "arrowhead": 0,
           "arrowwidth": 1
          },
          "autotypenumbers": "strict",
          "coloraxis": {
           "colorbar": {
            "outlinewidth": 0,
            "ticks": ""
           }
          },
          "colorscale": {
           "diverging": [
            [
             0,
             "#8e0152"
            ],
            [
             0.1,
             "#c51b7d"
            ],
            [
             0.2,
             "#de77ae"
            ],
            [
             0.3,
             "#f1b6da"
            ],
            [
             0.4,
             "#fde0ef"
            ],
            [
             0.5,
             "#f7f7f7"
            ],
            [
             0.6,
             "#e6f5d0"
            ],
            [
             0.7,
             "#b8e186"
            ],
            [
             0.8,
             "#7fbc41"
            ],
            [
             0.9,
             "#4d9221"
            ],
            [
             1,
             "#276419"
            ]
           ],
           "sequential": [
            [
             0,
             "#0d0887"
            ],
            [
             0.1111111111111111,
             "#46039f"
            ],
            [
             0.2222222222222222,
             "#7201a8"
            ],
            [
             0.3333333333333333,
             "#9c179e"
            ],
            [
             0.4444444444444444,
             "#bd3786"
            ],
            [
             0.5555555555555556,
             "#d8576b"
            ],
            [
             0.6666666666666666,
             "#ed7953"
            ],
            [
             0.7777777777777778,
             "#fb9f3a"
            ],
            [
             0.8888888888888888,
             "#fdca26"
            ],
            [
             1,
             "#f0f921"
            ]
           ],
           "sequentialminus": [
            [
             0,
             "#0d0887"
            ],
            [
             0.1111111111111111,
             "#46039f"
            ],
            [
             0.2222222222222222,
             "#7201a8"
            ],
            [
             0.3333333333333333,
             "#9c179e"
            ],
            [
             0.4444444444444444,
             "#bd3786"
            ],
            [
             0.5555555555555556,
             "#d8576b"
            ],
            [
             0.6666666666666666,
             "#ed7953"
            ],
            [
             0.7777777777777778,
             "#fb9f3a"
            ],
            [
             0.8888888888888888,
             "#fdca26"
            ],
            [
             1,
             "#f0f921"
            ]
           ]
          },
          "colorway": [
           "#636efa",
           "#EF553B",
           "#00cc96",
           "#ab63fa",
           "#FFA15A",
           "#19d3f3",
           "#FF6692",
           "#B6E880",
           "#FF97FF",
           "#FECB52"
          ],
          "font": {
           "color": "#2a3f5f"
          },
          "geo": {
           "bgcolor": "white",
           "lakecolor": "white",
           "landcolor": "#E5ECF6",
           "showlakes": true,
           "showland": true,
           "subunitcolor": "white"
          },
          "hoverlabel": {
           "align": "left"
          },
          "hovermode": "closest",
          "mapbox": {
           "style": "light"
          },
          "paper_bgcolor": "white",
          "plot_bgcolor": "#E5ECF6",
          "polar": {
           "angularaxis": {
            "gridcolor": "white",
            "linecolor": "white",
            "ticks": ""
           },
           "bgcolor": "#E5ECF6",
           "radialaxis": {
            "gridcolor": "white",
            "linecolor": "white",
            "ticks": ""
           }
          },
          "scene": {
           "xaxis": {
            "backgroundcolor": "#E5ECF6",
            "gridcolor": "white",
            "gridwidth": 2,
            "linecolor": "white",
            "showbackground": true,
            "ticks": "",
            "zerolinecolor": "white"
           },
           "yaxis": {
            "backgroundcolor": "#E5ECF6",
            "gridcolor": "white",
            "gridwidth": 2,
            "linecolor": "white",
            "showbackground": true,
            "ticks": "",
            "zerolinecolor": "white"
           },
           "zaxis": {
            "backgroundcolor": "#E5ECF6",
            "gridcolor": "white",
            "gridwidth": 2,
            "linecolor": "white",
            "showbackground": true,
            "ticks": "",
            "zerolinecolor": "white"
           }
          },
          "shapedefaults": {
           "line": {
            "color": "#2a3f5f"
           }
          },
          "ternary": {
           "aaxis": {
            "gridcolor": "white",
            "linecolor": "white",
            "ticks": ""
           },
           "baxis": {
            "gridcolor": "white",
            "linecolor": "white",
            "ticks": ""
           },
           "bgcolor": "#E5ECF6",
           "caxis": {
            "gridcolor": "white",
            "linecolor": "white",
            "ticks": ""
           }
          },
          "title": {
           "x": 0.05
          },
          "xaxis": {
           "automargin": true,
           "gridcolor": "white",
           "linecolor": "white",
           "ticks": "",
           "title": {
            "standoff": 15
           },
           "zerolinecolor": "white",
           "zerolinewidth": 2
          },
          "yaxis": {
           "automargin": true,
           "gridcolor": "white",
           "linecolor": "white",
           "ticks": "",
           "title": {
            "standoff": 15
           },
           "zerolinecolor": "white",
           "zerolinewidth": 2
          }
         }
        },
        "xaxis": {
         "anchor": "y",
         "domain": [
          0,
          1
         ],
         "title": {
          "text": "YPG"
         }
        },
        "yaxis": {
         "anchor": "x",
         "domain": [
          0,
          1
         ],
         "title": {
          "text": "PPG"
         }
        }
       }
      },
      "text/html": [
       "<div>                            <div id=\"31c66da4-c7f3-423a-bc63-bfde4d8eaf89\" class=\"plotly-graph-div\" style=\"height:525px; width:100%;\"></div>            <script type=\"text/javascript\">                require([\"plotly\"], function(Plotly) {                    window.PLOTLYENV=window.PLOTLYENV || {};                                    if (document.getElementById(\"31c66da4-c7f3-423a-bc63-bfde4d8eaf89\")) {                    Plotly.newPlot(                        \"31c66da4-c7f3-423a-bc63-bfde4d8eaf89\",                        [{\"customdata\": [[\"Buffalo Bills\", 2021], [\"New England Patriots\", 2021], [\"Miami Dolphins\", 2021], [\"New York Jets\", 2021], [\"Cincinnati Bengals\", 2021], [\"Pittsburgh Steelers\", 2021], [\"Cleveland Browns\", 2021], [\"Baltimore Ravens\", 2021], [\"Tennessee Titans\", 2021], [\"Indianapolis Colts\", 2021], [\"Houston Texans\", 2021], [\"Jacksonville Jaguars\", 2021], [\"Kansas City Chiefs\", 2021], [\"Las Vegas Raiders\", 2021], [\"Los Angeles Chargers\", 2021], [\"Denver Broncos\", 2021], [\"Dallas Cowboys\", 2021], [\"Philadelphia Eagles\", 2021], [\"Washignton Commanders\", 2021], [\"New York Giants\", 2021], [\"Green Bay Packers\", 2021], [\"Minnesota Vikings\", 2021], [\"Chicago Bears\", 2021], [\"Detroit Lions\", 2021], [\"Tampa Bay Buccaneers\", 2021], [\"New Orleans Saints\", 2021], [\"Atlanta Falcons\", 2021], [\"Carolina Panthers\", 2021], [\"Los Angeles Rams\", 2021], [\"Arizona Cardinals\", 2021], [\"San Francisco 49ers\", 2021], [\"Seattle Seahawks\", 2021], [\"Buffalo Bills\", 2020], [\"Miami Dolphins\", 2020], [\"New England Patriots\", 2020], [\"New York Jets\", 2020], [\"Pittsburgh Steelers\", 2020], [\"Baltimore Ravens\", 2020], [\"Cleveland Browns\", 2020], [\"Cincinnati Bengals\", 2020], [\"Tennessee Titans\", 2020], [\"Indianapolis Colts\", 2020], [\"Houston Texans\", 2020], [\"Jacksonville Jaguars\", 2020], [\"Kansas City Chiefs\", 2020], [\"Las Vegas Raiders\", 2020], [\"Los Angeles Chargers\", 2020], [\"Denver Broncos\", 2020], [\"Washignton Commanders\", 2020], [\"New York Giants\", 2020], [\"Dallas Cowboys\", 2020], [\"Philadelphia Eagles\", 2020], [\"Green Bay Packers\", 2020], [\"Chicago Bears\", 2020], [\"Minnesota Vikings\", 2020], [\"Detroit Lions\", 2020], [\"New Orleans Saints\", 2020], [\"Tampa Bay Buccaneers\", 2020], [\"Carolina Panthers\", 2020], [\"Atlanta Falcons\", 2020], [\"Seattle Seahawks\", 2020], [\"Los Angeles Rams\", 2020], [\"Arizona Cardinals\", 2020], [\"San Francisco 49ers\", 2020], [\"New England Patriots\", 2019], [\"Buffalo Bills\", 2019], [\"New York Jets\", 2019], [\"Miami Dolphins\", 2019], [\"Baltimore Ravens\", 2019], [\"Pittsburgh Steelers\", 2019], [\"Cleveland Browns\", 2019], [\"Cincinnati Bengals\", 2019], [\"Houston Texans\", 2019], [\"Tennessee Titans\", 2019], [\"Indianapolis Colts\", 2019], [\"Jacksonville Jaguars\", 2019], [\"Kansas City Chiefs\", 2019], [\"Denver Broncos\", 2019], [\"Las Vegas Raiders\", 2019], [\"Los Angeles Chargers\", 2019], [\"Philadelphia Eagles\", 2019], [\"Dallas Cowboys\", 2019], [\"New York Giants\", 2019], [\"Washington Commanders\", 2019], [\"Green Bay Packers\", 2019], [\"Minnesota Vikings\", 2019], [\"Chicago Bears\", 2019], [\"Detroit Lions\", 2019], [\"New Orleans Saints\", 2019], [\"Atlanta Falcons\", 2019], [\"Tampa Bay Buccaneers\", 2019], [\"Carolina Panthers\", 2019], [\"San Francisco 49ers\", 2019], [\"Seattle Seahawks\", 2019], [\"Los Angeles Rams\", 2019], [\"Arizona Cardinals\", 2019], [\"New England Patriots\", 2018], [\"Miami Dolphins\", 2018], [\"Buffalo Bills\", 2018], [\"New York Jets\", 2018], [\"Baltimore Ravens\", 2018], [\"Pittsburgh Steelers\", 2018], [\"Cleveland Browns\", 2018], [\"Cincinnati Bengals\", 2018], [\"Houston Texans\", 2018], [\"Indianapolis Colts\", 2018], [\"Tennessee Titans\", 2018], [\"Jacksonville Jaguars\", 2018], [\"Kansas City Chiefs\", 2018], [\"Los Angeles Chargers\", 2018], [\"Denver Broncos\", 2018], [\"Las Vegas Raiders\", 2018], [\"Dallas Cowboys\", 2018], [\"Philadelphia Eagles\", 2018], [\"Washington Commanders\", 2018], [\"New York Giants\", 2018], [\"Chicago Bears\", 2018], [\"Minnesota Vikings\", 2018], [\"Green Bay Packers\", 2018], [\"Detroit Lions\", 2018], [\"New Orleans Saints\", 2018], [\"Atlanta Falcons\", 2018], [\"Carolina Panthers\", 2018], [\"Tampa Bay Buccaneers\", 2018], [\"Los Angeles Rams\", 2018], [\"Seattle Seahawks\", 2018], [\"San Francisco 49ers\", 2018], [\"Arizona Cardinals\", 2018], [\"New England Patriots\", 2017], [\"Buffalo Bills\", 2017], [\"Miami Dolphins\", 2017], [\"New York Jets\", 2017], [\"Pittsburgh Steelers\", 2017], [\"Baltimore Ravens\", 2017], [\"Cincinnati Bengals\", 2017], [\"Cleveland Browns\", 2017], [\"Jacksonville Jaguars\", 2017], [\"Tennessee Titans\", 2017], [\"Indianapolis Colts\", 2017], [\"Houston Texans\", 2017], [\"Kansas City Chiefs\", 2017], [\"Los Angeles Chargers\", 2017], [\"Las Vegas Raiders\", 2017], [\"Denver Broncos\", 2017], [\"Philadelphia Eagles\", 2017], [\"Dallas Cowboys\", 2017], [\"Washington Commanders\", 2017], [\"New York Giants\", 2017], [\"Minnesota Vikings\", 2017], [\"Detroit Lions\", 2017], [\"Green Bay Packers\", 2017], [\"Chicago Bears\", 2017], [\"New Orleans Saints\", 2017], [\"Carolina Panthers\", 2017], [\"Atlanta Falcons\", 2017], [\"Tampa Bay Buccaneers\", 2017], [\"Los Angeles Rams\", 2017], [\"Seattle Seahawks\", 2017], [\"Arizona Cardinals\", 2017], [\"San Francisco 49ers\", 2017], [\"New England Patriots\", 2016], [\"Miami Dolphins\", 2016], [\"Buffalo Bills\", 2016], [\"New York Jets\", 2016], [\"Pittsburgh Steelers\", 2016], [\"Baltimore Ravens\", 2016], [\"Cincinnati Bengals\", 2016], [\"Cleveland Browns\", 2016], [\"Houston Texans\", 2016], [\"Tennessee Titans\", 2016], [\"Indianapolis Colts\", 2016], [\"Jacksonville Jaguars\", 2016], [\"Kansas City Chiefs\", 2016], [\"Las Vegas Raiders\", 2016], [\"Denver Broncos\", 2016], [\"Los Angeles Chargers\", 2016], [\"Dallas Cowboys\", 2016], [\"New York Giants\", 2016], [\"Washington Commanders\", 2016], [\"Philadelphia Eagles\", 2016], [\"Green Bay Packers\", 2016], [\"Detroit Lions\", 2016], [\"Minnesota Vikings\", 2016], [\"Chicago Bears\", 2016], [\"Atlanta Falcons\", 2016], [\"Tampa Bay Buccaneers\", 2016], [\"New Orleans Saints\", 2016], [\"Carolina Panthers\", 2016], [\"Seattle Seahawks\", 2016], [\"Arizona Cardinals\", 2016], [\"Los Angeles Rams\", 2016], [\"San Francisco 49ers\", 2016], [\"New England Patriots\", 2015], [\"New York Jets\", 2015], [\"Buffalo Bills\", 2015], [\"Miami Dolphins\", 2015], [\"Cincinnati Bengals\", 2015], [\"Pittsburgh Steelers\", 2015], [\"Baltimore Ravens\", 2015], [\"Cleveland Browns\", 2015], [\"Houston Texans\", 2015], [\"Indianapolis Colts\", 2015], [\"Jacksonville Jaguars\", 2015], [\"Tennessee Titans\", 2015], [\"Denver Broncos\", 2015], [\"Kansas City Chiefs\", 2015], [\"Las Vegas Raiders\", 2015], [\"Los Angeles Chargers\", 2015], [\"Washington Commanders\", 2015], [\"Philadelphia Eagles\", 2015], [\"New York Giants\", 2015], [\"Dallas Cowboys\", 2015], [\"Minnesota Vikings\", 2015], [\"Green Bay Packers\", 2015], [\"Detroit Lions\", 2015], [\"Chicago Bears\", 2015], [\"Carolina Panthers\", 2015], [\"Atlanta Falcons\", 2015], [\"New Orleans Saints\", 2015], [\"Tampa Bay Buccaneers\", 2015], [\"Arizona Cardinals\", 2015], [\"Seattle Seahawks\", 2015], [\"Los Angeles Rams\", 2015], [\"San Francisco 49ers\", 2015], [\"New England Patriots\", 2014], [\"Buffalo Bills\", 2014], [\"Miami Dolphins\", 2014], [\"New York Jets\", 2014], [\"Pittsburgh Steelers\", 2014], [\"Cincinnati Bengals\", 2014], [\"Baltimore Ravens\", 2014], [\"Cleveland Browns\", 2014], [\"Indianapolis Colts\", 2014], [\"Houston Texans\", 2014], [\"Jacksonville Jaguars\", 2014], [\"Tennessee Titans\", 2014], [\"Denver Broncos\", 2014], [\"Kansas City Chiefs\", 2014], [\"Los Angeles Chargers\", 2014], [\"Las Vegas Raiders\", 2014], [\"Dallas Cowboys\", 2014], [\"Philadelphia Eagles\", 2014], [\"New York Giants\", 2014], [\"Washington Commanders\", 2014], [\"Green Bay Packers\", 2014], [\"Detroit Lions\", 2014], [\"Minnesota Vikings\", 2014], [\"Chicago Bears\", 2014], [\"Carolina Panthers\", 2014], [\"New Orleans Saints\", 2014], [\"Atlanta Falcons\", 2014], [\"Tampa Bay Buccaneers\", 2014], [\"Seattle Seahawks\", 2014], [\"Arizona Cardinals\", 2014], [\"San Francisco 49ers\", 2014], [\"Los Angeles Rams\", 2014], [\"New England Patriots\", 2013], [\"New York Jets\", 2013], [\"Miami Dolphins\", 2013], [\"Buffalo Bills\", 2013], [\"Cincinnati Bengals\", 2013], [\"Pittsburgh Steelers\", 2013], [\"Baltimore Ravens\", 2013], [\"Cleveland Browns\", 2013], [\"Indianapolis Colts\", 2013], [\"Tennessee Titans\", 2013], [\"Jacksonville Jaguars\", 2013], [\"Houston Texans\", 2013], [\"Denver Broncos\", 2013], [\"Kansas City Chiefs\", 2013], [\"Los Angeles Chargers\", 2013], [\"Las Vegas Raiders\", 2013], [\"Philadelphia Eagles\", 2013], [\"Dallas Cowboys\", 2013], [\"New York Giants\", 2013], [\"Washington Commanders\", 2013], [\"Green Bay Packers\", 2013], [\"Chicago Bears\", 2013], [\"Detroit Lions\", 2013], [\"Minnesota Vikings\", 2013], [\"Carolina Panthers\", 2013], [\"New Orleans Saints\", 2013], [\"Atlanta Falcons\", 2013], [\"Tampa Bay Buccaneers\", 2013], [\"Seattle Seahawks\", 2013], [\"San Francisco 49ers\", 2013], [\"Arizona Cardinals\", 2013], [\"Los Angeles Rams\", 2013], [\"New England Patriots\", 2012], [\"Miami Dolphins\", 2012], [\"New York Jets\", 2012], [\"Buffalo Bills\", 2012], [\"Baltimore Ravens\", 2012], [\"Cincinnati Bengals\", 2012], [\"Pittsburgh Steelers\", 2012], [\"Cleveland Browns\", 2012], [\"Houston Texans\", 2012], [\"Indianapolis Colts\", 2012], [\"Tennessee Titans\", 2012], [\"Jacksonville Jaguars\", 2012], [\"Denver Broncos\", 2012], [\"Los Angeles Chargers\", 2012], [\"Las Vegas Raiders\", 2012], [\"Kansas City Chiefs\", 2012], [\"Washington Commanders\", 2012], [\"New York Giants\", 2012], [\"Dallas Cowboys\", 2012], [\"Philadelphia Eagles\", 2012], [\"Green Bay Packers\", 2012], [\"Minnesota Vikings\", 2012], [\"Chicago Bears\", 2012], [\"Detroit Lions\", 2012], [\"Atlanta Falcons\", 2012], [\"Carolina Panthers\", 2012], [\"New Orleans Saints\", 2012], [\"Tampa Bay Buccaneers\", 2012], [\"San Francisco 49ers\", 2012], [\"Seattle Seahawks\", 2012], [\"Los Angeles Rams\", 2012], [\"Arizona Cardinals\", 2012], [\"New England Patriots\", 2011], [\"New York Jets\", 2011], [\"Miami Dolphins\", 2011], [\"Buffalo Bills\", 2011], [\"Baltimore Ravens\", 2011], [\"Pittsburgh Steelers\", 2011], [\"Cincinnati Bengals\", 2011], [\"Cleveland Browns\", 2011], [\"Houston Texans\", 2011], [\"Tennessee Titans\", 2011], [\"Jacksonville Jaguars\", 2011], [\"Indianapolis Colts\", 2011], [\"Denver Broncos\", 2011], [\"Los Angeles Chargers\", 2011], [\"Las Vegas Raiders\", 2011], [\"Kansas City Chiefs\", 2011], [\"New York Giants\", 2011], [\"Philadelphia Eagles\", 2011], [\"Dallas Cowboys\", 2011], [\"Washington Commanders\", 2011], [\"Green Bay Packers\", 2011], [\"Detroit Lions\", 2011], [\"Chicago Bears\", 2011], [\"Minnesota Vikings\", 2011], [\"New Orleans Saints\", 2011], [\"Atlanta Falcons\", 2011], [\"Carolina Panthers\", 2011], [\"Tampa Bay Buccaneers\", 2011], [\"San Francisco 49ers\", 2011], [\"Arizona Cardinals\", 2011], [\"Seattle Seahawks\", 2011], [\"Los Angeles Rams\", 2011], [\"New England Patriots\", 2010], [\"New York Jets\", 2010], [\"Miami Dolphins\", 2010], [\"Buffalo Bills\", 2010], [\"Pittsburgh Steelers\", 2010], [\"Baltimore Ravens\", 2010], [\"Cleveland Browns\", 2010], [\"Cincinnati Bengals\", 2010], [\"Indianapolis Colts\", 2010], [\"Jacksonville Jaguars\", 2010], [\"Houston Texans\", 2010], [\"Tennessee Titans\", 2010], [\"Kansas City Chiefs\", 2010], [\"Los Angeles Chargers\", 2010], [\"Las Vegas Raiders\", 2010], [\"Denver Broncos\", 2010], [\"Philadelphia Eagles\", 2010], [\"New York Giants\", 2010], [\"Dallas Cowboys\", 2010], [\"Washington Commanders\", 2010], [\"Chicago Bears\", 2010], [\"Green Bay Packers\", 2010], [\"Detroit Lions\", 2010], [\"Minnesota Vikings\", 2010], [\"Atlanta Falcons\", 2010], [\"New Orleans Saints\", 2010], [\"Tampa Bay Buccaneers\", 2010], [\"Carolina Panthers\", 2010], [\"Seattle Seahawks\", 2010], [\"Los Angeles Rams\", 2010], [\"San Francisco 49ers\", 2010], [\"Arizona Cardinals\", 2010], [\"New England Patriots\", 2009], [\"New York Jets\", 2009], [\"Miami Dolphins\", 2009], [\"Buffalo Bills\", 2009], [\"Cincinnati Bengals\", 2009], [\"Baltimore Ravens\", 2009], [\"Pittsburgh Steelers\", 2009], [\"Cleveland Browns\", 2009], [\"Indianapolis Colts\", 2009], [\"Houston Texans\", 2009], [\"Tennessee Titans\", 2009], [\"Jacksonville Jaguars\", 2009], [\"Los Angeles Chargers\", 2009], [\"Denver Broncos\", 2009], [\"Las Vegas Raiders\", 2009], [\"Kansas City Chiefs\", 2009], [\"Dallas Cowboys\", 2009], [\"Philadelphia Eagles\", 2009], [\"New York Giants\", 2009], [\"Washington Commanders\", 2009], [\"Minnesota Vikings\", 2009], [\"Green Bay Packers\", 2009], [\"Chicago Bears\", 2009], [\"Detroit Lions\", 2009], [\"New Orleans Saints\", 2009], [\"Atlanta Falcons\", 2009], [\"Carolina Panthers\", 2009], [\"Tampa Bay Buccaneers\", 2009], [\"Arizona Cardinals\", 2009], [\"San Francisco 49ers\", 2009], [\"Seattle Seahawks\", 2009], [\"Los Angeles Rams\", 2009], [\"Miami Dolphins\", 2008], [\"New England Patriots\", 2008], [\"New York Jets\", 2008], [\"Buffalo Bills\", 2008], [\"Pittsburgh Steelers\", 2008], [\"Baltimore Ravens\", 2008], [\"Cincinnati Bengals\", 2008], [\"Cleveland Browns\", 2008], [\"Tennessee Titans\", 2008], [\"Indianapolis Colts\", 2008], [\"Houston Texans\", 2008], [\"Jacksonville Jaguars\", 2008], [\"Los Angeles Chargers\", 2008], [\"Denver Broncos\", 2008], [\"Las Vegas Raiders\", 2008], [\"Kansas City Chiefs\", 2008], [\"New York Giants\", 2008], [\"Philadelphia Eagles\", 2008], [\"Dallas Cowboys\", 2008], [\"Washington Commanders\", 2008], [\"Minnesota Vikings\", 2008], [\"Chicago Bears\", 2008], [\"Green Bay Packers\", 2008], [\"Detroit Lions\", 2008], [\"Carolina Panthers\", 2008], [\"Atlanta Falcons\", 2008], [\"Tampa Bay Buccaneers\", 2008], [\"New Orleans Saints\", 2008], [\"Arizona Cardinals\", 2008], [\"San Francisco 49ers\", 2008], [\"Seattle Seahawks\", 2008], [\"Los Angeles Rams\", 2008], [\"New England Patriots\", 2007], [\"Buffalo Bills\", 2007], [\"New York Jets\", 2007], [\"Miami Dolphins\", 2007], [\"Pittsburgh Steelers\", 2007], [\"Cleveland Browns\", 2007], [\"Cincinnati Bengals\", 2007], [\"Baltimore Ravens\", 2007], [\"Indianapolis Colts\", 2007], [\"Jacksonville Jaguars\", 2007], [\"Tennessee Titans\", 2007], [\"Houston Texans\", 2007], [\"Los Angeles Chargers\", 2007], [\"Denver Broncos\", 2007], [\"Kansas City Chiefs\", 2007], [\"Las Vegas Raiders\", 2007], [\"Dallas Cowboys\", 2007], [\"New York Giants\", 2007], [\"Washington Commanders\", 2007], [\"Philadelphia Eagles\", 2007], [\"Green Bay Packers\", 2007], [\"Minnesota Vikings\", 2007], [\"Detroit Lions\", 2007], [\"Chicago Bears\", 2007], [\"Tampa Bay Buccaneers\", 2007], [\"Carolina Panthers\", 2007], [\"New Orleans Saints\", 2007], [\"Atlanta Falcons\", 2007], [\"Seattle Seahawks\", 2007], [\"Arizona Cardinals\", 2007], [\"San Francisco 49ers\", 2007], [\"Los Angeles Rams\", 2007], [\"New England Patriots\", 2006], [\"New York Jets\", 2006], [\"Buffalo Bills\", 2006], [\"Miami Dolphins\", 2006], [\"Baltimore Ravens\", 2006], [\"Cincinnati Bengals\", 2006], [\"Pittsburgh Steelers\", 2006], [\"Cleveland Browns\", 2006], [\"Indianapolis Colts\", 2006], [\"Tennessee Titans\", 2006], [\"Jacksonville Jaguars\", 2006], [\"Houston Texans\", 2006], [\"Los Angeles Chargers\", 2006], [\"Kansas City Chiefs\", 2006], [\"Denver Broncos\", 2006], [\"Las Vegas Raiders\", 2006], [\"Philadelphia Eagles\", 2006], [\"Dallas Cowboys\", 2006], [\"New York Giants\", 2006], [\"Washington Commanders\", 2006], [\"Chicago Bears\", 2006], [\"Green Bay Packers\", 2006], [\"Minnesota Vikings\", 2006], [\"Detroit Lions\", 2006], [\"New Orleans Saints\", 2006], [\"Carolina Panthers\", 2006], [\"Atlanta Falcons\", 2006], [\"Tampa Bay Buccaneers\", 2006], [\"Seattle Seahawks\", 2006], [\"Los Angeles Rams\", 2006], [\"San Francisco 49ers\", 2006], [\"Arizona Cardinals\", 2006], [\"New England Patriots\", 2005], [\"Miami Dolphins\", 2005], [\"Buffalo Bills\", 2005], [\"New York Jets\", 2005], [\"Cincinnati Bengals\", 2005], [\"Pittsburgh Steelers\", 2005], [\"Baltimore Ravens\", 2005], [\"Cleveland Browns\", 2005], [\"Indianapolis Colts\", 2005], [\"Jacksonville Jaguars\", 2005], [\"Tennessee Titans\", 2005], [\"Houston Texans\", 2005], [\"Denver Broncos\", 2005], [\"Kansas City Chiefs\", 2005], [\"Los Angeles Chargers\", 2005], [\"Las Vegas Raiders\", 2005], [\"New York Giants\", 2005], [\"Washington Commanders\", 2005], [\"Dallas Cowboys\", 2005], [\"Philadelphia Eagles\", 2005], [\"Chicago Bears\", 2005], [\"Minnesota Vikings\", 2005], [\"Detroit Lions\", 2005], [\"Green Bay Packers\", 2005], [\"Tampa Bay Buccaneers\", 2005], [\"Carolina Panthers\", 2005], [\"Atlanta Falcons\", 2005], [\"New Orleans Saints\", 2005], [\"Seattle Seahawks\", 2005], [\"Los Angeles Rams\", 2005], [\"Arizona Cardinals\", 2005], [\"San Francisco 49ers\", 2005], [\"New England Patriots\", 2004], [\"New York Jets\", 2004], [\"Buffalo Bills\", 2004], [\"Miami Dolphins\", 2004], [\"Pittsburgh Steelers\", 2004], [\"Baltimore Ravens\", 2004], [\"Cincinnati Bengals\", 2004], [\"Cleveland Browns\", 2004], [\"Indianapolis Colts\", 2004], [\"Jacksonville Jaguars\", 2004], [\"Houston Texans\", 2004], [\"Tennessee Titans\", 2004], [\"Los Angeles Chargers\", 2004], [\"Denver Broncos\", 2004], [\"Kansas City Chiefs\", 2004], [\"Las Vegas Raiders\", 2004], [\"Philadelphia Eagles\", 2004], [\"New York Giants\", 2004], [\"Dallas Cowboys\", 2004], [\"Washington Commanders\", 2004], [\"Green Bay Packers\", 2004], [\"Minnesota Vikings\", 2004], [\"Detroit Lions\", 2004], [\"Chicago Bears\", 2004], [\"Atlanta Falcons\", 2004], [\"New Orleans Saints\", 2004], [\"Carolina Panthers\", 2004], [\"Tampa Bay Buccaneers\", 2004], [\"Seattle Seahawks\", 2004], [\"Los Angeles Rams\", 2004], [\"Arizona Cardinals\", 2004], [\"San Francisco 49ers\", 2004], [\"New England Patriots\", 2003], [\"Miami Dolphins\", 2003], [\"Buffalo Bills\", 2003], [\"New York Jets\", 2003], [\"Baltimore Ravens\", 2003], [\"Cincinnati Bengals\", 2003], [\"Pittsburgh Steelers\", 2003], [\"Cleveland Browns\", 2003], [\"Indianapolis Colts\", 2003], [\"Tennessee Titans\", 2003], [\"Jacksonville Jaguars\", 2003], [\"Houston Texans\", 2003], [\"Kansas City Chiefs\", 2003], [\"Denver Broncos\", 2003], [\"Las Vegas Raiders\", 2003], [\"Los Angeles Chargers\", 2003], [\"Philadelphia Eagles\", 2003], [\"Dallas Cowboys\", 2003], [\"Washington Commanders\", 2003], [\"New York Giants\", 2003], [\"Green Bay Packers\", 2003], [\"Minnesota Vikings\", 2003], [\"Chicago Bears\", 2003], [\"Detroit Lions\", 2003], [\"Carolina Panthers\", 2003], [\"New Orleans Saints\", 2003], [\"Tampa Bay Buccaneers\", 2003], [\"Atlanta Falcons\", 2003], [\"Los Angeles Rams\", 2003], [\"Seattle Seahawks\", 2003], [\"San Francisco 49ers\", 2003], [\"Arizona Cardinals\", 2003]], \"hovertemplate\": \"YPG=%{x}<br>PPG=%{y}<br>Tm=%{customdata[0]}<br>Season=%{marker.color}<extra></extra>\", \"legendgroup\": \"\", \"marker\": {\"color\": [2021, 2021, 2021, 2021, 2021, 2021, 2021, 2021, 2021, 2021, 2021, 2021, 2021, 2021, 2021, 2021, 2021, 2021, 2021, 2021, 2021, 2021, 2021, 2021, 2021, 2021, 2021, 2021, 2021, 2021, 2021, 2021, 2020, 2020, 2020, 2020, 2020, 2020, 2020, 2020, 2020, 2020, 2020, 2020, 2020, 2020, 2020, 2020, 2020, 2020, 2020, 2020, 2020, 2020, 2020, 2020, 2020, 2020, 2020, 2020, 2020, 2020, 2020, 2020, 2019, 2019, 2019, 2019, 2019, 2019, 2019, 2019, 2019, 2019, 2019, 2019, 2019, 2019, 2019, 2019, 2019, 2019, 2019, 2019, 2019, 2019, 2019, 2019, 2019, 2019, 2019, 2019, 2019, 2019, 2019, 2019, 2018, 2018, 2018, 2018, 2018, 2018, 2018, 2018, 2018, 2018, 2018, 2018, 2018, 2018, 2018, 2018, 2018, 2018, 2018, 2018, 2018, 2018, 2018, 2018, 2018, 2018, 2018, 2018, 2018, 2018, 2018, 2018, 2017, 2017, 2017, 2017, 2017, 2017, 2017, 2017, 2017, 2017, 2017, 2017, 2017, 2017, 2017, 2017, 2017, 2017, 2017, 2017, 2017, 2017, 2017, 2017, 2017, 2017, 2017, 2017, 2017, 2017, 2017, 2017, 2016, 2016, 2016, 2016, 2016, 2016, 2016, 2016, 2016, 2016, 2016, 2016, 2016, 2016, 2016, 2016, 2016, 2016, 2016, 2016, 2016, 2016, 2016, 2016, 2016, 2016, 2016, 2016, 2016, 2016, 2016, 2016, 2015, 2015, 2015, 2015, 2015, 2015, 2015, 2015, 2015, 2015, 2015, 2015, 2015, 2015, 2015, 2015, 2015, 2015, 2015, 2015, 2015, 2015, 2015, 2015, 2015, 2015, 2015, 2015, 2015, 2015, 2015, 2015, 2014, 2014, 2014, 2014, 2014, 2014, 2014, 2014, 2014, 2014, 2014, 2014, 2014, 2014, 2014, 2014, 2014, 2014, 2014, 2014, 2014, 2014, 2014, 2014, 2014, 2014, 2014, 2014, 2014, 2014, 2014, 2014, 2013, 2013, 2013, 2013, 2013, 2013, 2013, 2013, 2013, 2013, 2013, 2013, 2013, 2013, 2013, 2013, 2013, 2013, 2013, 2013, 2013, 2013, 2013, 2013, 2013, 2013, 2013, 2013, 2013, 2013, 2013, 2013, 2012, 2012, 2012, 2012, 2012, 2012, 2012, 2012, 2012, 2012, 2012, 2012, 2012, 2012, 2012, 2012, 2012, 2012, 2012, 2012, 2012, 2012, 2012, 2012, 2012, 2012, 2012, 2012, 2012, 2012, 2012, 2012, 2011, 2011, 2011, 2011, 2011, 2011, 2011, 2011, 2011, 2011, 2011, 2011, 2011, 2011, 2011, 2011, 2011, 2011, 2011, 2011, 2011, 2011, 2011, 2011, 2011, 2011, 2011, 2011, 2011, 2011, 2011, 2011, 2010, 2010, 2010, 2010, 2010, 2010, 2010, 2010, 2010, 2010, 2010, 2010, 2010, 2010, 2010, 2010, 2010, 2010, 2010, 2010, 2010, 2010, 2010, 2010, 2010, 2010, 2010, 2010, 2010, 2010, 2010, 2010, 2009, 2009, 2009, 2009, 2009, 2009, 2009, 2009, 2009, 2009, 2009, 2009, 2009, 2009, 2009, 2009, 2009, 2009, 2009, 2009, 2009, 2009, 2009, 2009, 2009, 2009, 2009, 2009, 2009, 2009, 2009, 2009, 2008, 2008, 2008, 2008, 2008, 2008, 2008, 2008, 2008, 2008, 2008, 2008, 2008, 2008, 2008, 2008, 2008, 2008, 2008, 2008, 2008, 2008, 2008, 2008, 2008, 2008, 2008, 2008, 2008, 2008, 2008, 2008, 2007, 2007, 2007, 2007, 2007, 2007, 2007, 2007, 2007, 2007, 2007, 2007, 2007, 2007, 2007, 2007, 2007, 2007, 2007, 2007, 2007, 2007, 2007, 2007, 2007, 2007, 2007, 2007, 2007, 2007, 2007, 2007, 2006, 2006, 2006, 2006, 2006, 2006, 2006, 2006, 2006, 2006, 2006, 2006, 2006, 2006, 2006, 2006, 2006, 2006, 2006, 2006, 2006, 2006, 2006, 2006, 2006, 2006, 2006, 2006, 2006, 2006, 2006, 2006, 2005, 2005, 2005, 2005, 2005, 2005, 2005, 2005, 2005, 2005, 2005, 2005, 2005, 2005, 2005, 2005, 2005, 2005, 2005, 2005, 2005, 2005, 2005, 2005, 2005, 2005, 2005, 2005, 2005, 2005, 2005, 2005, 2004, 2004, 2004, 2004, 2004, 2004, 2004, 2004, 2004, 2004, 2004, 2004, 2004, 2004, 2004, 2004, 2004, 2004, 2004, 2004, 2004, 2004, 2004, 2004, 2004, 2004, 2004, 2004, 2004, 2004, 2004, 2004, 2003, 2003, 2003, 2003, 2003, 2003, 2003, 2003, 2003, 2003, 2003, 2003, 2003, 2003, 2003, 2003, 2003, 2003, 2003, 2003, 2003, 2003, 2003, 2003, 2003, 2003, 2003, 2003, 2003, 2003, 2003, 2003], \"coloraxis\": \"coloraxis\", \"symbol\": \"circle\"}, \"mode\": \"markers\", \"name\": \"\", \"orientation\": \"v\", \"showlegend\": false, \"type\": \"scatter\", \"x\": [381.94117647058823, 353.4117647058824, 307.0, 306.3529411764706, 361.47058823529414, 315.3529411764706, 340.6470588235294, 378.8235294117647, 342.47058823529414, 347.11764705882354, 278.05882352941177, 305.3529411764706, 396.8235294117647, 363.7647058823529, 390.2352941176471, 330.47058823529414, 407.0, 359.94117647058823, 323.6470588235294, 287.29411764705884, 365.5882352941176, 362.8235294117647, 307.3529411764706, 322.5882352941176, 405.94117647058823, 304.52941176470586, 303.7647058823529, 298.88235294117646, 372.05882352941177, 373.6470588235294, 375.70588235294116, 323.88235294117646, 381.94117647058823, 307.0, 353.4117647058824, 306.3529411764706, 315.3529411764706, 378.8235294117647, 340.6470588235294, 361.47058823529414, 342.47058823529414, 347.11764705882354, 278.05882352941177, 305.3529411764706, 396.8235294117647, 363.7647058823529, 390.2352941176471, 330.47058823529414, 323.6470588235294, 287.29411764705884, 407.0, 359.94117647058823, 365.5882352941176, 307.3529411764706, 362.8235294117647, 322.5882352941176, 304.52941176470586, 405.94117647058823, 298.88235294117646, 303.7647058823529, 323.88235294117646, 372.05882352941177, 373.6470588235294, 375.70588235294116, 353.4117647058824, 381.94117647058823, 306.3529411764706, 307.0, 378.8235294117647, 315.3529411764706, 340.6470588235294, 361.47058823529414, 278.05882352941177, 342.47058823529414, 347.11764705882354, 305.3529411764706, 396.8235294117647, 330.47058823529414, 363.7647058823529, 390.2352941176471, 359.94117647058823, 407.0, 287.29411764705884, null, 365.5882352941176, 362.8235294117647, 307.3529411764706, 322.5882352941176, 304.52941176470586, 303.7647058823529, 405.94117647058823, 298.88235294117646, 375.70588235294116, 323.88235294117646, 372.05882352941177, 373.6470588235294, 353.4117647058824, 307.0, 381.94117647058823, 306.3529411764706, 378.8235294117647, 315.3529411764706, 340.6470588235294, 361.47058823529414, 278.05882352941177, 347.11764705882354, 342.47058823529414, 305.3529411764706, 396.8235294117647, 390.2352941176471, 330.47058823529414, 363.7647058823529, 407.0, 359.94117647058823, null, 287.29411764705884, 307.3529411764706, 362.8235294117647, 365.5882352941176, 322.5882352941176, 304.52941176470586, 303.7647058823529, 298.88235294117646, 405.94117647058823, 372.05882352941177, 323.88235294117646, 375.70588235294116, 373.6470588235294, 353.4117647058824, 381.94117647058823, 307.0, 306.3529411764706, 315.3529411764706, 378.8235294117647, 361.47058823529414, 340.6470588235294, 305.3529411764706, 342.47058823529414, 347.11764705882354, 278.05882352941177, 396.8235294117647, 390.2352941176471, 363.7647058823529, 330.47058823529414, 359.94117647058823, 407.0, null, 287.29411764705884, 362.8235294117647, 322.5882352941176, 365.5882352941176, 307.3529411764706, 304.52941176470586, 298.88235294117646, 303.7647058823529, 405.94117647058823, 372.05882352941177, 323.88235294117646, 373.6470588235294, 375.70588235294116, 353.4117647058824, 307.0, 381.94117647058823, 306.3529411764706, 315.3529411764706, 378.8235294117647, 361.47058823529414, 340.6470588235294, 278.05882352941177, 342.47058823529414, 347.11764705882354, 305.3529411764706, 396.8235294117647, 363.7647058823529, 330.47058823529414, 390.2352941176471, 407.0, 287.29411764705884, null, 359.94117647058823, 365.5882352941176, 322.5882352941176, 362.8235294117647, 307.3529411764706, 303.7647058823529, 405.94117647058823, 304.52941176470586, 298.88235294117646, 323.88235294117646, 373.6470588235294, 372.05882352941177, 375.70588235294116, 353.4117647058824, 306.3529411764706, 381.94117647058823, 307.0, 361.47058823529414, 315.3529411764706, 378.8235294117647, 340.6470588235294, 278.05882352941177, 347.11764705882354, 305.3529411764706, 342.47058823529414, 330.47058823529414, 396.8235294117647, 363.7647058823529, 390.2352941176471, null, 359.94117647058823, 287.29411764705884, 407.0, 362.8235294117647, 365.5882352941176, 322.5882352941176, 307.3529411764706, 298.88235294117646, 303.7647058823529, 304.52941176470586, 405.94117647058823, 373.6470588235294, 323.88235294117646, 372.05882352941177, 375.70588235294116, 353.4117647058824, 381.94117647058823, 307.0, 306.3529411764706, 315.3529411764706, 361.47058823529414, 378.8235294117647, 340.6470588235294, 347.11764705882354, 278.05882352941177, 305.3529411764706, 342.47058823529414, 330.47058823529414, 396.8235294117647, 390.2352941176471, 363.7647058823529, 407.0, 359.94117647058823, 287.29411764705884, null, 365.5882352941176, 322.5882352941176, 362.8235294117647, 307.3529411764706, 298.88235294117646, 304.52941176470586, 303.7647058823529, 405.94117647058823, 323.88235294117646, 373.6470588235294, 375.70588235294116, 372.05882352941177, 353.4117647058824, 306.3529411764706, 307.0, 381.94117647058823, 361.47058823529414, 315.3529411764706, 378.8235294117647, 340.6470588235294, 347.11764705882354, 342.47058823529414, 305.3529411764706, 278.05882352941177, 330.47058823529414, 396.8235294117647, 390.2352941176471, 363.7647058823529, 359.94117647058823, 407.0, 287.29411764705884, null, 365.5882352941176, 307.3529411764706, 322.5882352941176, 362.8235294117647, 298.88235294117646, 304.52941176470586, 303.7647058823529, 405.94117647058823, 323.88235294117646, 375.70588235294116, 373.6470588235294, 372.05882352941177, 353.4117647058824, 307.0, 306.3529411764706, 381.94117647058823, 378.8235294117647, 361.47058823529414, 315.3529411764706, 340.6470588235294, 278.05882352941177, 347.11764705882354, 342.47058823529414, 305.3529411764706, 330.47058823529414, 390.2352941176471, 363.7647058823529, 396.8235294117647, null, 287.29411764705884, 407.0, 359.94117647058823, 365.5882352941176, 362.8235294117647, 307.3529411764706, 322.5882352941176, 303.7647058823529, 298.88235294117646, 304.52941176470586, 405.94117647058823, 375.70588235294116, 323.88235294117646, 372.05882352941177, 373.6470588235294, 353.4117647058824, 306.3529411764706, 307.0, 381.94117647058823, 378.8235294117647, 315.3529411764706, 361.47058823529414, 340.6470588235294, 278.05882352941177, 342.47058823529414, 305.3529411764706, 347.11764705882354, 330.47058823529414, 390.2352941176471, 363.7647058823529, 396.8235294117647, 287.29411764705884, 359.94117647058823, 407.0, null, 365.5882352941176, 322.5882352941176, 307.3529411764706, 362.8235294117647, 304.52941176470586, 303.7647058823529, 298.88235294117646, 405.94117647058823, 375.70588235294116, 373.6470588235294, 323.88235294117646, 372.05882352941177, 353.4117647058824, 306.3529411764706, 307.0, 381.94117647058823, 315.3529411764706, 378.8235294117647, 340.6470588235294, 361.47058823529414, 347.11764705882354, 305.3529411764706, 278.05882352941177, 342.47058823529414, 396.8235294117647, 390.2352941176471, 363.7647058823529, 330.47058823529414, 359.94117647058823, 287.29411764705884, 407.0, null, 307.3529411764706, 365.5882352941176, 322.5882352941176, 362.8235294117647, 303.7647058823529, 304.52941176470586, 405.94117647058823, 298.88235294117646, 323.88235294117646, 372.05882352941177, 375.70588235294116, 373.6470588235294, 353.4117647058824, 306.3529411764706, 307.0, 381.94117647058823, 361.47058823529414, 378.8235294117647, 315.3529411764706, 340.6470588235294, 347.11764705882354, 278.05882352941177, 342.47058823529414, 305.3529411764706, 390.2352941176471, 330.47058823529414, 363.7647058823529, 396.8235294117647, 407.0, 359.94117647058823, 287.29411764705884, null, 362.8235294117647, 365.5882352941176, 307.3529411764706, 322.5882352941176, 304.52941176470586, 303.7647058823529, 298.88235294117646, 405.94117647058823, 373.6470588235294, 375.70588235294116, 323.88235294117646, 372.05882352941177, 307.0, 353.4117647058824, 306.3529411764706, 381.94117647058823, 315.3529411764706, 378.8235294117647, 361.47058823529414, 340.6470588235294, 342.47058823529414, 347.11764705882354, 278.05882352941177, 305.3529411764706, 390.2352941176471, 330.47058823529414, 363.7647058823529, 396.8235294117647, 287.29411764705884, 359.94117647058823, 407.0, null, 362.8235294117647, 307.3529411764706, 365.5882352941176, 322.5882352941176, 298.88235294117646, 303.7647058823529, 405.94117647058823, 304.52941176470586, 373.6470588235294, 375.70588235294116, 323.88235294117646, 372.05882352941177, 353.4117647058824, 381.94117647058823, 306.3529411764706, 307.0, 315.3529411764706, 340.6470588235294, 361.47058823529414, 378.8235294117647, 347.11764705882354, 305.3529411764706, 342.47058823529414, 278.05882352941177, 390.2352941176471, 330.47058823529414, 396.8235294117647, 363.7647058823529, 407.0, 287.29411764705884, null, 359.94117647058823, 365.5882352941176, 362.8235294117647, 322.5882352941176, 307.3529411764706, 405.94117647058823, 298.88235294117646, 304.52941176470586, 303.7647058823529, 323.88235294117646, 373.6470588235294, 375.70588235294116, 372.05882352941177, 353.4117647058824, 306.3529411764706, 381.94117647058823, 307.0, 378.8235294117647, 361.47058823529414, 315.3529411764706, 340.6470588235294, 347.11764705882354, 342.47058823529414, 305.3529411764706, 278.05882352941177, 390.2352941176471, 396.8235294117647, 330.47058823529414, 363.7647058823529, 359.94117647058823, 407.0, 287.29411764705884, null, 307.3529411764706, 365.5882352941176, 362.8235294117647, 322.5882352941176, 304.52941176470586, 298.88235294117646, 303.7647058823529, 405.94117647058823, 323.88235294117646, 372.05882352941177, 375.70588235294116, 373.6470588235294, 353.4117647058824, 307.0, 381.94117647058823, 306.3529411764706, 361.47058823529414, 315.3529411764706, 378.8235294117647, 340.6470588235294, 347.11764705882354, 305.3529411764706, 342.47058823529414, 278.05882352941177, 330.47058823529414, 396.8235294117647, 390.2352941176471, 363.7647058823529, 287.29411764705884, null, 407.0, 359.94117647058823, 307.3529411764706, 362.8235294117647, 322.5882352941176, 365.5882352941176, 405.94117647058823, 298.88235294117646, 303.7647058823529, 304.52941176470586, 323.88235294117646, 372.05882352941177, 373.6470588235294, 375.70588235294116, 353.4117647058824, 306.3529411764706, 381.94117647058823, 307.0, 315.3529411764706, 378.8235294117647, 361.47058823529414, 340.6470588235294, 347.11764705882354, 305.3529411764706, 278.05882352941177, 342.47058823529414, 390.2352941176471, 330.47058823529414, 396.8235294117647, 363.7647058823529, 359.94117647058823, 287.29411764705884, 407.0, null, 365.5882352941176, 362.8235294117647, 322.5882352941176, 307.3529411764706, 303.7647058823529, 304.52941176470586, 298.88235294117646, 405.94117647058823, 323.88235294117646, 372.05882352941177, 373.6470588235294, 375.70588235294116, 353.4117647058824, 307.0, 381.94117647058823, 306.3529411764706, 378.8235294117647, 361.47058823529414, 315.3529411764706, 340.6470588235294, 347.11764705882354, 342.47058823529414, 305.3529411764706, 278.05882352941177, 396.8235294117647, 330.47058823529414, 363.7647058823529, 390.2352941176471, 359.94117647058823, 407.0, null, 287.29411764705884, 365.5882352941176, 362.8235294117647, 307.3529411764706, 322.5882352941176, 298.88235294117646, 304.52941176470586, 405.94117647058823, 303.7647058823529, 372.05882352941177, 323.88235294117646, 375.70588235294116, 373.6470588235294], \"xaxis\": \"x\", \"y\": [28.41176470588235, 27.176470588235293, 20.058823529411764, 18.235294117647058, 27.058823529411764, 20.176470588235293, 20.529411764705884, 22.764705882352942, 24.647058823529413, 26.529411764705884, 16.470588235294116, 14.882352941176471, 28.235294117647058, 22.0, 27.88235294117647, 19.705882352941178, 31.176470588235293, 26.11764705882353, 19.705882352941178, 15.176470588235293, 26.470588235294116, 25.0, 18.294117647058822, 19.11764705882353, 30.058823529411764, 21.41176470588235, 18.41176470588235, 17.88235294117647, 27.058823529411764, 26.41176470588235, 25.11764705882353, 23.235294117647058, 29.470588235294116, 23.764705882352942, 19.176470588235293, 14.294117647058824, 24.470588235294116, 27.529411764705884, 24.0, 18.294117647058822, 28.88235294117647, 26.529411764705884, 22.58823529411765, 18.0, 27.823529411764707, 25.529411764705884, 22.58823529411765, 19.0, 19.705882352941178, 16.470588235294116, 23.235294117647058, 19.647058823529413, 29.941176470588236, 21.88235294117647, 25.294117647058822, 22.176470588235293, 28.352941176470587, 28.941176470588236, 20.58823529411765, 23.294117647058822, 27.0, 21.88235294117647, 24.11764705882353, 22.11764705882353, 24.705882352941178, 18.470588235294116, 16.235294117647058, 18.0, 31.235294117647058, 17.0, 19.705882352941178, 16.41176470588235, 22.235294117647058, 23.647058823529413, 21.235294117647058, 17.647058823529413, 26.529411764705884, 16.58823529411765, 18.41176470588235, 19.823529411764707, 22.647058823529413, 25.529411764705884, 20.058823529411764, null, 22.11764705882353, 23.941176470588236, 16.470588235294116, 20.058823529411764, 26.941176470588236, 22.41176470588235, 26.941176470588236, 20.0, 28.176470588235293, 23.823529411764707, 23.176470588235293, 21.235294117647058, 25.647058823529413, 18.764705882352942, 15.823529411764707, 19.58823529411765, 22.88235294117647, 25.176470588235293, 21.11764705882353, 21.647058823529413, 23.647058823529413, 25.470588235294116, 18.235294117647058, 14.411764705882353, 33.23529411764706, 25.176470588235293, 19.352941176470587, 17.058823529411764, 19.941176470588236, 21.58823529411765, null, 21.705882352941178, 24.764705882352942, 21.176470588235293, 22.11764705882353, 19.058823529411764, 29.647058823529413, 24.352941176470587, 22.11764705882353, 23.294117647058822, 31.0, 25.176470588235293, 20.11764705882353, 13.235294117647058, 26.941176470588236, 17.764705882352942, 16.529411764705884, 17.529411764705884, 23.88235294117647, 23.235294117647058, 17.058823529411764, 13.764705882352942, 24.529411764705884, 19.647058823529413, 15.470588235294118, 19.88235294117647, 24.41176470588235, 20.88235294117647, 17.705882352941178, 17.0, 26.88235294117647, 20.823529411764707, null, 14.470588235294118, 22.470588235294116, 24.11764705882353, 18.823529411764707, 15.529411764705882, 26.352941176470587, 21.352941176470587, 20.764705882352942, 19.705882352941178, 28.11764705882353, 21.529411764705884, 17.352941176470587, 19.470588235294116, 25.941176470588236, 21.352941176470587, 23.470588235294116, 16.176470588235293, 23.470588235294116, 20.176470588235293, 19.11764705882353, 15.529411764705882, 16.41176470588235, 22.41176470588235, 24.176470588235293, 18.705882352941178, 22.88235294117647, 24.470588235294116, 19.58823529411765, 24.11764705882353, 24.764705882352942, 18.235294117647058, null, 21.58823529411765, 25.41176470588235, 20.352941176470587, 19.235294117647058, 16.41176470588235, 31.764705882352942, 20.823529411764707, 27.58823529411765, 21.705882352941178, 20.823529411764707, 24.58823529411765, 13.176470588235293, 18.176470588235293, 27.352941176470587, 22.764705882352942, 22.294117647058822, 18.235294117647058, 24.647058823529413, 24.88235294117647, 19.294117647058822, 16.352941176470587, 19.941176470588236, 19.58823529411765, 22.11764705882353, 17.58823529411765, 20.88235294117647, 23.823529411764707, 21.11764705882353, 18.823529411764707, null, 22.176470588235293, 24.705882352941178, 16.176470588235293, 21.470588235294116, 21.647058823529413, 21.058823529411764, 19.705882352941178, 29.41176470588235, 19.941176470588236, 24.0, 20.11764705882353, 28.764705882352942, 24.88235294117647, 16.470588235294116, 14.0, 27.529411764705884, 20.176470588235293, 22.823529411764707, 16.647058823529413, 25.647058823529413, 21.470588235294116, 24.058823529411764, 17.58823529411765, 26.941176470588236, 21.88235294117647, 14.647058823529411, 14.941176470588236, 28.352941176470587, 20.764705882352942, 20.470588235294116, 14.882352941176471, 27.470588235294116, 27.88235294117647, 22.352941176470587, null, 28.58823529411765, 18.88235294117647, 19.11764705882353, 18.764705882352942, 19.941176470588236, 23.58823529411765, 22.41176470588235, 16.294117647058822, 23.176470588235293, 18.235294117647058, 18.0, 19.058823529411764, 26.11764705882353, 17.058823529411764, 18.647058823529413, 19.941176470588236, 25.294117647058822, 22.294117647058822, 18.823529411764707, 18.11764705882353, 23.0, 21.294117647058822, 14.529411764705882, 16.235294117647058, 35.64705882352941, 25.294117647058822, 23.294117647058822, 18.941176470588236, 26.0, 25.823529411764707, 17.294117647058822, null, 24.529411764705884, 26.176470588235293, 23.235294117647058, 23.0, 21.529411764705884, 24.352941176470587, 20.764705882352942, 16.941176470588236, 24.529411764705884, 23.88235294117647, 22.294117647058822, 20.470588235294116, 32.76470588235294, 16.941176470588236, 16.529411764705884, 20.235294117647058, 23.41176470588235, 23.0, 19.764705882352942, 17.764705882352942, 24.470588235294116, 21.0, 19.41176470588235, 15.0, 28.294117647058822, 20.58823529411765, 17.058823529411764, 12.411764705882353, null, 25.235294117647058, 22.11764705882353, 16.470588235294116, 25.470588235294116, 22.294117647058822, 22.058823529411764, 21.88235294117647, 24.647058823529413, 21.0, 27.11764705882353, 22.88235294117647, 23.352941176470587, 24.235294117647058, 17.58823529411765, 14.705882352941176, 30.176470588235293, 22.176470588235293, 19.352941176470587, 21.88235294117647, 22.235294117647058, 19.11764705882353, 20.235294117647058, 12.823529411764707, 22.41176470588235, 19.11764705882353, 14.294117647058824, 14.294117647058824, 18.176470588235293, 23.88235294117647, 21.11764705882353, 12.470588235294118, 23.176470588235293, 23.294117647058822, 21.705882352941178, null, 32.94117647058823, 27.88235294117647, 20.764705882352942, 20.0, 32.1764705882353, 23.647058823529413, 23.88235294117647, 16.88235294117647, 22.352941176470587, 18.352941176470587, 18.88235294117647, 11.352941176470589, 30.470588235294116, 21.58823529411765, 16.058823529411764, 16.647058823529413, 22.058823529411764, 21.0, 15.941176470588236, 18.941176470588236, 25.58823529411765, 20.764705882352942, 22.941176470588236, 20.941176470588236, 21.529411764705884, 25.941176470588236, 24.11764705882353, 20.235294117647058, 25.823529411764707, 23.176470588235293, 23.176470588235293, null, 19.647058823529413, 22.823529411764707, 21.294117647058822, 16.529411764705884, 24.352941176470587, 22.58823529411765, 20.058823529411764, 11.529411764705882, 18.235294117647058, 17.0, 17.941176470588236, 17.0, 25.11764705882353, 20.470588235294116, 21.176470588235293, 15.176470588235293, 17.941176470588236, 23.0, 21.647058823529413, 14.411764705882353, 24.470588235294116, 22.823529411764707, 20.823529411764707, 17.058823529411764, 26.705882352941178, 19.176470588235293, 11.588235294117647, 17.294117647058822, 21.235294117647058, 25.235294117647058, 23.647058823529413, null, 27.647058823529413, 27.11764705882353, 19.235294117647058, 15.411764705882353, 30.0, 21.352941176470587, 18.529411764705884, 14.352941176470589, 22.058823529411764, 19.41176470588235, 16.470588235294116, 10.294117647058824, 20.294117647058822, 24.11764705882353, 23.823529411764707, 19.764705882352942, 20.41176470588235, 22.647058823529413, 12.0, 13.647058823529411, 22.058823529411764, 22.176470588235293, 21.529411764705884, 17.764705882352942, 25.823529411764707, 21.764705882352942, 15.470588235294118, 17.11764705882353, 25.11764705882353, 24.470588235294116, 21.294117647058822, null, 22.294117647058822, 22.058823529411764, 24.647058823529413, 15.764705882352942, 24.352941176470587, 23.0, 21.235294117647058, 27.235294117647058, 25.11764705882353, 19.941176470588236, 17.294117647058822, 13.647058823529411, 34.64705882352941, 14.823529411764707, 15.764705882352942, 15.705882352941176, 23.11764705882353, 23.647058823529413, 22.352941176470587, 16.176470588235293, 26.470588235294116, 24.176470588235293, 17.705882352941178, 22.294117647058822, 24.235294117647058, 18.823529411764707, 13.294117647058824, 16.647058823529413, 26.764705882352942, 21.941176470588236, null, 19.764705882352942, 25.58823529411765, 21.470588235294116, 20.352941176470587, 19.647058823529413, 19.647058823529413, 15.705882352941176, 22.294117647058822, 15.235294117647058, 23.11764705882353, 23.764705882352942, 12.882352941176471, 15.470588235294118, 22.647058823529413, 18.58823529411765, 17.647058823529413, 15.294117647058824, 20.764705882352942, 21.941176470588236, 20.764705882352942, 14.0, 25.11764705882353, 19.058823529411764, 21.823529411764707, 15.705882352941176, 28.941176470588236, 19.470588235294116, 18.764705882352942, 9.882352941176471, 23.41176470588235, 25.0, 20.88235294117647, null, 25.11764705882353, 17.705882352941178, 16.58823529411765, 17.941176470588236, 24.294117647058822, 15.882352941176471, 17.176470588235293, 12.411764705882353, 19.705882352941178, 21.58823529411765, 17.529411764705884, 18.470588235294116, 22.294117647058822, 18.705882352941178, 15.941176470588236, 14.117647058823529, 24.764705882352942, 22.88235294117647, 15.588235294117647, 13.647058823529411, 25.823529411764707, 21.235294117647058, 17.58823529411765, 15.294117647058824, 23.235294117647058, 23.705882352941178, 24.58823529411765, 17.058823529411764, 24.823529411764707, null, 19.11764705882353, 18.235294117647058, 15.294117647058824, 18.0, 14.941176470588236, 17.529411764705884, 17.647058823529413, 23.0, 20.647058823529413, 13.823529411764707, 26.58823529411765, 21.352941176470587, 18.294117647058822, 14.058823529411764, 25.705882352941178, 19.58823529411765, 23.235294117647058, 16.176470588235293, 21.88235294117647, 18.647058823529413, 22.0, 16.235294117647058, 30.705882352941178, 15.352941176470589, 18.176470588235293, 20.235294117647058, 26.235294117647058, 22.41176470588235, 28.41176470588235, 18.823529411764707, 22.705882352941178, 17.823529411764707, 17.235294117647058, null, 24.941176470588236, 23.823529411764707, 17.41176470588235, 13.588235294117647, 20.0, 20.470588235294116, 20.88235294117647, 17.705882352941178, 21.823529411764707, 18.764705882352942, 16.705882352941178, 15.235294117647058, 20.470588235294116, 18.294117647058822, 14.294117647058824, 16.647058823529413, 23.0, 20.352941176470587, 17.647058823529413, 14.941176470588236, 26.294117647058822, 25.58823529411765, 16.235294117647058, 15.0, 28.470588235294116, 22.41176470588235, 15.882352941176471, 18.41176470588235, 22.0, 17.0, null, 14.294117647058824, 26.0, 24.470588235294116, 16.647058823529413, 15.882352941176471, 19.11764705882353, 20.0, 17.705882352941178, 17.58823529411765, 26.294117647058822, 23.764705882352942, 22.58823529411765, 13.235294117647058], \"yaxis\": \"y\"}],                        {\"coloraxis\": {\"colorbar\": {\"title\": {\"text\": \"Season\"}}, \"colorscale\": [[0.0, \"#0d0887\"], [0.1111111111111111, \"#46039f\"], [0.2222222222222222, \"#7201a8\"], [0.3333333333333333, \"#9c179e\"], [0.4444444444444444, \"#bd3786\"], [0.5555555555555556, \"#d8576b\"], [0.6666666666666666, \"#ed7953\"], [0.7777777777777778, \"#fb9f3a\"], [0.8888888888888888, \"#fdca26\"], [1.0, \"#f0f921\"]]}, \"legend\": {\"tracegroupgap\": 0}, \"margin\": {\"t\": 60}, \"template\": {\"data\": {\"bar\": [{\"error_x\": {\"color\": \"#2a3f5f\"}, \"error_y\": {\"color\": \"#2a3f5f\"}, \"marker\": {\"line\": {\"color\": \"#E5ECF6\", \"width\": 0.5}}, \"type\": \"bar\"}], \"barpolar\": [{\"marker\": {\"line\": {\"color\": \"#E5ECF6\", \"width\": 0.5}}, \"type\": \"barpolar\"}], \"carpet\": [{\"aaxis\": {\"endlinecolor\": \"#2a3f5f\", \"gridcolor\": \"white\", \"linecolor\": \"white\", \"minorgridcolor\": \"white\", \"startlinecolor\": \"#2a3f5f\"}, \"baxis\": {\"endlinecolor\": \"#2a3f5f\", \"gridcolor\": \"white\", \"linecolor\": \"white\", \"minorgridcolor\": \"white\", \"startlinecolor\": \"#2a3f5f\"}, \"type\": \"carpet\"}], \"choropleth\": [{\"colorbar\": {\"outlinewidth\": 0, \"ticks\": \"\"}, \"type\": \"choropleth\"}], \"contour\": [{\"colorbar\": {\"outlinewidth\": 0, \"ticks\": \"\"}, \"colorscale\": [[0.0, \"#0d0887\"], [0.1111111111111111, \"#46039f\"], [0.2222222222222222, \"#7201a8\"], [0.3333333333333333, \"#9c179e\"], [0.4444444444444444, \"#bd3786\"], [0.5555555555555556, \"#d8576b\"], [0.6666666666666666, \"#ed7953\"], [0.7777777777777778, \"#fb9f3a\"], [0.8888888888888888, \"#fdca26\"], [1.0, \"#f0f921\"]], \"type\": \"contour\"}], \"contourcarpet\": [{\"colorbar\": {\"outlinewidth\": 0, \"ticks\": \"\"}, \"type\": \"contourcarpet\"}], \"heatmap\": [{\"colorbar\": {\"outlinewidth\": 0, \"ticks\": \"\"}, \"colorscale\": [[0.0, \"#0d0887\"], [0.1111111111111111, \"#46039f\"], [0.2222222222222222, \"#7201a8\"], [0.3333333333333333, \"#9c179e\"], [0.4444444444444444, \"#bd3786\"], [0.5555555555555556, \"#d8576b\"], [0.6666666666666666, \"#ed7953\"], [0.7777777777777778, \"#fb9f3a\"], [0.8888888888888888, \"#fdca26\"], [1.0, \"#f0f921\"]], \"type\": \"heatmap\"}], \"heatmapgl\": [{\"colorbar\": {\"outlinewidth\": 0, \"ticks\": \"\"}, \"colorscale\": [[0.0, \"#0d0887\"], [0.1111111111111111, \"#46039f\"], [0.2222222222222222, \"#7201a8\"], [0.3333333333333333, \"#9c179e\"], [0.4444444444444444, \"#bd3786\"], [0.5555555555555556, \"#d8576b\"], [0.6666666666666666, \"#ed7953\"], [0.7777777777777778, \"#fb9f3a\"], [0.8888888888888888, \"#fdca26\"], [1.0, \"#f0f921\"]], \"type\": \"heatmapgl\"}], \"histogram\": [{\"marker\": {\"colorbar\": {\"outlinewidth\": 0, \"ticks\": \"\"}}, \"type\": \"histogram\"}], \"histogram2d\": [{\"colorbar\": {\"outlinewidth\": 0, \"ticks\": \"\"}, \"colorscale\": [[0.0, \"#0d0887\"], [0.1111111111111111, \"#46039f\"], [0.2222222222222222, \"#7201a8\"], [0.3333333333333333, \"#9c179e\"], [0.4444444444444444, \"#bd3786\"], [0.5555555555555556, \"#d8576b\"], [0.6666666666666666, \"#ed7953\"], [0.7777777777777778, \"#fb9f3a\"], [0.8888888888888888, \"#fdca26\"], [1.0, \"#f0f921\"]], \"type\": \"histogram2d\"}], \"histogram2dcontour\": [{\"colorbar\": {\"outlinewidth\": 0, \"ticks\": \"\"}, \"colorscale\": [[0.0, \"#0d0887\"], [0.1111111111111111, \"#46039f\"], [0.2222222222222222, \"#7201a8\"], [0.3333333333333333, \"#9c179e\"], [0.4444444444444444, \"#bd3786\"], [0.5555555555555556, \"#d8576b\"], [0.6666666666666666, \"#ed7953\"], [0.7777777777777778, \"#fb9f3a\"], [0.8888888888888888, \"#fdca26\"], [1.0, \"#f0f921\"]], \"type\": \"histogram2dcontour\"}], \"mesh3d\": [{\"colorbar\": {\"outlinewidth\": 0, \"ticks\": \"\"}, \"type\": \"mesh3d\"}], \"parcoords\": [{\"line\": {\"colorbar\": {\"outlinewidth\": 0, \"ticks\": \"\"}}, \"type\": \"parcoords\"}], \"pie\": [{\"automargin\": true, \"type\": \"pie\"}], \"scatter\": [{\"marker\": {\"colorbar\": {\"outlinewidth\": 0, \"ticks\": \"\"}}, \"type\": \"scatter\"}], \"scatter3d\": [{\"line\": {\"colorbar\": {\"outlinewidth\": 0, \"ticks\": \"\"}}, \"marker\": {\"colorbar\": {\"outlinewidth\": 0, \"ticks\": \"\"}}, \"type\": \"scatter3d\"}], \"scattercarpet\": [{\"marker\": {\"colorbar\": {\"outlinewidth\": 0, \"ticks\": \"\"}}, \"type\": \"scattercarpet\"}], \"scattergeo\": [{\"marker\": {\"colorbar\": {\"outlinewidth\": 0, \"ticks\": \"\"}}, \"type\": \"scattergeo\"}], \"scattergl\": [{\"marker\": {\"colorbar\": {\"outlinewidth\": 0, \"ticks\": \"\"}}, \"type\": \"scattergl\"}], \"scattermapbox\": [{\"marker\": {\"colorbar\": {\"outlinewidth\": 0, \"ticks\": \"\"}}, \"type\": \"scattermapbox\"}], \"scatterpolar\": [{\"marker\": {\"colorbar\": {\"outlinewidth\": 0, \"ticks\": \"\"}}, \"type\": \"scatterpolar\"}], \"scatterpolargl\": [{\"marker\": {\"colorbar\": {\"outlinewidth\": 0, \"ticks\": \"\"}}, \"type\": \"scatterpolargl\"}], \"scatterternary\": [{\"marker\": {\"colorbar\": {\"outlinewidth\": 0, \"ticks\": \"\"}}, \"type\": \"scatterternary\"}], \"surface\": [{\"colorbar\": {\"outlinewidth\": 0, \"ticks\": \"\"}, \"colorscale\": [[0.0, \"#0d0887\"], [0.1111111111111111, \"#46039f\"], [0.2222222222222222, \"#7201a8\"], [0.3333333333333333, \"#9c179e\"], [0.4444444444444444, \"#bd3786\"], [0.5555555555555556, \"#d8576b\"], [0.6666666666666666, \"#ed7953\"], [0.7777777777777778, \"#fb9f3a\"], [0.8888888888888888, \"#fdca26\"], [1.0, \"#f0f921\"]], \"type\": \"surface\"}], \"table\": [{\"cells\": {\"fill\": {\"color\": \"#EBF0F8\"}, \"line\": {\"color\": \"white\"}}, \"header\": {\"fill\": {\"color\": \"#C8D4E3\"}, \"line\": {\"color\": \"white\"}}, \"type\": \"table\"}]}, \"layout\": {\"annotationdefaults\": {\"arrowcolor\": \"#2a3f5f\", \"arrowhead\": 0, \"arrowwidth\": 1}, \"autotypenumbers\": \"strict\", \"coloraxis\": {\"colorbar\": {\"outlinewidth\": 0, \"ticks\": \"\"}}, \"colorscale\": {\"diverging\": [[0, \"#8e0152\"], [0.1, \"#c51b7d\"], [0.2, \"#de77ae\"], [0.3, \"#f1b6da\"], [0.4, \"#fde0ef\"], [0.5, \"#f7f7f7\"], [0.6, \"#e6f5d0\"], [0.7, \"#b8e186\"], [0.8, \"#7fbc41\"], [0.9, \"#4d9221\"], [1, \"#276419\"]], \"sequential\": [[0.0, \"#0d0887\"], [0.1111111111111111, \"#46039f\"], [0.2222222222222222, \"#7201a8\"], [0.3333333333333333, \"#9c179e\"], [0.4444444444444444, \"#bd3786\"], [0.5555555555555556, \"#d8576b\"], [0.6666666666666666, \"#ed7953\"], [0.7777777777777778, \"#fb9f3a\"], [0.8888888888888888, \"#fdca26\"], [1.0, \"#f0f921\"]], \"sequentialminus\": [[0.0, \"#0d0887\"], [0.1111111111111111, \"#46039f\"], [0.2222222222222222, \"#7201a8\"], [0.3333333333333333, \"#9c179e\"], [0.4444444444444444, \"#bd3786\"], [0.5555555555555556, \"#d8576b\"], [0.6666666666666666, \"#ed7953\"], [0.7777777777777778, \"#fb9f3a\"], [0.8888888888888888, \"#fdca26\"], [1.0, \"#f0f921\"]]}, \"colorway\": [\"#636efa\", \"#EF553B\", \"#00cc96\", \"#ab63fa\", \"#FFA15A\", \"#19d3f3\", \"#FF6692\", \"#B6E880\", \"#FF97FF\", \"#FECB52\"], \"font\": {\"color\": \"#2a3f5f\"}, \"geo\": {\"bgcolor\": \"white\", \"lakecolor\": \"white\", \"landcolor\": \"#E5ECF6\", \"showlakes\": true, \"showland\": true, \"subunitcolor\": \"white\"}, \"hoverlabel\": {\"align\": \"left\"}, \"hovermode\": \"closest\", \"mapbox\": {\"style\": \"light\"}, \"paper_bgcolor\": \"white\", \"plot_bgcolor\": \"#E5ECF6\", \"polar\": {\"angularaxis\": {\"gridcolor\": \"white\", \"linecolor\": \"white\", \"ticks\": \"\"}, \"bgcolor\": \"#E5ECF6\", \"radialaxis\": {\"gridcolor\": \"white\", \"linecolor\": \"white\", \"ticks\": \"\"}}, \"scene\": {\"xaxis\": {\"backgroundcolor\": \"#E5ECF6\", \"gridcolor\": \"white\", \"gridwidth\": 2, \"linecolor\": \"white\", \"showbackground\": true, \"ticks\": \"\", \"zerolinecolor\": \"white\"}, \"yaxis\": {\"backgroundcolor\": \"#E5ECF6\", \"gridcolor\": \"white\", \"gridwidth\": 2, \"linecolor\": \"white\", \"showbackground\": true, \"ticks\": \"\", \"zerolinecolor\": \"white\"}, \"zaxis\": {\"backgroundcolor\": \"#E5ECF6\", \"gridcolor\": \"white\", \"gridwidth\": 2, \"linecolor\": \"white\", \"showbackground\": true, \"ticks\": \"\", \"zerolinecolor\": \"white\"}}, \"shapedefaults\": {\"line\": {\"color\": \"#2a3f5f\"}}, \"ternary\": {\"aaxis\": {\"gridcolor\": \"white\", \"linecolor\": \"white\", \"ticks\": \"\"}, \"baxis\": {\"gridcolor\": \"white\", \"linecolor\": \"white\", \"ticks\": \"\"}, \"bgcolor\": \"#E5ECF6\", \"caxis\": {\"gridcolor\": \"white\", \"linecolor\": \"white\", \"ticks\": \"\"}}, \"title\": {\"x\": 0.05}, \"xaxis\": {\"automargin\": true, \"gridcolor\": \"white\", \"linecolor\": \"white\", \"ticks\": \"\", \"title\": {\"standoff\": 15}, \"zerolinecolor\": \"white\", \"zerolinewidth\": 2}, \"yaxis\": {\"automargin\": true, \"gridcolor\": \"white\", \"linecolor\": \"white\", \"ticks\": \"\", \"title\": {\"standoff\": 15}, \"zerolinecolor\": \"white\", \"zerolinewidth\": 2}}}, \"xaxis\": {\"anchor\": \"y\", \"domain\": [0.0, 1.0], \"title\": {\"text\": \"YPG\"}}, \"yaxis\": {\"anchor\": \"x\", \"domain\": [0.0, 1.0], \"title\": {\"text\": \"PPG\"}}},                        {\"responsive\": true}                    ).then(function(){\n",
       "                            \n",
       "var gd = document.getElementById('31c66da4-c7f3-423a-bc63-bfde4d8eaf89');\n",
       "var x = new MutationObserver(function (mutations, observer) {{\n",
       "        var display = window.getComputedStyle(gd).display;\n",
       "        if (!display || display === 'none') {{\n",
       "            console.log([gd, 'removed!']);\n",
       "            Plotly.purge(gd);\n",
       "            observer.disconnect();\n",
       "        }}\n",
       "}});\n",
       "\n",
       "// Listen for the removal of the full notebook cells\n",
       "var notebookContainer = gd.closest('#notebook-container');\n",
       "if (notebookContainer) {{\n",
       "    x.observe(notebookContainer, {childList: true});\n",
       "}}\n",
       "\n",
       "// Listen for the clearing of the current output cell\n",
       "var outputEl = gd.closest('.output');\n",
       "if (outputEl) {{\n",
       "    x.observe(outputEl, {childList: true});\n",
       "}}\n",
       "\n",
       "                        })                };                });            </script>        </div>"
      ]
     },
     "metadata": {},
     "output_type": "display_data"
    }
   ],
   "source": [
    "# Plotting PPG vs YPG (Offensive)\n",
    "\n",
    "px.scatter(df, x='YPG', y='PPG', color='Season',  hover_data=hover_data)"
   ]
  },
  {
   "cell_type": "code",
   "execution_count": 132,
   "metadata": {},
   "outputs": [
    {
     "data": {
      "application/vnd.plotly.v1+json": {
       "config": {
        "plotlyServerURL": "https://plot.ly"
       },
       "data": [
        {
         "customdata": [
          [
           "Buffalo Bills",
           2021
          ],
          [
           "New England Patriots",
           2021
          ],
          [
           "Miami Dolphins",
           2021
          ],
          [
           "New York Jets",
           2021
          ],
          [
           "Cincinnati Bengals",
           2021
          ],
          [
           "Pittsburgh Steelers",
           2021
          ],
          [
           "Cleveland Browns",
           2021
          ],
          [
           "Baltimore Ravens",
           2021
          ],
          [
           "Tennessee Titans",
           2021
          ],
          [
           "Indianapolis Colts",
           2021
          ],
          [
           "Houston Texans",
           2021
          ],
          [
           "Jacksonville Jaguars",
           2021
          ],
          [
           "Kansas City Chiefs",
           2021
          ],
          [
           "Las Vegas Raiders",
           2021
          ],
          [
           "Los Angeles Chargers",
           2021
          ],
          [
           "Denver Broncos",
           2021
          ],
          [
           "Dallas Cowboys",
           2021
          ],
          [
           "Philadelphia Eagles",
           2021
          ],
          [
           "Washignton Commanders",
           2021
          ],
          [
           "New York Giants",
           2021
          ],
          [
           "Green Bay Packers",
           2021
          ],
          [
           "Minnesota Vikings",
           2021
          ],
          [
           "Chicago Bears",
           2021
          ],
          [
           "Detroit Lions",
           2021
          ],
          [
           "Tampa Bay Buccaneers",
           2021
          ],
          [
           "New Orleans Saints",
           2021
          ],
          [
           "Atlanta Falcons",
           2021
          ],
          [
           "Carolina Panthers",
           2021
          ],
          [
           "Los Angeles Rams",
           2021
          ],
          [
           "Arizona Cardinals",
           2021
          ],
          [
           "San Francisco 49ers",
           2021
          ],
          [
           "Seattle Seahawks",
           2021
          ],
          [
           "Buffalo Bills",
           2020
          ],
          [
           "Miami Dolphins",
           2020
          ],
          [
           "New England Patriots",
           2020
          ],
          [
           "New York Jets",
           2020
          ],
          [
           "Pittsburgh Steelers",
           2020
          ],
          [
           "Baltimore Ravens",
           2020
          ],
          [
           "Cleveland Browns",
           2020
          ],
          [
           "Cincinnati Bengals",
           2020
          ],
          [
           "Tennessee Titans",
           2020
          ],
          [
           "Indianapolis Colts",
           2020
          ],
          [
           "Houston Texans",
           2020
          ],
          [
           "Jacksonville Jaguars",
           2020
          ],
          [
           "Kansas City Chiefs",
           2020
          ],
          [
           "Las Vegas Raiders",
           2020
          ],
          [
           "Los Angeles Chargers",
           2020
          ],
          [
           "Denver Broncos",
           2020
          ],
          [
           "Washignton Commanders",
           2020
          ],
          [
           "New York Giants",
           2020
          ],
          [
           "Dallas Cowboys",
           2020
          ],
          [
           "Philadelphia Eagles",
           2020
          ],
          [
           "Green Bay Packers",
           2020
          ],
          [
           "Chicago Bears",
           2020
          ],
          [
           "Minnesota Vikings",
           2020
          ],
          [
           "Detroit Lions",
           2020
          ],
          [
           "New Orleans Saints",
           2020
          ],
          [
           "Tampa Bay Buccaneers",
           2020
          ],
          [
           "Carolina Panthers",
           2020
          ],
          [
           "Atlanta Falcons",
           2020
          ],
          [
           "Seattle Seahawks",
           2020
          ],
          [
           "Los Angeles Rams",
           2020
          ],
          [
           "Arizona Cardinals",
           2020
          ],
          [
           "San Francisco 49ers",
           2020
          ],
          [
           "New England Patriots",
           2019
          ],
          [
           "Buffalo Bills",
           2019
          ],
          [
           "New York Jets",
           2019
          ],
          [
           "Miami Dolphins",
           2019
          ],
          [
           "Baltimore Ravens",
           2019
          ],
          [
           "Pittsburgh Steelers",
           2019
          ],
          [
           "Cleveland Browns",
           2019
          ],
          [
           "Cincinnati Bengals",
           2019
          ],
          [
           "Houston Texans",
           2019
          ],
          [
           "Tennessee Titans",
           2019
          ],
          [
           "Indianapolis Colts",
           2019
          ],
          [
           "Jacksonville Jaguars",
           2019
          ],
          [
           "Kansas City Chiefs",
           2019
          ],
          [
           "Denver Broncos",
           2019
          ],
          [
           "Las Vegas Raiders",
           2019
          ],
          [
           "Los Angeles Chargers",
           2019
          ],
          [
           "Philadelphia Eagles",
           2019
          ],
          [
           "Dallas Cowboys",
           2019
          ],
          [
           "New York Giants",
           2019
          ],
          [
           "Washington Commanders",
           2019
          ],
          [
           "Green Bay Packers",
           2019
          ],
          [
           "Minnesota Vikings",
           2019
          ],
          [
           "Chicago Bears",
           2019
          ],
          [
           "Detroit Lions",
           2019
          ],
          [
           "New Orleans Saints",
           2019
          ],
          [
           "Atlanta Falcons",
           2019
          ],
          [
           "Tampa Bay Buccaneers",
           2019
          ],
          [
           "Carolina Panthers",
           2019
          ],
          [
           "San Francisco 49ers",
           2019
          ],
          [
           "Seattle Seahawks",
           2019
          ],
          [
           "Los Angeles Rams",
           2019
          ],
          [
           "Arizona Cardinals",
           2019
          ],
          [
           "New England Patriots",
           2018
          ],
          [
           "Miami Dolphins",
           2018
          ],
          [
           "Buffalo Bills",
           2018
          ],
          [
           "New York Jets",
           2018
          ],
          [
           "Baltimore Ravens",
           2018
          ],
          [
           "Pittsburgh Steelers",
           2018
          ],
          [
           "Cleveland Browns",
           2018
          ],
          [
           "Cincinnati Bengals",
           2018
          ],
          [
           "Houston Texans",
           2018
          ],
          [
           "Indianapolis Colts",
           2018
          ],
          [
           "Tennessee Titans",
           2018
          ],
          [
           "Jacksonville Jaguars",
           2018
          ],
          [
           "Kansas City Chiefs",
           2018
          ],
          [
           "Los Angeles Chargers",
           2018
          ],
          [
           "Denver Broncos",
           2018
          ],
          [
           "Las Vegas Raiders",
           2018
          ],
          [
           "Dallas Cowboys",
           2018
          ],
          [
           "Philadelphia Eagles",
           2018
          ],
          [
           "Washington Commanders",
           2018
          ],
          [
           "New York Giants",
           2018
          ],
          [
           "Chicago Bears",
           2018
          ],
          [
           "Minnesota Vikings",
           2018
          ],
          [
           "Green Bay Packers",
           2018
          ],
          [
           "Detroit Lions",
           2018
          ],
          [
           "New Orleans Saints",
           2018
          ],
          [
           "Atlanta Falcons",
           2018
          ],
          [
           "Carolina Panthers",
           2018
          ],
          [
           "Tampa Bay Buccaneers",
           2018
          ],
          [
           "Los Angeles Rams",
           2018
          ],
          [
           "Seattle Seahawks",
           2018
          ],
          [
           "San Francisco 49ers",
           2018
          ],
          [
           "Arizona Cardinals",
           2018
          ],
          [
           "New England Patriots",
           2017
          ],
          [
           "Buffalo Bills",
           2017
          ],
          [
           "Miami Dolphins",
           2017
          ],
          [
           "New York Jets",
           2017
          ],
          [
           "Pittsburgh Steelers",
           2017
          ],
          [
           "Baltimore Ravens",
           2017
          ],
          [
           "Cincinnati Bengals",
           2017
          ],
          [
           "Cleveland Browns",
           2017
          ],
          [
           "Jacksonville Jaguars",
           2017
          ],
          [
           "Tennessee Titans",
           2017
          ],
          [
           "Indianapolis Colts",
           2017
          ],
          [
           "Houston Texans",
           2017
          ],
          [
           "Kansas City Chiefs",
           2017
          ],
          [
           "Los Angeles Chargers",
           2017
          ],
          [
           "Las Vegas Raiders",
           2017
          ],
          [
           "Denver Broncos",
           2017
          ],
          [
           "Philadelphia Eagles",
           2017
          ],
          [
           "Dallas Cowboys",
           2017
          ],
          [
           "Washington Commanders",
           2017
          ],
          [
           "New York Giants",
           2017
          ],
          [
           "Minnesota Vikings",
           2017
          ],
          [
           "Detroit Lions",
           2017
          ],
          [
           "Green Bay Packers",
           2017
          ],
          [
           "Chicago Bears",
           2017
          ],
          [
           "New Orleans Saints",
           2017
          ],
          [
           "Carolina Panthers",
           2017
          ],
          [
           "Atlanta Falcons",
           2017
          ],
          [
           "Tampa Bay Buccaneers",
           2017
          ],
          [
           "Los Angeles Rams",
           2017
          ],
          [
           "Seattle Seahawks",
           2017
          ],
          [
           "Arizona Cardinals",
           2017
          ],
          [
           "San Francisco 49ers",
           2017
          ],
          [
           "New England Patriots",
           2016
          ],
          [
           "Miami Dolphins",
           2016
          ],
          [
           "Buffalo Bills",
           2016
          ],
          [
           "New York Jets",
           2016
          ],
          [
           "Pittsburgh Steelers",
           2016
          ],
          [
           "Baltimore Ravens",
           2016
          ],
          [
           "Cincinnati Bengals",
           2016
          ],
          [
           "Cleveland Browns",
           2016
          ],
          [
           "Houston Texans",
           2016
          ],
          [
           "Tennessee Titans",
           2016
          ],
          [
           "Indianapolis Colts",
           2016
          ],
          [
           "Jacksonville Jaguars",
           2016
          ],
          [
           "Kansas City Chiefs",
           2016
          ],
          [
           "Las Vegas Raiders",
           2016
          ],
          [
           "Denver Broncos",
           2016
          ],
          [
           "Los Angeles Chargers",
           2016
          ],
          [
           "Dallas Cowboys",
           2016
          ],
          [
           "New York Giants",
           2016
          ],
          [
           "Washington Commanders",
           2016
          ],
          [
           "Philadelphia Eagles",
           2016
          ],
          [
           "Green Bay Packers",
           2016
          ],
          [
           "Detroit Lions",
           2016
          ],
          [
           "Minnesota Vikings",
           2016
          ],
          [
           "Chicago Bears",
           2016
          ],
          [
           "Atlanta Falcons",
           2016
          ],
          [
           "Tampa Bay Buccaneers",
           2016
          ],
          [
           "New Orleans Saints",
           2016
          ],
          [
           "Carolina Panthers",
           2016
          ],
          [
           "Seattle Seahawks",
           2016
          ],
          [
           "Arizona Cardinals",
           2016
          ],
          [
           "Los Angeles Rams",
           2016
          ],
          [
           "San Francisco 49ers",
           2016
          ],
          [
           "New England Patriots",
           2015
          ],
          [
           "New York Jets",
           2015
          ],
          [
           "Buffalo Bills",
           2015
          ],
          [
           "Miami Dolphins",
           2015
          ],
          [
           "Cincinnati Bengals",
           2015
          ],
          [
           "Pittsburgh Steelers",
           2015
          ],
          [
           "Baltimore Ravens",
           2015
          ],
          [
           "Cleveland Browns",
           2015
          ],
          [
           "Houston Texans",
           2015
          ],
          [
           "Indianapolis Colts",
           2015
          ],
          [
           "Jacksonville Jaguars",
           2015
          ],
          [
           "Tennessee Titans",
           2015
          ],
          [
           "Denver Broncos",
           2015
          ],
          [
           "Kansas City Chiefs",
           2015
          ],
          [
           "Las Vegas Raiders",
           2015
          ],
          [
           "Los Angeles Chargers",
           2015
          ],
          [
           "Washington Commanders",
           2015
          ],
          [
           "Philadelphia Eagles",
           2015
          ],
          [
           "New York Giants",
           2015
          ],
          [
           "Dallas Cowboys",
           2015
          ],
          [
           "Minnesota Vikings",
           2015
          ],
          [
           "Green Bay Packers",
           2015
          ],
          [
           "Detroit Lions",
           2015
          ],
          [
           "Chicago Bears",
           2015
          ],
          [
           "Carolina Panthers",
           2015
          ],
          [
           "Atlanta Falcons",
           2015
          ],
          [
           "New Orleans Saints",
           2015
          ],
          [
           "Tampa Bay Buccaneers",
           2015
          ],
          [
           "Arizona Cardinals",
           2015
          ],
          [
           "Seattle Seahawks",
           2015
          ],
          [
           "Los Angeles Rams",
           2015
          ],
          [
           "San Francisco 49ers",
           2015
          ],
          [
           "New England Patriots",
           2014
          ],
          [
           "Buffalo Bills",
           2014
          ],
          [
           "Miami Dolphins",
           2014
          ],
          [
           "New York Jets",
           2014
          ],
          [
           "Pittsburgh Steelers",
           2014
          ],
          [
           "Cincinnati Bengals",
           2014
          ],
          [
           "Baltimore Ravens",
           2014
          ],
          [
           "Cleveland Browns",
           2014
          ],
          [
           "Indianapolis Colts",
           2014
          ],
          [
           "Houston Texans",
           2014
          ],
          [
           "Jacksonville Jaguars",
           2014
          ],
          [
           "Tennessee Titans",
           2014
          ],
          [
           "Denver Broncos",
           2014
          ],
          [
           "Kansas City Chiefs",
           2014
          ],
          [
           "Los Angeles Chargers",
           2014
          ],
          [
           "Las Vegas Raiders",
           2014
          ],
          [
           "Dallas Cowboys",
           2014
          ],
          [
           "Philadelphia Eagles",
           2014
          ],
          [
           "New York Giants",
           2014
          ],
          [
           "Washington Commanders",
           2014
          ],
          [
           "Green Bay Packers",
           2014
          ],
          [
           "Detroit Lions",
           2014
          ],
          [
           "Minnesota Vikings",
           2014
          ],
          [
           "Chicago Bears",
           2014
          ],
          [
           "Carolina Panthers",
           2014
          ],
          [
           "New Orleans Saints",
           2014
          ],
          [
           "Atlanta Falcons",
           2014
          ],
          [
           "Tampa Bay Buccaneers",
           2014
          ],
          [
           "Seattle Seahawks",
           2014
          ],
          [
           "Arizona Cardinals",
           2014
          ],
          [
           "San Francisco 49ers",
           2014
          ],
          [
           "Los Angeles Rams",
           2014
          ],
          [
           "New England Patriots",
           2013
          ],
          [
           "New York Jets",
           2013
          ],
          [
           "Miami Dolphins",
           2013
          ],
          [
           "Buffalo Bills",
           2013
          ],
          [
           "Cincinnati Bengals",
           2013
          ],
          [
           "Pittsburgh Steelers",
           2013
          ],
          [
           "Baltimore Ravens",
           2013
          ],
          [
           "Cleveland Browns",
           2013
          ],
          [
           "Indianapolis Colts",
           2013
          ],
          [
           "Tennessee Titans",
           2013
          ],
          [
           "Jacksonville Jaguars",
           2013
          ],
          [
           "Houston Texans",
           2013
          ],
          [
           "Denver Broncos",
           2013
          ],
          [
           "Kansas City Chiefs",
           2013
          ],
          [
           "Los Angeles Chargers",
           2013
          ],
          [
           "Las Vegas Raiders",
           2013
          ],
          [
           "Philadelphia Eagles",
           2013
          ],
          [
           "Dallas Cowboys",
           2013
          ],
          [
           "New York Giants",
           2013
          ],
          [
           "Washington Commanders",
           2013
          ],
          [
           "Green Bay Packers",
           2013
          ],
          [
           "Chicago Bears",
           2013
          ],
          [
           "Detroit Lions",
           2013
          ],
          [
           "Minnesota Vikings",
           2013
          ],
          [
           "Carolina Panthers",
           2013
          ],
          [
           "New Orleans Saints",
           2013
          ],
          [
           "Atlanta Falcons",
           2013
          ],
          [
           "Tampa Bay Buccaneers",
           2013
          ],
          [
           "Seattle Seahawks",
           2013
          ],
          [
           "San Francisco 49ers",
           2013
          ],
          [
           "Arizona Cardinals",
           2013
          ],
          [
           "Los Angeles Rams",
           2013
          ],
          [
           "New England Patriots",
           2012
          ],
          [
           "Miami Dolphins",
           2012
          ],
          [
           "New York Jets",
           2012
          ],
          [
           "Buffalo Bills",
           2012
          ],
          [
           "Baltimore Ravens",
           2012
          ],
          [
           "Cincinnati Bengals",
           2012
          ],
          [
           "Pittsburgh Steelers",
           2012
          ],
          [
           "Cleveland Browns",
           2012
          ],
          [
           "Houston Texans",
           2012
          ],
          [
           "Indianapolis Colts",
           2012
          ],
          [
           "Tennessee Titans",
           2012
          ],
          [
           "Jacksonville Jaguars",
           2012
          ],
          [
           "Denver Broncos",
           2012
          ],
          [
           "Los Angeles Chargers",
           2012
          ],
          [
           "Las Vegas Raiders",
           2012
          ],
          [
           "Kansas City Chiefs",
           2012
          ],
          [
           "Washington Commanders",
           2012
          ],
          [
           "New York Giants",
           2012
          ],
          [
           "Dallas Cowboys",
           2012
          ],
          [
           "Philadelphia Eagles",
           2012
          ],
          [
           "Green Bay Packers",
           2012
          ],
          [
           "Minnesota Vikings",
           2012
          ],
          [
           "Chicago Bears",
           2012
          ],
          [
           "Detroit Lions",
           2012
          ],
          [
           "Atlanta Falcons",
           2012
          ],
          [
           "Carolina Panthers",
           2012
          ],
          [
           "New Orleans Saints",
           2012
          ],
          [
           "Tampa Bay Buccaneers",
           2012
          ],
          [
           "San Francisco 49ers",
           2012
          ],
          [
           "Seattle Seahawks",
           2012
          ],
          [
           "Los Angeles Rams",
           2012
          ],
          [
           "Arizona Cardinals",
           2012
          ],
          [
           "New England Patriots",
           2011
          ],
          [
           "New York Jets",
           2011
          ],
          [
           "Miami Dolphins",
           2011
          ],
          [
           "Buffalo Bills",
           2011
          ],
          [
           "Baltimore Ravens",
           2011
          ],
          [
           "Pittsburgh Steelers",
           2011
          ],
          [
           "Cincinnati Bengals",
           2011
          ],
          [
           "Cleveland Browns",
           2011
          ],
          [
           "Houston Texans",
           2011
          ],
          [
           "Tennessee Titans",
           2011
          ],
          [
           "Jacksonville Jaguars",
           2011
          ],
          [
           "Indianapolis Colts",
           2011
          ],
          [
           "Denver Broncos",
           2011
          ],
          [
           "Los Angeles Chargers",
           2011
          ],
          [
           "Las Vegas Raiders",
           2011
          ],
          [
           "Kansas City Chiefs",
           2011
          ],
          [
           "New York Giants",
           2011
          ],
          [
           "Philadelphia Eagles",
           2011
          ],
          [
           "Dallas Cowboys",
           2011
          ],
          [
           "Washington Commanders",
           2011
          ],
          [
           "Green Bay Packers",
           2011
          ],
          [
           "Detroit Lions",
           2011
          ],
          [
           "Chicago Bears",
           2011
          ],
          [
           "Minnesota Vikings",
           2011
          ],
          [
           "New Orleans Saints",
           2011
          ],
          [
           "Atlanta Falcons",
           2011
          ],
          [
           "Carolina Panthers",
           2011
          ],
          [
           "Tampa Bay Buccaneers",
           2011
          ],
          [
           "San Francisco 49ers",
           2011
          ],
          [
           "Arizona Cardinals",
           2011
          ],
          [
           "Seattle Seahawks",
           2011
          ],
          [
           "Los Angeles Rams",
           2011
          ],
          [
           "New England Patriots",
           2010
          ],
          [
           "New York Jets",
           2010
          ],
          [
           "Miami Dolphins",
           2010
          ],
          [
           "Buffalo Bills",
           2010
          ],
          [
           "Pittsburgh Steelers",
           2010
          ],
          [
           "Baltimore Ravens",
           2010
          ],
          [
           "Cleveland Browns",
           2010
          ],
          [
           "Cincinnati Bengals",
           2010
          ],
          [
           "Indianapolis Colts",
           2010
          ],
          [
           "Jacksonville Jaguars",
           2010
          ],
          [
           "Houston Texans",
           2010
          ],
          [
           "Tennessee Titans",
           2010
          ],
          [
           "Kansas City Chiefs",
           2010
          ],
          [
           "Los Angeles Chargers",
           2010
          ],
          [
           "Las Vegas Raiders",
           2010
          ],
          [
           "Denver Broncos",
           2010
          ],
          [
           "Philadelphia Eagles",
           2010
          ],
          [
           "New York Giants",
           2010
          ],
          [
           "Dallas Cowboys",
           2010
          ],
          [
           "Washington Commanders",
           2010
          ],
          [
           "Chicago Bears",
           2010
          ],
          [
           "Green Bay Packers",
           2010
          ],
          [
           "Detroit Lions",
           2010
          ],
          [
           "Minnesota Vikings",
           2010
          ],
          [
           "Atlanta Falcons",
           2010
          ],
          [
           "New Orleans Saints",
           2010
          ],
          [
           "Tampa Bay Buccaneers",
           2010
          ],
          [
           "Carolina Panthers",
           2010
          ],
          [
           "Seattle Seahawks",
           2010
          ],
          [
           "Los Angeles Rams",
           2010
          ],
          [
           "San Francisco 49ers",
           2010
          ],
          [
           "Arizona Cardinals",
           2010
          ],
          [
           "New England Patriots",
           2009
          ],
          [
           "New York Jets",
           2009
          ],
          [
           "Miami Dolphins",
           2009
          ],
          [
           "Buffalo Bills",
           2009
          ],
          [
           "Cincinnati Bengals",
           2009
          ],
          [
           "Baltimore Ravens",
           2009
          ],
          [
           "Pittsburgh Steelers",
           2009
          ],
          [
           "Cleveland Browns",
           2009
          ],
          [
           "Indianapolis Colts",
           2009
          ],
          [
           "Houston Texans",
           2009
          ],
          [
           "Tennessee Titans",
           2009
          ],
          [
           "Jacksonville Jaguars",
           2009
          ],
          [
           "Los Angeles Chargers",
           2009
          ],
          [
           "Denver Broncos",
           2009
          ],
          [
           "Las Vegas Raiders",
           2009
          ],
          [
           "Kansas City Chiefs",
           2009
          ],
          [
           "Dallas Cowboys",
           2009
          ],
          [
           "Philadelphia Eagles",
           2009
          ],
          [
           "New York Giants",
           2009
          ],
          [
           "Washington Commanders",
           2009
          ],
          [
           "Minnesota Vikings",
           2009
          ],
          [
           "Green Bay Packers",
           2009
          ],
          [
           "Chicago Bears",
           2009
          ],
          [
           "Detroit Lions",
           2009
          ],
          [
           "New Orleans Saints",
           2009
          ],
          [
           "Atlanta Falcons",
           2009
          ],
          [
           "Carolina Panthers",
           2009
          ],
          [
           "Tampa Bay Buccaneers",
           2009
          ],
          [
           "Arizona Cardinals",
           2009
          ],
          [
           "San Francisco 49ers",
           2009
          ],
          [
           "Seattle Seahawks",
           2009
          ],
          [
           "Los Angeles Rams",
           2009
          ],
          [
           "Miami Dolphins",
           2008
          ],
          [
           "New England Patriots",
           2008
          ],
          [
           "New York Jets",
           2008
          ],
          [
           "Buffalo Bills",
           2008
          ],
          [
           "Pittsburgh Steelers",
           2008
          ],
          [
           "Baltimore Ravens",
           2008
          ],
          [
           "Cincinnati Bengals",
           2008
          ],
          [
           "Cleveland Browns",
           2008
          ],
          [
           "Tennessee Titans",
           2008
          ],
          [
           "Indianapolis Colts",
           2008
          ],
          [
           "Houston Texans",
           2008
          ],
          [
           "Jacksonville Jaguars",
           2008
          ],
          [
           "Los Angeles Chargers",
           2008
          ],
          [
           "Denver Broncos",
           2008
          ],
          [
           "Las Vegas Raiders",
           2008
          ],
          [
           "Kansas City Chiefs",
           2008
          ],
          [
           "New York Giants",
           2008
          ],
          [
           "Philadelphia Eagles",
           2008
          ],
          [
           "Dallas Cowboys",
           2008
          ],
          [
           "Washington Commanders",
           2008
          ],
          [
           "Minnesota Vikings",
           2008
          ],
          [
           "Chicago Bears",
           2008
          ],
          [
           "Green Bay Packers",
           2008
          ],
          [
           "Detroit Lions",
           2008
          ],
          [
           "Carolina Panthers",
           2008
          ],
          [
           "Atlanta Falcons",
           2008
          ],
          [
           "Tampa Bay Buccaneers",
           2008
          ],
          [
           "New Orleans Saints",
           2008
          ],
          [
           "Arizona Cardinals",
           2008
          ],
          [
           "San Francisco 49ers",
           2008
          ],
          [
           "Seattle Seahawks",
           2008
          ],
          [
           "Los Angeles Rams",
           2008
          ],
          [
           "New England Patriots",
           2007
          ],
          [
           "Buffalo Bills",
           2007
          ],
          [
           "New York Jets",
           2007
          ],
          [
           "Miami Dolphins",
           2007
          ],
          [
           "Pittsburgh Steelers",
           2007
          ],
          [
           "Cleveland Browns",
           2007
          ],
          [
           "Cincinnati Bengals",
           2007
          ],
          [
           "Baltimore Ravens",
           2007
          ],
          [
           "Indianapolis Colts",
           2007
          ],
          [
           "Jacksonville Jaguars",
           2007
          ],
          [
           "Tennessee Titans",
           2007
          ],
          [
           "Houston Texans",
           2007
          ],
          [
           "Los Angeles Chargers",
           2007
          ],
          [
           "Denver Broncos",
           2007
          ],
          [
           "Kansas City Chiefs",
           2007
          ],
          [
           "Las Vegas Raiders",
           2007
          ],
          [
           "Dallas Cowboys",
           2007
          ],
          [
           "New York Giants",
           2007
          ],
          [
           "Washington Commanders",
           2007
          ],
          [
           "Philadelphia Eagles",
           2007
          ],
          [
           "Green Bay Packers",
           2007
          ],
          [
           "Minnesota Vikings",
           2007
          ],
          [
           "Detroit Lions",
           2007
          ],
          [
           "Chicago Bears",
           2007
          ],
          [
           "Tampa Bay Buccaneers",
           2007
          ],
          [
           "Carolina Panthers",
           2007
          ],
          [
           "New Orleans Saints",
           2007
          ],
          [
           "Atlanta Falcons",
           2007
          ],
          [
           "Seattle Seahawks",
           2007
          ],
          [
           "Arizona Cardinals",
           2007
          ],
          [
           "San Francisco 49ers",
           2007
          ],
          [
           "Los Angeles Rams",
           2007
          ],
          [
           "New England Patriots",
           2006
          ],
          [
           "New York Jets",
           2006
          ],
          [
           "Buffalo Bills",
           2006
          ],
          [
           "Miami Dolphins",
           2006
          ],
          [
           "Baltimore Ravens",
           2006
          ],
          [
           "Cincinnati Bengals",
           2006
          ],
          [
           "Pittsburgh Steelers",
           2006
          ],
          [
           "Cleveland Browns",
           2006
          ],
          [
           "Indianapolis Colts",
           2006
          ],
          [
           "Tennessee Titans",
           2006
          ],
          [
           "Jacksonville Jaguars",
           2006
          ],
          [
           "Houston Texans",
           2006
          ],
          [
           "Los Angeles Chargers",
           2006
          ],
          [
           "Kansas City Chiefs",
           2006
          ],
          [
           "Denver Broncos",
           2006
          ],
          [
           "Las Vegas Raiders",
           2006
          ],
          [
           "Philadelphia Eagles",
           2006
          ],
          [
           "Dallas Cowboys",
           2006
          ],
          [
           "New York Giants",
           2006
          ],
          [
           "Washington Commanders",
           2006
          ],
          [
           "Chicago Bears",
           2006
          ],
          [
           "Green Bay Packers",
           2006
          ],
          [
           "Minnesota Vikings",
           2006
          ],
          [
           "Detroit Lions",
           2006
          ],
          [
           "New Orleans Saints",
           2006
          ],
          [
           "Carolina Panthers",
           2006
          ],
          [
           "Atlanta Falcons",
           2006
          ],
          [
           "Tampa Bay Buccaneers",
           2006
          ],
          [
           "Seattle Seahawks",
           2006
          ],
          [
           "Los Angeles Rams",
           2006
          ],
          [
           "San Francisco 49ers",
           2006
          ],
          [
           "Arizona Cardinals",
           2006
          ],
          [
           "New England Patriots",
           2005
          ],
          [
           "Miami Dolphins",
           2005
          ],
          [
           "Buffalo Bills",
           2005
          ],
          [
           "New York Jets",
           2005
          ],
          [
           "Cincinnati Bengals",
           2005
          ],
          [
           "Pittsburgh Steelers",
           2005
          ],
          [
           "Baltimore Ravens",
           2005
          ],
          [
           "Cleveland Browns",
           2005
          ],
          [
           "Indianapolis Colts",
           2005
          ],
          [
           "Jacksonville Jaguars",
           2005
          ],
          [
           "Tennessee Titans",
           2005
          ],
          [
           "Houston Texans",
           2005
          ],
          [
           "Denver Broncos",
           2005
          ],
          [
           "Kansas City Chiefs",
           2005
          ],
          [
           "Los Angeles Chargers",
           2005
          ],
          [
           "Las Vegas Raiders",
           2005
          ],
          [
           "New York Giants",
           2005
          ],
          [
           "Washington Commanders",
           2005
          ],
          [
           "Dallas Cowboys",
           2005
          ],
          [
           "Philadelphia Eagles",
           2005
          ],
          [
           "Chicago Bears",
           2005
          ],
          [
           "Minnesota Vikings",
           2005
          ],
          [
           "Detroit Lions",
           2005
          ],
          [
           "Green Bay Packers",
           2005
          ],
          [
           "Tampa Bay Buccaneers",
           2005
          ],
          [
           "Carolina Panthers",
           2005
          ],
          [
           "Atlanta Falcons",
           2005
          ],
          [
           "New Orleans Saints",
           2005
          ],
          [
           "Seattle Seahawks",
           2005
          ],
          [
           "Los Angeles Rams",
           2005
          ],
          [
           "Arizona Cardinals",
           2005
          ],
          [
           "San Francisco 49ers",
           2005
          ],
          [
           "New England Patriots",
           2004
          ],
          [
           "New York Jets",
           2004
          ],
          [
           "Buffalo Bills",
           2004
          ],
          [
           "Miami Dolphins",
           2004
          ],
          [
           "Pittsburgh Steelers",
           2004
          ],
          [
           "Baltimore Ravens",
           2004
          ],
          [
           "Cincinnati Bengals",
           2004
          ],
          [
           "Cleveland Browns",
           2004
          ],
          [
           "Indianapolis Colts",
           2004
          ],
          [
           "Jacksonville Jaguars",
           2004
          ],
          [
           "Houston Texans",
           2004
          ],
          [
           "Tennessee Titans",
           2004
          ],
          [
           "Los Angeles Chargers",
           2004
          ],
          [
           "Denver Broncos",
           2004
          ],
          [
           "Kansas City Chiefs",
           2004
          ],
          [
           "Las Vegas Raiders",
           2004
          ],
          [
           "Philadelphia Eagles",
           2004
          ],
          [
           "New York Giants",
           2004
          ],
          [
           "Dallas Cowboys",
           2004
          ],
          [
           "Washington Commanders",
           2004
          ],
          [
           "Green Bay Packers",
           2004
          ],
          [
           "Minnesota Vikings",
           2004
          ],
          [
           "Detroit Lions",
           2004
          ],
          [
           "Chicago Bears",
           2004
          ],
          [
           "Atlanta Falcons",
           2004
          ],
          [
           "New Orleans Saints",
           2004
          ],
          [
           "Carolina Panthers",
           2004
          ],
          [
           "Tampa Bay Buccaneers",
           2004
          ],
          [
           "Seattle Seahawks",
           2004
          ],
          [
           "Los Angeles Rams",
           2004
          ],
          [
           "Arizona Cardinals",
           2004
          ],
          [
           "San Francisco 49ers",
           2004
          ],
          [
           "New England Patriots",
           2003
          ],
          [
           "Miami Dolphins",
           2003
          ],
          [
           "Buffalo Bills",
           2003
          ],
          [
           "New York Jets",
           2003
          ],
          [
           "Baltimore Ravens",
           2003
          ],
          [
           "Cincinnati Bengals",
           2003
          ],
          [
           "Pittsburgh Steelers",
           2003
          ],
          [
           "Cleveland Browns",
           2003
          ],
          [
           "Indianapolis Colts",
           2003
          ],
          [
           "Tennessee Titans",
           2003
          ],
          [
           "Jacksonville Jaguars",
           2003
          ],
          [
           "Houston Texans",
           2003
          ],
          [
           "Kansas City Chiefs",
           2003
          ],
          [
           "Denver Broncos",
           2003
          ],
          [
           "Las Vegas Raiders",
           2003
          ],
          [
           "Los Angeles Chargers",
           2003
          ],
          [
           "Philadelphia Eagles",
           2003
          ],
          [
           "Dallas Cowboys",
           2003
          ],
          [
           "Washington Commanders",
           2003
          ],
          [
           "New York Giants",
           2003
          ],
          [
           "Green Bay Packers",
           2003
          ],
          [
           "Minnesota Vikings",
           2003
          ],
          [
           "Chicago Bears",
           2003
          ],
          [
           "Detroit Lions",
           2003
          ],
          [
           "Carolina Panthers",
           2003
          ],
          [
           "New Orleans Saints",
           2003
          ],
          [
           "Tampa Bay Buccaneers",
           2003
          ],
          [
           "Atlanta Falcons",
           2003
          ],
          [
           "Los Angeles Rams",
           2003
          ],
          [
           "Seattle Seahawks",
           2003
          ],
          [
           "San Francisco 49ers",
           2003
          ],
          [
           "Arizona Cardinals",
           2003
          ]
         ],
         "hovertemplate": "YPG_opp=%{x}<br>PPG_opp=%{y}<br>Tm=%{customdata[0]}<br>Season=%{marker.color}<extra></extra>",
         "legendgroup": "",
         "marker": {
          "color": [
           2021,
           2021,
           2021,
           2021,
           2021,
           2021,
           2021,
           2021,
           2021,
           2021,
           2021,
           2021,
           2021,
           2021,
           2021,
           2021,
           2021,
           2021,
           2021,
           2021,
           2021,
           2021,
           2021,
           2021,
           2021,
           2021,
           2021,
           2021,
           2021,
           2021,
           2021,
           2021,
           2020,
           2020,
           2020,
           2020,
           2020,
           2020,
           2020,
           2020,
           2020,
           2020,
           2020,
           2020,
           2020,
           2020,
           2020,
           2020,
           2020,
           2020,
           2020,
           2020,
           2020,
           2020,
           2020,
           2020,
           2020,
           2020,
           2020,
           2020,
           2020,
           2020,
           2020,
           2020,
           2019,
           2019,
           2019,
           2019,
           2019,
           2019,
           2019,
           2019,
           2019,
           2019,
           2019,
           2019,
           2019,
           2019,
           2019,
           2019,
           2019,
           2019,
           2019,
           2019,
           2019,
           2019,
           2019,
           2019,
           2019,
           2019,
           2019,
           2019,
           2019,
           2019,
           2019,
           2019,
           2018,
           2018,
           2018,
           2018,
           2018,
           2018,
           2018,
           2018,
           2018,
           2018,
           2018,
           2018,
           2018,
           2018,
           2018,
           2018,
           2018,
           2018,
           2018,
           2018,
           2018,
           2018,
           2018,
           2018,
           2018,
           2018,
           2018,
           2018,
           2018,
           2018,
           2018,
           2018,
           2017,
           2017,
           2017,
           2017,
           2017,
           2017,
           2017,
           2017,
           2017,
           2017,
           2017,
           2017,
           2017,
           2017,
           2017,
           2017,
           2017,
           2017,
           2017,
           2017,
           2017,
           2017,
           2017,
           2017,
           2017,
           2017,
           2017,
           2017,
           2017,
           2017,
           2017,
           2017,
           2016,
           2016,
           2016,
           2016,
           2016,
           2016,
           2016,
           2016,
           2016,
           2016,
           2016,
           2016,
           2016,
           2016,
           2016,
           2016,
           2016,
           2016,
           2016,
           2016,
           2016,
           2016,
           2016,
           2016,
           2016,
           2016,
           2016,
           2016,
           2016,
           2016,
           2016,
           2016,
           2015,
           2015,
           2015,
           2015,
           2015,
           2015,
           2015,
           2015,
           2015,
           2015,
           2015,
           2015,
           2015,
           2015,
           2015,
           2015,
           2015,
           2015,
           2015,
           2015,
           2015,
           2015,
           2015,
           2015,
           2015,
           2015,
           2015,
           2015,
           2015,
           2015,
           2015,
           2015,
           2014,
           2014,
           2014,
           2014,
           2014,
           2014,
           2014,
           2014,
           2014,
           2014,
           2014,
           2014,
           2014,
           2014,
           2014,
           2014,
           2014,
           2014,
           2014,
           2014,
           2014,
           2014,
           2014,
           2014,
           2014,
           2014,
           2014,
           2014,
           2014,
           2014,
           2014,
           2014,
           2013,
           2013,
           2013,
           2013,
           2013,
           2013,
           2013,
           2013,
           2013,
           2013,
           2013,
           2013,
           2013,
           2013,
           2013,
           2013,
           2013,
           2013,
           2013,
           2013,
           2013,
           2013,
           2013,
           2013,
           2013,
           2013,
           2013,
           2013,
           2013,
           2013,
           2013,
           2013,
           2012,
           2012,
           2012,
           2012,
           2012,
           2012,
           2012,
           2012,
           2012,
           2012,
           2012,
           2012,
           2012,
           2012,
           2012,
           2012,
           2012,
           2012,
           2012,
           2012,
           2012,
           2012,
           2012,
           2012,
           2012,
           2012,
           2012,
           2012,
           2012,
           2012,
           2012,
           2012,
           2011,
           2011,
           2011,
           2011,
           2011,
           2011,
           2011,
           2011,
           2011,
           2011,
           2011,
           2011,
           2011,
           2011,
           2011,
           2011,
           2011,
           2011,
           2011,
           2011,
           2011,
           2011,
           2011,
           2011,
           2011,
           2011,
           2011,
           2011,
           2011,
           2011,
           2011,
           2011,
           2010,
           2010,
           2010,
           2010,
           2010,
           2010,
           2010,
           2010,
           2010,
           2010,
           2010,
           2010,
           2010,
           2010,
           2010,
           2010,
           2010,
           2010,
           2010,
           2010,
           2010,
           2010,
           2010,
           2010,
           2010,
           2010,
           2010,
           2010,
           2010,
           2010,
           2010,
           2010,
           2009,
           2009,
           2009,
           2009,
           2009,
           2009,
           2009,
           2009,
           2009,
           2009,
           2009,
           2009,
           2009,
           2009,
           2009,
           2009,
           2009,
           2009,
           2009,
           2009,
           2009,
           2009,
           2009,
           2009,
           2009,
           2009,
           2009,
           2009,
           2009,
           2009,
           2009,
           2009,
           2008,
           2008,
           2008,
           2008,
           2008,
           2008,
           2008,
           2008,
           2008,
           2008,
           2008,
           2008,
           2008,
           2008,
           2008,
           2008,
           2008,
           2008,
           2008,
           2008,
           2008,
           2008,
           2008,
           2008,
           2008,
           2008,
           2008,
           2008,
           2008,
           2008,
           2008,
           2008,
           2007,
           2007,
           2007,
           2007,
           2007,
           2007,
           2007,
           2007,
           2007,
           2007,
           2007,
           2007,
           2007,
           2007,
           2007,
           2007,
           2007,
           2007,
           2007,
           2007,
           2007,
           2007,
           2007,
           2007,
           2007,
           2007,
           2007,
           2007,
           2007,
           2007,
           2007,
           2007,
           2006,
           2006,
           2006,
           2006,
           2006,
           2006,
           2006,
           2006,
           2006,
           2006,
           2006,
           2006,
           2006,
           2006,
           2006,
           2006,
           2006,
           2006,
           2006,
           2006,
           2006,
           2006,
           2006,
           2006,
           2006,
           2006,
           2006,
           2006,
           2006,
           2006,
           2006,
           2006,
           2005,
           2005,
           2005,
           2005,
           2005,
           2005,
           2005,
           2005,
           2005,
           2005,
           2005,
           2005,
           2005,
           2005,
           2005,
           2005,
           2005,
           2005,
           2005,
           2005,
           2005,
           2005,
           2005,
           2005,
           2005,
           2005,
           2005,
           2005,
           2005,
           2005,
           2005,
           2005,
           2004,
           2004,
           2004,
           2004,
           2004,
           2004,
           2004,
           2004,
           2004,
           2004,
           2004,
           2004,
           2004,
           2004,
           2004,
           2004,
           2004,
           2004,
           2004,
           2004,
           2004,
           2004,
           2004,
           2004,
           2004,
           2004,
           2004,
           2004,
           2004,
           2004,
           2004,
           2004,
           2003,
           2003,
           2003,
           2003,
           2003,
           2003,
           2003,
           2003,
           2003,
           2003,
           2003,
           2003,
           2003,
           2003,
           2003,
           2003,
           2003,
           2003,
           2003,
           2003,
           2003,
           2003,
           2003,
           2003,
           2003,
           2003,
           2003,
           2003,
           2003,
           2003,
           2003,
           2003
          ],
          "coloraxis": "coloraxis",
          "symbol": "circle"
         },
         "mode": "markers",
         "name": "",
         "orientation": "v",
         "showlegend": false,
         "type": "scatter",
         "x": [
          272.7647058823529,
          310.8235294117647,
          337.52941176470586,
          397.6470588235294,
          350.8235294117647,
          361.11764705882354,
          311.52941176470586,
          363.4117647058824,
          329.8235294117647,
          343.1764705882353,
          384.4117647058824,
          353.05882352941177,
          368.94117647058823,
          337.1764705882353,
          360.11764705882354,
          326.11764705882354,
          351,
          328.8235294117647,
          359.29411764705884,
          354.8235294117647,
          328.1764705882353,
          383.6470588235294,
          316.70588235294116,
          379.7647058823529,
          331.47058823529414,
          318.2352941176471,
          364.3529411764706,
          305.94117647058823,
          344.88235294117646,
          329.2352941176471,
          310,
          379.11764705882354,
          272.7647058823529,
          337.52941176470586,
          310.8235294117647,
          397.6470588235294,
          361.11764705882354,
          363.4117647058824,
          311.52941176470586,
          350.8235294117647,
          329.8235294117647,
          343.1764705882353,
          384.4117647058824,
          353.05882352941177,
          368.94117647058823,
          337.1764705882353,
          360.11764705882354,
          326.11764705882354,
          359.29411764705884,
          354.8235294117647,
          351,
          328.8235294117647,
          328.1764705882353,
          316.70588235294116,
          383.6470588235294,
          379.7647058823529,
          318.2352941176471,
          331.47058823529414,
          305.94117647058823,
          364.3529411764706,
          379.11764705882354,
          344.88235294117646,
          329.2352941176471,
          310,
          310.8235294117647,
          272.7647058823529,
          397.6470588235294,
          337.52941176470586,
          363.4117647058824,
          361.11764705882354,
          311.52941176470586,
          350.8235294117647,
          384.4117647058824,
          329.8235294117647,
          343.1764705882353,
          353.05882352941177,
          368.94117647058823,
          326.11764705882354,
          337.1764705882353,
          360.11764705882354,
          328.8235294117647,
          351,
          354.8235294117647,
          null,
          328.1764705882353,
          383.6470588235294,
          316.70588235294116,
          379.7647058823529,
          318.2352941176471,
          364.3529411764706,
          331.47058823529414,
          305.94117647058823,
          310,
          379.11764705882354,
          344.88235294117646,
          329.2352941176471,
          310.8235294117647,
          337.52941176470586,
          272.7647058823529,
          397.6470588235294,
          363.4117647058824,
          361.11764705882354,
          311.52941176470586,
          350.8235294117647,
          384.4117647058824,
          343.1764705882353,
          329.8235294117647,
          353.05882352941177,
          368.94117647058823,
          360.11764705882354,
          326.11764705882354,
          337.1764705882353,
          351,
          328.8235294117647,
          null,
          354.8235294117647,
          316.70588235294116,
          383.6470588235294,
          328.1764705882353,
          379.7647058823529,
          318.2352941176471,
          364.3529411764706,
          305.94117647058823,
          331.47058823529414,
          344.88235294117646,
          379.11764705882354,
          310,
          329.2352941176471,
          310.8235294117647,
          272.7647058823529,
          337.52941176470586,
          397.6470588235294,
          361.11764705882354,
          363.4117647058824,
          350.8235294117647,
          311.52941176470586,
          353.05882352941177,
          329.8235294117647,
          343.1764705882353,
          384.4117647058824,
          368.94117647058823,
          360.11764705882354,
          337.1764705882353,
          326.11764705882354,
          328.8235294117647,
          351,
          null,
          354.8235294117647,
          383.6470588235294,
          379.7647058823529,
          328.1764705882353,
          316.70588235294116,
          318.2352941176471,
          305.94117647058823,
          364.3529411764706,
          331.47058823529414,
          344.88235294117646,
          379.11764705882354,
          329.2352941176471,
          310,
          310.8235294117647,
          337.52941176470586,
          272.7647058823529,
          397.6470588235294,
          361.11764705882354,
          363.4117647058824,
          350.8235294117647,
          311.52941176470586,
          384.4117647058824,
          329.8235294117647,
          343.1764705882353,
          353.05882352941177,
          368.94117647058823,
          337.1764705882353,
          326.11764705882354,
          360.11764705882354,
          351,
          354.8235294117647,
          null,
          328.8235294117647,
          328.1764705882353,
          379.7647058823529,
          383.6470588235294,
          316.70588235294116,
          364.3529411764706,
          331.47058823529414,
          318.2352941176471,
          305.94117647058823,
          379.11764705882354,
          329.2352941176471,
          344.88235294117646,
          310,
          310.8235294117647,
          397.6470588235294,
          272.7647058823529,
          337.52941176470586,
          350.8235294117647,
          361.11764705882354,
          363.4117647058824,
          311.52941176470586,
          384.4117647058824,
          343.1764705882353,
          353.05882352941177,
          329.8235294117647,
          326.11764705882354,
          368.94117647058823,
          337.1764705882353,
          360.11764705882354,
          null,
          328.8235294117647,
          354.8235294117647,
          351,
          383.6470588235294,
          328.1764705882353,
          379.7647058823529,
          316.70588235294116,
          305.94117647058823,
          364.3529411764706,
          318.2352941176471,
          331.47058823529414,
          329.2352941176471,
          379.11764705882354,
          344.88235294117646,
          310,
          310.8235294117647,
          272.7647058823529,
          337.52941176470586,
          397.6470588235294,
          361.11764705882354,
          350.8235294117647,
          363.4117647058824,
          311.52941176470586,
          343.1764705882353,
          384.4117647058824,
          353.05882352941177,
          329.8235294117647,
          326.11764705882354,
          368.94117647058823,
          360.11764705882354,
          337.1764705882353,
          351,
          328.8235294117647,
          354.8235294117647,
          null,
          328.1764705882353,
          379.7647058823529,
          383.6470588235294,
          316.70588235294116,
          305.94117647058823,
          318.2352941176471,
          364.3529411764706,
          331.47058823529414,
          379.11764705882354,
          329.2352941176471,
          310,
          344.88235294117646,
          310.8235294117647,
          397.6470588235294,
          337.52941176470586,
          272.7647058823529,
          350.8235294117647,
          361.11764705882354,
          363.4117647058824,
          311.52941176470586,
          343.1764705882353,
          329.8235294117647,
          353.05882352941177,
          384.4117647058824,
          326.11764705882354,
          368.94117647058823,
          360.11764705882354,
          337.1764705882353,
          328.8235294117647,
          351,
          354.8235294117647,
          null,
          328.1764705882353,
          316.70588235294116,
          379.7647058823529,
          383.6470588235294,
          305.94117647058823,
          318.2352941176471,
          364.3529411764706,
          331.47058823529414,
          379.11764705882354,
          310,
          329.2352941176471,
          344.88235294117646,
          310.8235294117647,
          337.52941176470586,
          397.6470588235294,
          272.7647058823529,
          363.4117647058824,
          350.8235294117647,
          361.11764705882354,
          311.52941176470586,
          384.4117647058824,
          343.1764705882353,
          329.8235294117647,
          353.05882352941177,
          326.11764705882354,
          360.11764705882354,
          337.1764705882353,
          368.94117647058823,
          null,
          354.8235294117647,
          351,
          328.8235294117647,
          328.1764705882353,
          383.6470588235294,
          316.70588235294116,
          379.7647058823529,
          364.3529411764706,
          305.94117647058823,
          318.2352941176471,
          331.47058823529414,
          310,
          379.11764705882354,
          344.88235294117646,
          329.2352941176471,
          310.8235294117647,
          397.6470588235294,
          337.52941176470586,
          272.7647058823529,
          363.4117647058824,
          361.11764705882354,
          350.8235294117647,
          311.52941176470586,
          384.4117647058824,
          329.8235294117647,
          353.05882352941177,
          343.1764705882353,
          326.11764705882354,
          360.11764705882354,
          337.1764705882353,
          368.94117647058823,
          354.8235294117647,
          328.8235294117647,
          351,
          null,
          328.1764705882353,
          379.7647058823529,
          316.70588235294116,
          383.6470588235294,
          318.2352941176471,
          364.3529411764706,
          305.94117647058823,
          331.47058823529414,
          310,
          329.2352941176471,
          379.11764705882354,
          344.88235294117646,
          310.8235294117647,
          397.6470588235294,
          337.52941176470586,
          272.7647058823529,
          361.11764705882354,
          363.4117647058824,
          311.52941176470586,
          350.8235294117647,
          343.1764705882353,
          353.05882352941177,
          384.4117647058824,
          329.8235294117647,
          368.94117647058823,
          360.11764705882354,
          337.1764705882353,
          326.11764705882354,
          328.8235294117647,
          354.8235294117647,
          351,
          null,
          316.70588235294116,
          328.1764705882353,
          379.7647058823529,
          383.6470588235294,
          364.3529411764706,
          318.2352941176471,
          331.47058823529414,
          305.94117647058823,
          379.11764705882354,
          344.88235294117646,
          310,
          329.2352941176471,
          310.8235294117647,
          397.6470588235294,
          337.52941176470586,
          272.7647058823529,
          350.8235294117647,
          363.4117647058824,
          361.11764705882354,
          311.52941176470586,
          343.1764705882353,
          384.4117647058824,
          329.8235294117647,
          353.05882352941177,
          360.11764705882354,
          326.11764705882354,
          337.1764705882353,
          368.94117647058823,
          351,
          328.8235294117647,
          354.8235294117647,
          null,
          383.6470588235294,
          328.1764705882353,
          316.70588235294116,
          379.7647058823529,
          318.2352941176471,
          364.3529411764706,
          305.94117647058823,
          331.47058823529414,
          329.2352941176471,
          310,
          379.11764705882354,
          344.88235294117646,
          337.52941176470586,
          310.8235294117647,
          397.6470588235294,
          272.7647058823529,
          361.11764705882354,
          363.4117647058824,
          350.8235294117647,
          311.52941176470586,
          329.8235294117647,
          343.1764705882353,
          384.4117647058824,
          353.05882352941177,
          360.11764705882354,
          326.11764705882354,
          337.1764705882353,
          368.94117647058823,
          354.8235294117647,
          328.8235294117647,
          351,
          null,
          383.6470588235294,
          316.70588235294116,
          328.1764705882353,
          379.7647058823529,
          305.94117647058823,
          364.3529411764706,
          331.47058823529414,
          318.2352941176471,
          329.2352941176471,
          310,
          379.11764705882354,
          344.88235294117646,
          310.8235294117647,
          272.7647058823529,
          397.6470588235294,
          337.52941176470586,
          361.11764705882354,
          311.52941176470586,
          350.8235294117647,
          363.4117647058824,
          343.1764705882353,
          353.05882352941177,
          329.8235294117647,
          384.4117647058824,
          360.11764705882354,
          326.11764705882354,
          368.94117647058823,
          337.1764705882353,
          351,
          354.8235294117647,
          null,
          328.8235294117647,
          328.1764705882353,
          383.6470588235294,
          379.7647058823529,
          316.70588235294116,
          331.47058823529414,
          305.94117647058823,
          318.2352941176471,
          364.3529411764706,
          379.11764705882354,
          329.2352941176471,
          310,
          344.88235294117646,
          310.8235294117647,
          397.6470588235294,
          272.7647058823529,
          337.52941176470586,
          363.4117647058824,
          350.8235294117647,
          361.11764705882354,
          311.52941176470586,
          343.1764705882353,
          329.8235294117647,
          353.05882352941177,
          384.4117647058824,
          360.11764705882354,
          368.94117647058823,
          326.11764705882354,
          337.1764705882353,
          328.8235294117647,
          351,
          354.8235294117647,
          null,
          316.70588235294116,
          328.1764705882353,
          383.6470588235294,
          379.7647058823529,
          318.2352941176471,
          305.94117647058823,
          364.3529411764706,
          331.47058823529414,
          379.11764705882354,
          344.88235294117646,
          310,
          329.2352941176471,
          310.8235294117647,
          337.52941176470586,
          272.7647058823529,
          397.6470588235294,
          350.8235294117647,
          361.11764705882354,
          363.4117647058824,
          311.52941176470586,
          343.1764705882353,
          353.05882352941177,
          329.8235294117647,
          384.4117647058824,
          326.11764705882354,
          368.94117647058823,
          360.11764705882354,
          337.1764705882353,
          354.8235294117647,
          null,
          351,
          328.8235294117647,
          316.70588235294116,
          383.6470588235294,
          379.7647058823529,
          328.1764705882353,
          331.47058823529414,
          305.94117647058823,
          364.3529411764706,
          318.2352941176471,
          379.11764705882354,
          344.88235294117646,
          329.2352941176471,
          310,
          310.8235294117647,
          397.6470588235294,
          272.7647058823529,
          337.52941176470586,
          361.11764705882354,
          363.4117647058824,
          350.8235294117647,
          311.52941176470586,
          343.1764705882353,
          353.05882352941177,
          384.4117647058824,
          329.8235294117647,
          360.11764705882354,
          326.11764705882354,
          368.94117647058823,
          337.1764705882353,
          328.8235294117647,
          354.8235294117647,
          351,
          null,
          328.1764705882353,
          383.6470588235294,
          379.7647058823529,
          316.70588235294116,
          364.3529411764706,
          318.2352941176471,
          305.94117647058823,
          331.47058823529414,
          379.11764705882354,
          344.88235294117646,
          329.2352941176471,
          310,
          310.8235294117647,
          337.52941176470586,
          272.7647058823529,
          397.6470588235294,
          363.4117647058824,
          350.8235294117647,
          361.11764705882354,
          311.52941176470586,
          343.1764705882353,
          329.8235294117647,
          353.05882352941177,
          384.4117647058824,
          368.94117647058823,
          326.11764705882354,
          337.1764705882353,
          360.11764705882354,
          328.8235294117647,
          351,
          null,
          354.8235294117647,
          328.1764705882353,
          383.6470588235294,
          316.70588235294116,
          379.7647058823529,
          305.94117647058823,
          318.2352941176471,
          331.47058823529414,
          364.3529411764706,
          344.88235294117646,
          379.11764705882354,
          310,
          329.2352941176471
         ],
         "xaxis": "x",
         "y": [
          17,
          17.823529411764707,
          21.941176470588236,
          29.647058823529413,
          22.11764705882353,
          23.41176470588235,
          21.823529411764707,
          23.058823529411764,
          20.823529411764707,
          21.470588235294116,
          26.58823529411765,
          26.88235294117647,
          21.41176470588235,
          25.823529411764707,
          27,
          18.941176470588236,
          21.058823529411764,
          22.647058823529413,
          25.529411764705884,
          24.470588235294116,
          21.823529411764707,
          25.058823529411764,
          23.941176470588236,
          27.470588235294116,
          20.764705882352942,
          19.705882352941178,
          27,
          23.764705882352942,
          21.88235294117647,
          21.529411764705884,
          21.470588235294116,
          21.529411764705884,
          22.058823529411764,
          19.88235294117647,
          20.764705882352942,
          26.88235294117647,
          18.352941176470587,
          17.823529411764707,
          24.647058823529413,
          24.941176470588236,
          25.823529411764707,
          21.294117647058822,
          27.294117647058822,
          28.941176470588236,
          21.294117647058822,
          28.11764705882353,
          25.058823529411764,
          26.235294117647058,
          19.352941176470587,
          21,
          27.823529411764707,
          24.58823529411765,
          21.705882352941178,
          21.764705882352942,
          27.941176470588236,
          30.529411764705884,
          19.823529411764707,
          20.88235294117647,
          23.647058823529413,
          24.352941176470587,
          21.823529411764707,
          17.41176470588235,
          21.58823529411765,
          22.941176470588236,
          13.235294117647058,
          15.235294117647058,
          21.11764705882353,
          29.058823529411764,
          16.58823529411765,
          17.823529411764707,
          23.11764705882353,
          24.705882352941178,
          22.647058823529413,
          19.470588235294116,
          21.941176470588236,
          23.352941176470587,
          18.11764705882353,
          18.58823529411765,
          24.647058823529413,
          20.294117647058822,
          20.823529411764707,
          18.88235294117647,
          26.529411764705884,
          null,
          18.41176470588235,
          17.823529411764707,
          17.529411764705884,
          24.88235294117647,
          20.058823529411764,
          23.470588235294116,
          26.41176470588235,
          27.647058823529413,
          18.235294117647058,
          23.41176470588235,
          21.41176470588235,
          26,
          19.11764705882353,
          25.470588235294116,
          22,
          25.941176470588236,
          16.88235294117647,
          21.176470588235293,
          23.058823529411764,
          26.764705882352942,
          18.58823529411765,
          20.235294117647058,
          17.823529411764707,
          18.58823529411765,
          24.764705882352942,
          19.352941176470587,
          20.529411764705884,
          27.470588235294116,
          19.058823529411764,
          20.470588235294116,
          null,
          24.235294117647058,
          16.647058823529413,
          20.058823529411764,
          23.529411764705884,
          21.176470588235293,
          20.764705882352942,
          24.88235294117647,
          22.470588235294116,
          27.294117647058822,
          22.58823529411765,
          20.41176470588235,
          25.58823529411765,
          25,
          17.41176470588235,
          21.11764705882353,
          23.11764705882353,
          22.470588235294116,
          18.11764705882353,
          17.823529411764707,
          20.529411764705884,
          24.11764705882353,
          15.764705882352942,
          20.941176470588236,
          23.764705882352942,
          25.647058823529413,
          19.941176470588236,
          16,
          21.941176470588236,
          22.470588235294116,
          17.352941176470587,
          19.529411764705884,
          null,
          22.823529411764707,
          14.823529411764707,
          22.11764705882353,
          22.58823529411765,
          18.823529411764707,
          19.176470588235293,
          19.235294117647058,
          18.529411764705884,
          22.470588235294116,
          19.352941176470587,
          19.529411764705884,
          21.235294117647058,
          22.529411764705884,
          14.705882352941176,
          22.352941176470587,
          22.235294117647058,
          24.058823529411764,
          19.235294117647058,
          18.88235294117647,
          18.529411764705884,
          26.58823529411765,
          19.294117647058822,
          22.235294117647058,
          23.058823529411764,
          23.529411764705884,
          18.294117647058822,
          22.647058823529413,
          17.470588235294116,
          24.88235294117647,
          18,
          16.705882352941178,
          null,
          19.470588235294116,
          22.823529411764707,
          21.058823529411764,
          18.058823529411764,
          23.470588235294116,
          23.88235294117647,
          21.705882352941178,
          26.705882352941178,
          23.647058823529413,
          17.176470588235293,
          21.294117647058822,
          23.176470588235293,
          28.235294117647058,
          18.529411764705884,
          18.470588235294116,
          21.11764705882353,
          22.88235294117647,
          16.41176470588235,
          18.764705882352942,
          23.58823529411765,
          25.41176470588235,
          18.41176470588235,
          24,
          26.352941176470587,
          24.88235294117647,
          17.41176470588235,
          16.88235294117647,
          23.470588235294116,
          23.41176470588235,
          null,
          25.294117647058822,
          26,
          22,
          17.764705882352942,
          19,
          23.529411764705884,
          23.352941176470587,
          18.11764705882353,
          20.294117647058822,
          28,
          24.529411764705884,
          18.41176470588235,
          16.294117647058822,
          19.41176470588235,
          22.764705882352942,
          18.41176470588235,
          17,
          21.941176470588236,
          23.58823529411765,
          21.647058823529413,
          20.235294117647058,
          17.764705882352942,
          19.823529411764707,
          21.705882352941178,
          18.058823529411764,
          24.235294117647058,
          25.764705882352942,
          20.823529411764707,
          16.529411764705884,
          20.470588235294116,
          26.58823529411765,
          20.705882352941178,
          23.529411764705884,
          23.529411764705884,
          null,
          20.470588235294116,
          16.58823529411765,
          20.176470588235293,
          26,
          22,
          24.941176470588236,
          24.529411764705884,
          24.11764705882353,
          14.941176470588236,
          17.58823529411765,
          20,
          20.823529411764707,
          19.88235294117647,
          22.764705882352942,
          19.705882352941178,
          22.823529411764707,
          17.941176470588236,
          21.764705882352942,
          20.705882352941178,
          23.88235294117647,
          19.764705882352942,
          22.41176470588235,
          26.41176470588235,
          25.176470588235293,
          23.470588235294116,
          17.941176470588236,
          20.470588235294116,
          26.647058823529413,
          22.470588235294116,
          25.41176470588235,
          22.529411764705884,
          null,
          25.176470588235293,
          28.11764705882353,
          22.11764705882353,
          28.235294117647058,
          14.176470588235293,
          17.88235294117647,
          26.058823529411764,
          22.88235294117647,
          13.588235294117647,
          16,
          19.058823529411764,
          21.41176470588235,
          19.470588235294116,
          18.647058823529413,
          22.058823529411764,
          25.58823529411765,
          20.235294117647058,
          18.823529411764707,
          18.470588235294116,
          21.647058823529413,
          19.470588235294116,
          22.764705882352942,
          27.705882352941178,
          26.11764705882353,
          17,
          20.58823529411765,
          26.058823529411764,
          25,
          null,
          20.235294117647058,
          23.529411764705884,
          26.11764705882353,
          19.764705882352942,
          20.470588235294116,
          16.294117647058822,
          25.705882352941178,
          17.58823529411765,
          21.352941176470587,
          26.705882352941178,
          23.176470588235293,
          16.058823529411764,
          14.411764705882353,
          20.470588235294116,
          21,
          20.11764705882353,
          21.352941176470587,
          18.41176470588235,
          25.529411764705884,
          15.647058823529411,
          13.352941176470589,
          19,
          18.058823529411764,
          16.352941176470587,
          18.647058823529413,
          19.352941176470587,
          25.294117647058822,
          22.941176470588236,
          22.176470588235293,
          25.470588235294116,
          19.88235294117647,
          23.529411764705884,
          19.294117647058822,
          20.41176470588235,
          null,
          21.11764705882353,
          22.764705882352942,
          20.058823529411764,
          26.41176470588235,
          19.941176470588236,
          20.58823529411765,
          25.235294117647058,
          29.058823529411764,
          13.470588235294118,
          20.470588235294116,
          18.529411764705884,
          23.941176470588236,
          18.41176470588235,
          17.88235294117647,
          19.58823529411765,
          25,
          13.647058823529411,
          15.882352941176471,
          19.529411764705884,
          23.235294117647058,
          22.823529411764707,
          24.647058823529413,
          25.11764705882353,
          19.941176470588236,
          19.176470588235293,
          18.941176470588236,
          21.823529411764707,
          27.705882352941178,
          22.176470588235293,
          20.41176470588235,
          25.647058823529413,
          null,
          16.823529411764707,
          14.117647058823529,
          21.705882352941178,
          20.470588235294116,
          16.941176470588236,
          18.058823529411764,
          18.705882352941178,
          24,
          23.941176470588236,
          19.294117647058822,
          20.352941176470587,
          25.529411764705884,
          16.764705882352942,
          13.882352941176471,
          22.941176470588236,
          19.176470588235293,
          17.11764705882353,
          15.352941176470589,
          19.058823529411764,
          22.058823529411764,
          18.058823529411764,
          19.58823529411765,
          23.647058823529413,
          22.352941176470587,
          18.823529411764707,
          19.058823529411764,
          22.294117647058822,
          24.941176470588236,
          14.705882352941176,
          19.823529411764707,
          25.11764705882353,
          null,
          18.352941176470587,
          17.470588235294116,
          22.058823529411764,
          29.058823529411764,
          20.058823529411764,
          19.11764705882353,
          18.11764705882353,
          23.529411764705884,
          19.11764705882353,
          16.529411764705884,
          22.941176470588236,
          25.647058823529413,
          18.647058823529413,
          18.176470588235293,
          20.941176470588236,
          20.11764705882353,
          13.117647058823529,
          14.352941176470589,
          21.41176470588235,
          20.58823529411765,
          13.764705882352942,
          17.529411764705884,
          23.176470588235293,
          21.58823529411765,
          20.41176470588235,
          26.352941176470587,
          22.823529411764707,
          25.88235294117647,
          17.294117647058822,
          17,
          21.470588235294116,
          null,
          19.58823529411765,
          20.58823529411765,
          22.352941176470587,
          30.41176470588235,
          19.352941176470587,
          19.11764705882353,
          19,
          23.11764705882353,
          25.058823529411764,
          22.41176470588235,
          23.058823529411764,
          27.352941176470587,
          16.11764705882353,
          20.823529411764707,
          20.88235294117647,
          25.705882352941178,
          15.823529411764707,
          22.470588235294116,
          22.647058823529413,
          22.58823529411765,
          15.411764705882353,
          17.88235294117647,
          17.470588235294116,
          22.58823529411765,
          16.705882352941178,
          24.058823529411764,
          19.705882352941178,
          23.41176470588235,
          19.11764705882353,
          20.647058823529413,
          null,
          17.647058823529413,
          17.11764705882353,
          18.294117647058822,
          26.11764705882353,
          20.470588235294116,
          15.882352941176471,
          20.41176470588235,
          22.823529411764707,
          24.352941176470587,
          17.11764705882353,
          23.470588235294116,
          21.41176470588235,
          25.764705882352942,
          13.941176470588236,
          17.352941176470587,
          18.294117647058822,
          16.647058823529413,
          11.823529411764707,
          19.470588235294116,
          18.529411764705884,
          20.941176470588236,
          21.176470588235293,
          23.529411764705884,
          16.11764705882353,
          21.529411764705884,
          17.823529411764707,
          18.529411764705884,
          17.941176470588236,
          19.529411764705884,
          19.294117647058822,
          20.58823529411765,
          21.294117647058822,
          null,
          15,
          21.529411764705884,
          19.235294117647058,
          23.41176470588235,
          18.941176470588236,
          17.941176470588236,
          19.294117647058822,
          20.764705882352942,
          20.058823529411764,
          22.41176470588235,
          24.235294117647058,
          22.88235294117647,
          19.88235294117647,
          18.647058823529413,
          21.58823529411765,
          20.88235294117647,
          20.58823529411765,
          15.176470588235293,
          17.58823529411765,
          17.705882352941178,
          14.529411764705882,
          15.823529411764707,
          24.764705882352942,
          25.352941176470587,
          15.176470588235293,
          19.11764705882353,
          18.352941176470587,
          22.529411764705884,
          18.470588235294116,
          null,
          18.11764705882353,
          22.823529411764707,
          11.882352941176471,
          20.235294117647058,
          20.294117647058822,
          20.235294117647058,
          16.11764705882353,
          15.235294117647058,
          20.058823529411764,
          23.41176470588235,
          15.941176470588236,
          25.235294117647058,
          22.764705882352942,
          25.176470588235293,
          15.294117647058824,
          15.352941176470589,
          16.705882352941178,
          20.823529411764707,
          14.764705882352942,
          15.764705882352942,
          21.88235294117647,
          22.941176470588236,
          20.647058823529413,
          16.470588235294116,
          19.941176470588236,
          25.823529411764707,
          18.41176470588235,
          17.88235294117647,
          25.58823529411765,
          26,
          15.294117647058824,
          20.41176470588235,
          23.823529411764707,
          null,
          22.352941176470587,
          23.235294117647058,
          20.58823529411765,
          19.470588235294116,
          19.823529411764707,
          23.823529411764707,
          19.941176470588236,
          17.88235294117647,
          21.941176470588236,
          23.058823529411764,
          18.941176470588236,
          26.58823529411765,
          14,
          15.352941176470589,
          16.41176470588235,
          17.58823529411765,
          16.529411764705884,
          22.58823529411765,
          19.235294117647058,
          18.941176470588236,
          19.764705882352942,
          19.058823529411764,
          19.470588235294116,
          22.352941176470587,
          19.529411764705884,
          17.705882352941178,
          22.294117647058822,
          25.941176470588236,
          16.88235294117647,
          15.294117647058824,
          null,
          22.764705882352942,
          18.058823529411764,
          20.764705882352942,
          20.352941176470587,
          22.294117647058822,
          17.88235294117647,
          19.176470588235293,
          15.529411764705882,
          24.823529411764707,
          19.294117647058822,
          19.235294117647058,
          19.823529411764707,
          26.58823529411765
         ],
         "yaxis": "y"
        }
       ],
       "layout": {
        "coloraxis": {
         "colorbar": {
          "title": {
           "text": "Season"
          }
         },
         "colorscale": [
          [
           0,
           "#0d0887"
          ],
          [
           0.1111111111111111,
           "#46039f"
          ],
          [
           0.2222222222222222,
           "#7201a8"
          ],
          [
           0.3333333333333333,
           "#9c179e"
          ],
          [
           0.4444444444444444,
           "#bd3786"
          ],
          [
           0.5555555555555556,
           "#d8576b"
          ],
          [
           0.6666666666666666,
           "#ed7953"
          ],
          [
           0.7777777777777778,
           "#fb9f3a"
          ],
          [
           0.8888888888888888,
           "#fdca26"
          ],
          [
           1,
           "#f0f921"
          ]
         ]
        },
        "legend": {
         "tracegroupgap": 0
        },
        "margin": {
         "t": 60
        },
        "template": {
         "data": {
          "bar": [
           {
            "error_x": {
             "color": "#2a3f5f"
            },
            "error_y": {
             "color": "#2a3f5f"
            },
            "marker": {
             "line": {
              "color": "#E5ECF6",
              "width": 0.5
             }
            },
            "type": "bar"
           }
          ],
          "barpolar": [
           {
            "marker": {
             "line": {
              "color": "#E5ECF6",
              "width": 0.5
             }
            },
            "type": "barpolar"
           }
          ],
          "carpet": [
           {
            "aaxis": {
             "endlinecolor": "#2a3f5f",
             "gridcolor": "white",
             "linecolor": "white",
             "minorgridcolor": "white",
             "startlinecolor": "#2a3f5f"
            },
            "baxis": {
             "endlinecolor": "#2a3f5f",
             "gridcolor": "white",
             "linecolor": "white",
             "minorgridcolor": "white",
             "startlinecolor": "#2a3f5f"
            },
            "type": "carpet"
           }
          ],
          "choropleth": [
           {
            "colorbar": {
             "outlinewidth": 0,
             "ticks": ""
            },
            "type": "choropleth"
           }
          ],
          "contour": [
           {
            "colorbar": {
             "outlinewidth": 0,
             "ticks": ""
            },
            "colorscale": [
             [
              0,
              "#0d0887"
             ],
             [
              0.1111111111111111,
              "#46039f"
             ],
             [
              0.2222222222222222,
              "#7201a8"
             ],
             [
              0.3333333333333333,
              "#9c179e"
             ],
             [
              0.4444444444444444,
              "#bd3786"
             ],
             [
              0.5555555555555556,
              "#d8576b"
             ],
             [
              0.6666666666666666,
              "#ed7953"
             ],
             [
              0.7777777777777778,
              "#fb9f3a"
             ],
             [
              0.8888888888888888,
              "#fdca26"
             ],
             [
              1,
              "#f0f921"
             ]
            ],
            "type": "contour"
           }
          ],
          "contourcarpet": [
           {
            "colorbar": {
             "outlinewidth": 0,
             "ticks": ""
            },
            "type": "contourcarpet"
           }
          ],
          "heatmap": [
           {
            "colorbar": {
             "outlinewidth": 0,
             "ticks": ""
            },
            "colorscale": [
             [
              0,
              "#0d0887"
             ],
             [
              0.1111111111111111,
              "#46039f"
             ],
             [
              0.2222222222222222,
              "#7201a8"
             ],
             [
              0.3333333333333333,
              "#9c179e"
             ],
             [
              0.4444444444444444,
              "#bd3786"
             ],
             [
              0.5555555555555556,
              "#d8576b"
             ],
             [
              0.6666666666666666,
              "#ed7953"
             ],
             [
              0.7777777777777778,
              "#fb9f3a"
             ],
             [
              0.8888888888888888,
              "#fdca26"
             ],
             [
              1,
              "#f0f921"
             ]
            ],
            "type": "heatmap"
           }
          ],
          "heatmapgl": [
           {
            "colorbar": {
             "outlinewidth": 0,
             "ticks": ""
            },
            "colorscale": [
             [
              0,
              "#0d0887"
             ],
             [
              0.1111111111111111,
              "#46039f"
             ],
             [
              0.2222222222222222,
              "#7201a8"
             ],
             [
              0.3333333333333333,
              "#9c179e"
             ],
             [
              0.4444444444444444,
              "#bd3786"
             ],
             [
              0.5555555555555556,
              "#d8576b"
             ],
             [
              0.6666666666666666,
              "#ed7953"
             ],
             [
              0.7777777777777778,
              "#fb9f3a"
             ],
             [
              0.8888888888888888,
              "#fdca26"
             ],
             [
              1,
              "#f0f921"
             ]
            ],
            "type": "heatmapgl"
           }
          ],
          "histogram": [
           {
            "marker": {
             "colorbar": {
              "outlinewidth": 0,
              "ticks": ""
             }
            },
            "type": "histogram"
           }
          ],
          "histogram2d": [
           {
            "colorbar": {
             "outlinewidth": 0,
             "ticks": ""
            },
            "colorscale": [
             [
              0,
              "#0d0887"
             ],
             [
              0.1111111111111111,
              "#46039f"
             ],
             [
              0.2222222222222222,
              "#7201a8"
             ],
             [
              0.3333333333333333,
              "#9c179e"
             ],
             [
              0.4444444444444444,
              "#bd3786"
             ],
             [
              0.5555555555555556,
              "#d8576b"
             ],
             [
              0.6666666666666666,
              "#ed7953"
             ],
             [
              0.7777777777777778,
              "#fb9f3a"
             ],
             [
              0.8888888888888888,
              "#fdca26"
             ],
             [
              1,
              "#f0f921"
             ]
            ],
            "type": "histogram2d"
           }
          ],
          "histogram2dcontour": [
           {
            "colorbar": {
             "outlinewidth": 0,
             "ticks": ""
            },
            "colorscale": [
             [
              0,
              "#0d0887"
             ],
             [
              0.1111111111111111,
              "#46039f"
             ],
             [
              0.2222222222222222,
              "#7201a8"
             ],
             [
              0.3333333333333333,
              "#9c179e"
             ],
             [
              0.4444444444444444,
              "#bd3786"
             ],
             [
              0.5555555555555556,
              "#d8576b"
             ],
             [
              0.6666666666666666,
              "#ed7953"
             ],
             [
              0.7777777777777778,
              "#fb9f3a"
             ],
             [
              0.8888888888888888,
              "#fdca26"
             ],
             [
              1,
              "#f0f921"
             ]
            ],
            "type": "histogram2dcontour"
           }
          ],
          "mesh3d": [
           {
            "colorbar": {
             "outlinewidth": 0,
             "ticks": ""
            },
            "type": "mesh3d"
           }
          ],
          "parcoords": [
           {
            "line": {
             "colorbar": {
              "outlinewidth": 0,
              "ticks": ""
             }
            },
            "type": "parcoords"
           }
          ],
          "pie": [
           {
            "automargin": true,
            "type": "pie"
           }
          ],
          "scatter": [
           {
            "marker": {
             "colorbar": {
              "outlinewidth": 0,
              "ticks": ""
             }
            },
            "type": "scatter"
           }
          ],
          "scatter3d": [
           {
            "line": {
             "colorbar": {
              "outlinewidth": 0,
              "ticks": ""
             }
            },
            "marker": {
             "colorbar": {
              "outlinewidth": 0,
              "ticks": ""
             }
            },
            "type": "scatter3d"
           }
          ],
          "scattercarpet": [
           {
            "marker": {
             "colorbar": {
              "outlinewidth": 0,
              "ticks": ""
             }
            },
            "type": "scattercarpet"
           }
          ],
          "scattergeo": [
           {
            "marker": {
             "colorbar": {
              "outlinewidth": 0,
              "ticks": ""
             }
            },
            "type": "scattergeo"
           }
          ],
          "scattergl": [
           {
            "marker": {
             "colorbar": {
              "outlinewidth": 0,
              "ticks": ""
             }
            },
            "type": "scattergl"
           }
          ],
          "scattermapbox": [
           {
            "marker": {
             "colorbar": {
              "outlinewidth": 0,
              "ticks": ""
             }
            },
            "type": "scattermapbox"
           }
          ],
          "scatterpolar": [
           {
            "marker": {
             "colorbar": {
              "outlinewidth": 0,
              "ticks": ""
             }
            },
            "type": "scatterpolar"
           }
          ],
          "scatterpolargl": [
           {
            "marker": {
             "colorbar": {
              "outlinewidth": 0,
              "ticks": ""
             }
            },
            "type": "scatterpolargl"
           }
          ],
          "scatterternary": [
           {
            "marker": {
             "colorbar": {
              "outlinewidth": 0,
              "ticks": ""
             }
            },
            "type": "scatterternary"
           }
          ],
          "surface": [
           {
            "colorbar": {
             "outlinewidth": 0,
             "ticks": ""
            },
            "colorscale": [
             [
              0,
              "#0d0887"
             ],
             [
              0.1111111111111111,
              "#46039f"
             ],
             [
              0.2222222222222222,
              "#7201a8"
             ],
             [
              0.3333333333333333,
              "#9c179e"
             ],
             [
              0.4444444444444444,
              "#bd3786"
             ],
             [
              0.5555555555555556,
              "#d8576b"
             ],
             [
              0.6666666666666666,
              "#ed7953"
             ],
             [
              0.7777777777777778,
              "#fb9f3a"
             ],
             [
              0.8888888888888888,
              "#fdca26"
             ],
             [
              1,
              "#f0f921"
             ]
            ],
            "type": "surface"
           }
          ],
          "table": [
           {
            "cells": {
             "fill": {
              "color": "#EBF0F8"
             },
             "line": {
              "color": "white"
             }
            },
            "header": {
             "fill": {
              "color": "#C8D4E3"
             },
             "line": {
              "color": "white"
             }
            },
            "type": "table"
           }
          ]
         },
         "layout": {
          "annotationdefaults": {
           "arrowcolor": "#2a3f5f",
           "arrowhead": 0,
           "arrowwidth": 1
          },
          "autotypenumbers": "strict",
          "coloraxis": {
           "colorbar": {
            "outlinewidth": 0,
            "ticks": ""
           }
          },
          "colorscale": {
           "diverging": [
            [
             0,
             "#8e0152"
            ],
            [
             0.1,
             "#c51b7d"
            ],
            [
             0.2,
             "#de77ae"
            ],
            [
             0.3,
             "#f1b6da"
            ],
            [
             0.4,
             "#fde0ef"
            ],
            [
             0.5,
             "#f7f7f7"
            ],
            [
             0.6,
             "#e6f5d0"
            ],
            [
             0.7,
             "#b8e186"
            ],
            [
             0.8,
             "#7fbc41"
            ],
            [
             0.9,
             "#4d9221"
            ],
            [
             1,
             "#276419"
            ]
           ],
           "sequential": [
            [
             0,
             "#0d0887"
            ],
            [
             0.1111111111111111,
             "#46039f"
            ],
            [
             0.2222222222222222,
             "#7201a8"
            ],
            [
             0.3333333333333333,
             "#9c179e"
            ],
            [
             0.4444444444444444,
             "#bd3786"
            ],
            [
             0.5555555555555556,
             "#d8576b"
            ],
            [
             0.6666666666666666,
             "#ed7953"
            ],
            [
             0.7777777777777778,
             "#fb9f3a"
            ],
            [
             0.8888888888888888,
             "#fdca26"
            ],
            [
             1,
             "#f0f921"
            ]
           ],
           "sequentialminus": [
            [
             0,
             "#0d0887"
            ],
            [
             0.1111111111111111,
             "#46039f"
            ],
            [
             0.2222222222222222,
             "#7201a8"
            ],
            [
             0.3333333333333333,
             "#9c179e"
            ],
            [
             0.4444444444444444,
             "#bd3786"
            ],
            [
             0.5555555555555556,
             "#d8576b"
            ],
            [
             0.6666666666666666,
             "#ed7953"
            ],
            [
             0.7777777777777778,
             "#fb9f3a"
            ],
            [
             0.8888888888888888,
             "#fdca26"
            ],
            [
             1,
             "#f0f921"
            ]
           ]
          },
          "colorway": [
           "#636efa",
           "#EF553B",
           "#00cc96",
           "#ab63fa",
           "#FFA15A",
           "#19d3f3",
           "#FF6692",
           "#B6E880",
           "#FF97FF",
           "#FECB52"
          ],
          "font": {
           "color": "#2a3f5f"
          },
          "geo": {
           "bgcolor": "white",
           "lakecolor": "white",
           "landcolor": "#E5ECF6",
           "showlakes": true,
           "showland": true,
           "subunitcolor": "white"
          },
          "hoverlabel": {
           "align": "left"
          },
          "hovermode": "closest",
          "mapbox": {
           "style": "light"
          },
          "paper_bgcolor": "white",
          "plot_bgcolor": "#E5ECF6",
          "polar": {
           "angularaxis": {
            "gridcolor": "white",
            "linecolor": "white",
            "ticks": ""
           },
           "bgcolor": "#E5ECF6",
           "radialaxis": {
            "gridcolor": "white",
            "linecolor": "white",
            "ticks": ""
           }
          },
          "scene": {
           "xaxis": {
            "backgroundcolor": "#E5ECF6",
            "gridcolor": "white",
            "gridwidth": 2,
            "linecolor": "white",
            "showbackground": true,
            "ticks": "",
            "zerolinecolor": "white"
           },
           "yaxis": {
            "backgroundcolor": "#E5ECF6",
            "gridcolor": "white",
            "gridwidth": 2,
            "linecolor": "white",
            "showbackground": true,
            "ticks": "",
            "zerolinecolor": "white"
           },
           "zaxis": {
            "backgroundcolor": "#E5ECF6",
            "gridcolor": "white",
            "gridwidth": 2,
            "linecolor": "white",
            "showbackground": true,
            "ticks": "",
            "zerolinecolor": "white"
           }
          },
          "shapedefaults": {
           "line": {
            "color": "#2a3f5f"
           }
          },
          "ternary": {
           "aaxis": {
            "gridcolor": "white",
            "linecolor": "white",
            "ticks": ""
           },
           "baxis": {
            "gridcolor": "white",
            "linecolor": "white",
            "ticks": ""
           },
           "bgcolor": "#E5ECF6",
           "caxis": {
            "gridcolor": "white",
            "linecolor": "white",
            "ticks": ""
           }
          },
          "title": {
           "x": 0.05
          },
          "xaxis": {
           "automargin": true,
           "gridcolor": "white",
           "linecolor": "white",
           "ticks": "",
           "title": {
            "standoff": 15
           },
           "zerolinecolor": "white",
           "zerolinewidth": 2
          },
          "yaxis": {
           "automargin": true,
           "gridcolor": "white",
           "linecolor": "white",
           "ticks": "",
           "title": {
            "standoff": 15
           },
           "zerolinecolor": "white",
           "zerolinewidth": 2
          }
         }
        },
        "xaxis": {
         "anchor": "y",
         "domain": [
          0,
          1
         ],
         "title": {
          "text": "YPG_opp"
         }
        },
        "yaxis": {
         "anchor": "x",
         "domain": [
          0,
          1
         ],
         "title": {
          "text": "PPG_opp"
         }
        }
       }
      },
      "text/html": [
       "<div>                            <div id=\"7d176dc6-69a1-4e47-b996-f3bb8b16d9b9\" class=\"plotly-graph-div\" style=\"height:525px; width:100%;\"></div>            <script type=\"text/javascript\">                require([\"plotly\"], function(Plotly) {                    window.PLOTLYENV=window.PLOTLYENV || {};                                    if (document.getElementById(\"7d176dc6-69a1-4e47-b996-f3bb8b16d9b9\")) {                    Plotly.newPlot(                        \"7d176dc6-69a1-4e47-b996-f3bb8b16d9b9\",                        [{\"customdata\": [[\"Buffalo Bills\", 2021], [\"New England Patriots\", 2021], [\"Miami Dolphins\", 2021], [\"New York Jets\", 2021], [\"Cincinnati Bengals\", 2021], [\"Pittsburgh Steelers\", 2021], [\"Cleveland Browns\", 2021], [\"Baltimore Ravens\", 2021], [\"Tennessee Titans\", 2021], [\"Indianapolis Colts\", 2021], [\"Houston Texans\", 2021], [\"Jacksonville Jaguars\", 2021], [\"Kansas City Chiefs\", 2021], [\"Las Vegas Raiders\", 2021], [\"Los Angeles Chargers\", 2021], [\"Denver Broncos\", 2021], [\"Dallas Cowboys\", 2021], [\"Philadelphia Eagles\", 2021], [\"Washignton Commanders\", 2021], [\"New York Giants\", 2021], [\"Green Bay Packers\", 2021], [\"Minnesota Vikings\", 2021], [\"Chicago Bears\", 2021], [\"Detroit Lions\", 2021], [\"Tampa Bay Buccaneers\", 2021], [\"New Orleans Saints\", 2021], [\"Atlanta Falcons\", 2021], [\"Carolina Panthers\", 2021], [\"Los Angeles Rams\", 2021], [\"Arizona Cardinals\", 2021], [\"San Francisco 49ers\", 2021], [\"Seattle Seahawks\", 2021], [\"Buffalo Bills\", 2020], [\"Miami Dolphins\", 2020], [\"New England Patriots\", 2020], [\"New York Jets\", 2020], [\"Pittsburgh Steelers\", 2020], [\"Baltimore Ravens\", 2020], [\"Cleveland Browns\", 2020], [\"Cincinnati Bengals\", 2020], [\"Tennessee Titans\", 2020], [\"Indianapolis Colts\", 2020], [\"Houston Texans\", 2020], [\"Jacksonville Jaguars\", 2020], [\"Kansas City Chiefs\", 2020], [\"Las Vegas Raiders\", 2020], [\"Los Angeles Chargers\", 2020], [\"Denver Broncos\", 2020], [\"Washignton Commanders\", 2020], [\"New York Giants\", 2020], [\"Dallas Cowboys\", 2020], [\"Philadelphia Eagles\", 2020], [\"Green Bay Packers\", 2020], [\"Chicago Bears\", 2020], [\"Minnesota Vikings\", 2020], [\"Detroit Lions\", 2020], [\"New Orleans Saints\", 2020], [\"Tampa Bay Buccaneers\", 2020], [\"Carolina Panthers\", 2020], [\"Atlanta Falcons\", 2020], [\"Seattle Seahawks\", 2020], [\"Los Angeles Rams\", 2020], [\"Arizona Cardinals\", 2020], [\"San Francisco 49ers\", 2020], [\"New England Patriots\", 2019], [\"Buffalo Bills\", 2019], [\"New York Jets\", 2019], [\"Miami Dolphins\", 2019], [\"Baltimore Ravens\", 2019], [\"Pittsburgh Steelers\", 2019], [\"Cleveland Browns\", 2019], [\"Cincinnati Bengals\", 2019], [\"Houston Texans\", 2019], [\"Tennessee Titans\", 2019], [\"Indianapolis Colts\", 2019], [\"Jacksonville Jaguars\", 2019], [\"Kansas City Chiefs\", 2019], [\"Denver Broncos\", 2019], [\"Las Vegas Raiders\", 2019], [\"Los Angeles Chargers\", 2019], [\"Philadelphia Eagles\", 2019], [\"Dallas Cowboys\", 2019], [\"New York Giants\", 2019], [\"Washington Commanders\", 2019], [\"Green Bay Packers\", 2019], [\"Minnesota Vikings\", 2019], [\"Chicago Bears\", 2019], [\"Detroit Lions\", 2019], [\"New Orleans Saints\", 2019], [\"Atlanta Falcons\", 2019], [\"Tampa Bay Buccaneers\", 2019], [\"Carolina Panthers\", 2019], [\"San Francisco 49ers\", 2019], [\"Seattle Seahawks\", 2019], [\"Los Angeles Rams\", 2019], [\"Arizona Cardinals\", 2019], [\"New England Patriots\", 2018], [\"Miami Dolphins\", 2018], [\"Buffalo Bills\", 2018], [\"New York Jets\", 2018], [\"Baltimore Ravens\", 2018], [\"Pittsburgh Steelers\", 2018], [\"Cleveland Browns\", 2018], [\"Cincinnati Bengals\", 2018], [\"Houston Texans\", 2018], [\"Indianapolis Colts\", 2018], [\"Tennessee Titans\", 2018], [\"Jacksonville Jaguars\", 2018], [\"Kansas City Chiefs\", 2018], [\"Los Angeles Chargers\", 2018], [\"Denver Broncos\", 2018], [\"Las Vegas Raiders\", 2018], [\"Dallas Cowboys\", 2018], [\"Philadelphia Eagles\", 2018], [\"Washington Commanders\", 2018], [\"New York Giants\", 2018], [\"Chicago Bears\", 2018], [\"Minnesota Vikings\", 2018], [\"Green Bay Packers\", 2018], [\"Detroit Lions\", 2018], [\"New Orleans Saints\", 2018], [\"Atlanta Falcons\", 2018], [\"Carolina Panthers\", 2018], [\"Tampa Bay Buccaneers\", 2018], [\"Los Angeles Rams\", 2018], [\"Seattle Seahawks\", 2018], [\"San Francisco 49ers\", 2018], [\"Arizona Cardinals\", 2018], [\"New England Patriots\", 2017], [\"Buffalo Bills\", 2017], [\"Miami Dolphins\", 2017], [\"New York Jets\", 2017], [\"Pittsburgh Steelers\", 2017], [\"Baltimore Ravens\", 2017], [\"Cincinnati Bengals\", 2017], [\"Cleveland Browns\", 2017], [\"Jacksonville Jaguars\", 2017], [\"Tennessee Titans\", 2017], [\"Indianapolis Colts\", 2017], [\"Houston Texans\", 2017], [\"Kansas City Chiefs\", 2017], [\"Los Angeles Chargers\", 2017], [\"Las Vegas Raiders\", 2017], [\"Denver Broncos\", 2017], [\"Philadelphia Eagles\", 2017], [\"Dallas Cowboys\", 2017], [\"Washington Commanders\", 2017], [\"New York Giants\", 2017], [\"Minnesota Vikings\", 2017], [\"Detroit Lions\", 2017], [\"Green Bay Packers\", 2017], [\"Chicago Bears\", 2017], [\"New Orleans Saints\", 2017], [\"Carolina Panthers\", 2017], [\"Atlanta Falcons\", 2017], [\"Tampa Bay Buccaneers\", 2017], [\"Los Angeles Rams\", 2017], [\"Seattle Seahawks\", 2017], [\"Arizona Cardinals\", 2017], [\"San Francisco 49ers\", 2017], [\"New England Patriots\", 2016], [\"Miami Dolphins\", 2016], [\"Buffalo Bills\", 2016], [\"New York Jets\", 2016], [\"Pittsburgh Steelers\", 2016], [\"Baltimore Ravens\", 2016], [\"Cincinnati Bengals\", 2016], [\"Cleveland Browns\", 2016], [\"Houston Texans\", 2016], [\"Tennessee Titans\", 2016], [\"Indianapolis Colts\", 2016], [\"Jacksonville Jaguars\", 2016], [\"Kansas City Chiefs\", 2016], [\"Las Vegas Raiders\", 2016], [\"Denver Broncos\", 2016], [\"Los Angeles Chargers\", 2016], [\"Dallas Cowboys\", 2016], [\"New York Giants\", 2016], [\"Washington Commanders\", 2016], [\"Philadelphia Eagles\", 2016], [\"Green Bay Packers\", 2016], [\"Detroit Lions\", 2016], [\"Minnesota Vikings\", 2016], [\"Chicago Bears\", 2016], [\"Atlanta Falcons\", 2016], [\"Tampa Bay Buccaneers\", 2016], [\"New Orleans Saints\", 2016], [\"Carolina Panthers\", 2016], [\"Seattle Seahawks\", 2016], [\"Arizona Cardinals\", 2016], [\"Los Angeles Rams\", 2016], [\"San Francisco 49ers\", 2016], [\"New England Patriots\", 2015], [\"New York Jets\", 2015], [\"Buffalo Bills\", 2015], [\"Miami Dolphins\", 2015], [\"Cincinnati Bengals\", 2015], [\"Pittsburgh Steelers\", 2015], [\"Baltimore Ravens\", 2015], [\"Cleveland Browns\", 2015], [\"Houston Texans\", 2015], [\"Indianapolis Colts\", 2015], [\"Jacksonville Jaguars\", 2015], [\"Tennessee Titans\", 2015], [\"Denver Broncos\", 2015], [\"Kansas City Chiefs\", 2015], [\"Las Vegas Raiders\", 2015], [\"Los Angeles Chargers\", 2015], [\"Washington Commanders\", 2015], [\"Philadelphia Eagles\", 2015], [\"New York Giants\", 2015], [\"Dallas Cowboys\", 2015], [\"Minnesota Vikings\", 2015], [\"Green Bay Packers\", 2015], [\"Detroit Lions\", 2015], [\"Chicago Bears\", 2015], [\"Carolina Panthers\", 2015], [\"Atlanta Falcons\", 2015], [\"New Orleans Saints\", 2015], [\"Tampa Bay Buccaneers\", 2015], [\"Arizona Cardinals\", 2015], [\"Seattle Seahawks\", 2015], [\"Los Angeles Rams\", 2015], [\"San Francisco 49ers\", 2015], [\"New England Patriots\", 2014], [\"Buffalo Bills\", 2014], [\"Miami Dolphins\", 2014], [\"New York Jets\", 2014], [\"Pittsburgh Steelers\", 2014], [\"Cincinnati Bengals\", 2014], [\"Baltimore Ravens\", 2014], [\"Cleveland Browns\", 2014], [\"Indianapolis Colts\", 2014], [\"Houston Texans\", 2014], [\"Jacksonville Jaguars\", 2014], [\"Tennessee Titans\", 2014], [\"Denver Broncos\", 2014], [\"Kansas City Chiefs\", 2014], [\"Los Angeles Chargers\", 2014], [\"Las Vegas Raiders\", 2014], [\"Dallas Cowboys\", 2014], [\"Philadelphia Eagles\", 2014], [\"New York Giants\", 2014], [\"Washington Commanders\", 2014], [\"Green Bay Packers\", 2014], [\"Detroit Lions\", 2014], [\"Minnesota Vikings\", 2014], [\"Chicago Bears\", 2014], [\"Carolina Panthers\", 2014], [\"New Orleans Saints\", 2014], [\"Atlanta Falcons\", 2014], [\"Tampa Bay Buccaneers\", 2014], [\"Seattle Seahawks\", 2014], [\"Arizona Cardinals\", 2014], [\"San Francisco 49ers\", 2014], [\"Los Angeles Rams\", 2014], [\"New England Patriots\", 2013], [\"New York Jets\", 2013], [\"Miami Dolphins\", 2013], [\"Buffalo Bills\", 2013], [\"Cincinnati Bengals\", 2013], [\"Pittsburgh Steelers\", 2013], [\"Baltimore Ravens\", 2013], [\"Cleveland Browns\", 2013], [\"Indianapolis Colts\", 2013], [\"Tennessee Titans\", 2013], [\"Jacksonville Jaguars\", 2013], [\"Houston Texans\", 2013], [\"Denver Broncos\", 2013], [\"Kansas City Chiefs\", 2013], [\"Los Angeles Chargers\", 2013], [\"Las Vegas Raiders\", 2013], [\"Philadelphia Eagles\", 2013], [\"Dallas Cowboys\", 2013], [\"New York Giants\", 2013], [\"Washington Commanders\", 2013], [\"Green Bay Packers\", 2013], [\"Chicago Bears\", 2013], [\"Detroit Lions\", 2013], [\"Minnesota Vikings\", 2013], [\"Carolina Panthers\", 2013], [\"New Orleans Saints\", 2013], [\"Atlanta Falcons\", 2013], [\"Tampa Bay Buccaneers\", 2013], [\"Seattle Seahawks\", 2013], [\"San Francisco 49ers\", 2013], [\"Arizona Cardinals\", 2013], [\"Los Angeles Rams\", 2013], [\"New England Patriots\", 2012], [\"Miami Dolphins\", 2012], [\"New York Jets\", 2012], [\"Buffalo Bills\", 2012], [\"Baltimore Ravens\", 2012], [\"Cincinnati Bengals\", 2012], [\"Pittsburgh Steelers\", 2012], [\"Cleveland Browns\", 2012], [\"Houston Texans\", 2012], [\"Indianapolis Colts\", 2012], [\"Tennessee Titans\", 2012], [\"Jacksonville Jaguars\", 2012], [\"Denver Broncos\", 2012], [\"Los Angeles Chargers\", 2012], [\"Las Vegas Raiders\", 2012], [\"Kansas City Chiefs\", 2012], [\"Washington Commanders\", 2012], [\"New York Giants\", 2012], [\"Dallas Cowboys\", 2012], [\"Philadelphia Eagles\", 2012], [\"Green Bay Packers\", 2012], [\"Minnesota Vikings\", 2012], [\"Chicago Bears\", 2012], [\"Detroit Lions\", 2012], [\"Atlanta Falcons\", 2012], [\"Carolina Panthers\", 2012], [\"New Orleans Saints\", 2012], [\"Tampa Bay Buccaneers\", 2012], [\"San Francisco 49ers\", 2012], [\"Seattle Seahawks\", 2012], [\"Los Angeles Rams\", 2012], [\"Arizona Cardinals\", 2012], [\"New England Patriots\", 2011], [\"New York Jets\", 2011], [\"Miami Dolphins\", 2011], [\"Buffalo Bills\", 2011], [\"Baltimore Ravens\", 2011], [\"Pittsburgh Steelers\", 2011], [\"Cincinnati Bengals\", 2011], [\"Cleveland Browns\", 2011], [\"Houston Texans\", 2011], [\"Tennessee Titans\", 2011], [\"Jacksonville Jaguars\", 2011], [\"Indianapolis Colts\", 2011], [\"Denver Broncos\", 2011], [\"Los Angeles Chargers\", 2011], [\"Las Vegas Raiders\", 2011], [\"Kansas City Chiefs\", 2011], [\"New York Giants\", 2011], [\"Philadelphia Eagles\", 2011], [\"Dallas Cowboys\", 2011], [\"Washington Commanders\", 2011], [\"Green Bay Packers\", 2011], [\"Detroit Lions\", 2011], [\"Chicago Bears\", 2011], [\"Minnesota Vikings\", 2011], [\"New Orleans Saints\", 2011], [\"Atlanta Falcons\", 2011], [\"Carolina Panthers\", 2011], [\"Tampa Bay Buccaneers\", 2011], [\"San Francisco 49ers\", 2011], [\"Arizona Cardinals\", 2011], [\"Seattle Seahawks\", 2011], [\"Los Angeles Rams\", 2011], [\"New England Patriots\", 2010], [\"New York Jets\", 2010], [\"Miami Dolphins\", 2010], [\"Buffalo Bills\", 2010], [\"Pittsburgh Steelers\", 2010], [\"Baltimore Ravens\", 2010], [\"Cleveland Browns\", 2010], [\"Cincinnati Bengals\", 2010], [\"Indianapolis Colts\", 2010], [\"Jacksonville Jaguars\", 2010], [\"Houston Texans\", 2010], [\"Tennessee Titans\", 2010], [\"Kansas City Chiefs\", 2010], [\"Los Angeles Chargers\", 2010], [\"Las Vegas Raiders\", 2010], [\"Denver Broncos\", 2010], [\"Philadelphia Eagles\", 2010], [\"New York Giants\", 2010], [\"Dallas Cowboys\", 2010], [\"Washington Commanders\", 2010], [\"Chicago Bears\", 2010], [\"Green Bay Packers\", 2010], [\"Detroit Lions\", 2010], [\"Minnesota Vikings\", 2010], [\"Atlanta Falcons\", 2010], [\"New Orleans Saints\", 2010], [\"Tampa Bay Buccaneers\", 2010], [\"Carolina Panthers\", 2010], [\"Seattle Seahawks\", 2010], [\"Los Angeles Rams\", 2010], [\"San Francisco 49ers\", 2010], [\"Arizona Cardinals\", 2010], [\"New England Patriots\", 2009], [\"New York Jets\", 2009], [\"Miami Dolphins\", 2009], [\"Buffalo Bills\", 2009], [\"Cincinnati Bengals\", 2009], [\"Baltimore Ravens\", 2009], [\"Pittsburgh Steelers\", 2009], [\"Cleveland Browns\", 2009], [\"Indianapolis Colts\", 2009], [\"Houston Texans\", 2009], [\"Tennessee Titans\", 2009], [\"Jacksonville Jaguars\", 2009], [\"Los Angeles Chargers\", 2009], [\"Denver Broncos\", 2009], [\"Las Vegas Raiders\", 2009], [\"Kansas City Chiefs\", 2009], [\"Dallas Cowboys\", 2009], [\"Philadelphia Eagles\", 2009], [\"New York Giants\", 2009], [\"Washington Commanders\", 2009], [\"Minnesota Vikings\", 2009], [\"Green Bay Packers\", 2009], [\"Chicago Bears\", 2009], [\"Detroit Lions\", 2009], [\"New Orleans Saints\", 2009], [\"Atlanta Falcons\", 2009], [\"Carolina Panthers\", 2009], [\"Tampa Bay Buccaneers\", 2009], [\"Arizona Cardinals\", 2009], [\"San Francisco 49ers\", 2009], [\"Seattle Seahawks\", 2009], [\"Los Angeles Rams\", 2009], [\"Miami Dolphins\", 2008], [\"New England Patriots\", 2008], [\"New York Jets\", 2008], [\"Buffalo Bills\", 2008], [\"Pittsburgh Steelers\", 2008], [\"Baltimore Ravens\", 2008], [\"Cincinnati Bengals\", 2008], [\"Cleveland Browns\", 2008], [\"Tennessee Titans\", 2008], [\"Indianapolis Colts\", 2008], [\"Houston Texans\", 2008], [\"Jacksonville Jaguars\", 2008], [\"Los Angeles Chargers\", 2008], [\"Denver Broncos\", 2008], [\"Las Vegas Raiders\", 2008], [\"Kansas City Chiefs\", 2008], [\"New York Giants\", 2008], [\"Philadelphia Eagles\", 2008], [\"Dallas Cowboys\", 2008], [\"Washington Commanders\", 2008], [\"Minnesota Vikings\", 2008], [\"Chicago Bears\", 2008], [\"Green Bay Packers\", 2008], [\"Detroit Lions\", 2008], [\"Carolina Panthers\", 2008], [\"Atlanta Falcons\", 2008], [\"Tampa Bay Buccaneers\", 2008], [\"New Orleans Saints\", 2008], [\"Arizona Cardinals\", 2008], [\"San Francisco 49ers\", 2008], [\"Seattle Seahawks\", 2008], [\"Los Angeles Rams\", 2008], [\"New England Patriots\", 2007], [\"Buffalo Bills\", 2007], [\"New York Jets\", 2007], [\"Miami Dolphins\", 2007], [\"Pittsburgh Steelers\", 2007], [\"Cleveland Browns\", 2007], [\"Cincinnati Bengals\", 2007], [\"Baltimore Ravens\", 2007], [\"Indianapolis Colts\", 2007], [\"Jacksonville Jaguars\", 2007], [\"Tennessee Titans\", 2007], [\"Houston Texans\", 2007], [\"Los Angeles Chargers\", 2007], [\"Denver Broncos\", 2007], [\"Kansas City Chiefs\", 2007], [\"Las Vegas Raiders\", 2007], [\"Dallas Cowboys\", 2007], [\"New York Giants\", 2007], [\"Washington Commanders\", 2007], [\"Philadelphia Eagles\", 2007], [\"Green Bay Packers\", 2007], [\"Minnesota Vikings\", 2007], [\"Detroit Lions\", 2007], [\"Chicago Bears\", 2007], [\"Tampa Bay Buccaneers\", 2007], [\"Carolina Panthers\", 2007], [\"New Orleans Saints\", 2007], [\"Atlanta Falcons\", 2007], [\"Seattle Seahawks\", 2007], [\"Arizona Cardinals\", 2007], [\"San Francisco 49ers\", 2007], [\"Los Angeles Rams\", 2007], [\"New England Patriots\", 2006], [\"New York Jets\", 2006], [\"Buffalo Bills\", 2006], [\"Miami Dolphins\", 2006], [\"Baltimore Ravens\", 2006], [\"Cincinnati Bengals\", 2006], [\"Pittsburgh Steelers\", 2006], [\"Cleveland Browns\", 2006], [\"Indianapolis Colts\", 2006], [\"Tennessee Titans\", 2006], [\"Jacksonville Jaguars\", 2006], [\"Houston Texans\", 2006], [\"Los Angeles Chargers\", 2006], [\"Kansas City Chiefs\", 2006], [\"Denver Broncos\", 2006], [\"Las Vegas Raiders\", 2006], [\"Philadelphia Eagles\", 2006], [\"Dallas Cowboys\", 2006], [\"New York Giants\", 2006], [\"Washington Commanders\", 2006], [\"Chicago Bears\", 2006], [\"Green Bay Packers\", 2006], [\"Minnesota Vikings\", 2006], [\"Detroit Lions\", 2006], [\"New Orleans Saints\", 2006], [\"Carolina Panthers\", 2006], [\"Atlanta Falcons\", 2006], [\"Tampa Bay Buccaneers\", 2006], [\"Seattle Seahawks\", 2006], [\"Los Angeles Rams\", 2006], [\"San Francisco 49ers\", 2006], [\"Arizona Cardinals\", 2006], [\"New England Patriots\", 2005], [\"Miami Dolphins\", 2005], [\"Buffalo Bills\", 2005], [\"New York Jets\", 2005], [\"Cincinnati Bengals\", 2005], [\"Pittsburgh Steelers\", 2005], [\"Baltimore Ravens\", 2005], [\"Cleveland Browns\", 2005], [\"Indianapolis Colts\", 2005], [\"Jacksonville Jaguars\", 2005], [\"Tennessee Titans\", 2005], [\"Houston Texans\", 2005], [\"Denver Broncos\", 2005], [\"Kansas City Chiefs\", 2005], [\"Los Angeles Chargers\", 2005], [\"Las Vegas Raiders\", 2005], [\"New York Giants\", 2005], [\"Washington Commanders\", 2005], [\"Dallas Cowboys\", 2005], [\"Philadelphia Eagles\", 2005], [\"Chicago Bears\", 2005], [\"Minnesota Vikings\", 2005], [\"Detroit Lions\", 2005], [\"Green Bay Packers\", 2005], [\"Tampa Bay Buccaneers\", 2005], [\"Carolina Panthers\", 2005], [\"Atlanta Falcons\", 2005], [\"New Orleans Saints\", 2005], [\"Seattle Seahawks\", 2005], [\"Los Angeles Rams\", 2005], [\"Arizona Cardinals\", 2005], [\"San Francisco 49ers\", 2005], [\"New England Patriots\", 2004], [\"New York Jets\", 2004], [\"Buffalo Bills\", 2004], [\"Miami Dolphins\", 2004], [\"Pittsburgh Steelers\", 2004], [\"Baltimore Ravens\", 2004], [\"Cincinnati Bengals\", 2004], [\"Cleveland Browns\", 2004], [\"Indianapolis Colts\", 2004], [\"Jacksonville Jaguars\", 2004], [\"Houston Texans\", 2004], [\"Tennessee Titans\", 2004], [\"Los Angeles Chargers\", 2004], [\"Denver Broncos\", 2004], [\"Kansas City Chiefs\", 2004], [\"Las Vegas Raiders\", 2004], [\"Philadelphia Eagles\", 2004], [\"New York Giants\", 2004], [\"Dallas Cowboys\", 2004], [\"Washington Commanders\", 2004], [\"Green Bay Packers\", 2004], [\"Minnesota Vikings\", 2004], [\"Detroit Lions\", 2004], [\"Chicago Bears\", 2004], [\"Atlanta Falcons\", 2004], [\"New Orleans Saints\", 2004], [\"Carolina Panthers\", 2004], [\"Tampa Bay Buccaneers\", 2004], [\"Seattle Seahawks\", 2004], [\"Los Angeles Rams\", 2004], [\"Arizona Cardinals\", 2004], [\"San Francisco 49ers\", 2004], [\"New England Patriots\", 2003], [\"Miami Dolphins\", 2003], [\"Buffalo Bills\", 2003], [\"New York Jets\", 2003], [\"Baltimore Ravens\", 2003], [\"Cincinnati Bengals\", 2003], [\"Pittsburgh Steelers\", 2003], [\"Cleveland Browns\", 2003], [\"Indianapolis Colts\", 2003], [\"Tennessee Titans\", 2003], [\"Jacksonville Jaguars\", 2003], [\"Houston Texans\", 2003], [\"Kansas City Chiefs\", 2003], [\"Denver Broncos\", 2003], [\"Las Vegas Raiders\", 2003], [\"Los Angeles Chargers\", 2003], [\"Philadelphia Eagles\", 2003], [\"Dallas Cowboys\", 2003], [\"Washington Commanders\", 2003], [\"New York Giants\", 2003], [\"Green Bay Packers\", 2003], [\"Minnesota Vikings\", 2003], [\"Chicago Bears\", 2003], [\"Detroit Lions\", 2003], [\"Carolina Panthers\", 2003], [\"New Orleans Saints\", 2003], [\"Tampa Bay Buccaneers\", 2003], [\"Atlanta Falcons\", 2003], [\"Los Angeles Rams\", 2003], [\"Seattle Seahawks\", 2003], [\"San Francisco 49ers\", 2003], [\"Arizona Cardinals\", 2003]], \"hovertemplate\": \"YPG_opp=%{x}<br>PPG_opp=%{y}<br>Tm=%{customdata[0]}<br>Season=%{marker.color}<extra></extra>\", \"legendgroup\": \"\", \"marker\": {\"color\": [2021, 2021, 2021, 2021, 2021, 2021, 2021, 2021, 2021, 2021, 2021, 2021, 2021, 2021, 2021, 2021, 2021, 2021, 2021, 2021, 2021, 2021, 2021, 2021, 2021, 2021, 2021, 2021, 2021, 2021, 2021, 2021, 2020, 2020, 2020, 2020, 2020, 2020, 2020, 2020, 2020, 2020, 2020, 2020, 2020, 2020, 2020, 2020, 2020, 2020, 2020, 2020, 2020, 2020, 2020, 2020, 2020, 2020, 2020, 2020, 2020, 2020, 2020, 2020, 2019, 2019, 2019, 2019, 2019, 2019, 2019, 2019, 2019, 2019, 2019, 2019, 2019, 2019, 2019, 2019, 2019, 2019, 2019, 2019, 2019, 2019, 2019, 2019, 2019, 2019, 2019, 2019, 2019, 2019, 2019, 2019, 2018, 2018, 2018, 2018, 2018, 2018, 2018, 2018, 2018, 2018, 2018, 2018, 2018, 2018, 2018, 2018, 2018, 2018, 2018, 2018, 2018, 2018, 2018, 2018, 2018, 2018, 2018, 2018, 2018, 2018, 2018, 2018, 2017, 2017, 2017, 2017, 2017, 2017, 2017, 2017, 2017, 2017, 2017, 2017, 2017, 2017, 2017, 2017, 2017, 2017, 2017, 2017, 2017, 2017, 2017, 2017, 2017, 2017, 2017, 2017, 2017, 2017, 2017, 2017, 2016, 2016, 2016, 2016, 2016, 2016, 2016, 2016, 2016, 2016, 2016, 2016, 2016, 2016, 2016, 2016, 2016, 2016, 2016, 2016, 2016, 2016, 2016, 2016, 2016, 2016, 2016, 2016, 2016, 2016, 2016, 2016, 2015, 2015, 2015, 2015, 2015, 2015, 2015, 2015, 2015, 2015, 2015, 2015, 2015, 2015, 2015, 2015, 2015, 2015, 2015, 2015, 2015, 2015, 2015, 2015, 2015, 2015, 2015, 2015, 2015, 2015, 2015, 2015, 2014, 2014, 2014, 2014, 2014, 2014, 2014, 2014, 2014, 2014, 2014, 2014, 2014, 2014, 2014, 2014, 2014, 2014, 2014, 2014, 2014, 2014, 2014, 2014, 2014, 2014, 2014, 2014, 2014, 2014, 2014, 2014, 2013, 2013, 2013, 2013, 2013, 2013, 2013, 2013, 2013, 2013, 2013, 2013, 2013, 2013, 2013, 2013, 2013, 2013, 2013, 2013, 2013, 2013, 2013, 2013, 2013, 2013, 2013, 2013, 2013, 2013, 2013, 2013, 2012, 2012, 2012, 2012, 2012, 2012, 2012, 2012, 2012, 2012, 2012, 2012, 2012, 2012, 2012, 2012, 2012, 2012, 2012, 2012, 2012, 2012, 2012, 2012, 2012, 2012, 2012, 2012, 2012, 2012, 2012, 2012, 2011, 2011, 2011, 2011, 2011, 2011, 2011, 2011, 2011, 2011, 2011, 2011, 2011, 2011, 2011, 2011, 2011, 2011, 2011, 2011, 2011, 2011, 2011, 2011, 2011, 2011, 2011, 2011, 2011, 2011, 2011, 2011, 2010, 2010, 2010, 2010, 2010, 2010, 2010, 2010, 2010, 2010, 2010, 2010, 2010, 2010, 2010, 2010, 2010, 2010, 2010, 2010, 2010, 2010, 2010, 2010, 2010, 2010, 2010, 2010, 2010, 2010, 2010, 2010, 2009, 2009, 2009, 2009, 2009, 2009, 2009, 2009, 2009, 2009, 2009, 2009, 2009, 2009, 2009, 2009, 2009, 2009, 2009, 2009, 2009, 2009, 2009, 2009, 2009, 2009, 2009, 2009, 2009, 2009, 2009, 2009, 2008, 2008, 2008, 2008, 2008, 2008, 2008, 2008, 2008, 2008, 2008, 2008, 2008, 2008, 2008, 2008, 2008, 2008, 2008, 2008, 2008, 2008, 2008, 2008, 2008, 2008, 2008, 2008, 2008, 2008, 2008, 2008, 2007, 2007, 2007, 2007, 2007, 2007, 2007, 2007, 2007, 2007, 2007, 2007, 2007, 2007, 2007, 2007, 2007, 2007, 2007, 2007, 2007, 2007, 2007, 2007, 2007, 2007, 2007, 2007, 2007, 2007, 2007, 2007, 2006, 2006, 2006, 2006, 2006, 2006, 2006, 2006, 2006, 2006, 2006, 2006, 2006, 2006, 2006, 2006, 2006, 2006, 2006, 2006, 2006, 2006, 2006, 2006, 2006, 2006, 2006, 2006, 2006, 2006, 2006, 2006, 2005, 2005, 2005, 2005, 2005, 2005, 2005, 2005, 2005, 2005, 2005, 2005, 2005, 2005, 2005, 2005, 2005, 2005, 2005, 2005, 2005, 2005, 2005, 2005, 2005, 2005, 2005, 2005, 2005, 2005, 2005, 2005, 2004, 2004, 2004, 2004, 2004, 2004, 2004, 2004, 2004, 2004, 2004, 2004, 2004, 2004, 2004, 2004, 2004, 2004, 2004, 2004, 2004, 2004, 2004, 2004, 2004, 2004, 2004, 2004, 2004, 2004, 2004, 2004, 2003, 2003, 2003, 2003, 2003, 2003, 2003, 2003, 2003, 2003, 2003, 2003, 2003, 2003, 2003, 2003, 2003, 2003, 2003, 2003, 2003, 2003, 2003, 2003, 2003, 2003, 2003, 2003, 2003, 2003, 2003, 2003], \"coloraxis\": \"coloraxis\", \"symbol\": \"circle\"}, \"mode\": \"markers\", \"name\": \"\", \"orientation\": \"v\", \"showlegend\": false, \"type\": \"scatter\", \"x\": [272.7647058823529, 310.8235294117647, 337.52941176470586, 397.6470588235294, 350.8235294117647, 361.11764705882354, 311.52941176470586, 363.4117647058824, 329.8235294117647, 343.1764705882353, 384.4117647058824, 353.05882352941177, 368.94117647058823, 337.1764705882353, 360.11764705882354, 326.11764705882354, 351.0, 328.8235294117647, 359.29411764705884, 354.8235294117647, 328.1764705882353, 383.6470588235294, 316.70588235294116, 379.7647058823529, 331.47058823529414, 318.2352941176471, 364.3529411764706, 305.94117647058823, 344.88235294117646, 329.2352941176471, 310.0, 379.11764705882354, 272.7647058823529, 337.52941176470586, 310.8235294117647, 397.6470588235294, 361.11764705882354, 363.4117647058824, 311.52941176470586, 350.8235294117647, 329.8235294117647, 343.1764705882353, 384.4117647058824, 353.05882352941177, 368.94117647058823, 337.1764705882353, 360.11764705882354, 326.11764705882354, 359.29411764705884, 354.8235294117647, 351.0, 328.8235294117647, 328.1764705882353, 316.70588235294116, 383.6470588235294, 379.7647058823529, 318.2352941176471, 331.47058823529414, 305.94117647058823, 364.3529411764706, 379.11764705882354, 344.88235294117646, 329.2352941176471, 310.0, 310.8235294117647, 272.7647058823529, 397.6470588235294, 337.52941176470586, 363.4117647058824, 361.11764705882354, 311.52941176470586, 350.8235294117647, 384.4117647058824, 329.8235294117647, 343.1764705882353, 353.05882352941177, 368.94117647058823, 326.11764705882354, 337.1764705882353, 360.11764705882354, 328.8235294117647, 351.0, 354.8235294117647, null, 328.1764705882353, 383.6470588235294, 316.70588235294116, 379.7647058823529, 318.2352941176471, 364.3529411764706, 331.47058823529414, 305.94117647058823, 310.0, 379.11764705882354, 344.88235294117646, 329.2352941176471, 310.8235294117647, 337.52941176470586, 272.7647058823529, 397.6470588235294, 363.4117647058824, 361.11764705882354, 311.52941176470586, 350.8235294117647, 384.4117647058824, 343.1764705882353, 329.8235294117647, 353.05882352941177, 368.94117647058823, 360.11764705882354, 326.11764705882354, 337.1764705882353, 351.0, 328.8235294117647, null, 354.8235294117647, 316.70588235294116, 383.6470588235294, 328.1764705882353, 379.7647058823529, 318.2352941176471, 364.3529411764706, 305.94117647058823, 331.47058823529414, 344.88235294117646, 379.11764705882354, 310.0, 329.2352941176471, 310.8235294117647, 272.7647058823529, 337.52941176470586, 397.6470588235294, 361.11764705882354, 363.4117647058824, 350.8235294117647, 311.52941176470586, 353.05882352941177, 329.8235294117647, 343.1764705882353, 384.4117647058824, 368.94117647058823, 360.11764705882354, 337.1764705882353, 326.11764705882354, 328.8235294117647, 351.0, null, 354.8235294117647, 383.6470588235294, 379.7647058823529, 328.1764705882353, 316.70588235294116, 318.2352941176471, 305.94117647058823, 364.3529411764706, 331.47058823529414, 344.88235294117646, 379.11764705882354, 329.2352941176471, 310.0, 310.8235294117647, 337.52941176470586, 272.7647058823529, 397.6470588235294, 361.11764705882354, 363.4117647058824, 350.8235294117647, 311.52941176470586, 384.4117647058824, 329.8235294117647, 343.1764705882353, 353.05882352941177, 368.94117647058823, 337.1764705882353, 326.11764705882354, 360.11764705882354, 351.0, 354.8235294117647, null, 328.8235294117647, 328.1764705882353, 379.7647058823529, 383.6470588235294, 316.70588235294116, 364.3529411764706, 331.47058823529414, 318.2352941176471, 305.94117647058823, 379.11764705882354, 329.2352941176471, 344.88235294117646, 310.0, 310.8235294117647, 397.6470588235294, 272.7647058823529, 337.52941176470586, 350.8235294117647, 361.11764705882354, 363.4117647058824, 311.52941176470586, 384.4117647058824, 343.1764705882353, 353.05882352941177, 329.8235294117647, 326.11764705882354, 368.94117647058823, 337.1764705882353, 360.11764705882354, null, 328.8235294117647, 354.8235294117647, 351.0, 383.6470588235294, 328.1764705882353, 379.7647058823529, 316.70588235294116, 305.94117647058823, 364.3529411764706, 318.2352941176471, 331.47058823529414, 329.2352941176471, 379.11764705882354, 344.88235294117646, 310.0, 310.8235294117647, 272.7647058823529, 337.52941176470586, 397.6470588235294, 361.11764705882354, 350.8235294117647, 363.4117647058824, 311.52941176470586, 343.1764705882353, 384.4117647058824, 353.05882352941177, 329.8235294117647, 326.11764705882354, 368.94117647058823, 360.11764705882354, 337.1764705882353, 351.0, 328.8235294117647, 354.8235294117647, null, 328.1764705882353, 379.7647058823529, 383.6470588235294, 316.70588235294116, 305.94117647058823, 318.2352941176471, 364.3529411764706, 331.47058823529414, 379.11764705882354, 329.2352941176471, 310.0, 344.88235294117646, 310.8235294117647, 397.6470588235294, 337.52941176470586, 272.7647058823529, 350.8235294117647, 361.11764705882354, 363.4117647058824, 311.52941176470586, 343.1764705882353, 329.8235294117647, 353.05882352941177, 384.4117647058824, 326.11764705882354, 368.94117647058823, 360.11764705882354, 337.1764705882353, 328.8235294117647, 351.0, 354.8235294117647, null, 328.1764705882353, 316.70588235294116, 379.7647058823529, 383.6470588235294, 305.94117647058823, 318.2352941176471, 364.3529411764706, 331.47058823529414, 379.11764705882354, 310.0, 329.2352941176471, 344.88235294117646, 310.8235294117647, 337.52941176470586, 397.6470588235294, 272.7647058823529, 363.4117647058824, 350.8235294117647, 361.11764705882354, 311.52941176470586, 384.4117647058824, 343.1764705882353, 329.8235294117647, 353.05882352941177, 326.11764705882354, 360.11764705882354, 337.1764705882353, 368.94117647058823, null, 354.8235294117647, 351.0, 328.8235294117647, 328.1764705882353, 383.6470588235294, 316.70588235294116, 379.7647058823529, 364.3529411764706, 305.94117647058823, 318.2352941176471, 331.47058823529414, 310.0, 379.11764705882354, 344.88235294117646, 329.2352941176471, 310.8235294117647, 397.6470588235294, 337.52941176470586, 272.7647058823529, 363.4117647058824, 361.11764705882354, 350.8235294117647, 311.52941176470586, 384.4117647058824, 329.8235294117647, 353.05882352941177, 343.1764705882353, 326.11764705882354, 360.11764705882354, 337.1764705882353, 368.94117647058823, 354.8235294117647, 328.8235294117647, 351.0, null, 328.1764705882353, 379.7647058823529, 316.70588235294116, 383.6470588235294, 318.2352941176471, 364.3529411764706, 305.94117647058823, 331.47058823529414, 310.0, 329.2352941176471, 379.11764705882354, 344.88235294117646, 310.8235294117647, 397.6470588235294, 337.52941176470586, 272.7647058823529, 361.11764705882354, 363.4117647058824, 311.52941176470586, 350.8235294117647, 343.1764705882353, 353.05882352941177, 384.4117647058824, 329.8235294117647, 368.94117647058823, 360.11764705882354, 337.1764705882353, 326.11764705882354, 328.8235294117647, 354.8235294117647, 351.0, null, 316.70588235294116, 328.1764705882353, 379.7647058823529, 383.6470588235294, 364.3529411764706, 318.2352941176471, 331.47058823529414, 305.94117647058823, 379.11764705882354, 344.88235294117646, 310.0, 329.2352941176471, 310.8235294117647, 397.6470588235294, 337.52941176470586, 272.7647058823529, 350.8235294117647, 363.4117647058824, 361.11764705882354, 311.52941176470586, 343.1764705882353, 384.4117647058824, 329.8235294117647, 353.05882352941177, 360.11764705882354, 326.11764705882354, 337.1764705882353, 368.94117647058823, 351.0, 328.8235294117647, 354.8235294117647, null, 383.6470588235294, 328.1764705882353, 316.70588235294116, 379.7647058823529, 318.2352941176471, 364.3529411764706, 305.94117647058823, 331.47058823529414, 329.2352941176471, 310.0, 379.11764705882354, 344.88235294117646, 337.52941176470586, 310.8235294117647, 397.6470588235294, 272.7647058823529, 361.11764705882354, 363.4117647058824, 350.8235294117647, 311.52941176470586, 329.8235294117647, 343.1764705882353, 384.4117647058824, 353.05882352941177, 360.11764705882354, 326.11764705882354, 337.1764705882353, 368.94117647058823, 354.8235294117647, 328.8235294117647, 351.0, null, 383.6470588235294, 316.70588235294116, 328.1764705882353, 379.7647058823529, 305.94117647058823, 364.3529411764706, 331.47058823529414, 318.2352941176471, 329.2352941176471, 310.0, 379.11764705882354, 344.88235294117646, 310.8235294117647, 272.7647058823529, 397.6470588235294, 337.52941176470586, 361.11764705882354, 311.52941176470586, 350.8235294117647, 363.4117647058824, 343.1764705882353, 353.05882352941177, 329.8235294117647, 384.4117647058824, 360.11764705882354, 326.11764705882354, 368.94117647058823, 337.1764705882353, 351.0, 354.8235294117647, null, 328.8235294117647, 328.1764705882353, 383.6470588235294, 379.7647058823529, 316.70588235294116, 331.47058823529414, 305.94117647058823, 318.2352941176471, 364.3529411764706, 379.11764705882354, 329.2352941176471, 310.0, 344.88235294117646, 310.8235294117647, 397.6470588235294, 272.7647058823529, 337.52941176470586, 363.4117647058824, 350.8235294117647, 361.11764705882354, 311.52941176470586, 343.1764705882353, 329.8235294117647, 353.05882352941177, 384.4117647058824, 360.11764705882354, 368.94117647058823, 326.11764705882354, 337.1764705882353, 328.8235294117647, 351.0, 354.8235294117647, null, 316.70588235294116, 328.1764705882353, 383.6470588235294, 379.7647058823529, 318.2352941176471, 305.94117647058823, 364.3529411764706, 331.47058823529414, 379.11764705882354, 344.88235294117646, 310.0, 329.2352941176471, 310.8235294117647, 337.52941176470586, 272.7647058823529, 397.6470588235294, 350.8235294117647, 361.11764705882354, 363.4117647058824, 311.52941176470586, 343.1764705882353, 353.05882352941177, 329.8235294117647, 384.4117647058824, 326.11764705882354, 368.94117647058823, 360.11764705882354, 337.1764705882353, 354.8235294117647, null, 351.0, 328.8235294117647, 316.70588235294116, 383.6470588235294, 379.7647058823529, 328.1764705882353, 331.47058823529414, 305.94117647058823, 364.3529411764706, 318.2352941176471, 379.11764705882354, 344.88235294117646, 329.2352941176471, 310.0, 310.8235294117647, 397.6470588235294, 272.7647058823529, 337.52941176470586, 361.11764705882354, 363.4117647058824, 350.8235294117647, 311.52941176470586, 343.1764705882353, 353.05882352941177, 384.4117647058824, 329.8235294117647, 360.11764705882354, 326.11764705882354, 368.94117647058823, 337.1764705882353, 328.8235294117647, 354.8235294117647, 351.0, null, 328.1764705882353, 383.6470588235294, 379.7647058823529, 316.70588235294116, 364.3529411764706, 318.2352941176471, 305.94117647058823, 331.47058823529414, 379.11764705882354, 344.88235294117646, 329.2352941176471, 310.0, 310.8235294117647, 337.52941176470586, 272.7647058823529, 397.6470588235294, 363.4117647058824, 350.8235294117647, 361.11764705882354, 311.52941176470586, 343.1764705882353, 329.8235294117647, 353.05882352941177, 384.4117647058824, 368.94117647058823, 326.11764705882354, 337.1764705882353, 360.11764705882354, 328.8235294117647, 351.0, null, 354.8235294117647, 328.1764705882353, 383.6470588235294, 316.70588235294116, 379.7647058823529, 305.94117647058823, 318.2352941176471, 331.47058823529414, 364.3529411764706, 344.88235294117646, 379.11764705882354, 310.0, 329.2352941176471], \"xaxis\": \"x\", \"y\": [17.0, 17.823529411764707, 21.941176470588236, 29.647058823529413, 22.11764705882353, 23.41176470588235, 21.823529411764707, 23.058823529411764, 20.823529411764707, 21.470588235294116, 26.58823529411765, 26.88235294117647, 21.41176470588235, 25.823529411764707, 27.0, 18.941176470588236, 21.058823529411764, 22.647058823529413, 25.529411764705884, 24.470588235294116, 21.823529411764707, 25.058823529411764, 23.941176470588236, 27.470588235294116, 20.764705882352942, 19.705882352941178, 27.0, 23.764705882352942, 21.88235294117647, 21.529411764705884, 21.470588235294116, 21.529411764705884, 22.058823529411764, 19.88235294117647, 20.764705882352942, 26.88235294117647, 18.352941176470587, 17.823529411764707, 24.647058823529413, 24.941176470588236, 25.823529411764707, 21.294117647058822, 27.294117647058822, 28.941176470588236, 21.294117647058822, 28.11764705882353, 25.058823529411764, 26.235294117647058, 19.352941176470587, 21.0, 27.823529411764707, 24.58823529411765, 21.705882352941178, 21.764705882352942, 27.941176470588236, 30.529411764705884, 19.823529411764707, 20.88235294117647, 23.647058823529413, 24.352941176470587, 21.823529411764707, 17.41176470588235, 21.58823529411765, 22.941176470588236, 13.235294117647058, 15.235294117647058, 21.11764705882353, 29.058823529411764, 16.58823529411765, 17.823529411764707, 23.11764705882353, 24.705882352941178, 22.647058823529413, 19.470588235294116, 21.941176470588236, 23.352941176470587, 18.11764705882353, 18.58823529411765, 24.647058823529413, 20.294117647058822, 20.823529411764707, 18.88235294117647, 26.529411764705884, null, 18.41176470588235, 17.823529411764707, 17.529411764705884, 24.88235294117647, 20.058823529411764, 23.470588235294116, 26.41176470588235, 27.647058823529413, 18.235294117647058, 23.41176470588235, 21.41176470588235, 26.0, 19.11764705882353, 25.470588235294116, 22.0, 25.941176470588236, 16.88235294117647, 21.176470588235293, 23.058823529411764, 26.764705882352942, 18.58823529411765, 20.235294117647058, 17.823529411764707, 18.58823529411765, 24.764705882352942, 19.352941176470587, 20.529411764705884, 27.470588235294116, 19.058823529411764, 20.470588235294116, null, 24.235294117647058, 16.647058823529413, 20.058823529411764, 23.529411764705884, 21.176470588235293, 20.764705882352942, 24.88235294117647, 22.470588235294116, 27.294117647058822, 22.58823529411765, 20.41176470588235, 25.58823529411765, 25.0, 17.41176470588235, 21.11764705882353, 23.11764705882353, 22.470588235294116, 18.11764705882353, 17.823529411764707, 20.529411764705884, 24.11764705882353, 15.764705882352942, 20.941176470588236, 23.764705882352942, 25.647058823529413, 19.941176470588236, 16.0, 21.941176470588236, 22.470588235294116, 17.352941176470587, 19.529411764705884, null, 22.823529411764707, 14.823529411764707, 22.11764705882353, 22.58823529411765, 18.823529411764707, 19.176470588235293, 19.235294117647058, 18.529411764705884, 22.470588235294116, 19.352941176470587, 19.529411764705884, 21.235294117647058, 22.529411764705884, 14.705882352941176, 22.352941176470587, 22.235294117647058, 24.058823529411764, 19.235294117647058, 18.88235294117647, 18.529411764705884, 26.58823529411765, 19.294117647058822, 22.235294117647058, 23.058823529411764, 23.529411764705884, 18.294117647058822, 22.647058823529413, 17.470588235294116, 24.88235294117647, 18.0, 16.705882352941178, null, 19.470588235294116, 22.823529411764707, 21.058823529411764, 18.058823529411764, 23.470588235294116, 23.88235294117647, 21.705882352941178, 26.705882352941178, 23.647058823529413, 17.176470588235293, 21.294117647058822, 23.176470588235293, 28.235294117647058, 18.529411764705884, 18.470588235294116, 21.11764705882353, 22.88235294117647, 16.41176470588235, 18.764705882352942, 23.58823529411765, 25.41176470588235, 18.41176470588235, 24.0, 26.352941176470587, 24.88235294117647, 17.41176470588235, 16.88235294117647, 23.470588235294116, 23.41176470588235, null, 25.294117647058822, 26.0, 22.0, 17.764705882352942, 19.0, 23.529411764705884, 23.352941176470587, 18.11764705882353, 20.294117647058822, 28.0, 24.529411764705884, 18.41176470588235, 16.294117647058822, 19.41176470588235, 22.764705882352942, 18.41176470588235, 17.0, 21.941176470588236, 23.58823529411765, 21.647058823529413, 20.235294117647058, 17.764705882352942, 19.823529411764707, 21.705882352941178, 18.058823529411764, 24.235294117647058, 25.764705882352942, 20.823529411764707, 16.529411764705884, 20.470588235294116, 26.58823529411765, 20.705882352941178, 23.529411764705884, 23.529411764705884, null, 20.470588235294116, 16.58823529411765, 20.176470588235293, 26.0, 22.0, 24.941176470588236, 24.529411764705884, 24.11764705882353, 14.941176470588236, 17.58823529411765, 20.0, 20.823529411764707, 19.88235294117647, 22.764705882352942, 19.705882352941178, 22.823529411764707, 17.941176470588236, 21.764705882352942, 20.705882352941178, 23.88235294117647, 19.764705882352942, 22.41176470588235, 26.41176470588235, 25.176470588235293, 23.470588235294116, 17.941176470588236, 20.470588235294116, 26.647058823529413, 22.470588235294116, 25.41176470588235, 22.529411764705884, null, 25.176470588235293, 28.11764705882353, 22.11764705882353, 28.235294117647058, 14.176470588235293, 17.88235294117647, 26.058823529411764, 22.88235294117647, 13.588235294117647, 16.0, 19.058823529411764, 21.41176470588235, 19.470588235294116, 18.647058823529413, 22.058823529411764, 25.58823529411765, 20.235294117647058, 18.823529411764707, 18.470588235294116, 21.647058823529413, 19.470588235294116, 22.764705882352942, 27.705882352941178, 26.11764705882353, 17.0, 20.58823529411765, 26.058823529411764, 25.0, null, 20.235294117647058, 23.529411764705884, 26.11764705882353, 19.764705882352942, 20.470588235294116, 16.294117647058822, 25.705882352941178, 17.58823529411765, 21.352941176470587, 26.705882352941178, 23.176470588235293, 16.058823529411764, 14.411764705882353, 20.470588235294116, 21.0, 20.11764705882353, 21.352941176470587, 18.41176470588235, 25.529411764705884, 15.647058823529411, 13.352941176470589, 19.0, 18.058823529411764, 16.352941176470587, 18.647058823529413, 19.352941176470587, 25.294117647058822, 22.941176470588236, 22.176470588235293, 25.470588235294116, 19.88235294117647, 23.529411764705884, 19.294117647058822, 20.41176470588235, null, 21.11764705882353, 22.764705882352942, 20.058823529411764, 26.41176470588235, 19.941176470588236, 20.58823529411765, 25.235294117647058, 29.058823529411764, 13.470588235294118, 20.470588235294116, 18.529411764705884, 23.941176470588236, 18.41176470588235, 17.88235294117647, 19.58823529411765, 25.0, 13.647058823529411, 15.882352941176471, 19.529411764705884, 23.235294117647058, 22.823529411764707, 24.647058823529413, 25.11764705882353, 19.941176470588236, 19.176470588235293, 18.941176470588236, 21.823529411764707, 27.705882352941178, 22.176470588235293, 20.41176470588235, 25.647058823529413, null, 16.823529411764707, 14.117647058823529, 21.705882352941178, 20.470588235294116, 16.941176470588236, 18.058823529411764, 18.705882352941178, 24.0, 23.941176470588236, 19.294117647058822, 20.352941176470587, 25.529411764705884, 16.764705882352942, 13.882352941176471, 22.941176470588236, 19.176470588235293, 17.11764705882353, 15.352941176470589, 19.058823529411764, 22.058823529411764, 18.058823529411764, 19.58823529411765, 23.647058823529413, 22.352941176470587, 18.823529411764707, 19.058823529411764, 22.294117647058822, 24.941176470588236, 14.705882352941176, 19.823529411764707, 25.11764705882353, null, 18.352941176470587, 17.470588235294116, 22.058823529411764, 29.058823529411764, 20.058823529411764, 19.11764705882353, 18.11764705882353, 23.529411764705884, 19.11764705882353, 16.529411764705884, 22.941176470588236, 25.647058823529413, 18.647058823529413, 18.176470588235293, 20.941176470588236, 20.11764705882353, 13.117647058823529, 14.352941176470589, 21.41176470588235, 20.58823529411765, 13.764705882352942, 17.529411764705884, 23.176470588235293, 21.58823529411765, 20.41176470588235, 26.352941176470587, 22.823529411764707, 25.88235294117647, 17.294117647058822, 17.0, 21.470588235294116, null, 19.58823529411765, 20.58823529411765, 22.352941176470587, 30.41176470588235, 19.352941176470587, 19.11764705882353, 19.0, 23.11764705882353, 25.058823529411764, 22.41176470588235, 23.058823529411764, 27.352941176470587, 16.11764705882353, 20.823529411764707, 20.88235294117647, 25.705882352941178, 15.823529411764707, 22.470588235294116, 22.647058823529413, 22.58823529411765, 15.411764705882353, 17.88235294117647, 17.470588235294116, 22.58823529411765, 16.705882352941178, 24.058823529411764, 19.705882352941178, 23.41176470588235, 19.11764705882353, 20.647058823529413, null, 17.647058823529413, 17.11764705882353, 18.294117647058822, 26.11764705882353, 20.470588235294116, 15.882352941176471, 20.41176470588235, 22.823529411764707, 24.352941176470587, 17.11764705882353, 23.470588235294116, 21.41176470588235, 25.764705882352942, 13.941176470588236, 17.352941176470587, 18.294117647058822, 16.647058823529413, 11.823529411764707, 19.470588235294116, 18.529411764705884, 20.941176470588236, 21.176470588235293, 23.529411764705884, 16.11764705882353, 21.529411764705884, 17.823529411764707, 18.529411764705884, 17.941176470588236, 19.529411764705884, 19.294117647058822, 20.58823529411765, 21.294117647058822, null, 15.0, 21.529411764705884, 19.235294117647058, 23.41176470588235, 18.941176470588236, 17.941176470588236, 19.294117647058822, 20.764705882352942, 20.058823529411764, 22.41176470588235, 24.235294117647058, 22.88235294117647, 19.88235294117647, 18.647058823529413, 21.58823529411765, 20.88235294117647, 20.58823529411765, 15.176470588235293, 17.58823529411765, 17.705882352941178, 14.529411764705882, 15.823529411764707, 24.764705882352942, 25.352941176470587, 15.176470588235293, 19.11764705882353, 18.352941176470587, 22.529411764705884, 18.470588235294116, null, 18.11764705882353, 22.823529411764707, 11.882352941176471, 20.235294117647058, 20.294117647058822, 20.235294117647058, 16.11764705882353, 15.235294117647058, 20.058823529411764, 23.41176470588235, 15.941176470588236, 25.235294117647058, 22.764705882352942, 25.176470588235293, 15.294117647058824, 15.352941176470589, 16.705882352941178, 20.823529411764707, 14.764705882352942, 15.764705882352942, 21.88235294117647, 22.941176470588236, 20.647058823529413, 16.470588235294116, 19.941176470588236, 25.823529411764707, 18.41176470588235, 17.88235294117647, 25.58823529411765, 26.0, 15.294117647058824, 20.41176470588235, 23.823529411764707, null, 22.352941176470587, 23.235294117647058, 20.58823529411765, 19.470588235294116, 19.823529411764707, 23.823529411764707, 19.941176470588236, 17.88235294117647, 21.941176470588236, 23.058823529411764, 18.941176470588236, 26.58823529411765, 14.0, 15.352941176470589, 16.41176470588235, 17.58823529411765, 16.529411764705884, 22.58823529411765, 19.235294117647058, 18.941176470588236, 19.764705882352942, 19.058823529411764, 19.470588235294116, 22.352941176470587, 19.529411764705884, 17.705882352941178, 22.294117647058822, 25.941176470588236, 16.88235294117647, 15.294117647058824, null, 22.764705882352942, 18.058823529411764, 20.764705882352942, 20.352941176470587, 22.294117647058822, 17.88235294117647, 19.176470588235293, 15.529411764705882, 24.823529411764707, 19.294117647058822, 19.235294117647058, 19.823529411764707, 26.58823529411765], \"yaxis\": \"y\"}],                        {\"coloraxis\": {\"colorbar\": {\"title\": {\"text\": \"Season\"}}, \"colorscale\": [[0.0, \"#0d0887\"], [0.1111111111111111, \"#46039f\"], [0.2222222222222222, \"#7201a8\"], [0.3333333333333333, \"#9c179e\"], [0.4444444444444444, \"#bd3786\"], [0.5555555555555556, \"#d8576b\"], [0.6666666666666666, \"#ed7953\"], [0.7777777777777778, \"#fb9f3a\"], [0.8888888888888888, \"#fdca26\"], [1.0, \"#f0f921\"]]}, \"legend\": {\"tracegroupgap\": 0}, \"margin\": {\"t\": 60}, \"template\": {\"data\": {\"bar\": [{\"error_x\": {\"color\": \"#2a3f5f\"}, \"error_y\": {\"color\": \"#2a3f5f\"}, \"marker\": {\"line\": {\"color\": \"#E5ECF6\", \"width\": 0.5}}, \"type\": \"bar\"}], \"barpolar\": [{\"marker\": {\"line\": {\"color\": \"#E5ECF6\", \"width\": 0.5}}, \"type\": \"barpolar\"}], \"carpet\": [{\"aaxis\": {\"endlinecolor\": \"#2a3f5f\", \"gridcolor\": \"white\", \"linecolor\": \"white\", \"minorgridcolor\": \"white\", \"startlinecolor\": \"#2a3f5f\"}, \"baxis\": {\"endlinecolor\": \"#2a3f5f\", \"gridcolor\": \"white\", \"linecolor\": \"white\", \"minorgridcolor\": \"white\", \"startlinecolor\": \"#2a3f5f\"}, \"type\": \"carpet\"}], \"choropleth\": [{\"colorbar\": {\"outlinewidth\": 0, \"ticks\": \"\"}, \"type\": \"choropleth\"}], \"contour\": [{\"colorbar\": {\"outlinewidth\": 0, \"ticks\": \"\"}, \"colorscale\": [[0.0, \"#0d0887\"], [0.1111111111111111, \"#46039f\"], [0.2222222222222222, \"#7201a8\"], [0.3333333333333333, \"#9c179e\"], [0.4444444444444444, \"#bd3786\"], [0.5555555555555556, \"#d8576b\"], [0.6666666666666666, \"#ed7953\"], [0.7777777777777778, \"#fb9f3a\"], [0.8888888888888888, \"#fdca26\"], [1.0, \"#f0f921\"]], \"type\": \"contour\"}], \"contourcarpet\": [{\"colorbar\": {\"outlinewidth\": 0, \"ticks\": \"\"}, \"type\": \"contourcarpet\"}], \"heatmap\": [{\"colorbar\": {\"outlinewidth\": 0, \"ticks\": \"\"}, \"colorscale\": [[0.0, \"#0d0887\"], [0.1111111111111111, \"#46039f\"], [0.2222222222222222, \"#7201a8\"], [0.3333333333333333, \"#9c179e\"], [0.4444444444444444, \"#bd3786\"], [0.5555555555555556, \"#d8576b\"], [0.6666666666666666, \"#ed7953\"], [0.7777777777777778, \"#fb9f3a\"], [0.8888888888888888, \"#fdca26\"], [1.0, \"#f0f921\"]], \"type\": \"heatmap\"}], \"heatmapgl\": [{\"colorbar\": {\"outlinewidth\": 0, \"ticks\": \"\"}, \"colorscale\": [[0.0, \"#0d0887\"], [0.1111111111111111, \"#46039f\"], [0.2222222222222222, \"#7201a8\"], [0.3333333333333333, \"#9c179e\"], [0.4444444444444444, \"#bd3786\"], [0.5555555555555556, \"#d8576b\"], [0.6666666666666666, \"#ed7953\"], [0.7777777777777778, \"#fb9f3a\"], [0.8888888888888888, \"#fdca26\"], [1.0, \"#f0f921\"]], \"type\": \"heatmapgl\"}], \"histogram\": [{\"marker\": {\"colorbar\": {\"outlinewidth\": 0, \"ticks\": \"\"}}, \"type\": \"histogram\"}], \"histogram2d\": [{\"colorbar\": {\"outlinewidth\": 0, \"ticks\": \"\"}, \"colorscale\": [[0.0, \"#0d0887\"], [0.1111111111111111, \"#46039f\"], [0.2222222222222222, \"#7201a8\"], [0.3333333333333333, \"#9c179e\"], [0.4444444444444444, \"#bd3786\"], [0.5555555555555556, \"#d8576b\"], [0.6666666666666666, \"#ed7953\"], [0.7777777777777778, \"#fb9f3a\"], [0.8888888888888888, \"#fdca26\"], [1.0, \"#f0f921\"]], \"type\": \"histogram2d\"}], \"histogram2dcontour\": [{\"colorbar\": {\"outlinewidth\": 0, \"ticks\": \"\"}, \"colorscale\": [[0.0, \"#0d0887\"], [0.1111111111111111, \"#46039f\"], [0.2222222222222222, \"#7201a8\"], [0.3333333333333333, \"#9c179e\"], [0.4444444444444444, \"#bd3786\"], [0.5555555555555556, \"#d8576b\"], [0.6666666666666666, \"#ed7953\"], [0.7777777777777778, \"#fb9f3a\"], [0.8888888888888888, \"#fdca26\"], [1.0, \"#f0f921\"]], \"type\": \"histogram2dcontour\"}], \"mesh3d\": [{\"colorbar\": {\"outlinewidth\": 0, \"ticks\": \"\"}, \"type\": \"mesh3d\"}], \"parcoords\": [{\"line\": {\"colorbar\": {\"outlinewidth\": 0, \"ticks\": \"\"}}, \"type\": \"parcoords\"}], \"pie\": [{\"automargin\": true, \"type\": \"pie\"}], \"scatter\": [{\"marker\": {\"colorbar\": {\"outlinewidth\": 0, \"ticks\": \"\"}}, \"type\": \"scatter\"}], \"scatter3d\": [{\"line\": {\"colorbar\": {\"outlinewidth\": 0, \"ticks\": \"\"}}, \"marker\": {\"colorbar\": {\"outlinewidth\": 0, \"ticks\": \"\"}}, \"type\": \"scatter3d\"}], \"scattercarpet\": [{\"marker\": {\"colorbar\": {\"outlinewidth\": 0, \"ticks\": \"\"}}, \"type\": \"scattercarpet\"}], \"scattergeo\": [{\"marker\": {\"colorbar\": {\"outlinewidth\": 0, \"ticks\": \"\"}}, \"type\": \"scattergeo\"}], \"scattergl\": [{\"marker\": {\"colorbar\": {\"outlinewidth\": 0, \"ticks\": \"\"}}, \"type\": \"scattergl\"}], \"scattermapbox\": [{\"marker\": {\"colorbar\": {\"outlinewidth\": 0, \"ticks\": \"\"}}, \"type\": \"scattermapbox\"}], \"scatterpolar\": [{\"marker\": {\"colorbar\": {\"outlinewidth\": 0, \"ticks\": \"\"}}, \"type\": \"scatterpolar\"}], \"scatterpolargl\": [{\"marker\": {\"colorbar\": {\"outlinewidth\": 0, \"ticks\": \"\"}}, \"type\": \"scatterpolargl\"}], \"scatterternary\": [{\"marker\": {\"colorbar\": {\"outlinewidth\": 0, \"ticks\": \"\"}}, \"type\": \"scatterternary\"}], \"surface\": [{\"colorbar\": {\"outlinewidth\": 0, \"ticks\": \"\"}, \"colorscale\": [[0.0, \"#0d0887\"], [0.1111111111111111, \"#46039f\"], [0.2222222222222222, \"#7201a8\"], [0.3333333333333333, \"#9c179e\"], [0.4444444444444444, \"#bd3786\"], [0.5555555555555556, \"#d8576b\"], [0.6666666666666666, \"#ed7953\"], [0.7777777777777778, \"#fb9f3a\"], [0.8888888888888888, \"#fdca26\"], [1.0, \"#f0f921\"]], \"type\": \"surface\"}], \"table\": [{\"cells\": {\"fill\": {\"color\": \"#EBF0F8\"}, \"line\": {\"color\": \"white\"}}, \"header\": {\"fill\": {\"color\": \"#C8D4E3\"}, \"line\": {\"color\": \"white\"}}, \"type\": \"table\"}]}, \"layout\": {\"annotationdefaults\": {\"arrowcolor\": \"#2a3f5f\", \"arrowhead\": 0, \"arrowwidth\": 1}, \"autotypenumbers\": \"strict\", \"coloraxis\": {\"colorbar\": {\"outlinewidth\": 0, \"ticks\": \"\"}}, \"colorscale\": {\"diverging\": [[0, \"#8e0152\"], [0.1, \"#c51b7d\"], [0.2, \"#de77ae\"], [0.3, \"#f1b6da\"], [0.4, \"#fde0ef\"], [0.5, \"#f7f7f7\"], [0.6, \"#e6f5d0\"], [0.7, \"#b8e186\"], [0.8, \"#7fbc41\"], [0.9, \"#4d9221\"], [1, \"#276419\"]], \"sequential\": [[0.0, \"#0d0887\"], [0.1111111111111111, \"#46039f\"], [0.2222222222222222, \"#7201a8\"], [0.3333333333333333, \"#9c179e\"], [0.4444444444444444, \"#bd3786\"], [0.5555555555555556, \"#d8576b\"], [0.6666666666666666, \"#ed7953\"], [0.7777777777777778, \"#fb9f3a\"], [0.8888888888888888, \"#fdca26\"], [1.0, \"#f0f921\"]], \"sequentialminus\": [[0.0, \"#0d0887\"], [0.1111111111111111, \"#46039f\"], [0.2222222222222222, \"#7201a8\"], [0.3333333333333333, \"#9c179e\"], [0.4444444444444444, \"#bd3786\"], [0.5555555555555556, \"#d8576b\"], [0.6666666666666666, \"#ed7953\"], [0.7777777777777778, \"#fb9f3a\"], [0.8888888888888888, \"#fdca26\"], [1.0, \"#f0f921\"]]}, \"colorway\": [\"#636efa\", \"#EF553B\", \"#00cc96\", \"#ab63fa\", \"#FFA15A\", \"#19d3f3\", \"#FF6692\", \"#B6E880\", \"#FF97FF\", \"#FECB52\"], \"font\": {\"color\": \"#2a3f5f\"}, \"geo\": {\"bgcolor\": \"white\", \"lakecolor\": \"white\", \"landcolor\": \"#E5ECF6\", \"showlakes\": true, \"showland\": true, \"subunitcolor\": \"white\"}, \"hoverlabel\": {\"align\": \"left\"}, \"hovermode\": \"closest\", \"mapbox\": {\"style\": \"light\"}, \"paper_bgcolor\": \"white\", \"plot_bgcolor\": \"#E5ECF6\", \"polar\": {\"angularaxis\": {\"gridcolor\": \"white\", \"linecolor\": \"white\", \"ticks\": \"\"}, \"bgcolor\": \"#E5ECF6\", \"radialaxis\": {\"gridcolor\": \"white\", \"linecolor\": \"white\", \"ticks\": \"\"}}, \"scene\": {\"xaxis\": {\"backgroundcolor\": \"#E5ECF6\", \"gridcolor\": \"white\", \"gridwidth\": 2, \"linecolor\": \"white\", \"showbackground\": true, \"ticks\": \"\", \"zerolinecolor\": \"white\"}, \"yaxis\": {\"backgroundcolor\": \"#E5ECF6\", \"gridcolor\": \"white\", \"gridwidth\": 2, \"linecolor\": \"white\", \"showbackground\": true, \"ticks\": \"\", \"zerolinecolor\": \"white\"}, \"zaxis\": {\"backgroundcolor\": \"#E5ECF6\", \"gridcolor\": \"white\", \"gridwidth\": 2, \"linecolor\": \"white\", \"showbackground\": true, \"ticks\": \"\", \"zerolinecolor\": \"white\"}}, \"shapedefaults\": {\"line\": {\"color\": \"#2a3f5f\"}}, \"ternary\": {\"aaxis\": {\"gridcolor\": \"white\", \"linecolor\": \"white\", \"ticks\": \"\"}, \"baxis\": {\"gridcolor\": \"white\", \"linecolor\": \"white\", \"ticks\": \"\"}, \"bgcolor\": \"#E5ECF6\", \"caxis\": {\"gridcolor\": \"white\", \"linecolor\": \"white\", \"ticks\": \"\"}}, \"title\": {\"x\": 0.05}, \"xaxis\": {\"automargin\": true, \"gridcolor\": \"white\", \"linecolor\": \"white\", \"ticks\": \"\", \"title\": {\"standoff\": 15}, \"zerolinecolor\": \"white\", \"zerolinewidth\": 2}, \"yaxis\": {\"automargin\": true, \"gridcolor\": \"white\", \"linecolor\": \"white\", \"ticks\": \"\", \"title\": {\"standoff\": 15}, \"zerolinecolor\": \"white\", \"zerolinewidth\": 2}}}, \"xaxis\": {\"anchor\": \"y\", \"domain\": [0.0, 1.0], \"title\": {\"text\": \"YPG_opp\"}}, \"yaxis\": {\"anchor\": \"x\", \"domain\": [0.0, 1.0], \"title\": {\"text\": \"PPG_opp\"}}},                        {\"responsive\": true}                    ).then(function(){\n",
       "                            \n",
       "var gd = document.getElementById('7d176dc6-69a1-4e47-b996-f3bb8b16d9b9');\n",
       "var x = new MutationObserver(function (mutations, observer) {{\n",
       "        var display = window.getComputedStyle(gd).display;\n",
       "        if (!display || display === 'none') {{\n",
       "            console.log([gd, 'removed!']);\n",
       "            Plotly.purge(gd);\n",
       "            observer.disconnect();\n",
       "        }}\n",
       "}});\n",
       "\n",
       "// Listen for the removal of the full notebook cells\n",
       "var notebookContainer = gd.closest('#notebook-container');\n",
       "if (notebookContainer) {{\n",
       "    x.observe(notebookContainer, {childList: true});\n",
       "}}\n",
       "\n",
       "// Listen for the clearing of the current output cell\n",
       "var outputEl = gd.closest('.output');\n",
       "if (outputEl) {{\n",
       "    x.observe(outputEl, {childList: true});\n",
       "}}\n",
       "\n",
       "                        })                };                });            </script>        </div>"
      ]
     },
     "metadata": {},
     "output_type": "display_data"
    }
   ],
   "source": [
    "# Plotting opponent PPG vs YpG\n",
    "px.scatter(df, x='YPG_opp', y='PPG_opp', color='Season',  hover_data=hover_data)"
   ]
  },
  {
   "cell_type": "code",
   "execution_count": 133,
   "metadata": {},
   "outputs": [],
   "source": [
    "# Let's make these figures a bit more interactive with plotly\n",
    "def make_scatter_plot(df, x_label='YPG', y_label='PPG', side_of_ball='off', cluster_type='kmeans'):\n",
    "    '''Create plotly scatter plot to compare YPG and PPG'''\n",
    "    phase_dict = {'off': 'Offense', 'def': 'Defense'}\n",
    "    \n",
    "    color_label = f'labels_{cluster_type}_{side_of_ball}'\n",
    "    f = px.scatter(df, x=x_label, y=y_label, color=color_label,\n",
    "               hover_data=hover_data,\n",
    "               title=f\"NFL {phase_dict.get(side_of_ball)} Performance ({cluster_type.capitalize()})\"\n",
    "              )\n",
    "    return f\n",
    "    "
   ]
  },
  {
   "cell_type": "markdown",
   "metadata": {},
   "source": [
    "### Running [K-Means](https://scikit-learn.org/stable/modules/clustering.html#k-means) clustering\n",
    "\n",
    "using `scikit-learn`'s built-in kmeans algorithm to cluster teams based on their YpG and PPG."
   ]
  },
  {
   "cell_type": "code",
   "execution_count": 134,
   "metadata": {},
   "outputs": [
    {
     "ename": "ValueError",
     "evalue": "Input contains NaN, infinity or a value too large for dtype('float64').",
     "output_type": "error",
     "traceback": [
      "\u001b[0;31m---------------------------------------------------------------------------\u001b[0m",
      "\u001b[0;31mValueError\u001b[0m                                Traceback (most recent call last)",
      "\u001b[0;32m<ipython-input-134-4815d36486e6>\u001b[0m in \u001b[0;36m<module>\u001b[0;34m\u001b[0m\n\u001b[1;32m      1\u001b[0m \u001b[0;31m# Fitting K-means to YPG\u001b[0m\u001b[0;34m\u001b[0m\u001b[0;34m\u001b[0m\u001b[0;34m\u001b[0m\u001b[0m\n\u001b[1;32m      2\u001b[0m \u001b[0mdata\u001b[0m \u001b[0;34m=\u001b[0m \u001b[0mdf\u001b[0m\u001b[0;34m[\u001b[0m\u001b[0;34m[\u001b[0m\u001b[0;34m'YPG'\u001b[0m\u001b[0;34m,\u001b[0m \u001b[0;34m'PPG'\u001b[0m\u001b[0;34m]\u001b[0m\u001b[0;34m]\u001b[0m\u001b[0;34m\u001b[0m\u001b[0;34m\u001b[0m\u001b[0m\n\u001b[0;32m----> 3\u001b[0;31m \u001b[0mkmeans_off\u001b[0m \u001b[0;34m=\u001b[0m \u001b[0mKMeans\u001b[0m\u001b[0;34m(\u001b[0m\u001b[0mn_clusters\u001b[0m\u001b[0;34m=\u001b[0m\u001b[0;36m4\u001b[0m\u001b[0;34m,\u001b[0m \u001b[0mrandom_state\u001b[0m\u001b[0;34m=\u001b[0m\u001b[0;36m0\u001b[0m\u001b[0;34m)\u001b[0m\u001b[0;34m.\u001b[0m\u001b[0mfit\u001b[0m\u001b[0;34m(\u001b[0m\u001b[0mdf\u001b[0m\u001b[0;34m[\u001b[0m\u001b[0;34m[\u001b[0m\u001b[0;34m'YPG'\u001b[0m\u001b[0;34m,\u001b[0m \u001b[0;34m'PPG'\u001b[0m\u001b[0;34m]\u001b[0m\u001b[0;34m]\u001b[0m\u001b[0;34m)\u001b[0m\u001b[0;34m\u001b[0m\u001b[0;34m\u001b[0m\u001b[0m\n\u001b[0m\u001b[1;32m      4\u001b[0m \u001b[0mdf\u001b[0m\u001b[0;34m[\u001b[0m\u001b[0;34m'labels_kmeans_off'\u001b[0m\u001b[0;34m]\u001b[0m \u001b[0;34m=\u001b[0m \u001b[0mkmeans_off\u001b[0m\u001b[0;34m.\u001b[0m\u001b[0mlabels_\u001b[0m\u001b[0;34m\u001b[0m\u001b[0;34m\u001b[0m\u001b[0m\n",
      "\u001b[0;32m~/opt/anaconda3/lib/python3.7/site-packages/sklearn/cluster/_kmeans.py\u001b[0m in \u001b[0;36mfit\u001b[0;34m(self, X, y, sample_weight)\u001b[0m\n\u001b[1;32m    857\u001b[0m         \u001b[0morder\u001b[0m \u001b[0;34m=\u001b[0m \u001b[0;34m\"C\"\u001b[0m \u001b[0;32mif\u001b[0m \u001b[0mself\u001b[0m\u001b[0;34m.\u001b[0m\u001b[0mcopy_x\u001b[0m \u001b[0;32melse\u001b[0m \u001b[0;32mNone\u001b[0m\u001b[0;34m\u001b[0m\u001b[0;34m\u001b[0m\u001b[0m\n\u001b[1;32m    858\u001b[0m         X = check_array(X, accept_sparse='csr', dtype=[np.float64, np.float32],\n\u001b[0;32m--> 859\u001b[0;31m                         order=order, copy=self.copy_x)\n\u001b[0m\u001b[1;32m    860\u001b[0m         \u001b[0;31m# verify that the number of samples given is larger than k\u001b[0m\u001b[0;34m\u001b[0m\u001b[0;34m\u001b[0m\u001b[0;34m\u001b[0m\u001b[0m\n\u001b[1;32m    861\u001b[0m         \u001b[0;32mif\u001b[0m \u001b[0m_num_samples\u001b[0m\u001b[0;34m(\u001b[0m\u001b[0mX\u001b[0m\u001b[0;34m)\u001b[0m \u001b[0;34m<\u001b[0m \u001b[0mself\u001b[0m\u001b[0;34m.\u001b[0m\u001b[0mn_clusters\u001b[0m\u001b[0;34m:\u001b[0m\u001b[0;34m\u001b[0m\u001b[0;34m\u001b[0m\u001b[0m\n",
      "\u001b[0;32m~/opt/anaconda3/lib/python3.7/site-packages/sklearn/utils/validation.py\u001b[0m in \u001b[0;36mcheck_array\u001b[0;34m(array, accept_sparse, accept_large_sparse, dtype, order, copy, force_all_finite, ensure_2d, allow_nd, ensure_min_samples, ensure_min_features, warn_on_dtype, estimator)\u001b[0m\n\u001b[1;32m    576\u001b[0m         \u001b[0;32mif\u001b[0m \u001b[0mforce_all_finite\u001b[0m\u001b[0;34m:\u001b[0m\u001b[0;34m\u001b[0m\u001b[0;34m\u001b[0m\u001b[0m\n\u001b[1;32m    577\u001b[0m             _assert_all_finite(array,\n\u001b[0;32m--> 578\u001b[0;31m                                allow_nan=force_all_finite == 'allow-nan')\n\u001b[0m\u001b[1;32m    579\u001b[0m \u001b[0;34m\u001b[0m\u001b[0m\n\u001b[1;32m    580\u001b[0m     \u001b[0;32mif\u001b[0m \u001b[0mensure_min_samples\u001b[0m \u001b[0;34m>\u001b[0m \u001b[0;36m0\u001b[0m\u001b[0;34m:\u001b[0m\u001b[0;34m\u001b[0m\u001b[0;34m\u001b[0m\u001b[0m\n",
      "\u001b[0;32m~/opt/anaconda3/lib/python3.7/site-packages/sklearn/utils/validation.py\u001b[0m in \u001b[0;36m_assert_all_finite\u001b[0;34m(X, allow_nan, msg_dtype)\u001b[0m\n\u001b[1;32m     58\u001b[0m                     \u001b[0mmsg_err\u001b[0m\u001b[0;34m.\u001b[0m\u001b[0mformat\u001b[0m\u001b[0;34m\u001b[0m\u001b[0;34m\u001b[0m\u001b[0m\n\u001b[1;32m     59\u001b[0m                     (type_err,\n\u001b[0;32m---> 60\u001b[0;31m                      msg_dtype if msg_dtype is not None else X.dtype)\n\u001b[0m\u001b[1;32m     61\u001b[0m             )\n\u001b[1;32m     62\u001b[0m     \u001b[0;31m# for object dtype data, we only check for NaNs (GH-13254)\u001b[0m\u001b[0;34m\u001b[0m\u001b[0;34m\u001b[0m\u001b[0;34m\u001b[0m\u001b[0m\n",
      "\u001b[0;31mValueError\u001b[0m: Input contains NaN, infinity or a value too large for dtype('float64')."
     ]
    }
   ],
   "source": [
    "# Fitting K-means to YPG\n",
    "data = df[['YPG', 'PPG']]\n",
    "kmeans_off = KMeans(n_clusters=4, random_state=0).fit(df[['YPG', 'PPG']])\n",
    "df['labels_kmeans_off'] = kmeans_off.labels_"
   ]
  },
  {
   "cell_type": "code",
   "execution_count": null,
   "metadata": {},
   "outputs": [],
   "source": [
    "plt.scatter(df.YPG, df.PPG, c=kmeans_off.labels_ )"
   ]
  },
  {
   "cell_type": "code",
   "execution_count": null,
   "metadata": {},
   "outputs": [],
   "source": [
    "# Plotting defensive measures -- colored by cluster\n",
    "\n",
    "kmeans_def = KMeans(n_clusters=4, random_state=0).fit(df[['YPG_opp', 'PPG_opp']].values)\n",
    "df['labels_kmeans_def'] = kmeans_def.labels_\n",
    "plt.scatter(df.YPG_opp, df.PPG_opp, c=kmeans_def.labels_)"
   ]
  },
  {
   "cell_type": "code",
   "execution_count": null,
   "metadata": {},
   "outputs": [],
   "source": [
    "f = make_scatter_plot(df)\n",
    "f.show()"
   ]
  },
  {
   "cell_type": "code",
   "execution_count": null,
   "metadata": {},
   "outputs": [],
   "source": [
    "# Plotting defensive performance\n",
    "f = make_scatter_plot(df, x_label='YPG_opp', y_label='PPG_opp', side_of_ball='def')\n",
    "f.show()"
   ]
  },
  {
   "cell_type": "markdown",
   "metadata": {},
   "source": [
    "### Affinity Propagation\n",
    "Trying out the built-in [Affinity Propagation](https://scikit-learn.org/stable/modules/clustering.html#affinity-propagation) module from `scikit-learn`."
   ]
  },
  {
   "cell_type": "code",
   "execution_count": null,
   "metadata": {},
   "outputs": [],
   "source": [
    "from sklearn.cluster import AffinityPropagation"
   ]
  },
  {
   "cell_type": "code",
   "execution_count": null,
   "metadata": {},
   "outputs": [],
   "source": [
    "data_off = df[['YPG', 'PPG']]\n",
    "data_def = df[['YPG_opp', 'PPG_opp']]\n",
    "\n",
    "\n",
    "ap = AffinityPropagation(verbose=True).fit(df[['YPG', 'PPG']])\n",
    "\n",
    "df['labels_ap_off'] = ap.labels_"
   ]
  },
  {
   "cell_type": "code",
   "execution_count": null,
   "metadata": {},
   "outputs": [],
   "source": [
    "n_clusters = len(np.unique(ap.labels_))\n",
    "\n",
    "print(f\"Affinity Propagation produced {n_clusters}.\")"
   ]
  },
  {
   "cell_type": "code",
   "execution_count": null,
   "metadata": {},
   "outputs": [],
   "source": [
    "plt.scatter(data_off['YPG'], data_off['PPG'], c=ap.labels_)\n",
    "plt.title(\"NFL Points versus yards per game -- Affinity Propagation Clustering\")\n",
    "plt.xlabel(\"YPG\")\n",
    "plt.ylabel(\"PPG\")"
   ]
  },
  {
   "cell_type": "code",
   "execution_count": null,
   "metadata": {},
   "outputs": [],
   "source": [
    "# Doing the same for defensive stats -- opponent YPG and PPG\n",
    "ap = AffinityPropagation(verbose=True).fit(df[['YPG_opp', 'PPG_opp']])\n",
    "df['labels_ap_def'] = ap.labels_\n",
    "\n",
    "plt.scatter(data_def['YPG_opp'], data_def['PPG_opp'], c=ap.labels_)\n",
    "plt.title(\"NFL Opponent Points versus yards per game -- Affinity Propagation\")\n",
    "plt.xlabel(\"Opp YPG\")\n",
    "plt.ylabel(\"Opp PPG\")"
   ]
  },
  {
   "cell_type": "code",
   "execution_count": null,
   "metadata": {},
   "outputs": [],
   "source": []
  },
  {
   "cell_type": "code",
   "execution_count": null,
   "metadata": {},
   "outputs": [],
   "source": [
    "# Plotting AP clustered data with plotly\n",
    "f = px.scatter(df, x='YPG_opp', y='PPG_opp',\n",
    "           color='labels_def', title='Defensive Performance (Affinity Propagation)',\n",
    "           hover_data=['Tm', 'Season'],\n",
    "           color_discrete_map=px.colors.qualitative.Dark2)"
   ]
  },
  {
   "cell_type": "code",
   "execution_count": null,
   "metadata": {},
   "outputs": [],
   "source": [
    "f.show()"
   ]
  },
  {
   "cell_type": "code",
   "execution_count": null,
   "metadata": {},
   "outputs": [],
   "source": []
  }
 ],
 "metadata": {
  "kernelspec": {
   "display_name": "Python 3",
   "language": "python",
   "name": "python3"
  },
  "language_info": {
   "codemirror_mode": {
    "name": "ipython",
    "version": 3
   },
   "file_extension": ".py",
   "mimetype": "text/x-python",
   "name": "python",
   "nbconvert_exporter": "python",
   "pygments_lexer": "ipython3",
   "version": "3.7.6"
  }
 },
 "nbformat": 4,
 "nbformat_minor": 4
}
