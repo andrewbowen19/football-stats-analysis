{
 "cells": [
  {
   "cell_type": "markdown",
   "metadata": {},
   "source": [
    "## NFL Points vs Yards per Game clustering\n",
    "\n",
    "This is a sandbox notebook to test out some sci-kit learn clustering algorithms on NFL scoring data. We want to see if we can separate teams into \"tiers\" based on plots of their defensive and ofensive points-per-game (PPG) and yards-per-game (YPG). We collected the data by scraping [Pro-Football Reference](https://www.pro-football-reference.com) with our [scraper](https://github.com/andrewbowen19/football-stats-analysis/blob/main/src/scraper.py) script contained in this repo.\n",
    "\n",
    "#### Some algorithms to try out:\n",
    "- [K-means](https://scikit-learn.org/stable/modules/generated/sklearn.cluster.KMeans.html#sklearn.cluster.KMeans)\n",
    "- Affinity Propagation\n",
    "- DBSCAN"
   ]
  },
  {
   "cell_type": "code",
   "execution_count": 95,
   "metadata": {},
   "outputs": [],
   "source": [
    "import os\n",
    "import pandas as pd\n",
    "import matplotlib.pyplot as plt\n",
    "import numpy as np\n",
    "\n",
    "import plotly.express as px\n",
    "from sklearn.cluster import KMeans\n"
   ]
  },
  {
   "cell_type": "code",
   "execution_count": 57,
   "metadata": {},
   "outputs": [],
   "source": [
    "# Would like to run a k-means clustering on PPG-YPG\n",
    "csv_path = os.path.join(\"..\", \"data\", \"nfl-stats-by-season.csv\")\n",
    "df = pd.read_csv(csv_path)\n",
    "\n",
    "df.columns = ['Tm', 'W', 'L', 'W-L%', 'PF', 'PA', 'PD', 'MoV', 'SoS', 'SRS',\n",
    "              'OSRS', 'DSRS', 'Rk', 'G', 'Yds', 'Ply', 'Y/P', 'TO', 'FL', '1stD',\n",
    "              'Cmp', 'Att', 'Yds_opp', 'Season']\n",
    "\n",
    "df.dropna(axis=0, how='any', inplace=True)"
   ]
  },
  {
   "cell_type": "code",
   "execution_count": 58,
   "metadata": {},
   "outputs": [
    {
     "data": {
      "text/html": [
       "<div>\n",
       "<style scoped>\n",
       "    .dataframe tbody tr th:only-of-type {\n",
       "        vertical-align: middle;\n",
       "    }\n",
       "\n",
       "    .dataframe tbody tr th {\n",
       "        vertical-align: top;\n",
       "    }\n",
       "\n",
       "    .dataframe thead th {\n",
       "        text-align: right;\n",
       "    }\n",
       "</style>\n",
       "<table border=\"1\" class=\"dataframe\">\n",
       "  <thead>\n",
       "    <tr style=\"text-align: right;\">\n",
       "      <th></th>\n",
       "      <th>Tm</th>\n",
       "      <th>W</th>\n",
       "      <th>L</th>\n",
       "      <th>W-L%</th>\n",
       "      <th>PF</th>\n",
       "      <th>PA</th>\n",
       "      <th>PD</th>\n",
       "      <th>MoV</th>\n",
       "      <th>SoS</th>\n",
       "      <th>SRS</th>\n",
       "      <th>...</th>\n",
       "      <th>FL</th>\n",
       "      <th>1stD</th>\n",
       "      <th>Cmp</th>\n",
       "      <th>Att</th>\n",
       "      <th>Yds_opp</th>\n",
       "      <th>Season</th>\n",
       "      <th>PPG</th>\n",
       "      <th>YPG</th>\n",
       "      <th>PPG_opp</th>\n",
       "      <th>YPG_opp</th>\n",
       "    </tr>\n",
       "  </thead>\n",
       "  <tbody>\n",
       "    <tr>\n",
       "      <th>2</th>\n",
       "      <td>Miami Dolphins</td>\n",
       "      <td>9</td>\n",
       "      <td>8</td>\n",
       "      <td>0.529</td>\n",
       "      <td>341</td>\n",
       "      <td>373</td>\n",
       "      <td>-32</td>\n",
       "      <td>-1.9</td>\n",
       "      <td>-0.8</td>\n",
       "      <td>-2.7</td>\n",
       "      <td>...</td>\n",
       "      <td>12.0</td>\n",
       "      <td>325.0</td>\n",
       "      <td>404.0</td>\n",
       "      <td>615.0</td>\n",
       "      <td>5738.0</td>\n",
       "      <td>2021</td>\n",
       "      <td>20.058824</td>\n",
       "      <td>307.000000</td>\n",
       "      <td>21.941176</td>\n",
       "      <td>337.529412</td>\n",
       "    </tr>\n",
       "    <tr>\n",
       "      <th>3</th>\n",
       "      <td>New York Jets</td>\n",
       "      <td>4</td>\n",
       "      <td>13</td>\n",
       "      <td>0.235</td>\n",
       "      <td>310</td>\n",
       "      <td>504</td>\n",
       "      <td>-194</td>\n",
       "      <td>-11.4</td>\n",
       "      <td>1.0</td>\n",
       "      <td>-10.4</td>\n",
       "      <td>...</td>\n",
       "      <td>7.0</td>\n",
       "      <td>310.0</td>\n",
       "      <td>357.0</td>\n",
       "      <td>603.0</td>\n",
       "      <td>6760.0</td>\n",
       "      <td>2021</td>\n",
       "      <td>18.235294</td>\n",
       "      <td>306.352941</td>\n",
       "      <td>29.647059</td>\n",
       "      <td>397.647059</td>\n",
       "    </tr>\n",
       "    <tr>\n",
       "      <th>6</th>\n",
       "      <td>Cleveland Browns</td>\n",
       "      <td>8</td>\n",
       "      <td>9</td>\n",
       "      <td>0.471</td>\n",
       "      <td>349</td>\n",
       "      <td>371</td>\n",
       "      <td>-22</td>\n",
       "      <td>-1.3</td>\n",
       "      <td>0.0</td>\n",
       "      <td>-1.3</td>\n",
       "      <td>...</td>\n",
       "      <td>8.0</td>\n",
       "      <td>342.0</td>\n",
       "      <td>320.0</td>\n",
       "      <td>520.0</td>\n",
       "      <td>5296.0</td>\n",
       "      <td>2021</td>\n",
       "      <td>20.529412</td>\n",
       "      <td>340.647059</td>\n",
       "      <td>21.823529</td>\n",
       "      <td>311.529412</td>\n",
       "    </tr>\n",
       "    <tr>\n",
       "      <th>7</th>\n",
       "      <td>Baltimore Ravens</td>\n",
       "      <td>8</td>\n",
       "      <td>9</td>\n",
       "      <td>0.471</td>\n",
       "      <td>387</td>\n",
       "      <td>392</td>\n",
       "      <td>-5</td>\n",
       "      <td>-0.3</td>\n",
       "      <td>0.0</td>\n",
       "      <td>-0.3</td>\n",
       "      <td>...</td>\n",
       "      <td>8.0</td>\n",
       "      <td>394.0</td>\n",
       "      <td>396.0</td>\n",
       "      <td>611.0</td>\n",
       "      <td>6178.0</td>\n",
       "      <td>2021</td>\n",
       "      <td>22.764706</td>\n",
       "      <td>378.823529</td>\n",
       "      <td>23.058824</td>\n",
       "      <td>363.411765</td>\n",
       "    </tr>\n",
       "    <tr>\n",
       "      <th>9</th>\n",
       "      <td>Indianapolis Colts</td>\n",
       "      <td>9</td>\n",
       "      <td>8</td>\n",
       "      <td>0.529</td>\n",
       "      <td>451</td>\n",
       "      <td>365</td>\n",
       "      <td>86</td>\n",
       "      <td>5.1</td>\n",
       "      <td>-0.6</td>\n",
       "      <td>4.4</td>\n",
       "      <td>...</td>\n",
       "      <td>11.0</td>\n",
       "      <td>354.0</td>\n",
       "      <td>324.0</td>\n",
       "      <td>521.0</td>\n",
       "      <td>5834.0</td>\n",
       "      <td>2021</td>\n",
       "      <td>26.529412</td>\n",
       "      <td>347.117647</td>\n",
       "      <td>21.470588</td>\n",
       "      <td>343.176471</td>\n",
       "    </tr>\n",
       "  </tbody>\n",
       "</table>\n",
       "<p>5 rows × 28 columns</p>\n",
       "</div>"
      ],
      "text/plain": [
       "                   Tm  W   L   W-L%   PF   PA   PD   MoV  SoS   SRS  ...  \\\n",
       "2      Miami Dolphins  9   8  0.529  341  373  -32  -1.9 -0.8  -2.7  ...   \n",
       "3       New York Jets  4  13  0.235  310  504 -194 -11.4  1.0 -10.4  ...   \n",
       "6    Cleveland Browns  8   9  0.471  349  371  -22  -1.3  0.0  -1.3  ...   \n",
       "7    Baltimore Ravens  8   9  0.471  387  392   -5  -0.3  0.0  -0.3  ...   \n",
       "9  Indianapolis Colts  9   8  0.529  451  365   86   5.1 -0.6   4.4  ...   \n",
       "\n",
       "     FL   1stD    Cmp    Att  Yds_opp  Season        PPG         YPG  \\\n",
       "2  12.0  325.0  404.0  615.0   5738.0    2021  20.058824  307.000000   \n",
       "3   7.0  310.0  357.0  603.0   6760.0    2021  18.235294  306.352941   \n",
       "6   8.0  342.0  320.0  520.0   5296.0    2021  20.529412  340.647059   \n",
       "7   8.0  394.0  396.0  611.0   6178.0    2021  22.764706  378.823529   \n",
       "9  11.0  354.0  324.0  521.0   5834.0    2021  26.529412  347.117647   \n",
       "\n",
       "     PPG_opp     YPG_opp  \n",
       "2  21.941176  337.529412  \n",
       "3  29.647059  397.647059  \n",
       "6  21.823529  311.529412  \n",
       "7  23.058824  363.411765  \n",
       "9  21.470588  343.176471  \n",
       "\n",
       "[5 rows x 28 columns]"
      ]
     },
     "execution_count": 58,
     "metadata": {},
     "output_type": "execute_result"
    }
   ],
   "source": [
    "# Calculating YPG and PPG from season totals\n",
    "df['PPG'] = df['PF'] / df['G']\n",
    "df['YPG'] = df['Yds'] / df['G']\n",
    "\n",
    "df['PPG_opp'] = df['PA'] / df['G']\n",
    "df['YPG_opp'] = df['Yds_opp'] / df['G'] \n",
    "\n",
    "df.head()\n"
   ]
  },
  {
   "cell_type": "code",
   "execution_count": 59,
   "metadata": {
    "scrolled": true
   },
   "outputs": [
    {
     "data": {
      "application/vnd.plotly.v1+json": {
       "config": {
        "plotlyServerURL": "https://plot.ly"
       },
       "data": [
        {
         "customdata": [
          [
           "Miami Dolphins",
           2021
          ],
          [
           "New York Jets",
           2021
          ],
          [
           "Cleveland Browns",
           2021
          ],
          [
           "Baltimore Ravens",
           2021
          ],
          [
           "Indianapolis Colts",
           2021
          ],
          [
           "Houston Texans",
           2021
          ],
          [
           "Jacksonville Jaguars",
           2021
          ],
          [
           "Los Angeles Chargers",
           2021
          ],
          [
           "Denver Broncos",
           2021
          ],
          [
           "Washington Football Team",
           2021
          ],
          [
           "New York Giants",
           2021
          ],
          [
           "Minnesota Vikings",
           2021
          ],
          [
           "Chicago Bears",
           2021
          ],
          [
           "Detroit Lions",
           2021
          ],
          [
           "New Orleans Saints",
           2021
          ],
          [
           "Atlanta Falcons",
           2021
          ],
          [
           "Carolina Panthers",
           2021
          ],
          [
           "Seattle Seahawks",
           2021
          ],
          [
           "Miami Dolphins",
           2020
          ],
          [
           "New England Patriots",
           2020
          ],
          [
           "New York Jets",
           2020
          ],
          [
           "Cincinnati Bengals",
           2020
          ],
          [
           "Houston Texans",
           2020
          ],
          [
           "Jacksonville Jaguars",
           2020
          ],
          [
           "Las Vegas Raiders",
           2020
          ],
          [
           "Los Angeles Chargers",
           2020
          ],
          [
           "Denver Broncos",
           2020
          ],
          [
           "New York Giants",
           2020
          ],
          [
           "Dallas Cowboys",
           2020
          ],
          [
           "Philadelphia Eagles",
           2020
          ],
          [
           "Minnesota Vikings",
           2020
          ],
          [
           "Detroit Lions",
           2020
          ],
          [
           "Carolina Panthers",
           2020
          ],
          [
           "Atlanta Falcons",
           2020
          ],
          [
           "Arizona Cardinals",
           2020
          ],
          [
           "San Francisco 49ers",
           2020
          ],
          [
           "New York Jets",
           2019
          ],
          [
           "Miami Dolphins",
           2019
          ],
          [
           "Pittsburgh Steelers",
           2019
          ],
          [
           "Cleveland Browns",
           2019
          ],
          [
           "Cincinnati Bengals",
           2019
          ],
          [
           "Indianapolis Colts",
           2019
          ],
          [
           "Jacksonville Jaguars",
           2019
          ],
          [
           "Denver Broncos",
           2019
          ],
          [
           "Los Angeles Chargers",
           2019
          ],
          [
           "Dallas Cowboys",
           2019
          ],
          [
           "New York Giants",
           2019
          ],
          [
           "Chicago Bears",
           2019
          ],
          [
           "Detroit Lions",
           2019
          ],
          [
           "Atlanta Falcons",
           2019
          ],
          [
           "Tampa Bay Buccaneers",
           2019
          ],
          [
           "Carolina Panthers",
           2019
          ],
          [
           "Los Angeles Rams",
           2019
          ],
          [
           "Arizona Cardinals",
           2019
          ],
          [
           "Miami Dolphins",
           2018
          ],
          [
           "Buffalo Bills",
           2018
          ],
          [
           "New York Jets",
           2018
          ],
          [
           "Pittsburgh Steelers",
           2018
          ],
          [
           "Cleveland Browns",
           2018
          ],
          [
           "Cincinnati Bengals",
           2018
          ],
          [
           "Tennessee Titans",
           2018
          ],
          [
           "Jacksonville Jaguars",
           2018
          ],
          [
           "Denver Broncos",
           2018
          ],
          [
           "New York Giants",
           2018
          ],
          [
           "Minnesota Vikings",
           2018
          ],
          [
           "Green Bay Packers",
           2018
          ],
          [
           "Detroit Lions",
           2018
          ],
          [
           "Atlanta Falcons",
           2018
          ],
          [
           "Carolina Panthers",
           2018
          ],
          [
           "Tampa Bay Buccaneers",
           2018
          ],
          [
           "San Francisco 49ers",
           2018
          ],
          [
           "Arizona Cardinals",
           2018
          ],
          [
           "Miami Dolphins",
           2017
          ],
          [
           "New York Jets",
           2017
          ],
          [
           "Baltimore Ravens",
           2017
          ],
          [
           "Cincinnati Bengals",
           2017
          ],
          [
           "Cleveland Browns",
           2017
          ],
          [
           "Indianapolis Colts",
           2017
          ],
          [
           "Houston Texans",
           2017
          ],
          [
           "Los Angeles Chargers",
           2017
          ],
          [
           "Denver Broncos",
           2017
          ],
          [
           "Dallas Cowboys",
           2017
          ],
          [
           "New York Giants",
           2017
          ],
          [
           "Detroit Lions",
           2017
          ],
          [
           "Green Bay Packers",
           2017
          ],
          [
           "Chicago Bears",
           2017
          ],
          [
           "Tampa Bay Buccaneers",
           2017
          ],
          [
           "Seattle Seahawks",
           2017
          ],
          [
           "Arizona Cardinals",
           2017
          ],
          [
           "San Francisco 49ers",
           2017
          ],
          [
           "Buffalo Bills",
           2016
          ],
          [
           "New York Jets",
           2016
          ],
          [
           "Baltimore Ravens",
           2016
          ],
          [
           "Cincinnati Bengals",
           2016
          ],
          [
           "Cleveland Browns",
           2016
          ],
          [
           "Tennessee Titans",
           2016
          ],
          [
           "Indianapolis Colts",
           2016
          ],
          [
           "Jacksonville Jaguars",
           2016
          ],
          [
           "Denver Broncos",
           2016
          ],
          [
           "Philadelphia Eagles",
           2016
          ],
          [
           "Minnesota Vikings",
           2016
          ],
          [
           "Chicago Bears",
           2016
          ],
          [
           "Tampa Bay Buccaneers",
           2016
          ],
          [
           "New Orleans Saints",
           2016
          ],
          [
           "Carolina Panthers",
           2016
          ],
          [
           "Arizona Cardinals",
           2016
          ],
          [
           "Los Angeles Rams",
           2016
          ],
          [
           "San Francisco 49ers",
           2016
          ],
          [
           "New York Jets",
           2015
          ],
          [
           "Buffalo Bills",
           2015
          ],
          [
           "Miami Dolphins",
           2015
          ],
          [
           "Baltimore Ravens",
           2015
          ],
          [
           "Cleveland Browns",
           2015
          ],
          [
           "Indianapolis Colts",
           2015
          ],
          [
           "Jacksonville Jaguars",
           2015
          ],
          [
           "Tennessee Titans",
           2015
          ],
          [
           "Philadelphia Eagles",
           2015
          ],
          [
           "New York Giants",
           2015
          ],
          [
           "Dallas Cowboys",
           2015
          ],
          [
           "Detroit Lions",
           2015
          ],
          [
           "Chicago Bears",
           2015
          ],
          [
           "Atlanta Falcons",
           2015
          ],
          [
           "New Orleans Saints",
           2015
          ],
          [
           "Tampa Bay Buccaneers",
           2015
          ],
          [
           "San Francisco 49ers",
           2015
          ],
          [
           "Buffalo Bills",
           2014
          ],
          [
           "Miami Dolphins",
           2014
          ],
          [
           "New York Jets",
           2014
          ],
          [
           "Cleveland Browns",
           2014
          ],
          [
           "Houston Texans",
           2014
          ],
          [
           "Jacksonville Jaguars",
           2014
          ],
          [
           "Tennessee Titans",
           2014
          ],
          [
           "Kansas City Chiefs",
           2014
          ],
          [
           "Philadelphia Eagles",
           2014
          ],
          [
           "New York Giants",
           2014
          ],
          [
           "Minnesota Vikings",
           2014
          ],
          [
           "Chicago Bears",
           2014
          ],
          [
           "New Orleans Saints",
           2014
          ],
          [
           "Atlanta Falcons",
           2014
          ],
          [
           "Tampa Bay Buccaneers",
           2014
          ],
          [
           "San Francisco 49ers",
           2014
          ],
          [
           "New York Jets",
           2013
          ],
          [
           "Miami Dolphins",
           2013
          ],
          [
           "Buffalo Bills",
           2013
          ],
          [
           "Pittsburgh Steelers",
           2013
          ],
          [
           "Baltimore Ravens",
           2013
          ],
          [
           "Cleveland Browns",
           2013
          ],
          [
           "Tennessee Titans",
           2013
          ],
          [
           "Jacksonville Jaguars",
           2013
          ],
          [
           "Houston Texans",
           2013
          ],
          [
           "Dallas Cowboys",
           2013
          ],
          [
           "New York Giants",
           2013
          ],
          [
           "Chicago Bears",
           2013
          ],
          [
           "Detroit Lions",
           2013
          ],
          [
           "Minnesota Vikings",
           2013
          ],
          [
           "Atlanta Falcons",
           2013
          ],
          [
           "Tampa Bay Buccaneers",
           2013
          ],
          [
           "Arizona Cardinals",
           2013
          ],
          [
           "Miami Dolphins",
           2012
          ],
          [
           "New York Jets",
           2012
          ],
          [
           "Buffalo Bills",
           2012
          ],
          [
           "Pittsburgh Steelers",
           2012
          ],
          [
           "Cleveland Browns",
           2012
          ],
          [
           "Tennessee Titans",
           2012
          ],
          [
           "Jacksonville Jaguars",
           2012
          ],
          [
           "Kansas City Chiefs",
           2012
          ],
          [
           "New York Giants",
           2012
          ],
          [
           "Dallas Cowboys",
           2012
          ],
          [
           "Philadelphia Eagles",
           2012
          ],
          [
           "Chicago Bears",
           2012
          ],
          [
           "Detroit Lions",
           2012
          ],
          [
           "Carolina Panthers",
           2012
          ],
          [
           "New Orleans Saints",
           2012
          ],
          [
           "Tampa Bay Buccaneers",
           2012
          ],
          [
           "Arizona Cardinals",
           2012
          ],
          [
           "New York Jets",
           2011
          ],
          [
           "Miami Dolphins",
           2011
          ],
          [
           "Buffalo Bills",
           2011
          ],
          [
           "Cleveland Browns",
           2011
          ],
          [
           "Tennessee Titans",
           2011
          ],
          [
           "Jacksonville Jaguars",
           2011
          ],
          [
           "Indianapolis Colts",
           2011
          ],
          [
           "Kansas City Chiefs",
           2011
          ],
          [
           "Philadelphia Eagles",
           2011
          ],
          [
           "Dallas Cowboys",
           2011
          ],
          [
           "Chicago Bears",
           2011
          ],
          [
           "Minnesota Vikings",
           2011
          ],
          [
           "Carolina Panthers",
           2011
          ],
          [
           "Tampa Bay Buccaneers",
           2011
          ],
          [
           "Arizona Cardinals",
           2011
          ],
          [
           "Seattle Seahawks",
           2011
          ],
          [
           "Miami Dolphins",
           2010
          ],
          [
           "Buffalo Bills",
           2010
          ],
          [
           "Cleveland Browns",
           2010
          ],
          [
           "Cincinnati Bengals",
           2010
          ],
          [
           "Jacksonville Jaguars",
           2010
          ],
          [
           "Houston Texans",
           2010
          ],
          [
           "Tennessee Titans",
           2010
          ],
          [
           "Denver Broncos",
           2010
          ],
          [
           "New York Giants",
           2010
          ],
          [
           "Dallas Cowboys",
           2010
          ],
          [
           "Detroit Lions",
           2010
          ],
          [
           "Minnesota Vikings",
           2010
          ],
          [
           "Tampa Bay Buccaneers",
           2010
          ],
          [
           "Carolina Panthers",
           2010
          ],
          [
           "San Francisco 49ers",
           2010
          ],
          [
           "Arizona Cardinals",
           2010
          ],
          [
           "Miami Dolphins",
           2009
          ],
          [
           "Buffalo Bills",
           2009
          ],
          [
           "Pittsburgh Steelers",
           2009
          ],
          [
           "Cleveland Browns",
           2009
          ],
          [
           "Houston Texans",
           2009
          ],
          [
           "Tennessee Titans",
           2009
          ],
          [
           "Jacksonville Jaguars",
           2009
          ],
          [
           "Denver Broncos",
           2009
          ],
          [
           "Kansas City Chiefs",
           2009
          ],
          [
           "New York Giants",
           2009
          ],
          [
           "Chicago Bears",
           2009
          ],
          [
           "Detroit Lions",
           2009
          ],
          [
           "Atlanta Falcons",
           2009
          ],
          [
           "Carolina Panthers",
           2009
          ],
          [
           "Tampa Bay Buccaneers",
           2009
          ],
          [
           "San Francisco 49ers",
           2009
          ],
          [
           "Seattle Seahawks",
           2009
          ],
          [
           "New England Patriots",
           2008
          ],
          [
           "New York Jets",
           2008
          ],
          [
           "Buffalo Bills",
           2008
          ],
          [
           "Cincinnati Bengals",
           2008
          ],
          [
           "Cleveland Browns",
           2008
          ],
          [
           "Houston Texans",
           2008
          ],
          [
           "Jacksonville Jaguars",
           2008
          ],
          [
           "Denver Broncos",
           2008
          ],
          [
           "Kansas City Chiefs",
           2008
          ],
          [
           "Dallas Cowboys",
           2008
          ],
          [
           "Chicago Bears",
           2008
          ],
          [
           "Green Bay Packers",
           2008
          ],
          [
           "Detroit Lions",
           2008
          ],
          [
           "Tampa Bay Buccaneers",
           2008
          ],
          [
           "New Orleans Saints",
           2008
          ],
          [
           "San Francisco 49ers",
           2008
          ],
          [
           "Seattle Seahawks",
           2008
          ],
          [
           "Buffalo Bills",
           2007
          ],
          [
           "New York Jets",
           2007
          ],
          [
           "Miami Dolphins",
           2007
          ],
          [
           "Cleveland Browns",
           2007
          ],
          [
           "Cincinnati Bengals",
           2007
          ],
          [
           "Baltimore Ravens",
           2007
          ],
          [
           "Houston Texans",
           2007
          ],
          [
           "Denver Broncos",
           2007
          ],
          [
           "Kansas City Chiefs",
           2007
          ],
          [
           "Philadelphia Eagles",
           2007
          ],
          [
           "Minnesota Vikings",
           2007
          ],
          [
           "Detroit Lions",
           2007
          ],
          [
           "Chicago Bears",
           2007
          ],
          [
           "Carolina Panthers",
           2007
          ],
          [
           "New Orleans Saints",
           2007
          ],
          [
           "Atlanta Falcons",
           2007
          ],
          [
           "Arizona Cardinals",
           2007
          ],
          [
           "San Francisco 49ers",
           2007
          ],
          [
           "Buffalo Bills",
           2006
          ],
          [
           "Miami Dolphins",
           2006
          ],
          [
           "Cincinnati Bengals",
           2006
          ],
          [
           "Pittsburgh Steelers",
           2006
          ],
          [
           "Cleveland Browns",
           2006
          ],
          [
           "Tennessee Titans",
           2006
          ],
          [
           "Jacksonville Jaguars",
           2006
          ],
          [
           "Houston Texans",
           2006
          ],
          [
           "Denver Broncos",
           2006
          ],
          [
           "Green Bay Packers",
           2006
          ],
          [
           "Minnesota Vikings",
           2006
          ],
          [
           "Detroit Lions",
           2006
          ],
          [
           "Carolina Panthers",
           2006
          ],
          [
           "Atlanta Falcons",
           2006
          ],
          [
           "Tampa Bay Buccaneers",
           2006
          ],
          [
           "San Francisco 49ers",
           2006
          ],
          [
           "Arizona Cardinals",
           2006
          ],
          [
           "Miami Dolphins",
           2005
          ],
          [
           "Buffalo Bills",
           2005
          ],
          [
           "New York Jets",
           2005
          ],
          [
           "Baltimore Ravens",
           2005
          ],
          [
           "Cleveland Browns",
           2005
          ],
          [
           "Tennessee Titans",
           2005
          ],
          [
           "Houston Texans",
           2005
          ],
          [
           "Kansas City Chiefs",
           2005
          ],
          [
           "Dallas Cowboys",
           2005
          ],
          [
           "Philadelphia Eagles",
           2005
          ],
          [
           "Minnesota Vikings",
           2005
          ],
          [
           "Detroit Lions",
           2005
          ],
          [
           "Green Bay Packers",
           2005
          ],
          [
           "Atlanta Falcons",
           2005
          ],
          [
           "New Orleans Saints",
           2005
          ],
          [
           "Arizona Cardinals",
           2005
          ],
          [
           "San Francisco 49ers",
           2005
          ],
          [
           "Buffalo Bills",
           2004
          ],
          [
           "Miami Dolphins",
           2004
          ],
          [
           "Baltimore Ravens",
           2004
          ],
          [
           "Cincinnati Bengals",
           2004
          ],
          [
           "Cleveland Browns",
           2004
          ],
          [
           "Jacksonville Jaguars",
           2004
          ],
          [
           "Houston Texans",
           2004
          ],
          [
           "Tennessee Titans",
           2004
          ],
          [
           "Kansas City Chiefs",
           2004
          ],
          [
           "New York Giants",
           2004
          ],
          [
           "Dallas Cowboys",
           2004
          ],
          [
           "Detroit Lions",
           2004
          ],
          [
           "Chicago Bears",
           2004
          ],
          [
           "New Orleans Saints",
           2004
          ],
          [
           "Carolina Panthers",
           2004
          ],
          [
           "Tampa Bay Buccaneers",
           2004
          ],
          [
           "Arizona Cardinals",
           2004
          ],
          [
           "San Francisco 49ers",
           2004
          ],
          [
           "Miami Dolphins",
           2003
          ],
          [
           "Buffalo Bills",
           2003
          ],
          [
           "New York Jets",
           2003
          ],
          [
           "Cincinnati Bengals",
           2003
          ],
          [
           "Pittsburgh Steelers",
           2003
          ],
          [
           "Cleveland Browns",
           2003
          ],
          [
           "Jacksonville Jaguars",
           2003
          ],
          [
           "Houston Texans",
           2003
          ],
          [
           "New York Giants",
           2003
          ],
          [
           "Minnesota Vikings",
           2003
          ],
          [
           "Chicago Bears",
           2003
          ],
          [
           "Detroit Lions",
           2003
          ],
          [
           "New Orleans Saints",
           2003
          ],
          [
           "Tampa Bay Buccaneers",
           2003
          ],
          [
           "Atlanta Falcons",
           2003
          ],
          [
           "San Francisco 49ers",
           2003
          ],
          [
           "Arizona Cardinals",
           2003
          ]
         ],
         "hovertemplate": "YPG=%{x}<br>PPG=%{y}<br>Tm=%{customdata[0]}<br>Season=%{marker.color}<extra></extra>",
         "legendgroup": "",
         "marker": {
          "color": [
           2021,
           2021,
           2021,
           2021,
           2021,
           2021,
           2021,
           2021,
           2021,
           2021,
           2021,
           2021,
           2021,
           2021,
           2021,
           2021,
           2021,
           2021,
           2020,
           2020,
           2020,
           2020,
           2020,
           2020,
           2020,
           2020,
           2020,
           2020,
           2020,
           2020,
           2020,
           2020,
           2020,
           2020,
           2020,
           2020,
           2019,
           2019,
           2019,
           2019,
           2019,
           2019,
           2019,
           2019,
           2019,
           2019,
           2019,
           2019,
           2019,
           2019,
           2019,
           2019,
           2019,
           2019,
           2018,
           2018,
           2018,
           2018,
           2018,
           2018,
           2018,
           2018,
           2018,
           2018,
           2018,
           2018,
           2018,
           2018,
           2018,
           2018,
           2018,
           2018,
           2017,
           2017,
           2017,
           2017,
           2017,
           2017,
           2017,
           2017,
           2017,
           2017,
           2017,
           2017,
           2017,
           2017,
           2017,
           2017,
           2017,
           2017,
           2016,
           2016,
           2016,
           2016,
           2016,
           2016,
           2016,
           2016,
           2016,
           2016,
           2016,
           2016,
           2016,
           2016,
           2016,
           2016,
           2016,
           2016,
           2015,
           2015,
           2015,
           2015,
           2015,
           2015,
           2015,
           2015,
           2015,
           2015,
           2015,
           2015,
           2015,
           2015,
           2015,
           2015,
           2015,
           2014,
           2014,
           2014,
           2014,
           2014,
           2014,
           2014,
           2014,
           2014,
           2014,
           2014,
           2014,
           2014,
           2014,
           2014,
           2014,
           2013,
           2013,
           2013,
           2013,
           2013,
           2013,
           2013,
           2013,
           2013,
           2013,
           2013,
           2013,
           2013,
           2013,
           2013,
           2013,
           2013,
           2012,
           2012,
           2012,
           2012,
           2012,
           2012,
           2012,
           2012,
           2012,
           2012,
           2012,
           2012,
           2012,
           2012,
           2012,
           2012,
           2012,
           2011,
           2011,
           2011,
           2011,
           2011,
           2011,
           2011,
           2011,
           2011,
           2011,
           2011,
           2011,
           2011,
           2011,
           2011,
           2011,
           2010,
           2010,
           2010,
           2010,
           2010,
           2010,
           2010,
           2010,
           2010,
           2010,
           2010,
           2010,
           2010,
           2010,
           2010,
           2010,
           2009,
           2009,
           2009,
           2009,
           2009,
           2009,
           2009,
           2009,
           2009,
           2009,
           2009,
           2009,
           2009,
           2009,
           2009,
           2009,
           2009,
           2008,
           2008,
           2008,
           2008,
           2008,
           2008,
           2008,
           2008,
           2008,
           2008,
           2008,
           2008,
           2008,
           2008,
           2008,
           2008,
           2008,
           2007,
           2007,
           2007,
           2007,
           2007,
           2007,
           2007,
           2007,
           2007,
           2007,
           2007,
           2007,
           2007,
           2007,
           2007,
           2007,
           2007,
           2007,
           2006,
           2006,
           2006,
           2006,
           2006,
           2006,
           2006,
           2006,
           2006,
           2006,
           2006,
           2006,
           2006,
           2006,
           2006,
           2006,
           2006,
           2005,
           2005,
           2005,
           2005,
           2005,
           2005,
           2005,
           2005,
           2005,
           2005,
           2005,
           2005,
           2005,
           2005,
           2005,
           2005,
           2005,
           2004,
           2004,
           2004,
           2004,
           2004,
           2004,
           2004,
           2004,
           2004,
           2004,
           2004,
           2004,
           2004,
           2004,
           2004,
           2004,
           2004,
           2004,
           2003,
           2003,
           2003,
           2003,
           2003,
           2003,
           2003,
           2003,
           2003,
           2003,
           2003,
           2003,
           2003,
           2003,
           2003,
           2003,
           2003
          ],
          "coloraxis": "coloraxis",
          "symbol": "circle"
         },
         "mode": "markers",
         "name": "",
         "orientation": "v",
         "showlegend": false,
         "type": "scatter",
         "x": [
          307,
          306.3529411764706,
          340.6470588235294,
          378.8235294117647,
          347.11764705882354,
          278.05882352941177,
          305.3529411764706,
          390.2352941176471,
          330.47058823529414,
          323.6470588235294,
          287.29411764705884,
          362.8235294117647,
          307.3529411764706,
          322.5882352941176,
          304.52941176470586,
          303.7647058823529,
          298.88235294117646,
          323.88235294117646,
          307,
          353.4117647058824,
          306.3529411764706,
          361.47058823529414,
          278.05882352941177,
          305.3529411764706,
          363.7647058823529,
          390.2352941176471,
          330.47058823529414,
          287.29411764705884,
          407,
          359.94117647058823,
          362.8235294117647,
          322.5882352941176,
          298.88235294117646,
          303.7647058823529,
          373.6470588235294,
          375.70588235294116,
          306.3529411764706,
          307,
          315.3529411764706,
          340.6470588235294,
          361.47058823529414,
          347.11764705882354,
          305.3529411764706,
          330.47058823529414,
          390.2352941176471,
          407,
          287.29411764705884,
          307.3529411764706,
          322.5882352941176,
          303.7647058823529,
          405.94117647058823,
          298.88235294117646,
          372.05882352941177,
          373.6470588235294,
          307,
          381.94117647058823,
          306.3529411764706,
          315.3529411764706,
          340.6470588235294,
          361.47058823529414,
          342.47058823529414,
          305.3529411764706,
          330.47058823529414,
          287.29411764705884,
          362.8235294117647,
          365.5882352941176,
          322.5882352941176,
          303.7647058823529,
          298.88235294117646,
          405.94117647058823,
          375.70588235294116,
          373.6470588235294,
          307,
          306.3529411764706,
          378.8235294117647,
          361.47058823529414,
          340.6470588235294,
          347.11764705882354,
          278.05882352941177,
          390.2352941176471,
          330.47058823529414,
          407,
          287.29411764705884,
          322.5882352941176,
          365.5882352941176,
          307.3529411764706,
          405.94117647058823,
          323.88235294117646,
          373.6470588235294,
          375.70588235294116,
          381.94117647058823,
          306.3529411764706,
          378.8235294117647,
          361.47058823529414,
          340.6470588235294,
          342.47058823529414,
          347.11764705882354,
          305.3529411764706,
          330.47058823529414,
          359.94117647058823,
          362.8235294117647,
          307.3529411764706,
          405.94117647058823,
          304.52941176470586,
          298.88235294117646,
          373.6470588235294,
          372.05882352941177,
          375.70588235294116,
          306.3529411764706,
          381.94117647058823,
          307,
          378.8235294117647,
          340.6470588235294,
          347.11764705882354,
          305.3529411764706,
          342.47058823529414,
          359.94117647058823,
          287.29411764705884,
          407,
          322.5882352941176,
          307.3529411764706,
          303.7647058823529,
          304.52941176470586,
          405.94117647058823,
          375.70588235294116,
          381.94117647058823,
          307,
          306.3529411764706,
          340.6470588235294,
          278.05882352941177,
          305.3529411764706,
          342.47058823529414,
          396.8235294117647,
          359.94117647058823,
          287.29411764705884,
          362.8235294117647,
          307.3529411764706,
          304.52941176470586,
          303.7647058823529,
          405.94117647058823,
          375.70588235294116,
          306.3529411764706,
          307,
          381.94117647058823,
          315.3529411764706,
          378.8235294117647,
          340.6470588235294,
          342.47058823529414,
          305.3529411764706,
          278.05882352941177,
          407,
          287.29411764705884,
          307.3529411764706,
          322.5882352941176,
          362.8235294117647,
          303.7647058823529,
          405.94117647058823,
          373.6470588235294,
          307,
          306.3529411764706,
          381.94117647058823,
          315.3529411764706,
          340.6470588235294,
          342.47058823529414,
          305.3529411764706,
          396.8235294117647,
          287.29411764705884,
          407,
          359.94117647058823,
          307.3529411764706,
          322.5882352941176,
          298.88235294117646,
          304.52941176470586,
          405.94117647058823,
          373.6470588235294,
          306.3529411764706,
          307,
          381.94117647058823,
          340.6470588235294,
          342.47058823529414,
          305.3529411764706,
          347.11764705882354,
          396.8235294117647,
          359.94117647058823,
          407,
          307.3529411764706,
          362.8235294117647,
          298.88235294117646,
          405.94117647058823,
          373.6470588235294,
          323.88235294117646,
          307,
          381.94117647058823,
          340.6470588235294,
          361.47058823529414,
          305.3529411764706,
          278.05882352941177,
          342.47058823529414,
          330.47058823529414,
          287.29411764705884,
          407,
          322.5882352941176,
          362.8235294117647,
          405.94117647058823,
          298.88235294117646,
          375.70588235294116,
          373.6470588235294,
          307,
          381.94117647058823,
          315.3529411764706,
          340.6470588235294,
          278.05882352941177,
          342.47058823529414,
          305.3529411764706,
          330.47058823529414,
          396.8235294117647,
          287.29411764705884,
          307.3529411764706,
          322.5882352941176,
          303.7647058823529,
          298.88235294117646,
          405.94117647058823,
          375.70588235294116,
          323.88235294117646,
          353.4117647058824,
          306.3529411764706,
          381.94117647058823,
          361.47058823529414,
          340.6470588235294,
          278.05882352941177,
          305.3529411764706,
          330.47058823529414,
          396.8235294117647,
          407,
          307.3529411764706,
          365.5882352941176,
          322.5882352941176,
          405.94117647058823,
          304.52941176470586,
          375.70588235294116,
          323.88235294117646,
          381.94117647058823,
          306.3529411764706,
          307,
          340.6470588235294,
          361.47058823529414,
          378.8235294117647,
          278.05882352941177,
          330.47058823529414,
          396.8235294117647,
          359.94117647058823,
          362.8235294117647,
          322.5882352941176,
          307.3529411764706,
          298.88235294117646,
          304.52941176470586,
          303.7647058823529,
          373.6470588235294,
          375.70588235294116,
          381.94117647058823,
          307,
          361.47058823529414,
          315.3529411764706,
          340.6470588235294,
          342.47058823529414,
          305.3529411764706,
          278.05882352941177,
          330.47058823529414,
          365.5882352941176,
          362.8235294117647,
          322.5882352941176,
          298.88235294117646,
          303.7647058823529,
          405.94117647058823,
          375.70588235294116,
          373.6470588235294,
          307,
          381.94117647058823,
          306.3529411764706,
          378.8235294117647,
          340.6470588235294,
          342.47058823529414,
          278.05882352941177,
          396.8235294117647,
          407,
          359.94117647058823,
          362.8235294117647,
          322.5882352941176,
          365.5882352941176,
          303.7647058823529,
          304.52941176470586,
          373.6470588235294,
          375.70588235294116,
          381.94117647058823,
          307,
          378.8235294117647,
          361.47058823529414,
          340.6470588235294,
          305.3529411764706,
          278.05882352941177,
          342.47058823529414,
          396.8235294117647,
          287.29411764705884,
          407,
          322.5882352941176,
          307.3529411764706,
          304.52941176470586,
          298.88235294117646,
          405.94117647058823,
          373.6470588235294,
          375.70588235294116,
          307,
          381.94117647058823,
          306.3529411764706,
          361.47058823529414,
          315.3529411764706,
          340.6470588235294,
          305.3529411764706,
          278.05882352941177,
          287.29411764705884,
          362.8235294117647,
          307.3529411764706,
          322.5882352941176,
          304.52941176470586,
          405.94117647058823,
          303.7647058823529,
          375.70588235294116,
          373.6470588235294
         ],
         "xaxis": "x",
         "y": [
          20.058823529411764,
          18.235294117647058,
          20.529411764705884,
          22.764705882352942,
          26.529411764705884,
          16.470588235294116,
          14.882352941176471,
          27.88235294117647,
          19.705882352941178,
          19.705882352941178,
          15.176470588235293,
          25,
          18.294117647058822,
          19.11764705882353,
          21.41176470588235,
          18.41176470588235,
          17.88235294117647,
          23.235294117647058,
          23.764705882352942,
          19.176470588235293,
          14.294117647058824,
          18.294117647058822,
          22.58823529411765,
          18,
          25.529411764705884,
          22.58823529411765,
          19,
          16.470588235294116,
          23.235294117647058,
          19.647058823529413,
          25.294117647058822,
          22.176470588235293,
          20.58823529411765,
          23.294117647058822,
          24.11764705882353,
          22.11764705882353,
          16.235294117647058,
          18,
          17,
          19.705882352941178,
          16.41176470588235,
          21.235294117647058,
          17.647058823529413,
          16.58823529411765,
          19.823529411764707,
          25.529411764705884,
          20.058823529411764,
          16.470588235294116,
          20.058823529411764,
          22.41176470588235,
          26.941176470588236,
          20,
          23.176470588235293,
          21.235294117647058,
          18.764705882352942,
          15.823529411764707,
          19.58823529411765,
          25.176470588235293,
          21.11764705882353,
          21.647058823529413,
          18.235294117647058,
          14.411764705882353,
          19.352941176470587,
          21.705882352941178,
          21.176470588235293,
          22.11764705882353,
          19.058823529411764,
          24.352941176470587,
          22.11764705882353,
          23.294117647058822,
          20.11764705882353,
          13.235294117647058,
          16.529411764705884,
          17.529411764705884,
          23.235294117647058,
          17.058823529411764,
          13.764705882352942,
          15.470588235294118,
          19.88235294117647,
          20.88235294117647,
          17,
          20.823529411764707,
          14.470588235294118,
          24.11764705882353,
          18.823529411764707,
          15.529411764705882,
          19.705882352941178,
          21.529411764705884,
          17.352941176470587,
          19.470588235294116,
          23.470588235294116,
          16.176470588235293,
          20.176470588235293,
          19.11764705882353,
          15.529411764705882,
          22.41176470588235,
          24.176470588235293,
          18.705882352941178,
          19.58823529411765,
          21.58823529411765,
          19.235294117647058,
          16.41176470588235,
          20.823529411764707,
          27.58823529411765,
          21.705882352941178,
          24.58823529411765,
          13.176470588235293,
          18.176470588235293,
          22.764705882352942,
          22.294117647058822,
          18.235294117647058,
          19.294117647058822,
          16.352941176470587,
          19.58823529411765,
          22.11764705882353,
          17.58823529411765,
          22.176470588235293,
          24.705882352941178,
          16.176470588235293,
          21.058823529411764,
          19.705882352941178,
          19.941176470588236,
          24,
          20.11764705882353,
          14,
          20.176470588235293,
          22.823529411764707,
          16.647058823529413,
          17.58823529411765,
          21.88235294117647,
          14.647058823529411,
          14.941176470588236,
          20.764705882352942,
          27.88235294117647,
          22.352941176470587,
          19.11764705882353,
          18.764705882352942,
          23.58823529411765,
          22.41176470588235,
          16.294117647058822,
          18,
          17.058823529411764,
          18.647058823529413,
          19.941176470588236,
          22.294117647058822,
          18.823529411764707,
          18.11764705882353,
          21.294117647058822,
          14.529411764705882,
          16.235294117647058,
          25.823529411764707,
          17.294117647058822,
          26.176470588235293,
          23.235294117647058,
          23,
          20.764705882352942,
          16.941176470588236,
          22.294117647058822,
          16.941176470588236,
          16.529411764705884,
          20.235294117647058,
          19.764705882352942,
          17.764705882352942,
          19.41176470588235,
          15,
          12.411764705882353,
          25.235294117647058,
          22.11764705882353,
          16.470588235294116,
          22.058823529411764,
          21.88235294117647,
          21,
          27.11764705882353,
          22.88235294117647,
          14.705882352941176,
          22.176470588235293,
          19.352941176470587,
          21.88235294117647,
          12.823529411764707,
          19.11764705882353,
          14.294117647058824,
          14.294117647058824,
          12.470588235294118,
          23.294117647058822,
          21.705882352941178,
          20.764705882352942,
          20,
          23.88235294117647,
          16.88235294117647,
          18.352941176470587,
          18.88235294117647,
          16.058823529411764,
          16.647058823529413,
          15.941176470588236,
          18.941176470588236,
          20.764705882352942,
          22.941176470588236,
          20.941176470588236,
          20.235294117647058,
          23.176470588235293,
          23.176470588235293,
          21.294117647058822,
          16.529411764705884,
          20.058823529411764,
          11.529411764705882,
          17.941176470588236,
          17,
          21.176470588235293,
          15.176470588235293,
          21.647058823529413,
          14.411764705882353,
          22.823529411764707,
          20.823529411764707,
          17.058823529411764,
          19.176470588235293,
          17.294117647058822,
          23.647058823529413,
          19.235294117647058,
          15.411764705882353,
          21.352941176470587,
          18.529411764705884,
          14.352941176470589,
          19.41176470588235,
          16.470588235294116,
          24.11764705882353,
          23.823529411764707,
          19.764705882352942,
          12,
          13.647058823529411,
          21.529411764705884,
          17.764705882352942,
          21.764705882352942,
          17.11764705882353,
          21.294117647058822,
          22.058823529411764,
          24.647058823529413,
          15.764705882352942,
          21.235294117647058,
          27.235294117647058,
          19.941176470588236,
          17.294117647058822,
          14.823529411764707,
          15.764705882352942,
          15.705882352941176,
          23.647058823529413,
          22.352941176470587,
          16.176470588235293,
          22.294117647058822,
          18.823529411764707,
          13.294117647058824,
          19.764705882352942,
          21.470588235294116,
          20.352941176470587,
          19.647058823529413,
          15.705882352941176,
          22.294117647058822,
          15.235294117647058,
          23.764705882352942,
          12.882352941176471,
          17.647058823529413,
          15.294117647058824,
          21.941176470588236,
          20.764705882352942,
          14,
          19.058823529411764,
          21.823529411764707,
          15.705882352941176,
          18.764705882352942,
          17.705882352941178,
          16.58823529411765,
          17.941176470588236,
          15.882352941176471,
          17.176470588235293,
          12.411764705882353,
          17.529411764705884,
          18.470588235294116,
          18.705882352941178,
          15.941176470588236,
          14.117647058823529,
          15.588235294117647,
          13.647058823529411,
          17.58823529411765,
          15.294117647058824,
          23.705882352941178,
          19.11764705882353,
          18.235294117647058,
          18,
          14.941176470588236,
          17.529411764705884,
          20.647058823529413,
          13.823529411764707,
          18.294117647058822,
          14.058823529411764,
          23.235294117647058,
          16.176470588235293,
          18.647058823529413,
          22,
          16.235294117647058,
          15.352941176470589,
          18.176470588235293,
          20.235294117647058,
          28.41176470588235,
          17.823529411764707,
          17.235294117647058,
          17.41176470588235,
          13.588235294117647,
          20.470588235294116,
          20.88235294117647,
          17.705882352941178,
          16.705882352941178,
          15.235294117647058,
          18.294117647058822,
          14.294117647058824,
          16.647058823529413,
          20.352941176470587,
          17.647058823529413,
          14.941176470588236,
          16.235294117647058,
          15,
          14.294117647058824,
          24.470588235294116,
          16.647058823529413,
          15.882352941176471,
          20,
          17.705882352941178,
          17.58823529411765,
          22.58823529411765,
          13.235294117647058
         ],
         "yaxis": "y"
        }
       ],
       "layout": {
        "coloraxis": {
         "colorbar": {
          "title": {
           "text": "Season"
          }
         },
         "colorscale": [
          [
           0,
           "#0d0887"
          ],
          [
           0.1111111111111111,
           "#46039f"
          ],
          [
           0.2222222222222222,
           "#7201a8"
          ],
          [
           0.3333333333333333,
           "#9c179e"
          ],
          [
           0.4444444444444444,
           "#bd3786"
          ],
          [
           0.5555555555555556,
           "#d8576b"
          ],
          [
           0.6666666666666666,
           "#ed7953"
          ],
          [
           0.7777777777777778,
           "#fb9f3a"
          ],
          [
           0.8888888888888888,
           "#fdca26"
          ],
          [
           1,
           "#f0f921"
          ]
         ]
        },
        "legend": {
         "tracegroupgap": 0
        },
        "margin": {
         "t": 60
        },
        "template": {
         "data": {
          "bar": [
           {
            "error_x": {
             "color": "#2a3f5f"
            },
            "error_y": {
             "color": "#2a3f5f"
            },
            "marker": {
             "line": {
              "color": "#E5ECF6",
              "width": 0.5
             }
            },
            "type": "bar"
           }
          ],
          "barpolar": [
           {
            "marker": {
             "line": {
              "color": "#E5ECF6",
              "width": 0.5
             }
            },
            "type": "barpolar"
           }
          ],
          "carpet": [
           {
            "aaxis": {
             "endlinecolor": "#2a3f5f",
             "gridcolor": "white",
             "linecolor": "white",
             "minorgridcolor": "white",
             "startlinecolor": "#2a3f5f"
            },
            "baxis": {
             "endlinecolor": "#2a3f5f",
             "gridcolor": "white",
             "linecolor": "white",
             "minorgridcolor": "white",
             "startlinecolor": "#2a3f5f"
            },
            "type": "carpet"
           }
          ],
          "choropleth": [
           {
            "colorbar": {
             "outlinewidth": 0,
             "ticks": ""
            },
            "type": "choropleth"
           }
          ],
          "contour": [
           {
            "colorbar": {
             "outlinewidth": 0,
             "ticks": ""
            },
            "colorscale": [
             [
              0,
              "#0d0887"
             ],
             [
              0.1111111111111111,
              "#46039f"
             ],
             [
              0.2222222222222222,
              "#7201a8"
             ],
             [
              0.3333333333333333,
              "#9c179e"
             ],
             [
              0.4444444444444444,
              "#bd3786"
             ],
             [
              0.5555555555555556,
              "#d8576b"
             ],
             [
              0.6666666666666666,
              "#ed7953"
             ],
             [
              0.7777777777777778,
              "#fb9f3a"
             ],
             [
              0.8888888888888888,
              "#fdca26"
             ],
             [
              1,
              "#f0f921"
             ]
            ],
            "type": "contour"
           }
          ],
          "contourcarpet": [
           {
            "colorbar": {
             "outlinewidth": 0,
             "ticks": ""
            },
            "type": "contourcarpet"
           }
          ],
          "heatmap": [
           {
            "colorbar": {
             "outlinewidth": 0,
             "ticks": ""
            },
            "colorscale": [
             [
              0,
              "#0d0887"
             ],
             [
              0.1111111111111111,
              "#46039f"
             ],
             [
              0.2222222222222222,
              "#7201a8"
             ],
             [
              0.3333333333333333,
              "#9c179e"
             ],
             [
              0.4444444444444444,
              "#bd3786"
             ],
             [
              0.5555555555555556,
              "#d8576b"
             ],
             [
              0.6666666666666666,
              "#ed7953"
             ],
             [
              0.7777777777777778,
              "#fb9f3a"
             ],
             [
              0.8888888888888888,
              "#fdca26"
             ],
             [
              1,
              "#f0f921"
             ]
            ],
            "type": "heatmap"
           }
          ],
          "heatmapgl": [
           {
            "colorbar": {
             "outlinewidth": 0,
             "ticks": ""
            },
            "colorscale": [
             [
              0,
              "#0d0887"
             ],
             [
              0.1111111111111111,
              "#46039f"
             ],
             [
              0.2222222222222222,
              "#7201a8"
             ],
             [
              0.3333333333333333,
              "#9c179e"
             ],
             [
              0.4444444444444444,
              "#bd3786"
             ],
             [
              0.5555555555555556,
              "#d8576b"
             ],
             [
              0.6666666666666666,
              "#ed7953"
             ],
             [
              0.7777777777777778,
              "#fb9f3a"
             ],
             [
              0.8888888888888888,
              "#fdca26"
             ],
             [
              1,
              "#f0f921"
             ]
            ],
            "type": "heatmapgl"
           }
          ],
          "histogram": [
           {
            "marker": {
             "colorbar": {
              "outlinewidth": 0,
              "ticks": ""
             }
            },
            "type": "histogram"
           }
          ],
          "histogram2d": [
           {
            "colorbar": {
             "outlinewidth": 0,
             "ticks": ""
            },
            "colorscale": [
             [
              0,
              "#0d0887"
             ],
             [
              0.1111111111111111,
              "#46039f"
             ],
             [
              0.2222222222222222,
              "#7201a8"
             ],
             [
              0.3333333333333333,
              "#9c179e"
             ],
             [
              0.4444444444444444,
              "#bd3786"
             ],
             [
              0.5555555555555556,
              "#d8576b"
             ],
             [
              0.6666666666666666,
              "#ed7953"
             ],
             [
              0.7777777777777778,
              "#fb9f3a"
             ],
             [
              0.8888888888888888,
              "#fdca26"
             ],
             [
              1,
              "#f0f921"
             ]
            ],
            "type": "histogram2d"
           }
          ],
          "histogram2dcontour": [
           {
            "colorbar": {
             "outlinewidth": 0,
             "ticks": ""
            },
            "colorscale": [
             [
              0,
              "#0d0887"
             ],
             [
              0.1111111111111111,
              "#46039f"
             ],
             [
              0.2222222222222222,
              "#7201a8"
             ],
             [
              0.3333333333333333,
              "#9c179e"
             ],
             [
              0.4444444444444444,
              "#bd3786"
             ],
             [
              0.5555555555555556,
              "#d8576b"
             ],
             [
              0.6666666666666666,
              "#ed7953"
             ],
             [
              0.7777777777777778,
              "#fb9f3a"
             ],
             [
              0.8888888888888888,
              "#fdca26"
             ],
             [
              1,
              "#f0f921"
             ]
            ],
            "type": "histogram2dcontour"
           }
          ],
          "mesh3d": [
           {
            "colorbar": {
             "outlinewidth": 0,
             "ticks": ""
            },
            "type": "mesh3d"
           }
          ],
          "parcoords": [
           {
            "line": {
             "colorbar": {
              "outlinewidth": 0,
              "ticks": ""
             }
            },
            "type": "parcoords"
           }
          ],
          "pie": [
           {
            "automargin": true,
            "type": "pie"
           }
          ],
          "scatter": [
           {
            "marker": {
             "colorbar": {
              "outlinewidth": 0,
              "ticks": ""
             }
            },
            "type": "scatter"
           }
          ],
          "scatter3d": [
           {
            "line": {
             "colorbar": {
              "outlinewidth": 0,
              "ticks": ""
             }
            },
            "marker": {
             "colorbar": {
              "outlinewidth": 0,
              "ticks": ""
             }
            },
            "type": "scatter3d"
           }
          ],
          "scattercarpet": [
           {
            "marker": {
             "colorbar": {
              "outlinewidth": 0,
              "ticks": ""
             }
            },
            "type": "scattercarpet"
           }
          ],
          "scattergeo": [
           {
            "marker": {
             "colorbar": {
              "outlinewidth": 0,
              "ticks": ""
             }
            },
            "type": "scattergeo"
           }
          ],
          "scattergl": [
           {
            "marker": {
             "colorbar": {
              "outlinewidth": 0,
              "ticks": ""
             }
            },
            "type": "scattergl"
           }
          ],
          "scattermapbox": [
           {
            "marker": {
             "colorbar": {
              "outlinewidth": 0,
              "ticks": ""
             }
            },
            "type": "scattermapbox"
           }
          ],
          "scatterpolar": [
           {
            "marker": {
             "colorbar": {
              "outlinewidth": 0,
              "ticks": ""
             }
            },
            "type": "scatterpolar"
           }
          ],
          "scatterpolargl": [
           {
            "marker": {
             "colorbar": {
              "outlinewidth": 0,
              "ticks": ""
             }
            },
            "type": "scatterpolargl"
           }
          ],
          "scatterternary": [
           {
            "marker": {
             "colorbar": {
              "outlinewidth": 0,
              "ticks": ""
             }
            },
            "type": "scatterternary"
           }
          ],
          "surface": [
           {
            "colorbar": {
             "outlinewidth": 0,
             "ticks": ""
            },
            "colorscale": [
             [
              0,
              "#0d0887"
             ],
             [
              0.1111111111111111,
              "#46039f"
             ],
             [
              0.2222222222222222,
              "#7201a8"
             ],
             [
              0.3333333333333333,
              "#9c179e"
             ],
             [
              0.4444444444444444,
              "#bd3786"
             ],
             [
              0.5555555555555556,
              "#d8576b"
             ],
             [
              0.6666666666666666,
              "#ed7953"
             ],
             [
              0.7777777777777778,
              "#fb9f3a"
             ],
             [
              0.8888888888888888,
              "#fdca26"
             ],
             [
              1,
              "#f0f921"
             ]
            ],
            "type": "surface"
           }
          ],
          "table": [
           {
            "cells": {
             "fill": {
              "color": "#EBF0F8"
             },
             "line": {
              "color": "white"
             }
            },
            "header": {
             "fill": {
              "color": "#C8D4E3"
             },
             "line": {
              "color": "white"
             }
            },
            "type": "table"
           }
          ]
         },
         "layout": {
          "annotationdefaults": {
           "arrowcolor": "#2a3f5f",
           "arrowhead": 0,
           "arrowwidth": 1
          },
          "autotypenumbers": "strict",
          "coloraxis": {
           "colorbar": {
            "outlinewidth": 0,
            "ticks": ""
           }
          },
          "colorscale": {
           "diverging": [
            [
             0,
             "#8e0152"
            ],
            [
             0.1,
             "#c51b7d"
            ],
            [
             0.2,
             "#de77ae"
            ],
            [
             0.3,
             "#f1b6da"
            ],
            [
             0.4,
             "#fde0ef"
            ],
            [
             0.5,
             "#f7f7f7"
            ],
            [
             0.6,
             "#e6f5d0"
            ],
            [
             0.7,
             "#b8e186"
            ],
            [
             0.8,
             "#7fbc41"
            ],
            [
             0.9,
             "#4d9221"
            ],
            [
             1,
             "#276419"
            ]
           ],
           "sequential": [
            [
             0,
             "#0d0887"
            ],
            [
             0.1111111111111111,
             "#46039f"
            ],
            [
             0.2222222222222222,
             "#7201a8"
            ],
            [
             0.3333333333333333,
             "#9c179e"
            ],
            [
             0.4444444444444444,
             "#bd3786"
            ],
            [
             0.5555555555555556,
             "#d8576b"
            ],
            [
             0.6666666666666666,
             "#ed7953"
            ],
            [
             0.7777777777777778,
             "#fb9f3a"
            ],
            [
             0.8888888888888888,
             "#fdca26"
            ],
            [
             1,
             "#f0f921"
            ]
           ],
           "sequentialminus": [
            [
             0,
             "#0d0887"
            ],
            [
             0.1111111111111111,
             "#46039f"
            ],
            [
             0.2222222222222222,
             "#7201a8"
            ],
            [
             0.3333333333333333,
             "#9c179e"
            ],
            [
             0.4444444444444444,
             "#bd3786"
            ],
            [
             0.5555555555555556,
             "#d8576b"
            ],
            [
             0.6666666666666666,
             "#ed7953"
            ],
            [
             0.7777777777777778,
             "#fb9f3a"
            ],
            [
             0.8888888888888888,
             "#fdca26"
            ],
            [
             1,
             "#f0f921"
            ]
           ]
          },
          "colorway": [
           "#636efa",
           "#EF553B",
           "#00cc96",
           "#ab63fa",
           "#FFA15A",
           "#19d3f3",
           "#FF6692",
           "#B6E880",
           "#FF97FF",
           "#FECB52"
          ],
          "font": {
           "color": "#2a3f5f"
          },
          "geo": {
           "bgcolor": "white",
           "lakecolor": "white",
           "landcolor": "#E5ECF6",
           "showlakes": true,
           "showland": true,
           "subunitcolor": "white"
          },
          "hoverlabel": {
           "align": "left"
          },
          "hovermode": "closest",
          "mapbox": {
           "style": "light"
          },
          "paper_bgcolor": "white",
          "plot_bgcolor": "#E5ECF6",
          "polar": {
           "angularaxis": {
            "gridcolor": "white",
            "linecolor": "white",
            "ticks": ""
           },
           "bgcolor": "#E5ECF6",
           "radialaxis": {
            "gridcolor": "white",
            "linecolor": "white",
            "ticks": ""
           }
          },
          "scene": {
           "xaxis": {
            "backgroundcolor": "#E5ECF6",
            "gridcolor": "white",
            "gridwidth": 2,
            "linecolor": "white",
            "showbackground": true,
            "ticks": "",
            "zerolinecolor": "white"
           },
           "yaxis": {
            "backgroundcolor": "#E5ECF6",
            "gridcolor": "white",
            "gridwidth": 2,
            "linecolor": "white",
            "showbackground": true,
            "ticks": "",
            "zerolinecolor": "white"
           },
           "zaxis": {
            "backgroundcolor": "#E5ECF6",
            "gridcolor": "white",
            "gridwidth": 2,
            "linecolor": "white",
            "showbackground": true,
            "ticks": "",
            "zerolinecolor": "white"
           }
          },
          "shapedefaults": {
           "line": {
            "color": "#2a3f5f"
           }
          },
          "ternary": {
           "aaxis": {
            "gridcolor": "white",
            "linecolor": "white",
            "ticks": ""
           },
           "baxis": {
            "gridcolor": "white",
            "linecolor": "white",
            "ticks": ""
           },
           "bgcolor": "#E5ECF6",
           "caxis": {
            "gridcolor": "white",
            "linecolor": "white",
            "ticks": ""
           }
          },
          "title": {
           "x": 0.05
          },
          "xaxis": {
           "automargin": true,
           "gridcolor": "white",
           "linecolor": "white",
           "ticks": "",
           "title": {
            "standoff": 15
           },
           "zerolinecolor": "white",
           "zerolinewidth": 2
          },
          "yaxis": {
           "automargin": true,
           "gridcolor": "white",
           "linecolor": "white",
           "ticks": "",
           "title": {
            "standoff": 15
           },
           "zerolinecolor": "white",
           "zerolinewidth": 2
          }
         }
        },
        "xaxis": {
         "anchor": "y",
         "domain": [
          0,
          1
         ],
         "title": {
          "text": "YPG"
         }
        },
        "yaxis": {
         "anchor": "x",
         "domain": [
          0,
          1
         ],
         "title": {
          "text": "PPG"
         }
        }
       }
      },
      "text/html": [
       "<div>                            <div id=\"611698f3-256b-4a09-beac-58d3e66b911d\" class=\"plotly-graph-div\" style=\"height:525px; width:100%;\"></div>            <script type=\"text/javascript\">                require([\"plotly\"], function(Plotly) {                    window.PLOTLYENV=window.PLOTLYENV || {};                                    if (document.getElementById(\"611698f3-256b-4a09-beac-58d3e66b911d\")) {                    Plotly.newPlot(                        \"611698f3-256b-4a09-beac-58d3e66b911d\",                        [{\"customdata\": [[\"Miami Dolphins\", 2021], [\"New York Jets\", 2021], [\"Cleveland Browns\", 2021], [\"Baltimore Ravens\", 2021], [\"Indianapolis Colts\", 2021], [\"Houston Texans\", 2021], [\"Jacksonville Jaguars\", 2021], [\"Los Angeles Chargers\", 2021], [\"Denver Broncos\", 2021], [\"Washington Football Team\", 2021], [\"New York Giants\", 2021], [\"Minnesota Vikings\", 2021], [\"Chicago Bears\", 2021], [\"Detroit Lions\", 2021], [\"New Orleans Saints\", 2021], [\"Atlanta Falcons\", 2021], [\"Carolina Panthers\", 2021], [\"Seattle Seahawks\", 2021], [\"Miami Dolphins\", 2020], [\"New England Patriots\", 2020], [\"New York Jets\", 2020], [\"Cincinnati Bengals\", 2020], [\"Houston Texans\", 2020], [\"Jacksonville Jaguars\", 2020], [\"Las Vegas Raiders\", 2020], [\"Los Angeles Chargers\", 2020], [\"Denver Broncos\", 2020], [\"New York Giants\", 2020], [\"Dallas Cowboys\", 2020], [\"Philadelphia Eagles\", 2020], [\"Minnesota Vikings\", 2020], [\"Detroit Lions\", 2020], [\"Carolina Panthers\", 2020], [\"Atlanta Falcons\", 2020], [\"Arizona Cardinals\", 2020], [\"San Francisco 49ers\", 2020], [\"New York Jets\", 2019], [\"Miami Dolphins\", 2019], [\"Pittsburgh Steelers\", 2019], [\"Cleveland Browns\", 2019], [\"Cincinnati Bengals\", 2019], [\"Indianapolis Colts\", 2019], [\"Jacksonville Jaguars\", 2019], [\"Denver Broncos\", 2019], [\"Los Angeles Chargers\", 2019], [\"Dallas Cowboys\", 2019], [\"New York Giants\", 2019], [\"Chicago Bears\", 2019], [\"Detroit Lions\", 2019], [\"Atlanta Falcons\", 2019], [\"Tampa Bay Buccaneers\", 2019], [\"Carolina Panthers\", 2019], [\"Los Angeles Rams\", 2019], [\"Arizona Cardinals\", 2019], [\"Miami Dolphins\", 2018], [\"Buffalo Bills\", 2018], [\"New York Jets\", 2018], [\"Pittsburgh Steelers\", 2018], [\"Cleveland Browns\", 2018], [\"Cincinnati Bengals\", 2018], [\"Tennessee Titans\", 2018], [\"Jacksonville Jaguars\", 2018], [\"Denver Broncos\", 2018], [\"New York Giants\", 2018], [\"Minnesota Vikings\", 2018], [\"Green Bay Packers\", 2018], [\"Detroit Lions\", 2018], [\"Atlanta Falcons\", 2018], [\"Carolina Panthers\", 2018], [\"Tampa Bay Buccaneers\", 2018], [\"San Francisco 49ers\", 2018], [\"Arizona Cardinals\", 2018], [\"Miami Dolphins\", 2017], [\"New York Jets\", 2017], [\"Baltimore Ravens\", 2017], [\"Cincinnati Bengals\", 2017], [\"Cleveland Browns\", 2017], [\"Indianapolis Colts\", 2017], [\"Houston Texans\", 2017], [\"Los Angeles Chargers\", 2017], [\"Denver Broncos\", 2017], [\"Dallas Cowboys\", 2017], [\"New York Giants\", 2017], [\"Detroit Lions\", 2017], [\"Green Bay Packers\", 2017], [\"Chicago Bears\", 2017], [\"Tampa Bay Buccaneers\", 2017], [\"Seattle Seahawks\", 2017], [\"Arizona Cardinals\", 2017], [\"San Francisco 49ers\", 2017], [\"Buffalo Bills\", 2016], [\"New York Jets\", 2016], [\"Baltimore Ravens\", 2016], [\"Cincinnati Bengals\", 2016], [\"Cleveland Browns\", 2016], [\"Tennessee Titans\", 2016], [\"Indianapolis Colts\", 2016], [\"Jacksonville Jaguars\", 2016], [\"Denver Broncos\", 2016], [\"Philadelphia Eagles\", 2016], [\"Minnesota Vikings\", 2016], [\"Chicago Bears\", 2016], [\"Tampa Bay Buccaneers\", 2016], [\"New Orleans Saints\", 2016], [\"Carolina Panthers\", 2016], [\"Arizona Cardinals\", 2016], [\"Los Angeles Rams\", 2016], [\"San Francisco 49ers\", 2016], [\"New York Jets\", 2015], [\"Buffalo Bills\", 2015], [\"Miami Dolphins\", 2015], [\"Baltimore Ravens\", 2015], [\"Cleveland Browns\", 2015], [\"Indianapolis Colts\", 2015], [\"Jacksonville Jaguars\", 2015], [\"Tennessee Titans\", 2015], [\"Philadelphia Eagles\", 2015], [\"New York Giants\", 2015], [\"Dallas Cowboys\", 2015], [\"Detroit Lions\", 2015], [\"Chicago Bears\", 2015], [\"Atlanta Falcons\", 2015], [\"New Orleans Saints\", 2015], [\"Tampa Bay Buccaneers\", 2015], [\"San Francisco 49ers\", 2015], [\"Buffalo Bills\", 2014], [\"Miami Dolphins\", 2014], [\"New York Jets\", 2014], [\"Cleveland Browns\", 2014], [\"Houston Texans\", 2014], [\"Jacksonville Jaguars\", 2014], [\"Tennessee Titans\", 2014], [\"Kansas City Chiefs\", 2014], [\"Philadelphia Eagles\", 2014], [\"New York Giants\", 2014], [\"Minnesota Vikings\", 2014], [\"Chicago Bears\", 2014], [\"New Orleans Saints\", 2014], [\"Atlanta Falcons\", 2014], [\"Tampa Bay Buccaneers\", 2014], [\"San Francisco 49ers\", 2014], [\"New York Jets\", 2013], [\"Miami Dolphins\", 2013], [\"Buffalo Bills\", 2013], [\"Pittsburgh Steelers\", 2013], [\"Baltimore Ravens\", 2013], [\"Cleveland Browns\", 2013], [\"Tennessee Titans\", 2013], [\"Jacksonville Jaguars\", 2013], [\"Houston Texans\", 2013], [\"Dallas Cowboys\", 2013], [\"New York Giants\", 2013], [\"Chicago Bears\", 2013], [\"Detroit Lions\", 2013], [\"Minnesota Vikings\", 2013], [\"Atlanta Falcons\", 2013], [\"Tampa Bay Buccaneers\", 2013], [\"Arizona Cardinals\", 2013], [\"Miami Dolphins\", 2012], [\"New York Jets\", 2012], [\"Buffalo Bills\", 2012], [\"Pittsburgh Steelers\", 2012], [\"Cleveland Browns\", 2012], [\"Tennessee Titans\", 2012], [\"Jacksonville Jaguars\", 2012], [\"Kansas City Chiefs\", 2012], [\"New York Giants\", 2012], [\"Dallas Cowboys\", 2012], [\"Philadelphia Eagles\", 2012], [\"Chicago Bears\", 2012], [\"Detroit Lions\", 2012], [\"Carolina Panthers\", 2012], [\"New Orleans Saints\", 2012], [\"Tampa Bay Buccaneers\", 2012], [\"Arizona Cardinals\", 2012], [\"New York Jets\", 2011], [\"Miami Dolphins\", 2011], [\"Buffalo Bills\", 2011], [\"Cleveland Browns\", 2011], [\"Tennessee Titans\", 2011], [\"Jacksonville Jaguars\", 2011], [\"Indianapolis Colts\", 2011], [\"Kansas City Chiefs\", 2011], [\"Philadelphia Eagles\", 2011], [\"Dallas Cowboys\", 2011], [\"Chicago Bears\", 2011], [\"Minnesota Vikings\", 2011], [\"Carolina Panthers\", 2011], [\"Tampa Bay Buccaneers\", 2011], [\"Arizona Cardinals\", 2011], [\"Seattle Seahawks\", 2011], [\"Miami Dolphins\", 2010], [\"Buffalo Bills\", 2010], [\"Cleveland Browns\", 2010], [\"Cincinnati Bengals\", 2010], [\"Jacksonville Jaguars\", 2010], [\"Houston Texans\", 2010], [\"Tennessee Titans\", 2010], [\"Denver Broncos\", 2010], [\"New York Giants\", 2010], [\"Dallas Cowboys\", 2010], [\"Detroit Lions\", 2010], [\"Minnesota Vikings\", 2010], [\"Tampa Bay Buccaneers\", 2010], [\"Carolina Panthers\", 2010], [\"San Francisco 49ers\", 2010], [\"Arizona Cardinals\", 2010], [\"Miami Dolphins\", 2009], [\"Buffalo Bills\", 2009], [\"Pittsburgh Steelers\", 2009], [\"Cleveland Browns\", 2009], [\"Houston Texans\", 2009], [\"Tennessee Titans\", 2009], [\"Jacksonville Jaguars\", 2009], [\"Denver Broncos\", 2009], [\"Kansas City Chiefs\", 2009], [\"New York Giants\", 2009], [\"Chicago Bears\", 2009], [\"Detroit Lions\", 2009], [\"Atlanta Falcons\", 2009], [\"Carolina Panthers\", 2009], [\"Tampa Bay Buccaneers\", 2009], [\"San Francisco 49ers\", 2009], [\"Seattle Seahawks\", 2009], [\"New England Patriots\", 2008], [\"New York Jets\", 2008], [\"Buffalo Bills\", 2008], [\"Cincinnati Bengals\", 2008], [\"Cleveland Browns\", 2008], [\"Houston Texans\", 2008], [\"Jacksonville Jaguars\", 2008], [\"Denver Broncos\", 2008], [\"Kansas City Chiefs\", 2008], [\"Dallas Cowboys\", 2008], [\"Chicago Bears\", 2008], [\"Green Bay Packers\", 2008], [\"Detroit Lions\", 2008], [\"Tampa Bay Buccaneers\", 2008], [\"New Orleans Saints\", 2008], [\"San Francisco 49ers\", 2008], [\"Seattle Seahawks\", 2008], [\"Buffalo Bills\", 2007], [\"New York Jets\", 2007], [\"Miami Dolphins\", 2007], [\"Cleveland Browns\", 2007], [\"Cincinnati Bengals\", 2007], [\"Baltimore Ravens\", 2007], [\"Houston Texans\", 2007], [\"Denver Broncos\", 2007], [\"Kansas City Chiefs\", 2007], [\"Philadelphia Eagles\", 2007], [\"Minnesota Vikings\", 2007], [\"Detroit Lions\", 2007], [\"Chicago Bears\", 2007], [\"Carolina Panthers\", 2007], [\"New Orleans Saints\", 2007], [\"Atlanta Falcons\", 2007], [\"Arizona Cardinals\", 2007], [\"San Francisco 49ers\", 2007], [\"Buffalo Bills\", 2006], [\"Miami Dolphins\", 2006], [\"Cincinnati Bengals\", 2006], [\"Pittsburgh Steelers\", 2006], [\"Cleveland Browns\", 2006], [\"Tennessee Titans\", 2006], [\"Jacksonville Jaguars\", 2006], [\"Houston Texans\", 2006], [\"Denver Broncos\", 2006], [\"Green Bay Packers\", 2006], [\"Minnesota Vikings\", 2006], [\"Detroit Lions\", 2006], [\"Carolina Panthers\", 2006], [\"Atlanta Falcons\", 2006], [\"Tampa Bay Buccaneers\", 2006], [\"San Francisco 49ers\", 2006], [\"Arizona Cardinals\", 2006], [\"Miami Dolphins\", 2005], [\"Buffalo Bills\", 2005], [\"New York Jets\", 2005], [\"Baltimore Ravens\", 2005], [\"Cleveland Browns\", 2005], [\"Tennessee Titans\", 2005], [\"Houston Texans\", 2005], [\"Kansas City Chiefs\", 2005], [\"Dallas Cowboys\", 2005], [\"Philadelphia Eagles\", 2005], [\"Minnesota Vikings\", 2005], [\"Detroit Lions\", 2005], [\"Green Bay Packers\", 2005], [\"Atlanta Falcons\", 2005], [\"New Orleans Saints\", 2005], [\"Arizona Cardinals\", 2005], [\"San Francisco 49ers\", 2005], [\"Buffalo Bills\", 2004], [\"Miami Dolphins\", 2004], [\"Baltimore Ravens\", 2004], [\"Cincinnati Bengals\", 2004], [\"Cleveland Browns\", 2004], [\"Jacksonville Jaguars\", 2004], [\"Houston Texans\", 2004], [\"Tennessee Titans\", 2004], [\"Kansas City Chiefs\", 2004], [\"New York Giants\", 2004], [\"Dallas Cowboys\", 2004], [\"Detroit Lions\", 2004], [\"Chicago Bears\", 2004], [\"New Orleans Saints\", 2004], [\"Carolina Panthers\", 2004], [\"Tampa Bay Buccaneers\", 2004], [\"Arizona Cardinals\", 2004], [\"San Francisco 49ers\", 2004], [\"Miami Dolphins\", 2003], [\"Buffalo Bills\", 2003], [\"New York Jets\", 2003], [\"Cincinnati Bengals\", 2003], [\"Pittsburgh Steelers\", 2003], [\"Cleveland Browns\", 2003], [\"Jacksonville Jaguars\", 2003], [\"Houston Texans\", 2003], [\"New York Giants\", 2003], [\"Minnesota Vikings\", 2003], [\"Chicago Bears\", 2003], [\"Detroit Lions\", 2003], [\"New Orleans Saints\", 2003], [\"Tampa Bay Buccaneers\", 2003], [\"Atlanta Falcons\", 2003], [\"San Francisco 49ers\", 2003], [\"Arizona Cardinals\", 2003]], \"hovertemplate\": \"YPG=%{x}<br>PPG=%{y}<br>Tm=%{customdata[0]}<br>Season=%{marker.color}<extra></extra>\", \"legendgroup\": \"\", \"marker\": {\"color\": [2021, 2021, 2021, 2021, 2021, 2021, 2021, 2021, 2021, 2021, 2021, 2021, 2021, 2021, 2021, 2021, 2021, 2021, 2020, 2020, 2020, 2020, 2020, 2020, 2020, 2020, 2020, 2020, 2020, 2020, 2020, 2020, 2020, 2020, 2020, 2020, 2019, 2019, 2019, 2019, 2019, 2019, 2019, 2019, 2019, 2019, 2019, 2019, 2019, 2019, 2019, 2019, 2019, 2019, 2018, 2018, 2018, 2018, 2018, 2018, 2018, 2018, 2018, 2018, 2018, 2018, 2018, 2018, 2018, 2018, 2018, 2018, 2017, 2017, 2017, 2017, 2017, 2017, 2017, 2017, 2017, 2017, 2017, 2017, 2017, 2017, 2017, 2017, 2017, 2017, 2016, 2016, 2016, 2016, 2016, 2016, 2016, 2016, 2016, 2016, 2016, 2016, 2016, 2016, 2016, 2016, 2016, 2016, 2015, 2015, 2015, 2015, 2015, 2015, 2015, 2015, 2015, 2015, 2015, 2015, 2015, 2015, 2015, 2015, 2015, 2014, 2014, 2014, 2014, 2014, 2014, 2014, 2014, 2014, 2014, 2014, 2014, 2014, 2014, 2014, 2014, 2013, 2013, 2013, 2013, 2013, 2013, 2013, 2013, 2013, 2013, 2013, 2013, 2013, 2013, 2013, 2013, 2013, 2012, 2012, 2012, 2012, 2012, 2012, 2012, 2012, 2012, 2012, 2012, 2012, 2012, 2012, 2012, 2012, 2012, 2011, 2011, 2011, 2011, 2011, 2011, 2011, 2011, 2011, 2011, 2011, 2011, 2011, 2011, 2011, 2011, 2010, 2010, 2010, 2010, 2010, 2010, 2010, 2010, 2010, 2010, 2010, 2010, 2010, 2010, 2010, 2010, 2009, 2009, 2009, 2009, 2009, 2009, 2009, 2009, 2009, 2009, 2009, 2009, 2009, 2009, 2009, 2009, 2009, 2008, 2008, 2008, 2008, 2008, 2008, 2008, 2008, 2008, 2008, 2008, 2008, 2008, 2008, 2008, 2008, 2008, 2007, 2007, 2007, 2007, 2007, 2007, 2007, 2007, 2007, 2007, 2007, 2007, 2007, 2007, 2007, 2007, 2007, 2007, 2006, 2006, 2006, 2006, 2006, 2006, 2006, 2006, 2006, 2006, 2006, 2006, 2006, 2006, 2006, 2006, 2006, 2005, 2005, 2005, 2005, 2005, 2005, 2005, 2005, 2005, 2005, 2005, 2005, 2005, 2005, 2005, 2005, 2005, 2004, 2004, 2004, 2004, 2004, 2004, 2004, 2004, 2004, 2004, 2004, 2004, 2004, 2004, 2004, 2004, 2004, 2004, 2003, 2003, 2003, 2003, 2003, 2003, 2003, 2003, 2003, 2003, 2003, 2003, 2003, 2003, 2003, 2003, 2003], \"coloraxis\": \"coloraxis\", \"symbol\": \"circle\"}, \"mode\": \"markers\", \"name\": \"\", \"orientation\": \"v\", \"showlegend\": false, \"type\": \"scatter\", \"x\": [307.0, 306.3529411764706, 340.6470588235294, 378.8235294117647, 347.11764705882354, 278.05882352941177, 305.3529411764706, 390.2352941176471, 330.47058823529414, 323.6470588235294, 287.29411764705884, 362.8235294117647, 307.3529411764706, 322.5882352941176, 304.52941176470586, 303.7647058823529, 298.88235294117646, 323.88235294117646, 307.0, 353.4117647058824, 306.3529411764706, 361.47058823529414, 278.05882352941177, 305.3529411764706, 363.7647058823529, 390.2352941176471, 330.47058823529414, 287.29411764705884, 407.0, 359.94117647058823, 362.8235294117647, 322.5882352941176, 298.88235294117646, 303.7647058823529, 373.6470588235294, 375.70588235294116, 306.3529411764706, 307.0, 315.3529411764706, 340.6470588235294, 361.47058823529414, 347.11764705882354, 305.3529411764706, 330.47058823529414, 390.2352941176471, 407.0, 287.29411764705884, 307.3529411764706, 322.5882352941176, 303.7647058823529, 405.94117647058823, 298.88235294117646, 372.05882352941177, 373.6470588235294, 307.0, 381.94117647058823, 306.3529411764706, 315.3529411764706, 340.6470588235294, 361.47058823529414, 342.47058823529414, 305.3529411764706, 330.47058823529414, 287.29411764705884, 362.8235294117647, 365.5882352941176, 322.5882352941176, 303.7647058823529, 298.88235294117646, 405.94117647058823, 375.70588235294116, 373.6470588235294, 307.0, 306.3529411764706, 378.8235294117647, 361.47058823529414, 340.6470588235294, 347.11764705882354, 278.05882352941177, 390.2352941176471, 330.47058823529414, 407.0, 287.29411764705884, 322.5882352941176, 365.5882352941176, 307.3529411764706, 405.94117647058823, 323.88235294117646, 373.6470588235294, 375.70588235294116, 381.94117647058823, 306.3529411764706, 378.8235294117647, 361.47058823529414, 340.6470588235294, 342.47058823529414, 347.11764705882354, 305.3529411764706, 330.47058823529414, 359.94117647058823, 362.8235294117647, 307.3529411764706, 405.94117647058823, 304.52941176470586, 298.88235294117646, 373.6470588235294, 372.05882352941177, 375.70588235294116, 306.3529411764706, 381.94117647058823, 307.0, 378.8235294117647, 340.6470588235294, 347.11764705882354, 305.3529411764706, 342.47058823529414, 359.94117647058823, 287.29411764705884, 407.0, 322.5882352941176, 307.3529411764706, 303.7647058823529, 304.52941176470586, 405.94117647058823, 375.70588235294116, 381.94117647058823, 307.0, 306.3529411764706, 340.6470588235294, 278.05882352941177, 305.3529411764706, 342.47058823529414, 396.8235294117647, 359.94117647058823, 287.29411764705884, 362.8235294117647, 307.3529411764706, 304.52941176470586, 303.7647058823529, 405.94117647058823, 375.70588235294116, 306.3529411764706, 307.0, 381.94117647058823, 315.3529411764706, 378.8235294117647, 340.6470588235294, 342.47058823529414, 305.3529411764706, 278.05882352941177, 407.0, 287.29411764705884, 307.3529411764706, 322.5882352941176, 362.8235294117647, 303.7647058823529, 405.94117647058823, 373.6470588235294, 307.0, 306.3529411764706, 381.94117647058823, 315.3529411764706, 340.6470588235294, 342.47058823529414, 305.3529411764706, 396.8235294117647, 287.29411764705884, 407.0, 359.94117647058823, 307.3529411764706, 322.5882352941176, 298.88235294117646, 304.52941176470586, 405.94117647058823, 373.6470588235294, 306.3529411764706, 307.0, 381.94117647058823, 340.6470588235294, 342.47058823529414, 305.3529411764706, 347.11764705882354, 396.8235294117647, 359.94117647058823, 407.0, 307.3529411764706, 362.8235294117647, 298.88235294117646, 405.94117647058823, 373.6470588235294, 323.88235294117646, 307.0, 381.94117647058823, 340.6470588235294, 361.47058823529414, 305.3529411764706, 278.05882352941177, 342.47058823529414, 330.47058823529414, 287.29411764705884, 407.0, 322.5882352941176, 362.8235294117647, 405.94117647058823, 298.88235294117646, 375.70588235294116, 373.6470588235294, 307.0, 381.94117647058823, 315.3529411764706, 340.6470588235294, 278.05882352941177, 342.47058823529414, 305.3529411764706, 330.47058823529414, 396.8235294117647, 287.29411764705884, 307.3529411764706, 322.5882352941176, 303.7647058823529, 298.88235294117646, 405.94117647058823, 375.70588235294116, 323.88235294117646, 353.4117647058824, 306.3529411764706, 381.94117647058823, 361.47058823529414, 340.6470588235294, 278.05882352941177, 305.3529411764706, 330.47058823529414, 396.8235294117647, 407.0, 307.3529411764706, 365.5882352941176, 322.5882352941176, 405.94117647058823, 304.52941176470586, 375.70588235294116, 323.88235294117646, 381.94117647058823, 306.3529411764706, 307.0, 340.6470588235294, 361.47058823529414, 378.8235294117647, 278.05882352941177, 330.47058823529414, 396.8235294117647, 359.94117647058823, 362.8235294117647, 322.5882352941176, 307.3529411764706, 298.88235294117646, 304.52941176470586, 303.7647058823529, 373.6470588235294, 375.70588235294116, 381.94117647058823, 307.0, 361.47058823529414, 315.3529411764706, 340.6470588235294, 342.47058823529414, 305.3529411764706, 278.05882352941177, 330.47058823529414, 365.5882352941176, 362.8235294117647, 322.5882352941176, 298.88235294117646, 303.7647058823529, 405.94117647058823, 375.70588235294116, 373.6470588235294, 307.0, 381.94117647058823, 306.3529411764706, 378.8235294117647, 340.6470588235294, 342.47058823529414, 278.05882352941177, 396.8235294117647, 407.0, 359.94117647058823, 362.8235294117647, 322.5882352941176, 365.5882352941176, 303.7647058823529, 304.52941176470586, 373.6470588235294, 375.70588235294116, 381.94117647058823, 307.0, 378.8235294117647, 361.47058823529414, 340.6470588235294, 305.3529411764706, 278.05882352941177, 342.47058823529414, 396.8235294117647, 287.29411764705884, 407.0, 322.5882352941176, 307.3529411764706, 304.52941176470586, 298.88235294117646, 405.94117647058823, 373.6470588235294, 375.70588235294116, 307.0, 381.94117647058823, 306.3529411764706, 361.47058823529414, 315.3529411764706, 340.6470588235294, 305.3529411764706, 278.05882352941177, 287.29411764705884, 362.8235294117647, 307.3529411764706, 322.5882352941176, 304.52941176470586, 405.94117647058823, 303.7647058823529, 375.70588235294116, 373.6470588235294], \"xaxis\": \"x\", \"y\": [20.058823529411764, 18.235294117647058, 20.529411764705884, 22.764705882352942, 26.529411764705884, 16.470588235294116, 14.882352941176471, 27.88235294117647, 19.705882352941178, 19.705882352941178, 15.176470588235293, 25.0, 18.294117647058822, 19.11764705882353, 21.41176470588235, 18.41176470588235, 17.88235294117647, 23.235294117647058, 23.764705882352942, 19.176470588235293, 14.294117647058824, 18.294117647058822, 22.58823529411765, 18.0, 25.529411764705884, 22.58823529411765, 19.0, 16.470588235294116, 23.235294117647058, 19.647058823529413, 25.294117647058822, 22.176470588235293, 20.58823529411765, 23.294117647058822, 24.11764705882353, 22.11764705882353, 16.235294117647058, 18.0, 17.0, 19.705882352941178, 16.41176470588235, 21.235294117647058, 17.647058823529413, 16.58823529411765, 19.823529411764707, 25.529411764705884, 20.058823529411764, 16.470588235294116, 20.058823529411764, 22.41176470588235, 26.941176470588236, 20.0, 23.176470588235293, 21.235294117647058, 18.764705882352942, 15.823529411764707, 19.58823529411765, 25.176470588235293, 21.11764705882353, 21.647058823529413, 18.235294117647058, 14.411764705882353, 19.352941176470587, 21.705882352941178, 21.176470588235293, 22.11764705882353, 19.058823529411764, 24.352941176470587, 22.11764705882353, 23.294117647058822, 20.11764705882353, 13.235294117647058, 16.529411764705884, 17.529411764705884, 23.235294117647058, 17.058823529411764, 13.764705882352942, 15.470588235294118, 19.88235294117647, 20.88235294117647, 17.0, 20.823529411764707, 14.470588235294118, 24.11764705882353, 18.823529411764707, 15.529411764705882, 19.705882352941178, 21.529411764705884, 17.352941176470587, 19.470588235294116, 23.470588235294116, 16.176470588235293, 20.176470588235293, 19.11764705882353, 15.529411764705882, 22.41176470588235, 24.176470588235293, 18.705882352941178, 19.58823529411765, 21.58823529411765, 19.235294117647058, 16.41176470588235, 20.823529411764707, 27.58823529411765, 21.705882352941178, 24.58823529411765, 13.176470588235293, 18.176470588235293, 22.764705882352942, 22.294117647058822, 18.235294117647058, 19.294117647058822, 16.352941176470587, 19.58823529411765, 22.11764705882353, 17.58823529411765, 22.176470588235293, 24.705882352941178, 16.176470588235293, 21.058823529411764, 19.705882352941178, 19.941176470588236, 24.0, 20.11764705882353, 14.0, 20.176470588235293, 22.823529411764707, 16.647058823529413, 17.58823529411765, 21.88235294117647, 14.647058823529411, 14.941176470588236, 20.764705882352942, 27.88235294117647, 22.352941176470587, 19.11764705882353, 18.764705882352942, 23.58823529411765, 22.41176470588235, 16.294117647058822, 18.0, 17.058823529411764, 18.647058823529413, 19.941176470588236, 22.294117647058822, 18.823529411764707, 18.11764705882353, 21.294117647058822, 14.529411764705882, 16.235294117647058, 25.823529411764707, 17.294117647058822, 26.176470588235293, 23.235294117647058, 23.0, 20.764705882352942, 16.941176470588236, 22.294117647058822, 16.941176470588236, 16.529411764705884, 20.235294117647058, 19.764705882352942, 17.764705882352942, 19.41176470588235, 15.0, 12.411764705882353, 25.235294117647058, 22.11764705882353, 16.470588235294116, 22.058823529411764, 21.88235294117647, 21.0, 27.11764705882353, 22.88235294117647, 14.705882352941176, 22.176470588235293, 19.352941176470587, 21.88235294117647, 12.823529411764707, 19.11764705882353, 14.294117647058824, 14.294117647058824, 12.470588235294118, 23.294117647058822, 21.705882352941178, 20.764705882352942, 20.0, 23.88235294117647, 16.88235294117647, 18.352941176470587, 18.88235294117647, 16.058823529411764, 16.647058823529413, 15.941176470588236, 18.941176470588236, 20.764705882352942, 22.941176470588236, 20.941176470588236, 20.235294117647058, 23.176470588235293, 23.176470588235293, 21.294117647058822, 16.529411764705884, 20.058823529411764, 11.529411764705882, 17.941176470588236, 17.0, 21.176470588235293, 15.176470588235293, 21.647058823529413, 14.411764705882353, 22.823529411764707, 20.823529411764707, 17.058823529411764, 19.176470588235293, 17.294117647058822, 23.647058823529413, 19.235294117647058, 15.411764705882353, 21.352941176470587, 18.529411764705884, 14.352941176470589, 19.41176470588235, 16.470588235294116, 24.11764705882353, 23.823529411764707, 19.764705882352942, 12.0, 13.647058823529411, 21.529411764705884, 17.764705882352942, 21.764705882352942, 17.11764705882353, 21.294117647058822, 22.058823529411764, 24.647058823529413, 15.764705882352942, 21.235294117647058, 27.235294117647058, 19.941176470588236, 17.294117647058822, 14.823529411764707, 15.764705882352942, 15.705882352941176, 23.647058823529413, 22.352941176470587, 16.176470588235293, 22.294117647058822, 18.823529411764707, 13.294117647058824, 19.764705882352942, 21.470588235294116, 20.352941176470587, 19.647058823529413, 15.705882352941176, 22.294117647058822, 15.235294117647058, 23.764705882352942, 12.882352941176471, 17.647058823529413, 15.294117647058824, 21.941176470588236, 20.764705882352942, 14.0, 19.058823529411764, 21.823529411764707, 15.705882352941176, 18.764705882352942, 17.705882352941178, 16.58823529411765, 17.941176470588236, 15.882352941176471, 17.176470588235293, 12.411764705882353, 17.529411764705884, 18.470588235294116, 18.705882352941178, 15.941176470588236, 14.117647058823529, 15.588235294117647, 13.647058823529411, 17.58823529411765, 15.294117647058824, 23.705882352941178, 19.11764705882353, 18.235294117647058, 18.0, 14.941176470588236, 17.529411764705884, 20.647058823529413, 13.823529411764707, 18.294117647058822, 14.058823529411764, 23.235294117647058, 16.176470588235293, 18.647058823529413, 22.0, 16.235294117647058, 15.352941176470589, 18.176470588235293, 20.235294117647058, 28.41176470588235, 17.823529411764707, 17.235294117647058, 17.41176470588235, 13.588235294117647, 20.470588235294116, 20.88235294117647, 17.705882352941178, 16.705882352941178, 15.235294117647058, 18.294117647058822, 14.294117647058824, 16.647058823529413, 20.352941176470587, 17.647058823529413, 14.941176470588236, 16.235294117647058, 15.0, 14.294117647058824, 24.470588235294116, 16.647058823529413, 15.882352941176471, 20.0, 17.705882352941178, 17.58823529411765, 22.58823529411765, 13.235294117647058], \"yaxis\": \"y\"}],                        {\"coloraxis\": {\"colorbar\": {\"title\": {\"text\": \"Season\"}}, \"colorscale\": [[0.0, \"#0d0887\"], [0.1111111111111111, \"#46039f\"], [0.2222222222222222, \"#7201a8\"], [0.3333333333333333, \"#9c179e\"], [0.4444444444444444, \"#bd3786\"], [0.5555555555555556, \"#d8576b\"], [0.6666666666666666, \"#ed7953\"], [0.7777777777777778, \"#fb9f3a\"], [0.8888888888888888, \"#fdca26\"], [1.0, \"#f0f921\"]]}, \"legend\": {\"tracegroupgap\": 0}, \"margin\": {\"t\": 60}, \"template\": {\"data\": {\"bar\": [{\"error_x\": {\"color\": \"#2a3f5f\"}, \"error_y\": {\"color\": \"#2a3f5f\"}, \"marker\": {\"line\": {\"color\": \"#E5ECF6\", \"width\": 0.5}}, \"type\": \"bar\"}], \"barpolar\": [{\"marker\": {\"line\": {\"color\": \"#E5ECF6\", \"width\": 0.5}}, \"type\": \"barpolar\"}], \"carpet\": [{\"aaxis\": {\"endlinecolor\": \"#2a3f5f\", \"gridcolor\": \"white\", \"linecolor\": \"white\", \"minorgridcolor\": \"white\", \"startlinecolor\": \"#2a3f5f\"}, \"baxis\": {\"endlinecolor\": \"#2a3f5f\", \"gridcolor\": \"white\", \"linecolor\": \"white\", \"minorgridcolor\": \"white\", \"startlinecolor\": \"#2a3f5f\"}, \"type\": \"carpet\"}], \"choropleth\": [{\"colorbar\": {\"outlinewidth\": 0, \"ticks\": \"\"}, \"type\": \"choropleth\"}], \"contour\": [{\"colorbar\": {\"outlinewidth\": 0, \"ticks\": \"\"}, \"colorscale\": [[0.0, \"#0d0887\"], [0.1111111111111111, \"#46039f\"], [0.2222222222222222, \"#7201a8\"], [0.3333333333333333, \"#9c179e\"], [0.4444444444444444, \"#bd3786\"], [0.5555555555555556, \"#d8576b\"], [0.6666666666666666, \"#ed7953\"], [0.7777777777777778, \"#fb9f3a\"], [0.8888888888888888, \"#fdca26\"], [1.0, \"#f0f921\"]], \"type\": \"contour\"}], \"contourcarpet\": [{\"colorbar\": {\"outlinewidth\": 0, \"ticks\": \"\"}, \"type\": \"contourcarpet\"}], \"heatmap\": [{\"colorbar\": {\"outlinewidth\": 0, \"ticks\": \"\"}, \"colorscale\": [[0.0, \"#0d0887\"], [0.1111111111111111, \"#46039f\"], [0.2222222222222222, \"#7201a8\"], [0.3333333333333333, \"#9c179e\"], [0.4444444444444444, \"#bd3786\"], [0.5555555555555556, \"#d8576b\"], [0.6666666666666666, \"#ed7953\"], [0.7777777777777778, \"#fb9f3a\"], [0.8888888888888888, \"#fdca26\"], [1.0, \"#f0f921\"]], \"type\": \"heatmap\"}], \"heatmapgl\": [{\"colorbar\": {\"outlinewidth\": 0, \"ticks\": \"\"}, \"colorscale\": [[0.0, \"#0d0887\"], [0.1111111111111111, \"#46039f\"], [0.2222222222222222, \"#7201a8\"], [0.3333333333333333, \"#9c179e\"], [0.4444444444444444, \"#bd3786\"], [0.5555555555555556, \"#d8576b\"], [0.6666666666666666, \"#ed7953\"], [0.7777777777777778, \"#fb9f3a\"], [0.8888888888888888, \"#fdca26\"], [1.0, \"#f0f921\"]], \"type\": \"heatmapgl\"}], \"histogram\": [{\"marker\": {\"colorbar\": {\"outlinewidth\": 0, \"ticks\": \"\"}}, \"type\": \"histogram\"}], \"histogram2d\": [{\"colorbar\": {\"outlinewidth\": 0, \"ticks\": \"\"}, \"colorscale\": [[0.0, \"#0d0887\"], [0.1111111111111111, \"#46039f\"], [0.2222222222222222, \"#7201a8\"], [0.3333333333333333, \"#9c179e\"], [0.4444444444444444, \"#bd3786\"], [0.5555555555555556, \"#d8576b\"], [0.6666666666666666, \"#ed7953\"], [0.7777777777777778, \"#fb9f3a\"], [0.8888888888888888, \"#fdca26\"], [1.0, \"#f0f921\"]], \"type\": \"histogram2d\"}], \"histogram2dcontour\": [{\"colorbar\": {\"outlinewidth\": 0, \"ticks\": \"\"}, \"colorscale\": [[0.0, \"#0d0887\"], [0.1111111111111111, \"#46039f\"], [0.2222222222222222, \"#7201a8\"], [0.3333333333333333, \"#9c179e\"], [0.4444444444444444, \"#bd3786\"], [0.5555555555555556, \"#d8576b\"], [0.6666666666666666, \"#ed7953\"], [0.7777777777777778, \"#fb9f3a\"], [0.8888888888888888, \"#fdca26\"], [1.0, \"#f0f921\"]], \"type\": \"histogram2dcontour\"}], \"mesh3d\": [{\"colorbar\": {\"outlinewidth\": 0, \"ticks\": \"\"}, \"type\": \"mesh3d\"}], \"parcoords\": [{\"line\": {\"colorbar\": {\"outlinewidth\": 0, \"ticks\": \"\"}}, \"type\": \"parcoords\"}], \"pie\": [{\"automargin\": true, \"type\": \"pie\"}], \"scatter\": [{\"marker\": {\"colorbar\": {\"outlinewidth\": 0, \"ticks\": \"\"}}, \"type\": \"scatter\"}], \"scatter3d\": [{\"line\": {\"colorbar\": {\"outlinewidth\": 0, \"ticks\": \"\"}}, \"marker\": {\"colorbar\": {\"outlinewidth\": 0, \"ticks\": \"\"}}, \"type\": \"scatter3d\"}], \"scattercarpet\": [{\"marker\": {\"colorbar\": {\"outlinewidth\": 0, \"ticks\": \"\"}}, \"type\": \"scattercarpet\"}], \"scattergeo\": [{\"marker\": {\"colorbar\": {\"outlinewidth\": 0, \"ticks\": \"\"}}, \"type\": \"scattergeo\"}], \"scattergl\": [{\"marker\": {\"colorbar\": {\"outlinewidth\": 0, \"ticks\": \"\"}}, \"type\": \"scattergl\"}], \"scattermapbox\": [{\"marker\": {\"colorbar\": {\"outlinewidth\": 0, \"ticks\": \"\"}}, \"type\": \"scattermapbox\"}], \"scatterpolar\": [{\"marker\": {\"colorbar\": {\"outlinewidth\": 0, \"ticks\": \"\"}}, \"type\": \"scatterpolar\"}], \"scatterpolargl\": [{\"marker\": {\"colorbar\": {\"outlinewidth\": 0, \"ticks\": \"\"}}, \"type\": \"scatterpolargl\"}], \"scatterternary\": [{\"marker\": {\"colorbar\": {\"outlinewidth\": 0, \"ticks\": \"\"}}, \"type\": \"scatterternary\"}], \"surface\": [{\"colorbar\": {\"outlinewidth\": 0, \"ticks\": \"\"}, \"colorscale\": [[0.0, \"#0d0887\"], [0.1111111111111111, \"#46039f\"], [0.2222222222222222, \"#7201a8\"], [0.3333333333333333, \"#9c179e\"], [0.4444444444444444, \"#bd3786\"], [0.5555555555555556, \"#d8576b\"], [0.6666666666666666, \"#ed7953\"], [0.7777777777777778, \"#fb9f3a\"], [0.8888888888888888, \"#fdca26\"], [1.0, \"#f0f921\"]], \"type\": \"surface\"}], \"table\": [{\"cells\": {\"fill\": {\"color\": \"#EBF0F8\"}, \"line\": {\"color\": \"white\"}}, \"header\": {\"fill\": {\"color\": \"#C8D4E3\"}, \"line\": {\"color\": \"white\"}}, \"type\": \"table\"}]}, \"layout\": {\"annotationdefaults\": {\"arrowcolor\": \"#2a3f5f\", \"arrowhead\": 0, \"arrowwidth\": 1}, \"autotypenumbers\": \"strict\", \"coloraxis\": {\"colorbar\": {\"outlinewidth\": 0, \"ticks\": \"\"}}, \"colorscale\": {\"diverging\": [[0, \"#8e0152\"], [0.1, \"#c51b7d\"], [0.2, \"#de77ae\"], [0.3, \"#f1b6da\"], [0.4, \"#fde0ef\"], [0.5, \"#f7f7f7\"], [0.6, \"#e6f5d0\"], [0.7, \"#b8e186\"], [0.8, \"#7fbc41\"], [0.9, \"#4d9221\"], [1, \"#276419\"]], \"sequential\": [[0.0, \"#0d0887\"], [0.1111111111111111, \"#46039f\"], [0.2222222222222222, \"#7201a8\"], [0.3333333333333333, \"#9c179e\"], [0.4444444444444444, \"#bd3786\"], [0.5555555555555556, \"#d8576b\"], [0.6666666666666666, \"#ed7953\"], [0.7777777777777778, \"#fb9f3a\"], [0.8888888888888888, \"#fdca26\"], [1.0, \"#f0f921\"]], \"sequentialminus\": [[0.0, \"#0d0887\"], [0.1111111111111111, \"#46039f\"], [0.2222222222222222, \"#7201a8\"], [0.3333333333333333, \"#9c179e\"], [0.4444444444444444, \"#bd3786\"], [0.5555555555555556, \"#d8576b\"], [0.6666666666666666, \"#ed7953\"], [0.7777777777777778, \"#fb9f3a\"], [0.8888888888888888, \"#fdca26\"], [1.0, \"#f0f921\"]]}, \"colorway\": [\"#636efa\", \"#EF553B\", \"#00cc96\", \"#ab63fa\", \"#FFA15A\", \"#19d3f3\", \"#FF6692\", \"#B6E880\", \"#FF97FF\", \"#FECB52\"], \"font\": {\"color\": \"#2a3f5f\"}, \"geo\": {\"bgcolor\": \"white\", \"lakecolor\": \"white\", \"landcolor\": \"#E5ECF6\", \"showlakes\": true, \"showland\": true, \"subunitcolor\": \"white\"}, \"hoverlabel\": {\"align\": \"left\"}, \"hovermode\": \"closest\", \"mapbox\": {\"style\": \"light\"}, \"paper_bgcolor\": \"white\", \"plot_bgcolor\": \"#E5ECF6\", \"polar\": {\"angularaxis\": {\"gridcolor\": \"white\", \"linecolor\": \"white\", \"ticks\": \"\"}, \"bgcolor\": \"#E5ECF6\", \"radialaxis\": {\"gridcolor\": \"white\", \"linecolor\": \"white\", \"ticks\": \"\"}}, \"scene\": {\"xaxis\": {\"backgroundcolor\": \"#E5ECF6\", \"gridcolor\": \"white\", \"gridwidth\": 2, \"linecolor\": \"white\", \"showbackground\": true, \"ticks\": \"\", \"zerolinecolor\": \"white\"}, \"yaxis\": {\"backgroundcolor\": \"#E5ECF6\", \"gridcolor\": \"white\", \"gridwidth\": 2, \"linecolor\": \"white\", \"showbackground\": true, \"ticks\": \"\", \"zerolinecolor\": \"white\"}, \"zaxis\": {\"backgroundcolor\": \"#E5ECF6\", \"gridcolor\": \"white\", \"gridwidth\": 2, \"linecolor\": \"white\", \"showbackground\": true, \"ticks\": \"\", \"zerolinecolor\": \"white\"}}, \"shapedefaults\": {\"line\": {\"color\": \"#2a3f5f\"}}, \"ternary\": {\"aaxis\": {\"gridcolor\": \"white\", \"linecolor\": \"white\", \"ticks\": \"\"}, \"baxis\": {\"gridcolor\": \"white\", \"linecolor\": \"white\", \"ticks\": \"\"}, \"bgcolor\": \"#E5ECF6\", \"caxis\": {\"gridcolor\": \"white\", \"linecolor\": \"white\", \"ticks\": \"\"}}, \"title\": {\"x\": 0.05}, \"xaxis\": {\"automargin\": true, \"gridcolor\": \"white\", \"linecolor\": \"white\", \"ticks\": \"\", \"title\": {\"standoff\": 15}, \"zerolinecolor\": \"white\", \"zerolinewidth\": 2}, \"yaxis\": {\"automargin\": true, \"gridcolor\": \"white\", \"linecolor\": \"white\", \"ticks\": \"\", \"title\": {\"standoff\": 15}, \"zerolinecolor\": \"white\", \"zerolinewidth\": 2}}}, \"xaxis\": {\"anchor\": \"y\", \"domain\": [0.0, 1.0], \"title\": {\"text\": \"YPG\"}}, \"yaxis\": {\"anchor\": \"x\", \"domain\": [0.0, 1.0], \"title\": {\"text\": \"PPG\"}}},                        {\"responsive\": true}                    ).then(function(){\n",
       "                            \n",
       "var gd = document.getElementById('611698f3-256b-4a09-beac-58d3e66b911d');\n",
       "var x = new MutationObserver(function (mutations, observer) {{\n",
       "        var display = window.getComputedStyle(gd).display;\n",
       "        if (!display || display === 'none') {{\n",
       "            console.log([gd, 'removed!']);\n",
       "            Plotly.purge(gd);\n",
       "            observer.disconnect();\n",
       "        }}\n",
       "}});\n",
       "\n",
       "// Listen for the removal of the full notebook cells\n",
       "var notebookContainer = gd.closest('#notebook-container');\n",
       "if (notebookContainer) {{\n",
       "    x.observe(notebookContainer, {childList: true});\n",
       "}}\n",
       "\n",
       "// Listen for the clearing of the current output cell\n",
       "var outputEl = gd.closest('.output');\n",
       "if (outputEl) {{\n",
       "    x.observe(outputEl, {childList: true});\n",
       "}}\n",
       "\n",
       "                        })                };                });            </script>        </div>"
      ]
     },
     "metadata": {},
     "output_type": "display_data"
    }
   ],
   "source": [
    "# Plotting PPG vs YPG (Offensive)\n",
    "\n",
    "px.scatter(df, x='YPG', y='PPG', color='Season',  hover_data=['Tm', 'Season'])"
   ]
  },
  {
   "cell_type": "code",
   "execution_count": 60,
   "metadata": {},
   "outputs": [
    {
     "data": {
      "application/vnd.plotly.v1+json": {
       "config": {
        "plotlyServerURL": "https://plot.ly"
       },
       "data": [
        {
         "customdata": [
          [
           "Miami Dolphins",
           2021
          ],
          [
           "New York Jets",
           2021
          ],
          [
           "Cleveland Browns",
           2021
          ],
          [
           "Baltimore Ravens",
           2021
          ],
          [
           "Indianapolis Colts",
           2021
          ],
          [
           "Houston Texans",
           2021
          ],
          [
           "Jacksonville Jaguars",
           2021
          ],
          [
           "Los Angeles Chargers",
           2021
          ],
          [
           "Denver Broncos",
           2021
          ],
          [
           "Washington Football Team",
           2021
          ],
          [
           "New York Giants",
           2021
          ],
          [
           "Minnesota Vikings",
           2021
          ],
          [
           "Chicago Bears",
           2021
          ],
          [
           "Detroit Lions",
           2021
          ],
          [
           "New Orleans Saints",
           2021
          ],
          [
           "Atlanta Falcons",
           2021
          ],
          [
           "Carolina Panthers",
           2021
          ],
          [
           "Seattle Seahawks",
           2021
          ],
          [
           "Miami Dolphins",
           2020
          ],
          [
           "New England Patriots",
           2020
          ],
          [
           "New York Jets",
           2020
          ],
          [
           "Cincinnati Bengals",
           2020
          ],
          [
           "Houston Texans",
           2020
          ],
          [
           "Jacksonville Jaguars",
           2020
          ],
          [
           "Las Vegas Raiders",
           2020
          ],
          [
           "Los Angeles Chargers",
           2020
          ],
          [
           "Denver Broncos",
           2020
          ],
          [
           "New York Giants",
           2020
          ],
          [
           "Dallas Cowboys",
           2020
          ],
          [
           "Philadelphia Eagles",
           2020
          ],
          [
           "Minnesota Vikings",
           2020
          ],
          [
           "Detroit Lions",
           2020
          ],
          [
           "Carolina Panthers",
           2020
          ],
          [
           "Atlanta Falcons",
           2020
          ],
          [
           "Arizona Cardinals",
           2020
          ],
          [
           "San Francisco 49ers",
           2020
          ],
          [
           "New York Jets",
           2019
          ],
          [
           "Miami Dolphins",
           2019
          ],
          [
           "Pittsburgh Steelers",
           2019
          ],
          [
           "Cleveland Browns",
           2019
          ],
          [
           "Cincinnati Bengals",
           2019
          ],
          [
           "Indianapolis Colts",
           2019
          ],
          [
           "Jacksonville Jaguars",
           2019
          ],
          [
           "Denver Broncos",
           2019
          ],
          [
           "Los Angeles Chargers",
           2019
          ],
          [
           "Dallas Cowboys",
           2019
          ],
          [
           "New York Giants",
           2019
          ],
          [
           "Chicago Bears",
           2019
          ],
          [
           "Detroit Lions",
           2019
          ],
          [
           "Atlanta Falcons",
           2019
          ],
          [
           "Tampa Bay Buccaneers",
           2019
          ],
          [
           "Carolina Panthers",
           2019
          ],
          [
           "Los Angeles Rams",
           2019
          ],
          [
           "Arizona Cardinals",
           2019
          ],
          [
           "Miami Dolphins",
           2018
          ],
          [
           "Buffalo Bills",
           2018
          ],
          [
           "New York Jets",
           2018
          ],
          [
           "Pittsburgh Steelers",
           2018
          ],
          [
           "Cleveland Browns",
           2018
          ],
          [
           "Cincinnati Bengals",
           2018
          ],
          [
           "Tennessee Titans",
           2018
          ],
          [
           "Jacksonville Jaguars",
           2018
          ],
          [
           "Denver Broncos",
           2018
          ],
          [
           "New York Giants",
           2018
          ],
          [
           "Minnesota Vikings",
           2018
          ],
          [
           "Green Bay Packers",
           2018
          ],
          [
           "Detroit Lions",
           2018
          ],
          [
           "Atlanta Falcons",
           2018
          ],
          [
           "Carolina Panthers",
           2018
          ],
          [
           "Tampa Bay Buccaneers",
           2018
          ],
          [
           "San Francisco 49ers",
           2018
          ],
          [
           "Arizona Cardinals",
           2018
          ],
          [
           "Miami Dolphins",
           2017
          ],
          [
           "New York Jets",
           2017
          ],
          [
           "Baltimore Ravens",
           2017
          ],
          [
           "Cincinnati Bengals",
           2017
          ],
          [
           "Cleveland Browns",
           2017
          ],
          [
           "Indianapolis Colts",
           2017
          ],
          [
           "Houston Texans",
           2017
          ],
          [
           "Los Angeles Chargers",
           2017
          ],
          [
           "Denver Broncos",
           2017
          ],
          [
           "Dallas Cowboys",
           2017
          ],
          [
           "New York Giants",
           2017
          ],
          [
           "Detroit Lions",
           2017
          ],
          [
           "Green Bay Packers",
           2017
          ],
          [
           "Chicago Bears",
           2017
          ],
          [
           "Tampa Bay Buccaneers",
           2017
          ],
          [
           "Seattle Seahawks",
           2017
          ],
          [
           "Arizona Cardinals",
           2017
          ],
          [
           "San Francisco 49ers",
           2017
          ],
          [
           "Buffalo Bills",
           2016
          ],
          [
           "New York Jets",
           2016
          ],
          [
           "Baltimore Ravens",
           2016
          ],
          [
           "Cincinnati Bengals",
           2016
          ],
          [
           "Cleveland Browns",
           2016
          ],
          [
           "Tennessee Titans",
           2016
          ],
          [
           "Indianapolis Colts",
           2016
          ],
          [
           "Jacksonville Jaguars",
           2016
          ],
          [
           "Denver Broncos",
           2016
          ],
          [
           "Philadelphia Eagles",
           2016
          ],
          [
           "Minnesota Vikings",
           2016
          ],
          [
           "Chicago Bears",
           2016
          ],
          [
           "Tampa Bay Buccaneers",
           2016
          ],
          [
           "New Orleans Saints",
           2016
          ],
          [
           "Carolina Panthers",
           2016
          ],
          [
           "Arizona Cardinals",
           2016
          ],
          [
           "Los Angeles Rams",
           2016
          ],
          [
           "San Francisco 49ers",
           2016
          ],
          [
           "New York Jets",
           2015
          ],
          [
           "Buffalo Bills",
           2015
          ],
          [
           "Miami Dolphins",
           2015
          ],
          [
           "Baltimore Ravens",
           2015
          ],
          [
           "Cleveland Browns",
           2015
          ],
          [
           "Indianapolis Colts",
           2015
          ],
          [
           "Jacksonville Jaguars",
           2015
          ],
          [
           "Tennessee Titans",
           2015
          ],
          [
           "Philadelphia Eagles",
           2015
          ],
          [
           "New York Giants",
           2015
          ],
          [
           "Dallas Cowboys",
           2015
          ],
          [
           "Detroit Lions",
           2015
          ],
          [
           "Chicago Bears",
           2015
          ],
          [
           "Atlanta Falcons",
           2015
          ],
          [
           "New Orleans Saints",
           2015
          ],
          [
           "Tampa Bay Buccaneers",
           2015
          ],
          [
           "San Francisco 49ers",
           2015
          ],
          [
           "Buffalo Bills",
           2014
          ],
          [
           "Miami Dolphins",
           2014
          ],
          [
           "New York Jets",
           2014
          ],
          [
           "Cleveland Browns",
           2014
          ],
          [
           "Houston Texans",
           2014
          ],
          [
           "Jacksonville Jaguars",
           2014
          ],
          [
           "Tennessee Titans",
           2014
          ],
          [
           "Kansas City Chiefs",
           2014
          ],
          [
           "Philadelphia Eagles",
           2014
          ],
          [
           "New York Giants",
           2014
          ],
          [
           "Minnesota Vikings",
           2014
          ],
          [
           "Chicago Bears",
           2014
          ],
          [
           "New Orleans Saints",
           2014
          ],
          [
           "Atlanta Falcons",
           2014
          ],
          [
           "Tampa Bay Buccaneers",
           2014
          ],
          [
           "San Francisco 49ers",
           2014
          ],
          [
           "New York Jets",
           2013
          ],
          [
           "Miami Dolphins",
           2013
          ],
          [
           "Buffalo Bills",
           2013
          ],
          [
           "Pittsburgh Steelers",
           2013
          ],
          [
           "Baltimore Ravens",
           2013
          ],
          [
           "Cleveland Browns",
           2013
          ],
          [
           "Tennessee Titans",
           2013
          ],
          [
           "Jacksonville Jaguars",
           2013
          ],
          [
           "Houston Texans",
           2013
          ],
          [
           "Dallas Cowboys",
           2013
          ],
          [
           "New York Giants",
           2013
          ],
          [
           "Chicago Bears",
           2013
          ],
          [
           "Detroit Lions",
           2013
          ],
          [
           "Minnesota Vikings",
           2013
          ],
          [
           "Atlanta Falcons",
           2013
          ],
          [
           "Tampa Bay Buccaneers",
           2013
          ],
          [
           "Arizona Cardinals",
           2013
          ],
          [
           "Miami Dolphins",
           2012
          ],
          [
           "New York Jets",
           2012
          ],
          [
           "Buffalo Bills",
           2012
          ],
          [
           "Pittsburgh Steelers",
           2012
          ],
          [
           "Cleveland Browns",
           2012
          ],
          [
           "Tennessee Titans",
           2012
          ],
          [
           "Jacksonville Jaguars",
           2012
          ],
          [
           "Kansas City Chiefs",
           2012
          ],
          [
           "New York Giants",
           2012
          ],
          [
           "Dallas Cowboys",
           2012
          ],
          [
           "Philadelphia Eagles",
           2012
          ],
          [
           "Chicago Bears",
           2012
          ],
          [
           "Detroit Lions",
           2012
          ],
          [
           "Carolina Panthers",
           2012
          ],
          [
           "New Orleans Saints",
           2012
          ],
          [
           "Tampa Bay Buccaneers",
           2012
          ],
          [
           "Arizona Cardinals",
           2012
          ],
          [
           "New York Jets",
           2011
          ],
          [
           "Miami Dolphins",
           2011
          ],
          [
           "Buffalo Bills",
           2011
          ],
          [
           "Cleveland Browns",
           2011
          ],
          [
           "Tennessee Titans",
           2011
          ],
          [
           "Jacksonville Jaguars",
           2011
          ],
          [
           "Indianapolis Colts",
           2011
          ],
          [
           "Kansas City Chiefs",
           2011
          ],
          [
           "Philadelphia Eagles",
           2011
          ],
          [
           "Dallas Cowboys",
           2011
          ],
          [
           "Chicago Bears",
           2011
          ],
          [
           "Minnesota Vikings",
           2011
          ],
          [
           "Carolina Panthers",
           2011
          ],
          [
           "Tampa Bay Buccaneers",
           2011
          ],
          [
           "Arizona Cardinals",
           2011
          ],
          [
           "Seattle Seahawks",
           2011
          ],
          [
           "Miami Dolphins",
           2010
          ],
          [
           "Buffalo Bills",
           2010
          ],
          [
           "Cleveland Browns",
           2010
          ],
          [
           "Cincinnati Bengals",
           2010
          ],
          [
           "Jacksonville Jaguars",
           2010
          ],
          [
           "Houston Texans",
           2010
          ],
          [
           "Tennessee Titans",
           2010
          ],
          [
           "Denver Broncos",
           2010
          ],
          [
           "New York Giants",
           2010
          ],
          [
           "Dallas Cowboys",
           2010
          ],
          [
           "Detroit Lions",
           2010
          ],
          [
           "Minnesota Vikings",
           2010
          ],
          [
           "Tampa Bay Buccaneers",
           2010
          ],
          [
           "Carolina Panthers",
           2010
          ],
          [
           "San Francisco 49ers",
           2010
          ],
          [
           "Arizona Cardinals",
           2010
          ],
          [
           "Miami Dolphins",
           2009
          ],
          [
           "Buffalo Bills",
           2009
          ],
          [
           "Pittsburgh Steelers",
           2009
          ],
          [
           "Cleveland Browns",
           2009
          ],
          [
           "Houston Texans",
           2009
          ],
          [
           "Tennessee Titans",
           2009
          ],
          [
           "Jacksonville Jaguars",
           2009
          ],
          [
           "Denver Broncos",
           2009
          ],
          [
           "Kansas City Chiefs",
           2009
          ],
          [
           "New York Giants",
           2009
          ],
          [
           "Chicago Bears",
           2009
          ],
          [
           "Detroit Lions",
           2009
          ],
          [
           "Atlanta Falcons",
           2009
          ],
          [
           "Carolina Panthers",
           2009
          ],
          [
           "Tampa Bay Buccaneers",
           2009
          ],
          [
           "San Francisco 49ers",
           2009
          ],
          [
           "Seattle Seahawks",
           2009
          ],
          [
           "New England Patriots",
           2008
          ],
          [
           "New York Jets",
           2008
          ],
          [
           "Buffalo Bills",
           2008
          ],
          [
           "Cincinnati Bengals",
           2008
          ],
          [
           "Cleveland Browns",
           2008
          ],
          [
           "Houston Texans",
           2008
          ],
          [
           "Jacksonville Jaguars",
           2008
          ],
          [
           "Denver Broncos",
           2008
          ],
          [
           "Kansas City Chiefs",
           2008
          ],
          [
           "Dallas Cowboys",
           2008
          ],
          [
           "Chicago Bears",
           2008
          ],
          [
           "Green Bay Packers",
           2008
          ],
          [
           "Detroit Lions",
           2008
          ],
          [
           "Tampa Bay Buccaneers",
           2008
          ],
          [
           "New Orleans Saints",
           2008
          ],
          [
           "San Francisco 49ers",
           2008
          ],
          [
           "Seattle Seahawks",
           2008
          ],
          [
           "Buffalo Bills",
           2007
          ],
          [
           "New York Jets",
           2007
          ],
          [
           "Miami Dolphins",
           2007
          ],
          [
           "Cleveland Browns",
           2007
          ],
          [
           "Cincinnati Bengals",
           2007
          ],
          [
           "Baltimore Ravens",
           2007
          ],
          [
           "Houston Texans",
           2007
          ],
          [
           "Denver Broncos",
           2007
          ],
          [
           "Kansas City Chiefs",
           2007
          ],
          [
           "Philadelphia Eagles",
           2007
          ],
          [
           "Minnesota Vikings",
           2007
          ],
          [
           "Detroit Lions",
           2007
          ],
          [
           "Chicago Bears",
           2007
          ],
          [
           "Carolina Panthers",
           2007
          ],
          [
           "New Orleans Saints",
           2007
          ],
          [
           "Atlanta Falcons",
           2007
          ],
          [
           "Arizona Cardinals",
           2007
          ],
          [
           "San Francisco 49ers",
           2007
          ],
          [
           "Buffalo Bills",
           2006
          ],
          [
           "Miami Dolphins",
           2006
          ],
          [
           "Cincinnati Bengals",
           2006
          ],
          [
           "Pittsburgh Steelers",
           2006
          ],
          [
           "Cleveland Browns",
           2006
          ],
          [
           "Tennessee Titans",
           2006
          ],
          [
           "Jacksonville Jaguars",
           2006
          ],
          [
           "Houston Texans",
           2006
          ],
          [
           "Denver Broncos",
           2006
          ],
          [
           "Green Bay Packers",
           2006
          ],
          [
           "Minnesota Vikings",
           2006
          ],
          [
           "Detroit Lions",
           2006
          ],
          [
           "Carolina Panthers",
           2006
          ],
          [
           "Atlanta Falcons",
           2006
          ],
          [
           "Tampa Bay Buccaneers",
           2006
          ],
          [
           "San Francisco 49ers",
           2006
          ],
          [
           "Arizona Cardinals",
           2006
          ],
          [
           "Miami Dolphins",
           2005
          ],
          [
           "Buffalo Bills",
           2005
          ],
          [
           "New York Jets",
           2005
          ],
          [
           "Baltimore Ravens",
           2005
          ],
          [
           "Cleveland Browns",
           2005
          ],
          [
           "Tennessee Titans",
           2005
          ],
          [
           "Houston Texans",
           2005
          ],
          [
           "Kansas City Chiefs",
           2005
          ],
          [
           "Dallas Cowboys",
           2005
          ],
          [
           "Philadelphia Eagles",
           2005
          ],
          [
           "Minnesota Vikings",
           2005
          ],
          [
           "Detroit Lions",
           2005
          ],
          [
           "Green Bay Packers",
           2005
          ],
          [
           "Atlanta Falcons",
           2005
          ],
          [
           "New Orleans Saints",
           2005
          ],
          [
           "Arizona Cardinals",
           2005
          ],
          [
           "San Francisco 49ers",
           2005
          ],
          [
           "Buffalo Bills",
           2004
          ],
          [
           "Miami Dolphins",
           2004
          ],
          [
           "Baltimore Ravens",
           2004
          ],
          [
           "Cincinnati Bengals",
           2004
          ],
          [
           "Cleveland Browns",
           2004
          ],
          [
           "Jacksonville Jaguars",
           2004
          ],
          [
           "Houston Texans",
           2004
          ],
          [
           "Tennessee Titans",
           2004
          ],
          [
           "Kansas City Chiefs",
           2004
          ],
          [
           "New York Giants",
           2004
          ],
          [
           "Dallas Cowboys",
           2004
          ],
          [
           "Detroit Lions",
           2004
          ],
          [
           "Chicago Bears",
           2004
          ],
          [
           "New Orleans Saints",
           2004
          ],
          [
           "Carolina Panthers",
           2004
          ],
          [
           "Tampa Bay Buccaneers",
           2004
          ],
          [
           "Arizona Cardinals",
           2004
          ],
          [
           "San Francisco 49ers",
           2004
          ],
          [
           "Miami Dolphins",
           2003
          ],
          [
           "Buffalo Bills",
           2003
          ],
          [
           "New York Jets",
           2003
          ],
          [
           "Cincinnati Bengals",
           2003
          ],
          [
           "Pittsburgh Steelers",
           2003
          ],
          [
           "Cleveland Browns",
           2003
          ],
          [
           "Jacksonville Jaguars",
           2003
          ],
          [
           "Houston Texans",
           2003
          ],
          [
           "New York Giants",
           2003
          ],
          [
           "Minnesota Vikings",
           2003
          ],
          [
           "Chicago Bears",
           2003
          ],
          [
           "Detroit Lions",
           2003
          ],
          [
           "New Orleans Saints",
           2003
          ],
          [
           "Tampa Bay Buccaneers",
           2003
          ],
          [
           "Atlanta Falcons",
           2003
          ],
          [
           "San Francisco 49ers",
           2003
          ],
          [
           "Arizona Cardinals",
           2003
          ]
         ],
         "hovertemplate": "YPG_opp=%{x}<br>PPG_opp=%{y}<br>Tm=%{customdata[0]}<br>Season=%{marker.color}<extra></extra>",
         "legendgroup": "",
         "marker": {
          "color": [
           2021,
           2021,
           2021,
           2021,
           2021,
           2021,
           2021,
           2021,
           2021,
           2021,
           2021,
           2021,
           2021,
           2021,
           2021,
           2021,
           2021,
           2021,
           2020,
           2020,
           2020,
           2020,
           2020,
           2020,
           2020,
           2020,
           2020,
           2020,
           2020,
           2020,
           2020,
           2020,
           2020,
           2020,
           2020,
           2020,
           2019,
           2019,
           2019,
           2019,
           2019,
           2019,
           2019,
           2019,
           2019,
           2019,
           2019,
           2019,
           2019,
           2019,
           2019,
           2019,
           2019,
           2019,
           2018,
           2018,
           2018,
           2018,
           2018,
           2018,
           2018,
           2018,
           2018,
           2018,
           2018,
           2018,
           2018,
           2018,
           2018,
           2018,
           2018,
           2018,
           2017,
           2017,
           2017,
           2017,
           2017,
           2017,
           2017,
           2017,
           2017,
           2017,
           2017,
           2017,
           2017,
           2017,
           2017,
           2017,
           2017,
           2017,
           2016,
           2016,
           2016,
           2016,
           2016,
           2016,
           2016,
           2016,
           2016,
           2016,
           2016,
           2016,
           2016,
           2016,
           2016,
           2016,
           2016,
           2016,
           2015,
           2015,
           2015,
           2015,
           2015,
           2015,
           2015,
           2015,
           2015,
           2015,
           2015,
           2015,
           2015,
           2015,
           2015,
           2015,
           2015,
           2014,
           2014,
           2014,
           2014,
           2014,
           2014,
           2014,
           2014,
           2014,
           2014,
           2014,
           2014,
           2014,
           2014,
           2014,
           2014,
           2013,
           2013,
           2013,
           2013,
           2013,
           2013,
           2013,
           2013,
           2013,
           2013,
           2013,
           2013,
           2013,
           2013,
           2013,
           2013,
           2013,
           2012,
           2012,
           2012,
           2012,
           2012,
           2012,
           2012,
           2012,
           2012,
           2012,
           2012,
           2012,
           2012,
           2012,
           2012,
           2012,
           2012,
           2011,
           2011,
           2011,
           2011,
           2011,
           2011,
           2011,
           2011,
           2011,
           2011,
           2011,
           2011,
           2011,
           2011,
           2011,
           2011,
           2010,
           2010,
           2010,
           2010,
           2010,
           2010,
           2010,
           2010,
           2010,
           2010,
           2010,
           2010,
           2010,
           2010,
           2010,
           2010,
           2009,
           2009,
           2009,
           2009,
           2009,
           2009,
           2009,
           2009,
           2009,
           2009,
           2009,
           2009,
           2009,
           2009,
           2009,
           2009,
           2009,
           2008,
           2008,
           2008,
           2008,
           2008,
           2008,
           2008,
           2008,
           2008,
           2008,
           2008,
           2008,
           2008,
           2008,
           2008,
           2008,
           2008,
           2007,
           2007,
           2007,
           2007,
           2007,
           2007,
           2007,
           2007,
           2007,
           2007,
           2007,
           2007,
           2007,
           2007,
           2007,
           2007,
           2007,
           2007,
           2006,
           2006,
           2006,
           2006,
           2006,
           2006,
           2006,
           2006,
           2006,
           2006,
           2006,
           2006,
           2006,
           2006,
           2006,
           2006,
           2006,
           2005,
           2005,
           2005,
           2005,
           2005,
           2005,
           2005,
           2005,
           2005,
           2005,
           2005,
           2005,
           2005,
           2005,
           2005,
           2005,
           2005,
           2004,
           2004,
           2004,
           2004,
           2004,
           2004,
           2004,
           2004,
           2004,
           2004,
           2004,
           2004,
           2004,
           2004,
           2004,
           2004,
           2004,
           2004,
           2003,
           2003,
           2003,
           2003,
           2003,
           2003,
           2003,
           2003,
           2003,
           2003,
           2003,
           2003,
           2003,
           2003,
           2003,
           2003,
           2003
          ],
          "coloraxis": "coloraxis",
          "symbol": "circle"
         },
         "mode": "markers",
         "name": "",
         "orientation": "v",
         "showlegend": false,
         "type": "scatter",
         "x": [
          337.52941176470586,
          397.6470588235294,
          311.52941176470586,
          363.4117647058824,
          343.1764705882353,
          384.4117647058824,
          353.05882352941177,
          360.11764705882354,
          326.11764705882354,
          359.29411764705884,
          354.8235294117647,
          383.6470588235294,
          316.70588235294116,
          379.7647058823529,
          318.2352941176471,
          364.3529411764706,
          305.94117647058823,
          379.11764705882354,
          337.52941176470586,
          310.8235294117647,
          397.6470588235294,
          350.8235294117647,
          384.4117647058824,
          353.05882352941177,
          337.1764705882353,
          360.11764705882354,
          326.11764705882354,
          354.8235294117647,
          351,
          328.8235294117647,
          383.6470588235294,
          379.7647058823529,
          305.94117647058823,
          364.3529411764706,
          329.2352941176471,
          310,
          397.6470588235294,
          337.52941176470586,
          361.11764705882354,
          311.52941176470586,
          350.8235294117647,
          343.1764705882353,
          353.05882352941177,
          326.11764705882354,
          360.11764705882354,
          351,
          354.8235294117647,
          316.70588235294116,
          379.7647058823529,
          364.3529411764706,
          331.47058823529414,
          305.94117647058823,
          344.88235294117646,
          329.2352941176471,
          337.52941176470586,
          272.7647058823529,
          397.6470588235294,
          361.11764705882354,
          311.52941176470586,
          350.8235294117647,
          329.8235294117647,
          353.05882352941177,
          326.11764705882354,
          354.8235294117647,
          383.6470588235294,
          328.1764705882353,
          379.7647058823529,
          364.3529411764706,
          305.94117647058823,
          331.47058823529414,
          310,
          329.2352941176471,
          337.52941176470586,
          397.6470588235294,
          363.4117647058824,
          350.8235294117647,
          311.52941176470586,
          343.1764705882353,
          384.4117647058824,
          360.11764705882354,
          326.11764705882354,
          351,
          354.8235294117647,
          379.7647058823529,
          328.1764705882353,
          316.70588235294116,
          331.47058823529414,
          379.11764705882354,
          329.2352941176471,
          310,
          272.7647058823529,
          397.6470588235294,
          363.4117647058824,
          350.8235294117647,
          311.52941176470586,
          329.8235294117647,
          343.1764705882353,
          353.05882352941177,
          326.11764705882354,
          328.8235294117647,
          383.6470588235294,
          316.70588235294116,
          331.47058823529414,
          318.2352941176471,
          305.94117647058823,
          329.2352941176471,
          344.88235294117646,
          310,
          397.6470588235294,
          272.7647058823529,
          337.52941176470586,
          363.4117647058824,
          311.52941176470586,
          343.1764705882353,
          353.05882352941177,
          329.8235294117647,
          328.8235294117647,
          354.8235294117647,
          351,
          379.7647058823529,
          316.70588235294116,
          364.3529411764706,
          318.2352941176471,
          331.47058823529414,
          310,
          272.7647058823529,
          337.52941176470586,
          397.6470588235294,
          311.52941176470586,
          384.4117647058824,
          353.05882352941177,
          329.8235294117647,
          368.94117647058823,
          328.8235294117647,
          354.8235294117647,
          383.6470588235294,
          316.70588235294116,
          318.2352941176471,
          364.3529411764706,
          331.47058823529414,
          310,
          397.6470588235294,
          337.52941176470586,
          272.7647058823529,
          361.11764705882354,
          363.4117647058824,
          311.52941176470586,
          329.8235294117647,
          353.05882352941177,
          384.4117647058824,
          351,
          354.8235294117647,
          316.70588235294116,
          379.7647058823529,
          383.6470588235294,
          364.3529411764706,
          331.47058823529414,
          329.2352941176471,
          337.52941176470586,
          397.6470588235294,
          272.7647058823529,
          361.11764705882354,
          311.52941176470586,
          329.8235294117647,
          353.05882352941177,
          368.94117647058823,
          354.8235294117647,
          351,
          328.8235294117647,
          316.70588235294116,
          379.7647058823529,
          305.94117647058823,
          318.2352941176471,
          331.47058823529414,
          329.2352941176471,
          397.6470588235294,
          337.52941176470586,
          272.7647058823529,
          311.52941176470586,
          329.8235294117647,
          353.05882352941177,
          343.1764705882353,
          368.94117647058823,
          328.8235294117647,
          351,
          316.70588235294116,
          383.6470588235294,
          305.94117647058823,
          331.47058823529414,
          329.2352941176471,
          379.11764705882354,
          337.52941176470586,
          272.7647058823529,
          311.52941176470586,
          350.8235294117647,
          353.05882352941177,
          384.4117647058824,
          329.8235294117647,
          326.11764705882354,
          354.8235294117647,
          351,
          379.7647058823529,
          383.6470588235294,
          331.47058823529414,
          305.94117647058823,
          310,
          329.2352941176471,
          337.52941176470586,
          272.7647058823529,
          361.11764705882354,
          311.52941176470586,
          384.4117647058824,
          329.8235294117647,
          353.05882352941177,
          326.11764705882354,
          368.94117647058823,
          354.8235294117647,
          316.70588235294116,
          379.7647058823529,
          364.3529411764706,
          305.94117647058823,
          331.47058823529414,
          310,
          379.11764705882354,
          310.8235294117647,
          397.6470588235294,
          272.7647058823529,
          350.8235294117647,
          311.52941176470586,
          384.4117647058824,
          353.05882352941177,
          326.11764705882354,
          368.94117647058823,
          351,
          316.70588235294116,
          328.1764705882353,
          379.7647058823529,
          331.47058823529414,
          318.2352941176471,
          310,
          379.11764705882354,
          272.7647058823529,
          397.6470588235294,
          337.52941176470586,
          311.52941176470586,
          350.8235294117647,
          363.4117647058824,
          384.4117647058824,
          326.11764705882354,
          368.94117647058823,
          328.8235294117647,
          383.6470588235294,
          379.7647058823529,
          316.70588235294116,
          305.94117647058823,
          318.2352941176471,
          364.3529411764706,
          329.2352941176471,
          310,
          272.7647058823529,
          337.52941176470586,
          350.8235294117647,
          361.11764705882354,
          311.52941176470586,
          329.8235294117647,
          353.05882352941177,
          384.4117647058824,
          326.11764705882354,
          328.1764705882353,
          383.6470588235294,
          379.7647058823529,
          305.94117647058823,
          364.3529411764706,
          331.47058823529414,
          310,
          329.2352941176471,
          337.52941176470586,
          272.7647058823529,
          397.6470588235294,
          363.4117647058824,
          311.52941176470586,
          329.8235294117647,
          384.4117647058824,
          368.94117647058823,
          351,
          328.8235294117647,
          383.6470588235294,
          379.7647058823529,
          328.1764705882353,
          364.3529411764706,
          318.2352941176471,
          329.2352941176471,
          310,
          272.7647058823529,
          337.52941176470586,
          363.4117647058824,
          350.8235294117647,
          311.52941176470586,
          353.05882352941177,
          384.4117647058824,
          329.8235294117647,
          368.94117647058823,
          354.8235294117647,
          351,
          379.7647058823529,
          316.70588235294116,
          318.2352941176471,
          305.94117647058823,
          331.47058823529414,
          329.2352941176471,
          310,
          337.52941176470586,
          272.7647058823529,
          397.6470588235294,
          350.8235294117647,
          361.11764705882354,
          311.52941176470586,
          353.05882352941177,
          384.4117647058824,
          354.8235294117647,
          383.6470588235294,
          316.70588235294116,
          379.7647058823529,
          318.2352941176471,
          331.47058823529414,
          364.3529411764706,
          310,
          329.2352941176471
         ],
         "xaxis": "x",
         "y": [
          21.941176470588236,
          29.647058823529413,
          21.823529411764707,
          23.058823529411764,
          21.470588235294116,
          26.58823529411765,
          26.88235294117647,
          27,
          18.941176470588236,
          25.529411764705884,
          24.470588235294116,
          25.058823529411764,
          23.941176470588236,
          27.470588235294116,
          19.705882352941178,
          27,
          23.764705882352942,
          21.529411764705884,
          19.88235294117647,
          20.764705882352942,
          26.88235294117647,
          24.941176470588236,
          27.294117647058822,
          28.941176470588236,
          28.11764705882353,
          25.058823529411764,
          26.235294117647058,
          21,
          27.823529411764707,
          24.58823529411765,
          27.941176470588236,
          30.529411764705884,
          23.647058823529413,
          24.352941176470587,
          21.58823529411765,
          22.941176470588236,
          21.11764705882353,
          29.058823529411764,
          17.823529411764707,
          23.11764705882353,
          24.705882352941178,
          21.941176470588236,
          23.352941176470587,
          18.58823529411765,
          20.294117647058822,
          18.88235294117647,
          26.529411764705884,
          17.529411764705884,
          24.88235294117647,
          23.470588235294116,
          26.41176470588235,
          27.647058823529413,
          21.41176470588235,
          26,
          25.470588235294116,
          22,
          25.941176470588236,
          21.176470588235293,
          23.058823529411764,
          26.764705882352942,
          17.823529411764707,
          18.58823529411765,
          20.529411764705884,
          24.235294117647058,
          20.058823529411764,
          23.529411764705884,
          21.176470588235293,
          24.88235294117647,
          22.470588235294116,
          27.294117647058822,
          25.58823529411765,
          25,
          23.11764705882353,
          22.470588235294116,
          17.823529411764707,
          20.529411764705884,
          24.11764705882353,
          23.764705882352942,
          25.647058823529413,
          16,
          22.470588235294116,
          19.529411764705884,
          22.823529411764707,
          22.11764705882353,
          22.58823529411765,
          18.823529411764707,
          22.470588235294116,
          19.529411764705884,
          21.235294117647058,
          22.529411764705884,
          22.235294117647058,
          24.058823529411764,
          18.88235294117647,
          18.529411764705884,
          26.58823529411765,
          22.235294117647058,
          23.058823529411764,
          23.529411764705884,
          17.470588235294116,
          19.470588235294116,
          18.058823529411764,
          23.470588235294116,
          21.705882352941178,
          26.705882352941178,
          23.647058823529413,
          21.294117647058822,
          23.176470588235293,
          28.235294117647058,
          18.470588235294116,
          21.11764705882353,
          22.88235294117647,
          23.58823529411765,
          25.41176470588235,
          24,
          26.352941176470587,
          24.88235294117647,
          25.294117647058822,
          26,
          22,
          23.529411764705884,
          23.352941176470587,
          20.294117647058822,
          28,
          24.529411764705884,
          22.764705882352942,
          17,
          21.941176470588236,
          23.58823529411765,
          19.823529411764707,
          18.058823529411764,
          24.235294117647058,
          25.764705882352942,
          16.529411764705884,
          23.529411764705884,
          23.529411764705884,
          20.176470588235293,
          26,
          24.941176470588236,
          24.529411764705884,
          24.11764705882353,
          20,
          22.764705882352942,
          19.705882352941178,
          22.823529411764707,
          21.764705882352942,
          20.705882352941178,
          23.88235294117647,
          22.41176470588235,
          26.41176470588235,
          25.176470588235293,
          25.41176470588235,
          22.529411764705884,
          28.11764705882353,
          22.11764705882353,
          28.235294117647058,
          26.058823529411764,
          22.88235294117647,
          19.058823529411764,
          18.647058823529413,
          22.058823529411764,
          25.58823529411765,
          18.470588235294116,
          21.647058823529413,
          27.705882352941178,
          26.11764705882353,
          25,
          20.235294117647058,
          23.529411764705884,
          26.11764705882353,
          16.294117647058822,
          25.705882352941178,
          21.352941176470587,
          26.705882352941178,
          23.176470588235293,
          21,
          21.352941176470587,
          18.41176470588235,
          25.529411764705884,
          18.058823529411764,
          18.647058823529413,
          19.352941176470587,
          25.294117647058822,
          19.88235294117647,
          19.294117647058822,
          20.41176470588235,
          20.058823529411764,
          26.41176470588235,
          25.235294117647058,
          29.058823529411764,
          20.470588235294116,
          18.529411764705884,
          19.58823529411765,
          25,
          19.529411764705884,
          23.235294117647058,
          24.647058823529413,
          25.11764705882353,
          19.941176470588236,
          27.705882352941178,
          20.41176470588235,
          25.647058823529413,
          21.705882352941178,
          20.470588235294116,
          18.705882352941178,
          24,
          20.352941176470587,
          25.529411764705884,
          22.941176470588236,
          19.176470588235293,
          19.058823529411764,
          22.058823529411764,
          19.58823529411765,
          23.647058823529413,
          22.352941176470587,
          19.058823529411764,
          24.941176470588236,
          25.11764705882353,
          22.058823529411764,
          29.058823529411764,
          19.11764705882353,
          18.11764705882353,
          23.529411764705884,
          16.529411764705884,
          22.941176470588236,
          18.176470588235293,
          20.941176470588236,
          20.11764705882353,
          21.41176470588235,
          20.58823529411765,
          23.176470588235293,
          21.58823529411765,
          26.352941176470587,
          25.88235294117647,
          21.470588235294116,
          20.58823529411765,
          22.352941176470587,
          30.41176470588235,
          19,
          23.11764705882353,
          22.41176470588235,
          23.058823529411764,
          20.823529411764707,
          20.88235294117647,
          25.705882352941178,
          22.470588235294116,
          22.647058823529413,
          22.58823529411765,
          22.58823529411765,
          24.058823529411764,
          19.705882352941178,
          17.647058823529413,
          18.294117647058822,
          26.11764705882353,
          20.470588235294116,
          20.41176470588235,
          22.823529411764707,
          24.352941176470587,
          23.470588235294116,
          21.41176470588235,
          18.294117647058822,
          16.647058823529413,
          19.470588235294116,
          18.529411764705884,
          20.941176470588236,
          23.529411764705884,
          16.11764705882353,
          21.529411764705884,
          17.941176470588236,
          21.529411764705884,
          19.235294117647058,
          23.41176470588235,
          17.941176470588236,
          19.294117647058822,
          20.764705882352942,
          24.235294117647058,
          22.88235294117647,
          18.647058823529413,
          21.58823529411765,
          20.88235294117647,
          17.58823529411765,
          17.705882352941178,
          24.764705882352942,
          25.352941176470587,
          19.11764705882353,
          18.11764705882353,
          22.823529411764707,
          20.235294117647058,
          20.294117647058822,
          20.235294117647058,
          20.058823529411764,
          23.41176470588235,
          22.764705882352942,
          25.176470588235293,
          16.705882352941178,
          20.823529411764707,
          15.764705882352942,
          21.88235294117647,
          22.941176470588236,
          16.470588235294116,
          19.941176470588236,
          25.823529411764707,
          25.58823529411765,
          20.41176470588235,
          23.823529411764707,
          20.58823529411765,
          19.470588235294116,
          23.823529411764707,
          19.941176470588236,
          17.88235294117647,
          18.941176470588236,
          26.58823529411765,
          15.352941176470589,
          16.41176470588235,
          17.58823529411765,
          22.58823529411765,
          19.235294117647058,
          18.941176470588236,
          19.470588235294116,
          22.352941176470587,
          22.764705882352942,
          20.764705882352942,
          20.352941176470587,
          22.294117647058822,
          19.176470588235293,
          15.529411764705882,
          24.823529411764707,
          19.823529411764707,
          26.58823529411765
         ],
         "yaxis": "y"
        }
       ],
       "layout": {
        "coloraxis": {
         "colorbar": {
          "title": {
           "text": "Season"
          }
         },
         "colorscale": [
          [
           0,
           "#0d0887"
          ],
          [
           0.1111111111111111,
           "#46039f"
          ],
          [
           0.2222222222222222,
           "#7201a8"
          ],
          [
           0.3333333333333333,
           "#9c179e"
          ],
          [
           0.4444444444444444,
           "#bd3786"
          ],
          [
           0.5555555555555556,
           "#d8576b"
          ],
          [
           0.6666666666666666,
           "#ed7953"
          ],
          [
           0.7777777777777778,
           "#fb9f3a"
          ],
          [
           0.8888888888888888,
           "#fdca26"
          ],
          [
           1,
           "#f0f921"
          ]
         ]
        },
        "legend": {
         "tracegroupgap": 0
        },
        "margin": {
         "t": 60
        },
        "template": {
         "data": {
          "bar": [
           {
            "error_x": {
             "color": "#2a3f5f"
            },
            "error_y": {
             "color": "#2a3f5f"
            },
            "marker": {
             "line": {
              "color": "#E5ECF6",
              "width": 0.5
             }
            },
            "type": "bar"
           }
          ],
          "barpolar": [
           {
            "marker": {
             "line": {
              "color": "#E5ECF6",
              "width": 0.5
             }
            },
            "type": "barpolar"
           }
          ],
          "carpet": [
           {
            "aaxis": {
             "endlinecolor": "#2a3f5f",
             "gridcolor": "white",
             "linecolor": "white",
             "minorgridcolor": "white",
             "startlinecolor": "#2a3f5f"
            },
            "baxis": {
             "endlinecolor": "#2a3f5f",
             "gridcolor": "white",
             "linecolor": "white",
             "minorgridcolor": "white",
             "startlinecolor": "#2a3f5f"
            },
            "type": "carpet"
           }
          ],
          "choropleth": [
           {
            "colorbar": {
             "outlinewidth": 0,
             "ticks": ""
            },
            "type": "choropleth"
           }
          ],
          "contour": [
           {
            "colorbar": {
             "outlinewidth": 0,
             "ticks": ""
            },
            "colorscale": [
             [
              0,
              "#0d0887"
             ],
             [
              0.1111111111111111,
              "#46039f"
             ],
             [
              0.2222222222222222,
              "#7201a8"
             ],
             [
              0.3333333333333333,
              "#9c179e"
             ],
             [
              0.4444444444444444,
              "#bd3786"
             ],
             [
              0.5555555555555556,
              "#d8576b"
             ],
             [
              0.6666666666666666,
              "#ed7953"
             ],
             [
              0.7777777777777778,
              "#fb9f3a"
             ],
             [
              0.8888888888888888,
              "#fdca26"
             ],
             [
              1,
              "#f0f921"
             ]
            ],
            "type": "contour"
           }
          ],
          "contourcarpet": [
           {
            "colorbar": {
             "outlinewidth": 0,
             "ticks": ""
            },
            "type": "contourcarpet"
           }
          ],
          "heatmap": [
           {
            "colorbar": {
             "outlinewidth": 0,
             "ticks": ""
            },
            "colorscale": [
             [
              0,
              "#0d0887"
             ],
             [
              0.1111111111111111,
              "#46039f"
             ],
             [
              0.2222222222222222,
              "#7201a8"
             ],
             [
              0.3333333333333333,
              "#9c179e"
             ],
             [
              0.4444444444444444,
              "#bd3786"
             ],
             [
              0.5555555555555556,
              "#d8576b"
             ],
             [
              0.6666666666666666,
              "#ed7953"
             ],
             [
              0.7777777777777778,
              "#fb9f3a"
             ],
             [
              0.8888888888888888,
              "#fdca26"
             ],
             [
              1,
              "#f0f921"
             ]
            ],
            "type": "heatmap"
           }
          ],
          "heatmapgl": [
           {
            "colorbar": {
             "outlinewidth": 0,
             "ticks": ""
            },
            "colorscale": [
             [
              0,
              "#0d0887"
             ],
             [
              0.1111111111111111,
              "#46039f"
             ],
             [
              0.2222222222222222,
              "#7201a8"
             ],
             [
              0.3333333333333333,
              "#9c179e"
             ],
             [
              0.4444444444444444,
              "#bd3786"
             ],
             [
              0.5555555555555556,
              "#d8576b"
             ],
             [
              0.6666666666666666,
              "#ed7953"
             ],
             [
              0.7777777777777778,
              "#fb9f3a"
             ],
             [
              0.8888888888888888,
              "#fdca26"
             ],
             [
              1,
              "#f0f921"
             ]
            ],
            "type": "heatmapgl"
           }
          ],
          "histogram": [
           {
            "marker": {
             "colorbar": {
              "outlinewidth": 0,
              "ticks": ""
             }
            },
            "type": "histogram"
           }
          ],
          "histogram2d": [
           {
            "colorbar": {
             "outlinewidth": 0,
             "ticks": ""
            },
            "colorscale": [
             [
              0,
              "#0d0887"
             ],
             [
              0.1111111111111111,
              "#46039f"
             ],
             [
              0.2222222222222222,
              "#7201a8"
             ],
             [
              0.3333333333333333,
              "#9c179e"
             ],
             [
              0.4444444444444444,
              "#bd3786"
             ],
             [
              0.5555555555555556,
              "#d8576b"
             ],
             [
              0.6666666666666666,
              "#ed7953"
             ],
             [
              0.7777777777777778,
              "#fb9f3a"
             ],
             [
              0.8888888888888888,
              "#fdca26"
             ],
             [
              1,
              "#f0f921"
             ]
            ],
            "type": "histogram2d"
           }
          ],
          "histogram2dcontour": [
           {
            "colorbar": {
             "outlinewidth": 0,
             "ticks": ""
            },
            "colorscale": [
             [
              0,
              "#0d0887"
             ],
             [
              0.1111111111111111,
              "#46039f"
             ],
             [
              0.2222222222222222,
              "#7201a8"
             ],
             [
              0.3333333333333333,
              "#9c179e"
             ],
             [
              0.4444444444444444,
              "#bd3786"
             ],
             [
              0.5555555555555556,
              "#d8576b"
             ],
             [
              0.6666666666666666,
              "#ed7953"
             ],
             [
              0.7777777777777778,
              "#fb9f3a"
             ],
             [
              0.8888888888888888,
              "#fdca26"
             ],
             [
              1,
              "#f0f921"
             ]
            ],
            "type": "histogram2dcontour"
           }
          ],
          "mesh3d": [
           {
            "colorbar": {
             "outlinewidth": 0,
             "ticks": ""
            },
            "type": "mesh3d"
           }
          ],
          "parcoords": [
           {
            "line": {
             "colorbar": {
              "outlinewidth": 0,
              "ticks": ""
             }
            },
            "type": "parcoords"
           }
          ],
          "pie": [
           {
            "automargin": true,
            "type": "pie"
           }
          ],
          "scatter": [
           {
            "marker": {
             "colorbar": {
              "outlinewidth": 0,
              "ticks": ""
             }
            },
            "type": "scatter"
           }
          ],
          "scatter3d": [
           {
            "line": {
             "colorbar": {
              "outlinewidth": 0,
              "ticks": ""
             }
            },
            "marker": {
             "colorbar": {
              "outlinewidth": 0,
              "ticks": ""
             }
            },
            "type": "scatter3d"
           }
          ],
          "scattercarpet": [
           {
            "marker": {
             "colorbar": {
              "outlinewidth": 0,
              "ticks": ""
             }
            },
            "type": "scattercarpet"
           }
          ],
          "scattergeo": [
           {
            "marker": {
             "colorbar": {
              "outlinewidth": 0,
              "ticks": ""
             }
            },
            "type": "scattergeo"
           }
          ],
          "scattergl": [
           {
            "marker": {
             "colorbar": {
              "outlinewidth": 0,
              "ticks": ""
             }
            },
            "type": "scattergl"
           }
          ],
          "scattermapbox": [
           {
            "marker": {
             "colorbar": {
              "outlinewidth": 0,
              "ticks": ""
             }
            },
            "type": "scattermapbox"
           }
          ],
          "scatterpolar": [
           {
            "marker": {
             "colorbar": {
              "outlinewidth": 0,
              "ticks": ""
             }
            },
            "type": "scatterpolar"
           }
          ],
          "scatterpolargl": [
           {
            "marker": {
             "colorbar": {
              "outlinewidth": 0,
              "ticks": ""
             }
            },
            "type": "scatterpolargl"
           }
          ],
          "scatterternary": [
           {
            "marker": {
             "colorbar": {
              "outlinewidth": 0,
              "ticks": ""
             }
            },
            "type": "scatterternary"
           }
          ],
          "surface": [
           {
            "colorbar": {
             "outlinewidth": 0,
             "ticks": ""
            },
            "colorscale": [
             [
              0,
              "#0d0887"
             ],
             [
              0.1111111111111111,
              "#46039f"
             ],
             [
              0.2222222222222222,
              "#7201a8"
             ],
             [
              0.3333333333333333,
              "#9c179e"
             ],
             [
              0.4444444444444444,
              "#bd3786"
             ],
             [
              0.5555555555555556,
              "#d8576b"
             ],
             [
              0.6666666666666666,
              "#ed7953"
             ],
             [
              0.7777777777777778,
              "#fb9f3a"
             ],
             [
              0.8888888888888888,
              "#fdca26"
             ],
             [
              1,
              "#f0f921"
             ]
            ],
            "type": "surface"
           }
          ],
          "table": [
           {
            "cells": {
             "fill": {
              "color": "#EBF0F8"
             },
             "line": {
              "color": "white"
             }
            },
            "header": {
             "fill": {
              "color": "#C8D4E3"
             },
             "line": {
              "color": "white"
             }
            },
            "type": "table"
           }
          ]
         },
         "layout": {
          "annotationdefaults": {
           "arrowcolor": "#2a3f5f",
           "arrowhead": 0,
           "arrowwidth": 1
          },
          "autotypenumbers": "strict",
          "coloraxis": {
           "colorbar": {
            "outlinewidth": 0,
            "ticks": ""
           }
          },
          "colorscale": {
           "diverging": [
            [
             0,
             "#8e0152"
            ],
            [
             0.1,
             "#c51b7d"
            ],
            [
             0.2,
             "#de77ae"
            ],
            [
             0.3,
             "#f1b6da"
            ],
            [
             0.4,
             "#fde0ef"
            ],
            [
             0.5,
             "#f7f7f7"
            ],
            [
             0.6,
             "#e6f5d0"
            ],
            [
             0.7,
             "#b8e186"
            ],
            [
             0.8,
             "#7fbc41"
            ],
            [
             0.9,
             "#4d9221"
            ],
            [
             1,
             "#276419"
            ]
           ],
           "sequential": [
            [
             0,
             "#0d0887"
            ],
            [
             0.1111111111111111,
             "#46039f"
            ],
            [
             0.2222222222222222,
             "#7201a8"
            ],
            [
             0.3333333333333333,
             "#9c179e"
            ],
            [
             0.4444444444444444,
             "#bd3786"
            ],
            [
             0.5555555555555556,
             "#d8576b"
            ],
            [
             0.6666666666666666,
             "#ed7953"
            ],
            [
             0.7777777777777778,
             "#fb9f3a"
            ],
            [
             0.8888888888888888,
             "#fdca26"
            ],
            [
             1,
             "#f0f921"
            ]
           ],
           "sequentialminus": [
            [
             0,
             "#0d0887"
            ],
            [
             0.1111111111111111,
             "#46039f"
            ],
            [
             0.2222222222222222,
             "#7201a8"
            ],
            [
             0.3333333333333333,
             "#9c179e"
            ],
            [
             0.4444444444444444,
             "#bd3786"
            ],
            [
             0.5555555555555556,
             "#d8576b"
            ],
            [
             0.6666666666666666,
             "#ed7953"
            ],
            [
             0.7777777777777778,
             "#fb9f3a"
            ],
            [
             0.8888888888888888,
             "#fdca26"
            ],
            [
             1,
             "#f0f921"
            ]
           ]
          },
          "colorway": [
           "#636efa",
           "#EF553B",
           "#00cc96",
           "#ab63fa",
           "#FFA15A",
           "#19d3f3",
           "#FF6692",
           "#B6E880",
           "#FF97FF",
           "#FECB52"
          ],
          "font": {
           "color": "#2a3f5f"
          },
          "geo": {
           "bgcolor": "white",
           "lakecolor": "white",
           "landcolor": "#E5ECF6",
           "showlakes": true,
           "showland": true,
           "subunitcolor": "white"
          },
          "hoverlabel": {
           "align": "left"
          },
          "hovermode": "closest",
          "mapbox": {
           "style": "light"
          },
          "paper_bgcolor": "white",
          "plot_bgcolor": "#E5ECF6",
          "polar": {
           "angularaxis": {
            "gridcolor": "white",
            "linecolor": "white",
            "ticks": ""
           },
           "bgcolor": "#E5ECF6",
           "radialaxis": {
            "gridcolor": "white",
            "linecolor": "white",
            "ticks": ""
           }
          },
          "scene": {
           "xaxis": {
            "backgroundcolor": "#E5ECF6",
            "gridcolor": "white",
            "gridwidth": 2,
            "linecolor": "white",
            "showbackground": true,
            "ticks": "",
            "zerolinecolor": "white"
           },
           "yaxis": {
            "backgroundcolor": "#E5ECF6",
            "gridcolor": "white",
            "gridwidth": 2,
            "linecolor": "white",
            "showbackground": true,
            "ticks": "",
            "zerolinecolor": "white"
           },
           "zaxis": {
            "backgroundcolor": "#E5ECF6",
            "gridcolor": "white",
            "gridwidth": 2,
            "linecolor": "white",
            "showbackground": true,
            "ticks": "",
            "zerolinecolor": "white"
           }
          },
          "shapedefaults": {
           "line": {
            "color": "#2a3f5f"
           }
          },
          "ternary": {
           "aaxis": {
            "gridcolor": "white",
            "linecolor": "white",
            "ticks": ""
           },
           "baxis": {
            "gridcolor": "white",
            "linecolor": "white",
            "ticks": ""
           },
           "bgcolor": "#E5ECF6",
           "caxis": {
            "gridcolor": "white",
            "linecolor": "white",
            "ticks": ""
           }
          },
          "title": {
           "x": 0.05
          },
          "xaxis": {
           "automargin": true,
           "gridcolor": "white",
           "linecolor": "white",
           "ticks": "",
           "title": {
            "standoff": 15
           },
           "zerolinecolor": "white",
           "zerolinewidth": 2
          },
          "yaxis": {
           "automargin": true,
           "gridcolor": "white",
           "linecolor": "white",
           "ticks": "",
           "title": {
            "standoff": 15
           },
           "zerolinecolor": "white",
           "zerolinewidth": 2
          }
         }
        },
        "xaxis": {
         "anchor": "y",
         "domain": [
          0,
          1
         ],
         "title": {
          "text": "YPG_opp"
         }
        },
        "yaxis": {
         "anchor": "x",
         "domain": [
          0,
          1
         ],
         "title": {
          "text": "PPG_opp"
         }
        }
       }
      },
      "text/html": [
       "<div>                            <div id=\"3745899f-a2b3-49c2-8d03-33a1e1a24c37\" class=\"plotly-graph-div\" style=\"height:525px; width:100%;\"></div>            <script type=\"text/javascript\">                require([\"plotly\"], function(Plotly) {                    window.PLOTLYENV=window.PLOTLYENV || {};                                    if (document.getElementById(\"3745899f-a2b3-49c2-8d03-33a1e1a24c37\")) {                    Plotly.newPlot(                        \"3745899f-a2b3-49c2-8d03-33a1e1a24c37\",                        [{\"customdata\": [[\"Miami Dolphins\", 2021], [\"New York Jets\", 2021], [\"Cleveland Browns\", 2021], [\"Baltimore Ravens\", 2021], [\"Indianapolis Colts\", 2021], [\"Houston Texans\", 2021], [\"Jacksonville Jaguars\", 2021], [\"Los Angeles Chargers\", 2021], [\"Denver Broncos\", 2021], [\"Washington Football Team\", 2021], [\"New York Giants\", 2021], [\"Minnesota Vikings\", 2021], [\"Chicago Bears\", 2021], [\"Detroit Lions\", 2021], [\"New Orleans Saints\", 2021], [\"Atlanta Falcons\", 2021], [\"Carolina Panthers\", 2021], [\"Seattle Seahawks\", 2021], [\"Miami Dolphins\", 2020], [\"New England Patriots\", 2020], [\"New York Jets\", 2020], [\"Cincinnati Bengals\", 2020], [\"Houston Texans\", 2020], [\"Jacksonville Jaguars\", 2020], [\"Las Vegas Raiders\", 2020], [\"Los Angeles Chargers\", 2020], [\"Denver Broncos\", 2020], [\"New York Giants\", 2020], [\"Dallas Cowboys\", 2020], [\"Philadelphia Eagles\", 2020], [\"Minnesota Vikings\", 2020], [\"Detroit Lions\", 2020], [\"Carolina Panthers\", 2020], [\"Atlanta Falcons\", 2020], [\"Arizona Cardinals\", 2020], [\"San Francisco 49ers\", 2020], [\"New York Jets\", 2019], [\"Miami Dolphins\", 2019], [\"Pittsburgh Steelers\", 2019], [\"Cleveland Browns\", 2019], [\"Cincinnati Bengals\", 2019], [\"Indianapolis Colts\", 2019], [\"Jacksonville Jaguars\", 2019], [\"Denver Broncos\", 2019], [\"Los Angeles Chargers\", 2019], [\"Dallas Cowboys\", 2019], [\"New York Giants\", 2019], [\"Chicago Bears\", 2019], [\"Detroit Lions\", 2019], [\"Atlanta Falcons\", 2019], [\"Tampa Bay Buccaneers\", 2019], [\"Carolina Panthers\", 2019], [\"Los Angeles Rams\", 2019], [\"Arizona Cardinals\", 2019], [\"Miami Dolphins\", 2018], [\"Buffalo Bills\", 2018], [\"New York Jets\", 2018], [\"Pittsburgh Steelers\", 2018], [\"Cleveland Browns\", 2018], [\"Cincinnati Bengals\", 2018], [\"Tennessee Titans\", 2018], [\"Jacksonville Jaguars\", 2018], [\"Denver Broncos\", 2018], [\"New York Giants\", 2018], [\"Minnesota Vikings\", 2018], [\"Green Bay Packers\", 2018], [\"Detroit Lions\", 2018], [\"Atlanta Falcons\", 2018], [\"Carolina Panthers\", 2018], [\"Tampa Bay Buccaneers\", 2018], [\"San Francisco 49ers\", 2018], [\"Arizona Cardinals\", 2018], [\"Miami Dolphins\", 2017], [\"New York Jets\", 2017], [\"Baltimore Ravens\", 2017], [\"Cincinnati Bengals\", 2017], [\"Cleveland Browns\", 2017], [\"Indianapolis Colts\", 2017], [\"Houston Texans\", 2017], [\"Los Angeles Chargers\", 2017], [\"Denver Broncos\", 2017], [\"Dallas Cowboys\", 2017], [\"New York Giants\", 2017], [\"Detroit Lions\", 2017], [\"Green Bay Packers\", 2017], [\"Chicago Bears\", 2017], [\"Tampa Bay Buccaneers\", 2017], [\"Seattle Seahawks\", 2017], [\"Arizona Cardinals\", 2017], [\"San Francisco 49ers\", 2017], [\"Buffalo Bills\", 2016], [\"New York Jets\", 2016], [\"Baltimore Ravens\", 2016], [\"Cincinnati Bengals\", 2016], [\"Cleveland Browns\", 2016], [\"Tennessee Titans\", 2016], [\"Indianapolis Colts\", 2016], [\"Jacksonville Jaguars\", 2016], [\"Denver Broncos\", 2016], [\"Philadelphia Eagles\", 2016], [\"Minnesota Vikings\", 2016], [\"Chicago Bears\", 2016], [\"Tampa Bay Buccaneers\", 2016], [\"New Orleans Saints\", 2016], [\"Carolina Panthers\", 2016], [\"Arizona Cardinals\", 2016], [\"Los Angeles Rams\", 2016], [\"San Francisco 49ers\", 2016], [\"New York Jets\", 2015], [\"Buffalo Bills\", 2015], [\"Miami Dolphins\", 2015], [\"Baltimore Ravens\", 2015], [\"Cleveland Browns\", 2015], [\"Indianapolis Colts\", 2015], [\"Jacksonville Jaguars\", 2015], [\"Tennessee Titans\", 2015], [\"Philadelphia Eagles\", 2015], [\"New York Giants\", 2015], [\"Dallas Cowboys\", 2015], [\"Detroit Lions\", 2015], [\"Chicago Bears\", 2015], [\"Atlanta Falcons\", 2015], [\"New Orleans Saints\", 2015], [\"Tampa Bay Buccaneers\", 2015], [\"San Francisco 49ers\", 2015], [\"Buffalo Bills\", 2014], [\"Miami Dolphins\", 2014], [\"New York Jets\", 2014], [\"Cleveland Browns\", 2014], [\"Houston Texans\", 2014], [\"Jacksonville Jaguars\", 2014], [\"Tennessee Titans\", 2014], [\"Kansas City Chiefs\", 2014], [\"Philadelphia Eagles\", 2014], [\"New York Giants\", 2014], [\"Minnesota Vikings\", 2014], [\"Chicago Bears\", 2014], [\"New Orleans Saints\", 2014], [\"Atlanta Falcons\", 2014], [\"Tampa Bay Buccaneers\", 2014], [\"San Francisco 49ers\", 2014], [\"New York Jets\", 2013], [\"Miami Dolphins\", 2013], [\"Buffalo Bills\", 2013], [\"Pittsburgh Steelers\", 2013], [\"Baltimore Ravens\", 2013], [\"Cleveland Browns\", 2013], [\"Tennessee Titans\", 2013], [\"Jacksonville Jaguars\", 2013], [\"Houston Texans\", 2013], [\"Dallas Cowboys\", 2013], [\"New York Giants\", 2013], [\"Chicago Bears\", 2013], [\"Detroit Lions\", 2013], [\"Minnesota Vikings\", 2013], [\"Atlanta Falcons\", 2013], [\"Tampa Bay Buccaneers\", 2013], [\"Arizona Cardinals\", 2013], [\"Miami Dolphins\", 2012], [\"New York Jets\", 2012], [\"Buffalo Bills\", 2012], [\"Pittsburgh Steelers\", 2012], [\"Cleveland Browns\", 2012], [\"Tennessee Titans\", 2012], [\"Jacksonville Jaguars\", 2012], [\"Kansas City Chiefs\", 2012], [\"New York Giants\", 2012], [\"Dallas Cowboys\", 2012], [\"Philadelphia Eagles\", 2012], [\"Chicago Bears\", 2012], [\"Detroit Lions\", 2012], [\"Carolina Panthers\", 2012], [\"New Orleans Saints\", 2012], [\"Tampa Bay Buccaneers\", 2012], [\"Arizona Cardinals\", 2012], [\"New York Jets\", 2011], [\"Miami Dolphins\", 2011], [\"Buffalo Bills\", 2011], [\"Cleveland Browns\", 2011], [\"Tennessee Titans\", 2011], [\"Jacksonville Jaguars\", 2011], [\"Indianapolis Colts\", 2011], [\"Kansas City Chiefs\", 2011], [\"Philadelphia Eagles\", 2011], [\"Dallas Cowboys\", 2011], [\"Chicago Bears\", 2011], [\"Minnesota Vikings\", 2011], [\"Carolina Panthers\", 2011], [\"Tampa Bay Buccaneers\", 2011], [\"Arizona Cardinals\", 2011], [\"Seattle Seahawks\", 2011], [\"Miami Dolphins\", 2010], [\"Buffalo Bills\", 2010], [\"Cleveland Browns\", 2010], [\"Cincinnati Bengals\", 2010], [\"Jacksonville Jaguars\", 2010], [\"Houston Texans\", 2010], [\"Tennessee Titans\", 2010], [\"Denver Broncos\", 2010], [\"New York Giants\", 2010], [\"Dallas Cowboys\", 2010], [\"Detroit Lions\", 2010], [\"Minnesota Vikings\", 2010], [\"Tampa Bay Buccaneers\", 2010], [\"Carolina Panthers\", 2010], [\"San Francisco 49ers\", 2010], [\"Arizona Cardinals\", 2010], [\"Miami Dolphins\", 2009], [\"Buffalo Bills\", 2009], [\"Pittsburgh Steelers\", 2009], [\"Cleveland Browns\", 2009], [\"Houston Texans\", 2009], [\"Tennessee Titans\", 2009], [\"Jacksonville Jaguars\", 2009], [\"Denver Broncos\", 2009], [\"Kansas City Chiefs\", 2009], [\"New York Giants\", 2009], [\"Chicago Bears\", 2009], [\"Detroit Lions\", 2009], [\"Atlanta Falcons\", 2009], [\"Carolina Panthers\", 2009], [\"Tampa Bay Buccaneers\", 2009], [\"San Francisco 49ers\", 2009], [\"Seattle Seahawks\", 2009], [\"New England Patriots\", 2008], [\"New York Jets\", 2008], [\"Buffalo Bills\", 2008], [\"Cincinnati Bengals\", 2008], [\"Cleveland Browns\", 2008], [\"Houston Texans\", 2008], [\"Jacksonville Jaguars\", 2008], [\"Denver Broncos\", 2008], [\"Kansas City Chiefs\", 2008], [\"Dallas Cowboys\", 2008], [\"Chicago Bears\", 2008], [\"Green Bay Packers\", 2008], [\"Detroit Lions\", 2008], [\"Tampa Bay Buccaneers\", 2008], [\"New Orleans Saints\", 2008], [\"San Francisco 49ers\", 2008], [\"Seattle Seahawks\", 2008], [\"Buffalo Bills\", 2007], [\"New York Jets\", 2007], [\"Miami Dolphins\", 2007], [\"Cleveland Browns\", 2007], [\"Cincinnati Bengals\", 2007], [\"Baltimore Ravens\", 2007], [\"Houston Texans\", 2007], [\"Denver Broncos\", 2007], [\"Kansas City Chiefs\", 2007], [\"Philadelphia Eagles\", 2007], [\"Minnesota Vikings\", 2007], [\"Detroit Lions\", 2007], [\"Chicago Bears\", 2007], [\"Carolina Panthers\", 2007], [\"New Orleans Saints\", 2007], [\"Atlanta Falcons\", 2007], [\"Arizona Cardinals\", 2007], [\"San Francisco 49ers\", 2007], [\"Buffalo Bills\", 2006], [\"Miami Dolphins\", 2006], [\"Cincinnati Bengals\", 2006], [\"Pittsburgh Steelers\", 2006], [\"Cleveland Browns\", 2006], [\"Tennessee Titans\", 2006], [\"Jacksonville Jaguars\", 2006], [\"Houston Texans\", 2006], [\"Denver Broncos\", 2006], [\"Green Bay Packers\", 2006], [\"Minnesota Vikings\", 2006], [\"Detroit Lions\", 2006], [\"Carolina Panthers\", 2006], [\"Atlanta Falcons\", 2006], [\"Tampa Bay Buccaneers\", 2006], [\"San Francisco 49ers\", 2006], [\"Arizona Cardinals\", 2006], [\"Miami Dolphins\", 2005], [\"Buffalo Bills\", 2005], [\"New York Jets\", 2005], [\"Baltimore Ravens\", 2005], [\"Cleveland Browns\", 2005], [\"Tennessee Titans\", 2005], [\"Houston Texans\", 2005], [\"Kansas City Chiefs\", 2005], [\"Dallas Cowboys\", 2005], [\"Philadelphia Eagles\", 2005], [\"Minnesota Vikings\", 2005], [\"Detroit Lions\", 2005], [\"Green Bay Packers\", 2005], [\"Atlanta Falcons\", 2005], [\"New Orleans Saints\", 2005], [\"Arizona Cardinals\", 2005], [\"San Francisco 49ers\", 2005], [\"Buffalo Bills\", 2004], [\"Miami Dolphins\", 2004], [\"Baltimore Ravens\", 2004], [\"Cincinnati Bengals\", 2004], [\"Cleveland Browns\", 2004], [\"Jacksonville Jaguars\", 2004], [\"Houston Texans\", 2004], [\"Tennessee Titans\", 2004], [\"Kansas City Chiefs\", 2004], [\"New York Giants\", 2004], [\"Dallas Cowboys\", 2004], [\"Detroit Lions\", 2004], [\"Chicago Bears\", 2004], [\"New Orleans Saints\", 2004], [\"Carolina Panthers\", 2004], [\"Tampa Bay Buccaneers\", 2004], [\"Arizona Cardinals\", 2004], [\"San Francisco 49ers\", 2004], [\"Miami Dolphins\", 2003], [\"Buffalo Bills\", 2003], [\"New York Jets\", 2003], [\"Cincinnati Bengals\", 2003], [\"Pittsburgh Steelers\", 2003], [\"Cleveland Browns\", 2003], [\"Jacksonville Jaguars\", 2003], [\"Houston Texans\", 2003], [\"New York Giants\", 2003], [\"Minnesota Vikings\", 2003], [\"Chicago Bears\", 2003], [\"Detroit Lions\", 2003], [\"New Orleans Saints\", 2003], [\"Tampa Bay Buccaneers\", 2003], [\"Atlanta Falcons\", 2003], [\"San Francisco 49ers\", 2003], [\"Arizona Cardinals\", 2003]], \"hovertemplate\": \"YPG_opp=%{x}<br>PPG_opp=%{y}<br>Tm=%{customdata[0]}<br>Season=%{marker.color}<extra></extra>\", \"legendgroup\": \"\", \"marker\": {\"color\": [2021, 2021, 2021, 2021, 2021, 2021, 2021, 2021, 2021, 2021, 2021, 2021, 2021, 2021, 2021, 2021, 2021, 2021, 2020, 2020, 2020, 2020, 2020, 2020, 2020, 2020, 2020, 2020, 2020, 2020, 2020, 2020, 2020, 2020, 2020, 2020, 2019, 2019, 2019, 2019, 2019, 2019, 2019, 2019, 2019, 2019, 2019, 2019, 2019, 2019, 2019, 2019, 2019, 2019, 2018, 2018, 2018, 2018, 2018, 2018, 2018, 2018, 2018, 2018, 2018, 2018, 2018, 2018, 2018, 2018, 2018, 2018, 2017, 2017, 2017, 2017, 2017, 2017, 2017, 2017, 2017, 2017, 2017, 2017, 2017, 2017, 2017, 2017, 2017, 2017, 2016, 2016, 2016, 2016, 2016, 2016, 2016, 2016, 2016, 2016, 2016, 2016, 2016, 2016, 2016, 2016, 2016, 2016, 2015, 2015, 2015, 2015, 2015, 2015, 2015, 2015, 2015, 2015, 2015, 2015, 2015, 2015, 2015, 2015, 2015, 2014, 2014, 2014, 2014, 2014, 2014, 2014, 2014, 2014, 2014, 2014, 2014, 2014, 2014, 2014, 2014, 2013, 2013, 2013, 2013, 2013, 2013, 2013, 2013, 2013, 2013, 2013, 2013, 2013, 2013, 2013, 2013, 2013, 2012, 2012, 2012, 2012, 2012, 2012, 2012, 2012, 2012, 2012, 2012, 2012, 2012, 2012, 2012, 2012, 2012, 2011, 2011, 2011, 2011, 2011, 2011, 2011, 2011, 2011, 2011, 2011, 2011, 2011, 2011, 2011, 2011, 2010, 2010, 2010, 2010, 2010, 2010, 2010, 2010, 2010, 2010, 2010, 2010, 2010, 2010, 2010, 2010, 2009, 2009, 2009, 2009, 2009, 2009, 2009, 2009, 2009, 2009, 2009, 2009, 2009, 2009, 2009, 2009, 2009, 2008, 2008, 2008, 2008, 2008, 2008, 2008, 2008, 2008, 2008, 2008, 2008, 2008, 2008, 2008, 2008, 2008, 2007, 2007, 2007, 2007, 2007, 2007, 2007, 2007, 2007, 2007, 2007, 2007, 2007, 2007, 2007, 2007, 2007, 2007, 2006, 2006, 2006, 2006, 2006, 2006, 2006, 2006, 2006, 2006, 2006, 2006, 2006, 2006, 2006, 2006, 2006, 2005, 2005, 2005, 2005, 2005, 2005, 2005, 2005, 2005, 2005, 2005, 2005, 2005, 2005, 2005, 2005, 2005, 2004, 2004, 2004, 2004, 2004, 2004, 2004, 2004, 2004, 2004, 2004, 2004, 2004, 2004, 2004, 2004, 2004, 2004, 2003, 2003, 2003, 2003, 2003, 2003, 2003, 2003, 2003, 2003, 2003, 2003, 2003, 2003, 2003, 2003, 2003], \"coloraxis\": \"coloraxis\", \"symbol\": \"circle\"}, \"mode\": \"markers\", \"name\": \"\", \"orientation\": \"v\", \"showlegend\": false, \"type\": \"scatter\", \"x\": [337.52941176470586, 397.6470588235294, 311.52941176470586, 363.4117647058824, 343.1764705882353, 384.4117647058824, 353.05882352941177, 360.11764705882354, 326.11764705882354, 359.29411764705884, 354.8235294117647, 383.6470588235294, 316.70588235294116, 379.7647058823529, 318.2352941176471, 364.3529411764706, 305.94117647058823, 379.11764705882354, 337.52941176470586, 310.8235294117647, 397.6470588235294, 350.8235294117647, 384.4117647058824, 353.05882352941177, 337.1764705882353, 360.11764705882354, 326.11764705882354, 354.8235294117647, 351.0, 328.8235294117647, 383.6470588235294, 379.7647058823529, 305.94117647058823, 364.3529411764706, 329.2352941176471, 310.0, 397.6470588235294, 337.52941176470586, 361.11764705882354, 311.52941176470586, 350.8235294117647, 343.1764705882353, 353.05882352941177, 326.11764705882354, 360.11764705882354, 351.0, 354.8235294117647, 316.70588235294116, 379.7647058823529, 364.3529411764706, 331.47058823529414, 305.94117647058823, 344.88235294117646, 329.2352941176471, 337.52941176470586, 272.7647058823529, 397.6470588235294, 361.11764705882354, 311.52941176470586, 350.8235294117647, 329.8235294117647, 353.05882352941177, 326.11764705882354, 354.8235294117647, 383.6470588235294, 328.1764705882353, 379.7647058823529, 364.3529411764706, 305.94117647058823, 331.47058823529414, 310.0, 329.2352941176471, 337.52941176470586, 397.6470588235294, 363.4117647058824, 350.8235294117647, 311.52941176470586, 343.1764705882353, 384.4117647058824, 360.11764705882354, 326.11764705882354, 351.0, 354.8235294117647, 379.7647058823529, 328.1764705882353, 316.70588235294116, 331.47058823529414, 379.11764705882354, 329.2352941176471, 310.0, 272.7647058823529, 397.6470588235294, 363.4117647058824, 350.8235294117647, 311.52941176470586, 329.8235294117647, 343.1764705882353, 353.05882352941177, 326.11764705882354, 328.8235294117647, 383.6470588235294, 316.70588235294116, 331.47058823529414, 318.2352941176471, 305.94117647058823, 329.2352941176471, 344.88235294117646, 310.0, 397.6470588235294, 272.7647058823529, 337.52941176470586, 363.4117647058824, 311.52941176470586, 343.1764705882353, 353.05882352941177, 329.8235294117647, 328.8235294117647, 354.8235294117647, 351.0, 379.7647058823529, 316.70588235294116, 364.3529411764706, 318.2352941176471, 331.47058823529414, 310.0, 272.7647058823529, 337.52941176470586, 397.6470588235294, 311.52941176470586, 384.4117647058824, 353.05882352941177, 329.8235294117647, 368.94117647058823, 328.8235294117647, 354.8235294117647, 383.6470588235294, 316.70588235294116, 318.2352941176471, 364.3529411764706, 331.47058823529414, 310.0, 397.6470588235294, 337.52941176470586, 272.7647058823529, 361.11764705882354, 363.4117647058824, 311.52941176470586, 329.8235294117647, 353.05882352941177, 384.4117647058824, 351.0, 354.8235294117647, 316.70588235294116, 379.7647058823529, 383.6470588235294, 364.3529411764706, 331.47058823529414, 329.2352941176471, 337.52941176470586, 397.6470588235294, 272.7647058823529, 361.11764705882354, 311.52941176470586, 329.8235294117647, 353.05882352941177, 368.94117647058823, 354.8235294117647, 351.0, 328.8235294117647, 316.70588235294116, 379.7647058823529, 305.94117647058823, 318.2352941176471, 331.47058823529414, 329.2352941176471, 397.6470588235294, 337.52941176470586, 272.7647058823529, 311.52941176470586, 329.8235294117647, 353.05882352941177, 343.1764705882353, 368.94117647058823, 328.8235294117647, 351.0, 316.70588235294116, 383.6470588235294, 305.94117647058823, 331.47058823529414, 329.2352941176471, 379.11764705882354, 337.52941176470586, 272.7647058823529, 311.52941176470586, 350.8235294117647, 353.05882352941177, 384.4117647058824, 329.8235294117647, 326.11764705882354, 354.8235294117647, 351.0, 379.7647058823529, 383.6470588235294, 331.47058823529414, 305.94117647058823, 310.0, 329.2352941176471, 337.52941176470586, 272.7647058823529, 361.11764705882354, 311.52941176470586, 384.4117647058824, 329.8235294117647, 353.05882352941177, 326.11764705882354, 368.94117647058823, 354.8235294117647, 316.70588235294116, 379.7647058823529, 364.3529411764706, 305.94117647058823, 331.47058823529414, 310.0, 379.11764705882354, 310.8235294117647, 397.6470588235294, 272.7647058823529, 350.8235294117647, 311.52941176470586, 384.4117647058824, 353.05882352941177, 326.11764705882354, 368.94117647058823, 351.0, 316.70588235294116, 328.1764705882353, 379.7647058823529, 331.47058823529414, 318.2352941176471, 310.0, 379.11764705882354, 272.7647058823529, 397.6470588235294, 337.52941176470586, 311.52941176470586, 350.8235294117647, 363.4117647058824, 384.4117647058824, 326.11764705882354, 368.94117647058823, 328.8235294117647, 383.6470588235294, 379.7647058823529, 316.70588235294116, 305.94117647058823, 318.2352941176471, 364.3529411764706, 329.2352941176471, 310.0, 272.7647058823529, 337.52941176470586, 350.8235294117647, 361.11764705882354, 311.52941176470586, 329.8235294117647, 353.05882352941177, 384.4117647058824, 326.11764705882354, 328.1764705882353, 383.6470588235294, 379.7647058823529, 305.94117647058823, 364.3529411764706, 331.47058823529414, 310.0, 329.2352941176471, 337.52941176470586, 272.7647058823529, 397.6470588235294, 363.4117647058824, 311.52941176470586, 329.8235294117647, 384.4117647058824, 368.94117647058823, 351.0, 328.8235294117647, 383.6470588235294, 379.7647058823529, 328.1764705882353, 364.3529411764706, 318.2352941176471, 329.2352941176471, 310.0, 272.7647058823529, 337.52941176470586, 363.4117647058824, 350.8235294117647, 311.52941176470586, 353.05882352941177, 384.4117647058824, 329.8235294117647, 368.94117647058823, 354.8235294117647, 351.0, 379.7647058823529, 316.70588235294116, 318.2352941176471, 305.94117647058823, 331.47058823529414, 329.2352941176471, 310.0, 337.52941176470586, 272.7647058823529, 397.6470588235294, 350.8235294117647, 361.11764705882354, 311.52941176470586, 353.05882352941177, 384.4117647058824, 354.8235294117647, 383.6470588235294, 316.70588235294116, 379.7647058823529, 318.2352941176471, 331.47058823529414, 364.3529411764706, 310.0, 329.2352941176471], \"xaxis\": \"x\", \"y\": [21.941176470588236, 29.647058823529413, 21.823529411764707, 23.058823529411764, 21.470588235294116, 26.58823529411765, 26.88235294117647, 27.0, 18.941176470588236, 25.529411764705884, 24.470588235294116, 25.058823529411764, 23.941176470588236, 27.470588235294116, 19.705882352941178, 27.0, 23.764705882352942, 21.529411764705884, 19.88235294117647, 20.764705882352942, 26.88235294117647, 24.941176470588236, 27.294117647058822, 28.941176470588236, 28.11764705882353, 25.058823529411764, 26.235294117647058, 21.0, 27.823529411764707, 24.58823529411765, 27.941176470588236, 30.529411764705884, 23.647058823529413, 24.352941176470587, 21.58823529411765, 22.941176470588236, 21.11764705882353, 29.058823529411764, 17.823529411764707, 23.11764705882353, 24.705882352941178, 21.941176470588236, 23.352941176470587, 18.58823529411765, 20.294117647058822, 18.88235294117647, 26.529411764705884, 17.529411764705884, 24.88235294117647, 23.470588235294116, 26.41176470588235, 27.647058823529413, 21.41176470588235, 26.0, 25.470588235294116, 22.0, 25.941176470588236, 21.176470588235293, 23.058823529411764, 26.764705882352942, 17.823529411764707, 18.58823529411765, 20.529411764705884, 24.235294117647058, 20.058823529411764, 23.529411764705884, 21.176470588235293, 24.88235294117647, 22.470588235294116, 27.294117647058822, 25.58823529411765, 25.0, 23.11764705882353, 22.470588235294116, 17.823529411764707, 20.529411764705884, 24.11764705882353, 23.764705882352942, 25.647058823529413, 16.0, 22.470588235294116, 19.529411764705884, 22.823529411764707, 22.11764705882353, 22.58823529411765, 18.823529411764707, 22.470588235294116, 19.529411764705884, 21.235294117647058, 22.529411764705884, 22.235294117647058, 24.058823529411764, 18.88235294117647, 18.529411764705884, 26.58823529411765, 22.235294117647058, 23.058823529411764, 23.529411764705884, 17.470588235294116, 19.470588235294116, 18.058823529411764, 23.470588235294116, 21.705882352941178, 26.705882352941178, 23.647058823529413, 21.294117647058822, 23.176470588235293, 28.235294117647058, 18.470588235294116, 21.11764705882353, 22.88235294117647, 23.58823529411765, 25.41176470588235, 24.0, 26.352941176470587, 24.88235294117647, 25.294117647058822, 26.0, 22.0, 23.529411764705884, 23.352941176470587, 20.294117647058822, 28.0, 24.529411764705884, 22.764705882352942, 17.0, 21.941176470588236, 23.58823529411765, 19.823529411764707, 18.058823529411764, 24.235294117647058, 25.764705882352942, 16.529411764705884, 23.529411764705884, 23.529411764705884, 20.176470588235293, 26.0, 24.941176470588236, 24.529411764705884, 24.11764705882353, 20.0, 22.764705882352942, 19.705882352941178, 22.823529411764707, 21.764705882352942, 20.705882352941178, 23.88235294117647, 22.41176470588235, 26.41176470588235, 25.176470588235293, 25.41176470588235, 22.529411764705884, 28.11764705882353, 22.11764705882353, 28.235294117647058, 26.058823529411764, 22.88235294117647, 19.058823529411764, 18.647058823529413, 22.058823529411764, 25.58823529411765, 18.470588235294116, 21.647058823529413, 27.705882352941178, 26.11764705882353, 25.0, 20.235294117647058, 23.529411764705884, 26.11764705882353, 16.294117647058822, 25.705882352941178, 21.352941176470587, 26.705882352941178, 23.176470588235293, 21.0, 21.352941176470587, 18.41176470588235, 25.529411764705884, 18.058823529411764, 18.647058823529413, 19.352941176470587, 25.294117647058822, 19.88235294117647, 19.294117647058822, 20.41176470588235, 20.058823529411764, 26.41176470588235, 25.235294117647058, 29.058823529411764, 20.470588235294116, 18.529411764705884, 19.58823529411765, 25.0, 19.529411764705884, 23.235294117647058, 24.647058823529413, 25.11764705882353, 19.941176470588236, 27.705882352941178, 20.41176470588235, 25.647058823529413, 21.705882352941178, 20.470588235294116, 18.705882352941178, 24.0, 20.352941176470587, 25.529411764705884, 22.941176470588236, 19.176470588235293, 19.058823529411764, 22.058823529411764, 19.58823529411765, 23.647058823529413, 22.352941176470587, 19.058823529411764, 24.941176470588236, 25.11764705882353, 22.058823529411764, 29.058823529411764, 19.11764705882353, 18.11764705882353, 23.529411764705884, 16.529411764705884, 22.941176470588236, 18.176470588235293, 20.941176470588236, 20.11764705882353, 21.41176470588235, 20.58823529411765, 23.176470588235293, 21.58823529411765, 26.352941176470587, 25.88235294117647, 21.470588235294116, 20.58823529411765, 22.352941176470587, 30.41176470588235, 19.0, 23.11764705882353, 22.41176470588235, 23.058823529411764, 20.823529411764707, 20.88235294117647, 25.705882352941178, 22.470588235294116, 22.647058823529413, 22.58823529411765, 22.58823529411765, 24.058823529411764, 19.705882352941178, 17.647058823529413, 18.294117647058822, 26.11764705882353, 20.470588235294116, 20.41176470588235, 22.823529411764707, 24.352941176470587, 23.470588235294116, 21.41176470588235, 18.294117647058822, 16.647058823529413, 19.470588235294116, 18.529411764705884, 20.941176470588236, 23.529411764705884, 16.11764705882353, 21.529411764705884, 17.941176470588236, 21.529411764705884, 19.235294117647058, 23.41176470588235, 17.941176470588236, 19.294117647058822, 20.764705882352942, 24.235294117647058, 22.88235294117647, 18.647058823529413, 21.58823529411765, 20.88235294117647, 17.58823529411765, 17.705882352941178, 24.764705882352942, 25.352941176470587, 19.11764705882353, 18.11764705882353, 22.823529411764707, 20.235294117647058, 20.294117647058822, 20.235294117647058, 20.058823529411764, 23.41176470588235, 22.764705882352942, 25.176470588235293, 16.705882352941178, 20.823529411764707, 15.764705882352942, 21.88235294117647, 22.941176470588236, 16.470588235294116, 19.941176470588236, 25.823529411764707, 25.58823529411765, 20.41176470588235, 23.823529411764707, 20.58823529411765, 19.470588235294116, 23.823529411764707, 19.941176470588236, 17.88235294117647, 18.941176470588236, 26.58823529411765, 15.352941176470589, 16.41176470588235, 17.58823529411765, 22.58823529411765, 19.235294117647058, 18.941176470588236, 19.470588235294116, 22.352941176470587, 22.764705882352942, 20.764705882352942, 20.352941176470587, 22.294117647058822, 19.176470588235293, 15.529411764705882, 24.823529411764707, 19.823529411764707, 26.58823529411765], \"yaxis\": \"y\"}],                        {\"coloraxis\": {\"colorbar\": {\"title\": {\"text\": \"Season\"}}, \"colorscale\": [[0.0, \"#0d0887\"], [0.1111111111111111, \"#46039f\"], [0.2222222222222222, \"#7201a8\"], [0.3333333333333333, \"#9c179e\"], [0.4444444444444444, \"#bd3786\"], [0.5555555555555556, \"#d8576b\"], [0.6666666666666666, \"#ed7953\"], [0.7777777777777778, \"#fb9f3a\"], [0.8888888888888888, \"#fdca26\"], [1.0, \"#f0f921\"]]}, \"legend\": {\"tracegroupgap\": 0}, \"margin\": {\"t\": 60}, \"template\": {\"data\": {\"bar\": [{\"error_x\": {\"color\": \"#2a3f5f\"}, \"error_y\": {\"color\": \"#2a3f5f\"}, \"marker\": {\"line\": {\"color\": \"#E5ECF6\", \"width\": 0.5}}, \"type\": \"bar\"}], \"barpolar\": [{\"marker\": {\"line\": {\"color\": \"#E5ECF6\", \"width\": 0.5}}, \"type\": \"barpolar\"}], \"carpet\": [{\"aaxis\": {\"endlinecolor\": \"#2a3f5f\", \"gridcolor\": \"white\", \"linecolor\": \"white\", \"minorgridcolor\": \"white\", \"startlinecolor\": \"#2a3f5f\"}, \"baxis\": {\"endlinecolor\": \"#2a3f5f\", \"gridcolor\": \"white\", \"linecolor\": \"white\", \"minorgridcolor\": \"white\", \"startlinecolor\": \"#2a3f5f\"}, \"type\": \"carpet\"}], \"choropleth\": [{\"colorbar\": {\"outlinewidth\": 0, \"ticks\": \"\"}, \"type\": \"choropleth\"}], \"contour\": [{\"colorbar\": {\"outlinewidth\": 0, \"ticks\": \"\"}, \"colorscale\": [[0.0, \"#0d0887\"], [0.1111111111111111, \"#46039f\"], [0.2222222222222222, \"#7201a8\"], [0.3333333333333333, \"#9c179e\"], [0.4444444444444444, \"#bd3786\"], [0.5555555555555556, \"#d8576b\"], [0.6666666666666666, \"#ed7953\"], [0.7777777777777778, \"#fb9f3a\"], [0.8888888888888888, \"#fdca26\"], [1.0, \"#f0f921\"]], \"type\": \"contour\"}], \"contourcarpet\": [{\"colorbar\": {\"outlinewidth\": 0, \"ticks\": \"\"}, \"type\": \"contourcarpet\"}], \"heatmap\": [{\"colorbar\": {\"outlinewidth\": 0, \"ticks\": \"\"}, \"colorscale\": [[0.0, \"#0d0887\"], [0.1111111111111111, \"#46039f\"], [0.2222222222222222, \"#7201a8\"], [0.3333333333333333, \"#9c179e\"], [0.4444444444444444, \"#bd3786\"], [0.5555555555555556, \"#d8576b\"], [0.6666666666666666, \"#ed7953\"], [0.7777777777777778, \"#fb9f3a\"], [0.8888888888888888, \"#fdca26\"], [1.0, \"#f0f921\"]], \"type\": \"heatmap\"}], \"heatmapgl\": [{\"colorbar\": {\"outlinewidth\": 0, \"ticks\": \"\"}, \"colorscale\": [[0.0, \"#0d0887\"], [0.1111111111111111, \"#46039f\"], [0.2222222222222222, \"#7201a8\"], [0.3333333333333333, \"#9c179e\"], [0.4444444444444444, \"#bd3786\"], [0.5555555555555556, \"#d8576b\"], [0.6666666666666666, \"#ed7953\"], [0.7777777777777778, \"#fb9f3a\"], [0.8888888888888888, \"#fdca26\"], [1.0, \"#f0f921\"]], \"type\": \"heatmapgl\"}], \"histogram\": [{\"marker\": {\"colorbar\": {\"outlinewidth\": 0, \"ticks\": \"\"}}, \"type\": \"histogram\"}], \"histogram2d\": [{\"colorbar\": {\"outlinewidth\": 0, \"ticks\": \"\"}, \"colorscale\": [[0.0, \"#0d0887\"], [0.1111111111111111, \"#46039f\"], [0.2222222222222222, \"#7201a8\"], [0.3333333333333333, \"#9c179e\"], [0.4444444444444444, \"#bd3786\"], [0.5555555555555556, \"#d8576b\"], [0.6666666666666666, \"#ed7953\"], [0.7777777777777778, \"#fb9f3a\"], [0.8888888888888888, \"#fdca26\"], [1.0, \"#f0f921\"]], \"type\": \"histogram2d\"}], \"histogram2dcontour\": [{\"colorbar\": {\"outlinewidth\": 0, \"ticks\": \"\"}, \"colorscale\": [[0.0, \"#0d0887\"], [0.1111111111111111, \"#46039f\"], [0.2222222222222222, \"#7201a8\"], [0.3333333333333333, \"#9c179e\"], [0.4444444444444444, \"#bd3786\"], [0.5555555555555556, \"#d8576b\"], [0.6666666666666666, \"#ed7953\"], [0.7777777777777778, \"#fb9f3a\"], [0.8888888888888888, \"#fdca26\"], [1.0, \"#f0f921\"]], \"type\": \"histogram2dcontour\"}], \"mesh3d\": [{\"colorbar\": {\"outlinewidth\": 0, \"ticks\": \"\"}, \"type\": \"mesh3d\"}], \"parcoords\": [{\"line\": {\"colorbar\": {\"outlinewidth\": 0, \"ticks\": \"\"}}, \"type\": \"parcoords\"}], \"pie\": [{\"automargin\": true, \"type\": \"pie\"}], \"scatter\": [{\"marker\": {\"colorbar\": {\"outlinewidth\": 0, \"ticks\": \"\"}}, \"type\": \"scatter\"}], \"scatter3d\": [{\"line\": {\"colorbar\": {\"outlinewidth\": 0, \"ticks\": \"\"}}, \"marker\": {\"colorbar\": {\"outlinewidth\": 0, \"ticks\": \"\"}}, \"type\": \"scatter3d\"}], \"scattercarpet\": [{\"marker\": {\"colorbar\": {\"outlinewidth\": 0, \"ticks\": \"\"}}, \"type\": \"scattercarpet\"}], \"scattergeo\": [{\"marker\": {\"colorbar\": {\"outlinewidth\": 0, \"ticks\": \"\"}}, \"type\": \"scattergeo\"}], \"scattergl\": [{\"marker\": {\"colorbar\": {\"outlinewidth\": 0, \"ticks\": \"\"}}, \"type\": \"scattergl\"}], \"scattermapbox\": [{\"marker\": {\"colorbar\": {\"outlinewidth\": 0, \"ticks\": \"\"}}, \"type\": \"scattermapbox\"}], \"scatterpolar\": [{\"marker\": {\"colorbar\": {\"outlinewidth\": 0, \"ticks\": \"\"}}, \"type\": \"scatterpolar\"}], \"scatterpolargl\": [{\"marker\": {\"colorbar\": {\"outlinewidth\": 0, \"ticks\": \"\"}}, \"type\": \"scatterpolargl\"}], \"scatterternary\": [{\"marker\": {\"colorbar\": {\"outlinewidth\": 0, \"ticks\": \"\"}}, \"type\": \"scatterternary\"}], \"surface\": [{\"colorbar\": {\"outlinewidth\": 0, \"ticks\": \"\"}, \"colorscale\": [[0.0, \"#0d0887\"], [0.1111111111111111, \"#46039f\"], [0.2222222222222222, \"#7201a8\"], [0.3333333333333333, \"#9c179e\"], [0.4444444444444444, \"#bd3786\"], [0.5555555555555556, \"#d8576b\"], [0.6666666666666666, \"#ed7953\"], [0.7777777777777778, \"#fb9f3a\"], [0.8888888888888888, \"#fdca26\"], [1.0, \"#f0f921\"]], \"type\": \"surface\"}], \"table\": [{\"cells\": {\"fill\": {\"color\": \"#EBF0F8\"}, \"line\": {\"color\": \"white\"}}, \"header\": {\"fill\": {\"color\": \"#C8D4E3\"}, \"line\": {\"color\": \"white\"}}, \"type\": \"table\"}]}, \"layout\": {\"annotationdefaults\": {\"arrowcolor\": \"#2a3f5f\", \"arrowhead\": 0, \"arrowwidth\": 1}, \"autotypenumbers\": \"strict\", \"coloraxis\": {\"colorbar\": {\"outlinewidth\": 0, \"ticks\": \"\"}}, \"colorscale\": {\"diverging\": [[0, \"#8e0152\"], [0.1, \"#c51b7d\"], [0.2, \"#de77ae\"], [0.3, \"#f1b6da\"], [0.4, \"#fde0ef\"], [0.5, \"#f7f7f7\"], [0.6, \"#e6f5d0\"], [0.7, \"#b8e186\"], [0.8, \"#7fbc41\"], [0.9, \"#4d9221\"], [1, \"#276419\"]], \"sequential\": [[0.0, \"#0d0887\"], [0.1111111111111111, \"#46039f\"], [0.2222222222222222, \"#7201a8\"], [0.3333333333333333, \"#9c179e\"], [0.4444444444444444, \"#bd3786\"], [0.5555555555555556, \"#d8576b\"], [0.6666666666666666, \"#ed7953\"], [0.7777777777777778, \"#fb9f3a\"], [0.8888888888888888, \"#fdca26\"], [1.0, \"#f0f921\"]], \"sequentialminus\": [[0.0, \"#0d0887\"], [0.1111111111111111, \"#46039f\"], [0.2222222222222222, \"#7201a8\"], [0.3333333333333333, \"#9c179e\"], [0.4444444444444444, \"#bd3786\"], [0.5555555555555556, \"#d8576b\"], [0.6666666666666666, \"#ed7953\"], [0.7777777777777778, \"#fb9f3a\"], [0.8888888888888888, \"#fdca26\"], [1.0, \"#f0f921\"]]}, \"colorway\": [\"#636efa\", \"#EF553B\", \"#00cc96\", \"#ab63fa\", \"#FFA15A\", \"#19d3f3\", \"#FF6692\", \"#B6E880\", \"#FF97FF\", \"#FECB52\"], \"font\": {\"color\": \"#2a3f5f\"}, \"geo\": {\"bgcolor\": \"white\", \"lakecolor\": \"white\", \"landcolor\": \"#E5ECF6\", \"showlakes\": true, \"showland\": true, \"subunitcolor\": \"white\"}, \"hoverlabel\": {\"align\": \"left\"}, \"hovermode\": \"closest\", \"mapbox\": {\"style\": \"light\"}, \"paper_bgcolor\": \"white\", \"plot_bgcolor\": \"#E5ECF6\", \"polar\": {\"angularaxis\": {\"gridcolor\": \"white\", \"linecolor\": \"white\", \"ticks\": \"\"}, \"bgcolor\": \"#E5ECF6\", \"radialaxis\": {\"gridcolor\": \"white\", \"linecolor\": \"white\", \"ticks\": \"\"}}, \"scene\": {\"xaxis\": {\"backgroundcolor\": \"#E5ECF6\", \"gridcolor\": \"white\", \"gridwidth\": 2, \"linecolor\": \"white\", \"showbackground\": true, \"ticks\": \"\", \"zerolinecolor\": \"white\"}, \"yaxis\": {\"backgroundcolor\": \"#E5ECF6\", \"gridcolor\": \"white\", \"gridwidth\": 2, \"linecolor\": \"white\", \"showbackground\": true, \"ticks\": \"\", \"zerolinecolor\": \"white\"}, \"zaxis\": {\"backgroundcolor\": \"#E5ECF6\", \"gridcolor\": \"white\", \"gridwidth\": 2, \"linecolor\": \"white\", \"showbackground\": true, \"ticks\": \"\", \"zerolinecolor\": \"white\"}}, \"shapedefaults\": {\"line\": {\"color\": \"#2a3f5f\"}}, \"ternary\": {\"aaxis\": {\"gridcolor\": \"white\", \"linecolor\": \"white\", \"ticks\": \"\"}, \"baxis\": {\"gridcolor\": \"white\", \"linecolor\": \"white\", \"ticks\": \"\"}, \"bgcolor\": \"#E5ECF6\", \"caxis\": {\"gridcolor\": \"white\", \"linecolor\": \"white\", \"ticks\": \"\"}}, \"title\": {\"x\": 0.05}, \"xaxis\": {\"automargin\": true, \"gridcolor\": \"white\", \"linecolor\": \"white\", \"ticks\": \"\", \"title\": {\"standoff\": 15}, \"zerolinecolor\": \"white\", \"zerolinewidth\": 2}, \"yaxis\": {\"automargin\": true, \"gridcolor\": \"white\", \"linecolor\": \"white\", \"ticks\": \"\", \"title\": {\"standoff\": 15}, \"zerolinecolor\": \"white\", \"zerolinewidth\": 2}}}, \"xaxis\": {\"anchor\": \"y\", \"domain\": [0.0, 1.0], \"title\": {\"text\": \"YPG_opp\"}}, \"yaxis\": {\"anchor\": \"x\", \"domain\": [0.0, 1.0], \"title\": {\"text\": \"PPG_opp\"}}},                        {\"responsive\": true}                    ).then(function(){\n",
       "                            \n",
       "var gd = document.getElementById('3745899f-a2b3-49c2-8d03-33a1e1a24c37');\n",
       "var x = new MutationObserver(function (mutations, observer) {{\n",
       "        var display = window.getComputedStyle(gd).display;\n",
       "        if (!display || display === 'none') {{\n",
       "            console.log([gd, 'removed!']);\n",
       "            Plotly.purge(gd);\n",
       "            observer.disconnect();\n",
       "        }}\n",
       "}});\n",
       "\n",
       "// Listen for the removal of the full notebook cells\n",
       "var notebookContainer = gd.closest('#notebook-container');\n",
       "if (notebookContainer) {{\n",
       "    x.observe(notebookContainer, {childList: true});\n",
       "}}\n",
       "\n",
       "// Listen for the clearing of the current output cell\n",
       "var outputEl = gd.closest('.output');\n",
       "if (outputEl) {{\n",
       "    x.observe(outputEl, {childList: true});\n",
       "}}\n",
       "\n",
       "                        })                };                });            </script>        </div>"
      ]
     },
     "metadata": {},
     "output_type": "display_data"
    }
   ],
   "source": [
    "# Plotting opponent PPG vs YpG\n",
    "px.scatter(df, x='YPG_opp', y='PPG_opp', color='Season',  hover_data=['Tm', 'Season'])"
   ]
  },
  {
   "cell_type": "markdown",
   "metadata": {},
   "source": [
    "### Running [K-Means](https://scikit-learn.org/stable/modules/clustering.html#k-means) clustering\n",
    "\n",
    "using `scikit-learn`'s built-in kmeans algorithm to cluster teams based on their YpG and PPG."
   ]
  },
  {
   "cell_type": "code",
   "execution_count": 67,
   "metadata": {},
   "outputs": [],
   "source": [
    "# Fitting K-means to YPG\n",
    "data = df[['YPG', 'PPG']]\n",
    "kmeans_off = KMeans(n_clusters=4, random_state=0).fit(data)"
   ]
  },
  {
   "cell_type": "code",
   "execution_count": 68,
   "metadata": {},
   "outputs": [
    {
     "data": {
      "text/plain": [
       "<matplotlib.collections.PathCollection at 0x7fc28abe7510>"
      ]
     },
     "execution_count": 68,
     "metadata": {},
     "output_type": "execute_result"
    },
    {
     "data": {
      "image/png": "[encoded data removed]",
      "text/plain": [
       "<Figure size 432x288 with 1 Axes>"
      ]
     },
     "metadata": {
      "needs_background": "light"
     },
     "output_type": "display_data"
    }
   ],
   "source": [
    "plt.scatter(df.YPG, df.PPG, c=kmeans_off.labels_, )"
   ]
  },
  {
   "cell_type": "code",
   "execution_count": 71,
   "metadata": {},
   "outputs": [
    {
     "data": {
      "text/plain": [
       "<matplotlib.collections.PathCollection at 0x7fc2592a22d0>"
      ]
     },
     "execution_count": 71,
     "metadata": {},
     "output_type": "execute_result"
    },
    {
     "data": {
      "image/png": "[encoded data removed]",
      "text/plain": [
       "<Figure size 432x288 with 1 Axes>"
      ]
     },
     "metadata": {
      "needs_background": "light"
     },
     "output_type": "display_data"
    }
   ],
   "source": [
    "# Plotting defensive measures -- colored by cluster\n",
    "\n",
    "data = df[['YPG_opp', 'PPG_opp']]\n",
    "kmeans_def = KMeans(n_clusters=4, random_state=0).fit(data)\n",
    "\n",
    "plt.scatter(data.YPG_opp, data.PPG_opp, c=kmeans_def.labels_)"
   ]
  },
  {
   "cell_type": "markdown",
   "metadata": {},
   "source": [
    "### Affinity Propagation\n",
    "Trying out the built-in [Affinity Propagation](https://scikit-learn.org/stable/modules/clustering.html#affinity-propagation) module from `scikit-learn`."
   ]
  },
  {
   "cell_type": "code",
   "execution_count": 111,
   "metadata": {},
   "outputs": [],
   "source": [
    "from sklearn.cluster import AffinityPropagation"
   ]
  },
  {
   "cell_type": "code",
   "execution_count": 112,
   "metadata": {},
   "outputs": [
    {
     "name": "stdout",
     "output_type": "stream",
     "text": [
      "Converged after 83 iterations.\n"
     ]
    }
   ],
   "source": [
    "data_off = df[['YPG', 'PPG']]\n",
    "data_def = df[['YPG_opp', 'PPG_opp']]\n",
    "\n",
    "\n",
    "ap = AffinityPropagation(verbose=True).fit(data_off)"
   ]
  },
  {
   "cell_type": "code",
   "execution_count": 115,
   "metadata": {},
   "outputs": [
    {
     "data": {
      "text/plain": [
       "array([0, 1, 2, 3, 4, 5, 6])"
      ]
     },
     "execution_count": 115,
     "metadata": {},
     "output_type": "execute_result"
    }
   ],
   "source": [
    "n_clusters = len(np.unique(ap.labels_))\n",
    "\n",
    "print(f\"Affinity Propagation produced {n_clusters}.\")"
   ]
  },
  {
   "cell_type": "code",
   "execution_count": 117,
   "metadata": {},
   "outputs": [
    {
     "data": {
      "text/plain": [
       "Text(0, 0.5, 'PPG')"
      ]
     },
     "execution_count": 117,
     "metadata": {},
     "output_type": "execute_result"
    },
    {
     "data": {
      "image/png": "[encoded data removed]",
      "text/plain": [
       "<Figure size 432x288 with 1 Axes>"
      ]
     },
     "metadata": {
      "needs_background": "light"
     },
     "output_type": "display_data"
    }
   ],
   "source": [
    "plt.scatter(data_off['YPG'], data_off['PPG'], c=ap.labels_)\n",
    "plt.title(\"NFL Points versus yards per game -- Affinity Propagation Clustering\")\n",
    "plt.xlabel(\"YPG\")\n",
    "plt.ylabel(\"PPG\")"
   ]
  },
  {
   "cell_type": "code",
   "execution_count": 116,
   "metadata": {},
   "outputs": [
    {
     "name": "stdout",
     "output_type": "stream",
     "text": [
      "Converged after 57 iterations.\n"
     ]
    },
    {
     "data": {
      "text/plain": [
       "<matplotlib.collections.PathCollection at 0x7fc259cfa1d0>"
      ]
     },
     "execution_count": 116,
     "metadata": {},
     "output_type": "execute_result"
    },
    {
     "data": {
      "image/png": "[encoded data removed]",
      "text/plain": [
       "<Figure size 432x288 with 1 Axes>"
      ]
     },
     "metadata": {
      "needs_background": "light"
     },
     "output_type": "display_data"
    }
   ],
   "source": [
    "# Doing the same for defensive stats -- opponent YPG and PPG\n",
    "ap = AffinityPropagation(verbose=True).fit(data_def)\n",
    "\n",
    "plt.scatter(data_def['YPG_opp'], data_def['PPG_opp'], c=ap.labels_)\n",
    "plt.title(\"NFL Opponent Points versus yards per game -- Affinity Propagation\")\n",
    "plt.xlabel(\"Opp YPG\")\n",
    "plt.ylabel(\"Opp PPG\")"
   ]
  },
  {
   "cell_type": "code",
   "execution_count": null,
   "metadata": {},
   "outputs": [],
   "source": []
  }
 ],
 "metadata": {
  "kernelspec": {
   "display_name": "Python 3",
   "language": "python",
   "name": "python3"
  },
  "language_info": {
   "codemirror_mode": {
    "name": "ipython",
    "version": 3
   },
   "file_extension": ".py",
   "mimetype": "text/x-python",
   "name": "python",
   "nbconvert_exporter": "python",
   "pygments_lexer": "ipython3",
   "version": "3.7.6"
  }
 },
 "nbformat": 4,
 "nbformat_minor": 4
}
